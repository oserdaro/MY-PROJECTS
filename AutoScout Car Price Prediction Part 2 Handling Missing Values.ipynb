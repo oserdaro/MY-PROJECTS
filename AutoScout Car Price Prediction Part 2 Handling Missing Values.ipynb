{
 "cells": [
  {
   "cell_type": "markdown",
   "id": "abdb2c71-c85a-4229-bee9-72c817c3ba69",
   "metadata": {},
   "source": [
    "\n",
    "\n",
    "<style>\n",
    "    /* Markdown hücrelerinin arka plan rengi */\n",
    "    .markdown-cell {\n",
    "        background-color: lightgray;PART- 2 ( Handling With Missing Vales )\n",
    "    }\n",
    "\n",
    "    /* Markdown hücrelerinin metin boyutu */\n",
    "    .markdown-cell p {\n",
    "        font-size: 16px;\n",
    "    }\n",
    "</style>"
   ]
  },
  {
   "cell_type": "markdown",
   "id": "40c8edd4-f655-4ed2-a9aa-ade8774b9330",
   "metadata": {},
   "source": [
    "<style>\n",
    "    /* Markdown hücrelerinin arka plan rengi */\n",
    "    .markdown-cell {\n",
    "        background-color: lightgray;\n",
    "    }\n",
    "\n",
    "    /* Markdown hücrelerinin metin boyutu */\n",
    "    .markdown-cell p {\n",
    "        font-size: 16px;\n",
    "    }\n",
    "</style>"
   ]
  },
  {
   "cell_type": "markdown",
   "id": "5b9897ff-ee42-4f0e-a8ca-95556d502460",
   "metadata": {},
   "source": [
    "# Part-2 ( Handling the Missing Vales )"
   ]
  },
  {
   "cell_type": "code",
   "execution_count": 2,
   "id": "59bc7f7b-17db-463d-9965-52b30a1e55ab",
   "metadata": {},
   "outputs": [],
   "source": [
    "import numpy as np\n",
    "import pandas as pd\n",
    "import seaborn as sns \n",
    "import matplotlib.pyplot as plt\n",
    "import re\n",
    "\n",
    "import warnings\n",
    "warnings.filterwarnings(\"ignore\")\n",
    "warnings.warn(\"this will not show\")\n",
    "\n",
    "%matplotlib inline\n",
    "# %matplotlib notebook\n",
    "\n",
    "plt.rcParams[\"figure.figsize\"] = (10,6)\n",
    "# plt.rcParams['figure.dpi'] = 100\n",
    "\n",
    "sns.set_style(\"whitegrid\")\n",
    "pd.set_option('display.float_format', lambda x: '%.2f' % x)"
   ]
  },
  {
   "cell_type": "code",
   "execution_count": 3,
   "id": "f2a2ec50-fdde-40f6-9cd2-a7926a47551f",
   "metadata": {},
   "outputs": [],
   "source": [
    "df=pd.read_csv('df_cleaned.csv')"
   ]
  },
  {
   "cell_type": "code",
   "execution_count": 4,
   "id": "5372f0a3-08f3-4798-a4ab-b87116c4e4dc",
   "metadata": {},
   "outputs": [
    {
     "data": {
      "text/plain": [
       "(28630, 53)"
      ]
     },
     "execution_count": 4,
     "metadata": {},
     "output_type": "execute_result"
    }
   ],
   "source": [
    "df.shape"
   ]
  },
  {
   "cell_type": "code",
   "execution_count": 5,
   "id": "7d17e898-dba4-4165-a47a-a6709a08c0c8",
   "metadata": {},
   "outputs": [],
   "source": [
    "df.drop('Unnamed: 0', axis=1, inplace=True)"
   ]
  },
  {
   "cell_type": "code",
   "execution_count": 6,
   "id": "860fca34-1179-49da-930f-ae087ae8c882",
   "metadata": {},
   "outputs": [
    {
     "data": {
      "text/html": [
       "<div>\n",
       "<style scoped>\n",
       "    .dataframe tbody tr th:only-of-type {\n",
       "        vertical-align: middle;\n",
       "    }\n",
       "\n",
       "    .dataframe tbody tr th {\n",
       "        vertical-align: top;\n",
       "    }\n",
       "\n",
       "    .dataframe thead th {\n",
       "        text-align: right;\n",
       "    }\n",
       "</style>\n",
       "<table border=\"1\" class=\"dataframe\">\n",
       "  <thead>\n",
       "    <tr style=\"text-align: right;\">\n",
       "      <th></th>\n",
       "      <th>0</th>\n",
       "    </tr>\n",
       "  </thead>\n",
       "  <tbody>\n",
       "    <tr>\n",
       "      <th>make_model</th>\n",
       "      <td>Mercedes-Benz A 160</td>\n",
       "    </tr>\n",
       "    <tr>\n",
       "      <th>short_description</th>\n",
       "      <td>CDi</td>\n",
       "    </tr>\n",
       "    <tr>\n",
       "      <th>make</th>\n",
       "      <td>Mercedes-Benz</td>\n",
       "    </tr>\n",
       "    <tr>\n",
       "      <th>model</th>\n",
       "      <td>A 160</td>\n",
       "    </tr>\n",
       "    <tr>\n",
       "      <th>location</th>\n",
       "      <td>P.I. EL PALMAR C/FORJA 6,  11500 PUERTO DE SAN...</td>\n",
       "    </tr>\n",
       "    <tr>\n",
       "      <th>price</th>\n",
       "      <td>16950</td>\n",
       "    </tr>\n",
       "    <tr>\n",
       "      <th>body_type</th>\n",
       "      <td>Compact</td>\n",
       "    </tr>\n",
       "    <tr>\n",
       "      <th>type</th>\n",
       "      <td>Used</td>\n",
       "    </tr>\n",
       "    <tr>\n",
       "      <th>doors</th>\n",
       "      <td>5.00</td>\n",
       "    </tr>\n",
       "    <tr>\n",
       "      <th>country_version</th>\n",
       "      <td>Spain</td>\n",
       "    </tr>\n",
       "    <tr>\n",
       "      <th>offer_number</th>\n",
       "      <td>7468157</td>\n",
       "    </tr>\n",
       "    <tr>\n",
       "      <th>warranty</th>\n",
       "      <td>24 months</td>\n",
       "    </tr>\n",
       "    <tr>\n",
       "      <th>mileage</th>\n",
       "      <td>120200.00</td>\n",
       "    </tr>\n",
       "    <tr>\n",
       "      <th>first_registration</th>\n",
       "      <td>2016-06-01</td>\n",
       "    </tr>\n",
       "    <tr>\n",
       "      <th>gearbox</th>\n",
       "      <td>Manual</td>\n",
       "    </tr>\n",
       "    <tr>\n",
       "      <th>fuel_type</th>\n",
       "      <td>diesel</td>\n",
       "    </tr>\n",
       "    <tr>\n",
       "      <th>colour</th>\n",
       "      <td>Black</td>\n",
       "    </tr>\n",
       "    <tr>\n",
       "      <th>paint</th>\n",
       "      <td>1</td>\n",
       "    </tr>\n",
       "    <tr>\n",
       "      <th>desc</th>\n",
       "      <td>[' ', 'Precio al contado: 16950 euros', ' ', '...</td>\n",
       "    </tr>\n",
       "    <tr>\n",
       "      <th>seller</th>\n",
       "      <td>Dealer</td>\n",
       "    </tr>\n",
       "    <tr>\n",
       "      <th>seats</th>\n",
       "      <td>NaN</td>\n",
       "    </tr>\n",
       "    <tr>\n",
       "      <th>power</th>\n",
       "      <td>NaN</td>\n",
       "    </tr>\n",
       "    <tr>\n",
       "      <th>engine_size</th>\n",
       "      <td>NaN</td>\n",
       "    </tr>\n",
       "    <tr>\n",
       "      <th>gears</th>\n",
       "      <td>NaN</td>\n",
       "    </tr>\n",
       "    <tr>\n",
       "      <th>co_emissions</th>\n",
       "      <td>NaN</td>\n",
       "    </tr>\n",
       "    <tr>\n",
       "      <th>manufacturer_colour</th>\n",
       "      <td>NaN</td>\n",
       "    </tr>\n",
       "    <tr>\n",
       "      <th>drivetrain</th>\n",
       "      <td>NaN</td>\n",
       "    </tr>\n",
       "    <tr>\n",
       "      <th>cylinders</th>\n",
       "      <td>NaN</td>\n",
       "    </tr>\n",
       "    <tr>\n",
       "      <th>fuel_consumption</th>\n",
       "      <td>NaN</td>\n",
       "    </tr>\n",
       "    <tr>\n",
       "      <th>comfort_convenience</th>\n",
       "      <td>NaN</td>\n",
       "    </tr>\n",
       "    <tr>\n",
       "      <th>entertainment_media</th>\n",
       "      <td>NaN</td>\n",
       "    </tr>\n",
       "    <tr>\n",
       "      <th>safety_security</th>\n",
       "      <td>NaN</td>\n",
       "    </tr>\n",
       "    <tr>\n",
       "      <th>extras</th>\n",
       "      <td>NaN</td>\n",
       "    </tr>\n",
       "    <tr>\n",
       "      <th>empty_weight</th>\n",
       "      <td>NaN</td>\n",
       "    </tr>\n",
       "    <tr>\n",
       "      <th>model_code</th>\n",
       "      <td>NaN</td>\n",
       "    </tr>\n",
       "    <tr>\n",
       "      <th>general_inspection</th>\n",
       "      <td>NaN</td>\n",
       "    </tr>\n",
       "    <tr>\n",
       "      <th>last_service</th>\n",
       "      <td>NaN</td>\n",
       "    </tr>\n",
       "    <tr>\n",
       "      <th>full_service_history</th>\n",
       "      <td>NaN</td>\n",
       "    </tr>\n",
       "    <tr>\n",
       "      <th>non_smoker_vehicle</th>\n",
       "      <td>NaN</td>\n",
       "    </tr>\n",
       "    <tr>\n",
       "      <th>emission_class</th>\n",
       "      <td>NaN</td>\n",
       "    </tr>\n",
       "    <tr>\n",
       "      <th>emissions_sticker</th>\n",
       "      <td>NaN</td>\n",
       "    </tr>\n",
       "    <tr>\n",
       "      <th>upholstery_colour</th>\n",
       "      <td>NaN</td>\n",
       "    </tr>\n",
       "    <tr>\n",
       "      <th>upholstery</th>\n",
       "      <td>NaN</td>\n",
       "    </tr>\n",
       "    <tr>\n",
       "      <th>production_date</th>\n",
       "      <td>NaN</td>\n",
       "    </tr>\n",
       "    <tr>\n",
       "      <th>previous_owner</th>\n",
       "      <td>NaN</td>\n",
       "    </tr>\n",
       "    <tr>\n",
       "      <th>other_fuel_types</th>\n",
       "      <td>NaN</td>\n",
       "    </tr>\n",
       "    <tr>\n",
       "      <th>power_consumption</th>\n",
       "      <td>NaN</td>\n",
       "    </tr>\n",
       "    <tr>\n",
       "      <th>energy_efficiency_class</th>\n",
       "      <td>NaN</td>\n",
       "    </tr>\n",
       "    <tr>\n",
       "      <th>co_efficiency</th>\n",
       "      <td>NaN</td>\n",
       "    </tr>\n",
       "    <tr>\n",
       "      <th>taxi_or_rental_car</th>\n",
       "      <td>NaN</td>\n",
       "    </tr>\n",
       "    <tr>\n",
       "      <th>country</th>\n",
       "      <td>ES</td>\n",
       "    </tr>\n",
       "    <tr>\n",
       "      <th>city</th>\n",
       "      <td>PUERTO DE SANTA MARIA</td>\n",
       "    </tr>\n",
       "  </tbody>\n",
       "</table>\n",
       "</div>"
      ],
      "text/plain": [
       "                                                                         0\n",
       "make_model                                             Mercedes-Benz A 160\n",
       "short_description                                                      CDi\n",
       "make                                                         Mercedes-Benz\n",
       "model                                                                A 160\n",
       "location                 P.I. EL PALMAR C/FORJA 6,  11500 PUERTO DE SAN...\n",
       "price                                                                16950\n",
       "body_type                                                          Compact\n",
       "type                                                                  Used\n",
       "doors                                                                 5.00\n",
       "country_version                                                      Spain\n",
       "offer_number                                                       7468157\n",
       "warranty                                                         24 months\n",
       "mileage                                                          120200.00\n",
       "first_registration                                              2016-06-01\n",
       "gearbox                                                             Manual\n",
       "fuel_type                                                           diesel\n",
       "colour                                                               Black\n",
       "paint                                                                    1\n",
       "desc                     [' ', 'Precio al contado: 16950 euros', ' ', '...\n",
       "seller                                                              Dealer\n",
       "seats                                                                  NaN\n",
       "power                                                                  NaN\n",
       "engine_size                                                            NaN\n",
       "gears                                                                  NaN\n",
       "co_emissions                                                           NaN\n",
       "manufacturer_colour                                                    NaN\n",
       "drivetrain                                                             NaN\n",
       "cylinders                                                              NaN\n",
       "fuel_consumption                                                       NaN\n",
       "comfort_convenience                                                    NaN\n",
       "entertainment_media                                                    NaN\n",
       "safety_security                                                        NaN\n",
       "extras                                                                 NaN\n",
       "empty_weight                                                           NaN\n",
       "model_code                                                             NaN\n",
       "general_inspection                                                     NaN\n",
       "last_service                                                           NaN\n",
       "full_service_history                                                   NaN\n",
       "non_smoker_vehicle                                                     NaN\n",
       "emission_class                                                         NaN\n",
       "emissions_sticker                                                      NaN\n",
       "upholstery_colour                                                      NaN\n",
       "upholstery                                                             NaN\n",
       "production_date                                                        NaN\n",
       "previous_owner                                                         NaN\n",
       "other_fuel_types                                                       NaN\n",
       "power_consumption                                                      NaN\n",
       "energy_efficiency_class                                                NaN\n",
       "co_efficiency                                                          NaN\n",
       "taxi_or_rental_car                                                     NaN\n",
       "country                                                                 ES\n",
       "city                                                 PUERTO DE SANTA MARIA"
      ]
     },
     "execution_count": 6,
     "metadata": {},
     "output_type": "execute_result"
    }
   ],
   "source": [
    "df.head(1).T"
   ]
  },
  {
   "cell_type": "code",
   "execution_count": 7,
   "id": "ae62874d-2641-4f34-9b24-c52a693b93de",
   "metadata": {},
   "outputs": [
    {
     "data": {
      "text/plain": [
       "(28630, 52)"
      ]
     },
     "execution_count": 7,
     "metadata": {},
     "output_type": "execute_result"
    }
   ],
   "source": [
    "df.shape"
   ]
  },
  {
   "cell_type": "code",
   "execution_count": 8,
   "id": "1e5f44b4-379c-4c77-8b5d-550b0ecc85b3",
   "metadata": {},
   "outputs": [
    {
     "data": {
      "text/plain": [
       "Index(['make_model', 'short_description', 'make', 'model', 'location', 'price',\n",
       "       'body_type', 'type', 'doors', 'country_version', 'offer_number',\n",
       "       'warranty', 'mileage', 'first_registration', 'gearbox', 'fuel_type',\n",
       "       'colour', 'paint', 'desc', 'seller', 'seats', 'power', 'engine_size',\n",
       "       'gears', 'co_emissions', 'manufacturer_colour', 'drivetrain',\n",
       "       'cylinders', 'fuel_consumption', 'comfort_convenience',\n",
       "       'entertainment_media', 'safety_security', 'extras', 'empty_weight',\n",
       "       'model_code', 'general_inspection', 'last_service',\n",
       "       'full_service_history', 'non_smoker_vehicle', 'emission_class',\n",
       "       'emissions_sticker', 'upholstery_colour', 'upholstery',\n",
       "       'production_date', 'previous_owner', 'other_fuel_types',\n",
       "       'power_consumption', 'energy_efficiency_class', 'co_efficiency',\n",
       "       'taxi_or_rental_car', 'country', 'city'],\n",
       "      dtype='object')"
      ]
     },
     "execution_count": 8,
     "metadata": {},
     "output_type": "execute_result"
    }
   ],
   "source": [
    "df.columns"
   ]
  },
  {
   "cell_type": "code",
   "execution_count": 9,
   "id": "253f7ed5-f188-42b6-8355-a4d07807d57a",
   "metadata": {},
   "outputs": [],
   "source": [
    "df=df.copy()"
   ]
  },
  {
   "cell_type": "code",
   "execution_count": 10,
   "id": "471c18b7-81ed-4ca5-a9d4-0a96468560d7",
   "metadata": {},
   "outputs": [
    {
     "name": "stdout",
     "output_type": "stream",
     "text": [
      "                         Null_count  Percentage\n",
      "taxi_or_rental_car            28208       98.53\n",
      "power_consumption             28115       98.20\n",
      "last_service                  26627       93.00\n",
      "other_fuel_types              26317       91.92\n",
      "production_date               22722       79.36\n",
      "co_efficiency                 20826       72.74\n",
      "energy_efficiency_class       20826       72.74\n",
      "model_code                    20263       70.78\n",
      "emissions_sticker             19216       67.12\n",
      "non_smoker_vehicle            17036       59.50\n",
      "general_inspection            16376       57.20\n",
      "full_service_history          16065       56.11\n",
      "previous_owner                14615       51.05\n",
      "upholstery_colour             14061       49.11\n",
      "warranty                      12846       44.87\n",
      "country_version               11741       41.01\n",
      "drivetrain                    11737       41.00\n",
      "empty_weight                  10872       37.97\n",
      "emission_class                10771       37.62\n",
      "co_emissions                  10036       35.05\n",
      "upholstery                    10020       35.00\n",
      "cylinders                      9778       34.15\n",
      "gears                          9676       33.80\n",
      "manufacturer_colour            6843       23.90\n",
      "offer_number                   5530       19.32\n",
      "fuel_consumption               5245       18.32\n",
      "extras                         5150       17.99\n",
      "entertainment_media            4986       17.42\n",
      "safety_security                3215       11.23\n",
      "comfort_convenience            3197       11.17\n",
      "seats                          3125       10.92\n",
      "fuel_type                      1787        6.24\n",
      "colour                         1724        6.02\n",
      "engine_size                    1403        4.90\n",
      "desc                            583        2.04\n",
      "power                           572        2.00\n",
      "doors                           359        1.25\n",
      "model                           276        0.96\n",
      "gearbox                         248        0.87\n",
      "short_description               213        0.74\n",
      "city                              8        0.03\n",
      "first_registration                2        0.01\n",
      "mileage                           1        0.00\n",
      "seller                            0        0.00\n",
      "paint                             0        0.00\n",
      "type                              0        0.00\n",
      "body_type                         0        0.00\n",
      "price                             0        0.00\n",
      "location                          0        0.00\n",
      "make                              0        0.00\n",
      "country                           0        0.00\n",
      "make_model                        0        0.00\n"
     ]
    }
   ],
   "source": [
    "null_counts = df.isnull().sum()\n",
    "total_rows = len(df)\n",
    "\n",
    "null_info = pd.DataFrame({\n",
    "    'Null_count': null_counts,\n",
    "    'Percentage': (null_counts / total_rows) * 100\n",
    "}).sort_values(by='Null_count', ascending=False)\n",
    "\n",
    "print(null_info)"
   ]
  },
  {
   "cell_type": "code",
   "execution_count": 11,
   "id": "0d3e80bb-a962-4953-b3bb-3f71b44ea47d",
   "metadata": {},
   "outputs": [],
   "source": [
    "def show_nulls(data):\n",
    "    plt.figure(figsize=(10, 5))\n",
    "\n",
    "    sns.displot(data=data.isnull().melt(value_name=\"missing\"),\n",
    "                y=\"variable\",\n",
    "                hue=\"missing\",\n",
    "                multiple=\"fill\",\n",
    "                height=9.25)\n",
    "\n",
    "    plt.axvline(0.2, color=\"r\")\n",
    "    plt.show()"
   ]
  },
  {
   "cell_type": "code",
   "execution_count": 12,
   "id": "9c26df1b-5515-4039-8c9a-c1e31cbff0b3",
   "metadata": {},
   "outputs": [
    {
     "data": {
      "text/plain": [
       "<Figure size 1000x500 with 0 Axes>"
      ]
     },
     "metadata": {},
     "output_type": "display_data"
    },
    {
     "data": {
      "image/png": "[encoded data removed]",
      "text/plain": [
       "<Figure size 1008.87x925 with 1 Axes>"
      ]
     },
     "metadata": {},
     "output_type": "display_data"
    }
   ],
   "source": [
    "show_nulls(df);"
   ]
  },
  {
   "cell_type": "markdown",
   "id": "54f85b26-c3e4-43c7-8fcc-a0ceee1ec22e",
   "metadata": {},
   "source": [
    "# Doors"
   ]
  },
  {
   "cell_type": "code",
   "execution_count": 13,
   "id": "9f8b5e0b-e8b7-40fc-b344-098a72c090c1",
   "metadata": {},
   "outputs": [
    {
     "data": {
      "text/plain": [
       "make_model    body_type          \n",
       "Dacia         Compact           0   5.00\n",
       "              Sedan             0   5.00\n",
       "              Station wagon     0   5.00\n",
       "Dacia Break   Station wagon     0   4.00\n",
       "Dacia Dokker  Compact           0   4.00\n",
       "                                    ... \n",
       "Volvo XC90    Coupe             0   4.00\n",
       "              Off-Road/Pick-up  0   5.00\n",
       "              Sedan             0   5.00\n",
       "              Station wagon     0   4.00\n",
       "                                1   5.00\n",
       "Name: doors, Length: 1279, dtype: float64"
      ]
     },
     "execution_count": 13,
     "metadata": {},
     "output_type": "execute_result"
    }
   ],
   "source": [
    "df.groupby([\"make_model\", \"body_type\"])[\"doors\"].apply(lambda x: x.mode())"
   ]
  },
  {
   "cell_type": "code",
   "execution_count": 14,
   "id": "5e8c2e5a-2b6c-4514-b9f9-dfe41752f163",
   "metadata": {},
   "outputs": [
    {
     "data": {
      "text/plain": [
       "make_model    body_type       \n",
       "Dacia         Compact             0\n",
       "              Sedan               0\n",
       "              Station wagon       0\n",
       "Dacia Break   Station wagon       0\n",
       "Dacia Dokker  Compact             0\n",
       "                                 ..\n",
       "Volvo XC70    Station wagon       0\n",
       "Volvo XC90    Coupe               0\n",
       "              Off-Road/Pick-up    0\n",
       "              Sedan               1\n",
       "              Station wagon       0\n",
       "Name: doors, Length: 1257, dtype: int64"
      ]
     },
     "execution_count": 14,
     "metadata": {},
     "output_type": "execute_result"
    }
   ],
   "source": [
    "df.groupby([\"make_model\", \"body_type\"])[\"doors\"].apply(lambda x: x.isna().sum())"
   ]
  },
  {
   "cell_type": "code",
   "execution_count": 15,
   "id": "1d0e0a83-8b4b-4998-ab42-09e21a7da3d8",
   "metadata": {},
   "outputs": [
    {
     "data": {
      "text/plain": [
       "0   5.00\n",
       "Name: doors, dtype: float64"
      ]
     },
     "execution_count": 15,
     "metadata": {},
     "output_type": "execute_result"
    }
   ],
   "source": [
    "df[\"doors\"].mode()"
   ]
  },
  {
   "cell_type": "code",
   "execution_count": 16,
   "id": "b961902a-6d30-43bb-bf51-001f1ac3ad8b",
   "metadata": {},
   "outputs": [],
   "source": [
    "df[\"doors\"]=df[\"doors\"].astype('str')"
   ]
  },
  {
   "cell_type": "code",
   "execution_count": 17,
   "id": "f509a9a5-ef02-476a-ae69-d00e8e8748b5",
   "metadata": {},
   "outputs": [
    {
     "data": {
      "text/plain": [
       "doors_mode\n",
       "5.0    19647\n",
       "2.0     5862\n",
       "3.0     1665\n",
       "4.0     1396\n",
       "nan       60\n",
       "Name: count, dtype: int64"
      ]
     },
     "execution_count": 17,
     "metadata": {},
     "output_type": "execute_result"
    }
   ],
   "source": [
    "df[\"doors_mode\"] = df.groupby([\"make_model\", \"body_type\"])[\"doors\"].transform(lambda x : x.mode()[0])\n",
    "df[\"doors_mode\"].value_counts()"
   ]
  },
  {
   "cell_type": "code",
   "execution_count": 18,
   "id": "c6b69dc6-ca11-4d68-9d57-9964aa4d27c5",
   "metadata": {},
   "outputs": [
    {
     "data": {
      "text/plain": [
       "doors\n",
       "5.0    17597\n",
       "2.0     5662\n",
       "4.0     3010\n",
       "3.0     2304\n",
       "nan       50\n",
       "6.0        5\n",
       "1.0        2\n",
       "Name: count, dtype: int64"
      ]
     },
     "execution_count": 18,
     "metadata": {},
     "output_type": "execute_result"
    }
   ],
   "source": [
    "df.loc[df[\"doors\"] == \"nan\", \"doors\"] = df.loc[df[\"doors\"] == \"nan\", \"doors_mode\"]\n",
    "df[\"doors\"].value_counts()"
   ]
  },
  {
   "cell_type": "code",
   "execution_count": 19,
   "id": "ced9da4a-7617-4368-8278-7be1f876af5a",
   "metadata": {},
   "outputs": [],
   "source": [
    "df[\"doors\"].replace({\"nan\": 5.0}, inplace=True)"
   ]
  },
  {
   "cell_type": "code",
   "execution_count": 20,
   "id": "25daa456-887e-4655-ba75-8c1515103ad3",
   "metadata": {},
   "outputs": [
    {
     "data": {
      "text/plain": [
       "doors\n",
       "5.0    17597\n",
       "2.0     5662\n",
       "4.0     3010\n",
       "3.0     2304\n",
       "5.0       50\n",
       "6.0        5\n",
       "1.0        2\n",
       "Name: count, dtype: int64"
      ]
     },
     "execution_count": 20,
     "metadata": {},
     "output_type": "execute_result"
    }
   ],
   "source": [
    "df[\"doors\"].value_counts()"
   ]
  },
  {
   "cell_type": "code",
   "execution_count": 21,
   "id": "73363ad2-b8bf-44a4-9737-47d7ce708058",
   "metadata": {},
   "outputs": [],
   "source": [
    "df[\"doors\"]=df[\"doors\"].astype('float')"
   ]
  },
  {
   "cell_type": "code",
   "execution_count": 22,
   "id": "0ec07845-4f48-4ed7-8613-b144d8a87e64",
   "metadata": {},
   "outputs": [
    {
     "data": {
      "text/plain": [
       "dtype('float64')"
      ]
     },
     "execution_count": 22,
     "metadata": {},
     "output_type": "execute_result"
    }
   ],
   "source": [
    "df[\"doors\"].dtype"
   ]
  },
  {
   "cell_type": "code",
   "execution_count": 23,
   "id": "e6b37458-fbe8-460d-8f2c-9c1c20db29fd",
   "metadata": {},
   "outputs": [],
   "source": [
    "df[\"doors\"]=df[\"doors\"].astype('int')"
   ]
  },
  {
   "cell_type": "code",
   "execution_count": 24,
   "id": "cebc3461-9d03-4807-90a2-51af02f122a1",
   "metadata": {},
   "outputs": [
    {
     "data": {
      "text/plain": [
       "dtype('int32')"
      ]
     },
     "execution_count": 24,
     "metadata": {},
     "output_type": "execute_result"
    }
   ],
   "source": [
    "df[\"doors\"].dtype"
   ]
  },
  {
   "cell_type": "code",
   "execution_count": 25,
   "id": "3a7634fe-f7ac-4d5f-93f2-c7e46641c35f",
   "metadata": {},
   "outputs": [
    {
     "data": {
      "text/plain": [
       "0"
      ]
     },
     "execution_count": 25,
     "metadata": {},
     "output_type": "execute_result"
    }
   ],
   "source": [
    "df[\"doors\"].isna().sum()"
   ]
  },
  {
   "cell_type": "markdown",
   "id": "d7a65b58-794e-4438-a292-9f3ad7c5daf9",
   "metadata": {},
   "source": [
    "# Warranty"
   ]
  },
  {
   "cell_type": "code",
   "execution_count": 26,
   "id": "aac95b41-84bd-4f5c-a803-b863ab5aa9cf",
   "metadata": {},
   "outputs": [
    {
     "data": {
      "text/plain": [
       "warranty\n",
       "NaN           12846\n",
       "12 months      9545\n",
       "Yes            2319\n",
       "24 months      1515\n",
       "60 months       968\n",
       "              ...  \n",
       "55 months         1\n",
       "99 months         1\n",
       "122 months        1\n",
       "44 months         1\n",
       "4 months          1\n",
       "Name: count, Length: 66, dtype: int64"
      ]
     },
     "execution_count": 26,
     "metadata": {},
     "output_type": "execute_result"
    }
   ],
   "source": [
    "df[\"warranty\"].value_counts(dropna=False)"
   ]
  },
  {
   "cell_type": "code",
   "execution_count": 27,
   "id": "00c968bf-342d-401f-955e-50f3f945dcd0",
   "metadata": {},
   "outputs": [],
   "source": [
    "df[\"warranty\"] = df[\"warranty\"].str.replace(\" months\", \"\")"
   ]
  },
  {
   "cell_type": "code",
   "execution_count": 28,
   "id": "e5367d35-a962-4841-9b41-60d9b77b7d7f",
   "metadata": {},
   "outputs": [],
   "source": [
    "df[\"warranty\"]= df[\"warranty\"].replace(\"Yes\", 12) # standart garanti süresi 12 ay diye düsünüyorum."
   ]
  },
  {
   "cell_type": "code",
   "execution_count": 29,
   "id": "12b96bb0-791e-48b5-93ac-46b04d9cd35b",
   "metadata": {},
   "outputs": [
    {
     "data": {
      "text/plain": [
       "warranty\n",
       "NaN    12846\n",
       "12      9545\n",
       "12      2319\n",
       "24      1515\n",
       "60       968\n",
       "       ...  \n",
       "55         1\n",
       "99         1\n",
       "122        1\n",
       "44         1\n",
       "4          1\n",
       "Name: count, Length: 66, dtype: int64"
      ]
     },
     "execution_count": 29,
     "metadata": {},
     "output_type": "execute_result"
    }
   ],
   "source": [
    "df[\"warranty\"].value_counts(dropna=False)"
   ]
  },
  {
   "cell_type": "code",
   "execution_count": 30,
   "id": "cc87fea1-e1be-4430-865e-eeafaf23a7e1",
   "metadata": {},
   "outputs": [],
   "source": [
    "df[\"warranty\"] = df[\"warranty\"].astype(float)"
   ]
  },
  {
   "cell_type": "code",
   "execution_count": 31,
   "id": "da454614-095c-41ba-a86d-0e5d9b7bde27",
   "metadata": {},
   "outputs": [],
   "source": [
    "df[\"warranty\"] = df[\"warranty\"].apply(lambda x : 0 if pd.isnull(x) else 1 if x <= 12 else 2 if x>12 and x<=36 else 3 )"
   ]
  },
  {
   "cell_type": "code",
   "execution_count": 32,
   "id": "9b83a6fe-b56f-48f5-bf83-c597a903051b",
   "metadata": {},
   "outputs": [
    {
     "data": {
      "text/plain": [
       "warranty\n",
       "0    12846\n",
       "1    12628\n",
       "2     1976\n",
       "3     1180\n",
       "Name: count, dtype: int64"
      ]
     },
     "execution_count": 32,
     "metadata": {},
     "output_type": "execute_result"
    }
   ],
   "source": [
    "df[\"warranty\"].value_counts(dropna=False)"
   ]
  },
  {
   "cell_type": "code",
   "execution_count": 33,
   "id": "ac1c4b8a-d26b-4f4a-8c28-458bb6a43a5d",
   "metadata": {},
   "outputs": [
    {
     "data": {
      "text/html": [
       "<div>\n",
       "<style scoped>\n",
       "    .dataframe tbody tr th:only-of-type {\n",
       "        vertical-align: middle;\n",
       "    }\n",
       "\n",
       "    .dataframe tbody tr th {\n",
       "        vertical-align: top;\n",
       "    }\n",
       "\n",
       "    .dataframe thead th {\n",
       "        text-align: right;\n",
       "    }\n",
       "</style>\n",
       "<table border=\"1\" class=\"dataframe\">\n",
       "  <thead>\n",
       "    <tr style=\"text-align: right;\">\n",
       "      <th></th>\n",
       "      <th>0</th>\n",
       "      <th>1</th>\n",
       "      <th>2</th>\n",
       "      <th>3</th>\n",
       "      <th>4</th>\n",
       "    </tr>\n",
       "  </thead>\n",
       "  <tbody>\n",
       "    <tr>\n",
       "      <th>make_model</th>\n",
       "      <td>Mercedes-Benz A 160</td>\n",
       "      <td>Mercedes-Benz EQE 350</td>\n",
       "      <td>Mercedes-Benz A 45 AMG</td>\n",
       "      <td>Mercedes-Benz A 35 AMG</td>\n",
       "      <td>Mercedes-Benz A 45 AMG</td>\n",
       "    </tr>\n",
       "    <tr>\n",
       "      <th>short_description</th>\n",
       "      <td>CDi</td>\n",
       "      <td>350+</td>\n",
       "      <td>S 4Matic+ 8G-DCT</td>\n",
       "      <td>4Matic+ 7G-DCT</td>\n",
       "      <td>200CDI BE Line 4M 7G-DCT</td>\n",
       "    </tr>\n",
       "    <tr>\n",
       "      <th>make</th>\n",
       "      <td>Mercedes-Benz</td>\n",
       "      <td>Mercedes-Benz</td>\n",
       "      <td>Mercedes-Benz</td>\n",
       "      <td>Mercedes-Benz</td>\n",
       "      <td>Mercedes-Benz</td>\n",
       "    </tr>\n",
       "    <tr>\n",
       "      <th>model</th>\n",
       "      <td>A 160</td>\n",
       "      <td>EQE 350</td>\n",
       "      <td>A 45 AMG</td>\n",
       "      <td>A 35 AMG</td>\n",
       "      <td>A 45 AMG</td>\n",
       "    </tr>\n",
       "    <tr>\n",
       "      <th>location</th>\n",
       "      <td>P.I. EL PALMAR C/FORJA 6,  11500 PUERTO DE SAN...</td>\n",
       "      <td>APARTADO DE CORREOS 1032,  26140 LOGROÑO, ES</td>\n",
       "      <td>PORT. TARRACO, MOLL DE LLEVANT, Nº 5, LOC. 6-8...</td>\n",
       "      <td>Carrer de Provença, 31 Local,  8029 BARCELONA, ES</td>\n",
       "      <td>CARRIL ARAGONES 4,  30007 CASILLAS, ES</td>\n",
       "    </tr>\n",
       "    <tr>\n",
       "      <th>price</th>\n",
       "      <td>16950</td>\n",
       "      <td>80900</td>\n",
       "      <td>69900</td>\n",
       "      <td>46990</td>\n",
       "      <td>16800</td>\n",
       "    </tr>\n",
       "    <tr>\n",
       "      <th>body_type</th>\n",
       "      <td>Compact</td>\n",
       "      <td>Compact</td>\n",
       "      <td>Compact</td>\n",
       "      <td>Compact</td>\n",
       "      <td>Compact</td>\n",
       "    </tr>\n",
       "    <tr>\n",
       "      <th>type</th>\n",
       "      <td>Used</td>\n",
       "      <td>Pre-registered</td>\n",
       "      <td>Used</td>\n",
       "      <td>Used</td>\n",
       "      <td>Used</td>\n",
       "    </tr>\n",
       "    <tr>\n",
       "      <th>doors</th>\n",
       "      <td>5</td>\n",
       "      <td>4</td>\n",
       "      <td>5</td>\n",
       "      <td>5</td>\n",
       "      <td>5</td>\n",
       "    </tr>\n",
       "    <tr>\n",
       "      <th>country_version</th>\n",
       "      <td>Spain</td>\n",
       "      <td>Spain</td>\n",
       "      <td>Spain</td>\n",
       "      <td>Spain</td>\n",
       "      <td>Spain</td>\n",
       "    </tr>\n",
       "    <tr>\n",
       "      <th>offer_number</th>\n",
       "      <td>7468157</td>\n",
       "      <td>7054863</td>\n",
       "      <td>7410454</td>\n",
       "      <td>7464503</td>\n",
       "      <td>7127931</td>\n",
       "    </tr>\n",
       "    <tr>\n",
       "      <th>warranty</th>\n",
       "      <td>2</td>\n",
       "      <td>2</td>\n",
       "      <td>1</td>\n",
       "      <td>1</td>\n",
       "      <td>1</td>\n",
       "    </tr>\n",
       "    <tr>\n",
       "      <th>mileage</th>\n",
       "      <td>120200.00</td>\n",
       "      <td>5000.00</td>\n",
       "      <td>18900.00</td>\n",
       "      <td>18995.00</td>\n",
       "      <td>197000.00</td>\n",
       "    </tr>\n",
       "    <tr>\n",
       "      <th>first_registration</th>\n",
       "      <td>2016-06-01</td>\n",
       "      <td>2022-06-01</td>\n",
       "      <td>2020-07-01</td>\n",
       "      <td>2020-01-01</td>\n",
       "      <td>2015-09-01</td>\n",
       "    </tr>\n",
       "    <tr>\n",
       "      <th>gearbox</th>\n",
       "      <td>Manual</td>\n",
       "      <td>Automatic</td>\n",
       "      <td>Automatic</td>\n",
       "      <td>Automatic</td>\n",
       "      <td>Automatic</td>\n",
       "    </tr>\n",
       "    <tr>\n",
       "      <th>fuel_type</th>\n",
       "      <td>diesel</td>\n",
       "      <td>electric</td>\n",
       "      <td>benzine</td>\n",
       "      <td>benzine</td>\n",
       "      <td>diesel</td>\n",
       "    </tr>\n",
       "    <tr>\n",
       "      <th>colour</th>\n",
       "      <td>Black</td>\n",
       "      <td>NaN</td>\n",
       "      <td>Grey</td>\n",
       "      <td>Yellow</td>\n",
       "      <td>White</td>\n",
       "    </tr>\n",
       "    <tr>\n",
       "      <th>paint</th>\n",
       "      <td>1</td>\n",
       "      <td>0</td>\n",
       "      <td>0</td>\n",
       "      <td>0</td>\n",
       "      <td>1</td>\n",
       "    </tr>\n",
       "    <tr>\n",
       "      <th>desc</th>\n",
       "      <td>[' ', 'Precio al contado: 16950 euros', ' ', '...</td>\n",
       "      <td>[' ', 'Precio al contado: 88900 euros', ' ', '...</td>\n",
       "      <td>['Gris MANUFAKTUR mountaingrau magno', ' ', 'L...</td>\n",
       "      <td>[' ', 'Precio al contado: 48990 euros', ' ', '...</td>\n",
       "      <td>[' ', 'Precio al contado: 17400 euros', ' ', '...</td>\n",
       "    </tr>\n",
       "    <tr>\n",
       "      <th>seller</th>\n",
       "      <td>Dealer</td>\n",
       "      <td>Dealer</td>\n",
       "      <td>Dealer</td>\n",
       "      <td>Dealer</td>\n",
       "      <td>Dealer</td>\n",
       "    </tr>\n",
       "    <tr>\n",
       "      <th>seats</th>\n",
       "      <td>NaN</td>\n",
       "      <td>5.00</td>\n",
       "      <td>5.00</td>\n",
       "      <td>5.00</td>\n",
       "      <td>5.00</td>\n",
       "    </tr>\n",
       "    <tr>\n",
       "      <th>power</th>\n",
       "      <td>NaN</td>\n",
       "      <td>215.00</td>\n",
       "      <td>310.00</td>\n",
       "      <td>225.00</td>\n",
       "      <td>100.00</td>\n",
       "    </tr>\n",
       "    <tr>\n",
       "      <th>engine_size</th>\n",
       "      <td>NaN</td>\n",
       "      <td>1.00</td>\n",
       "      <td>1991.00</td>\n",
       "      <td>1991.00</td>\n",
       "      <td>2143.00</td>\n",
       "    </tr>\n",
       "    <tr>\n",
       "      <th>gears</th>\n",
       "      <td>NaN</td>\n",
       "      <td>9.00</td>\n",
       "      <td>8.00</td>\n",
       "      <td>7.00</td>\n",
       "      <td>7.00</td>\n",
       "    </tr>\n",
       "    <tr>\n",
       "      <th>co_emissions</th>\n",
       "      <td>NaN</td>\n",
       "      <td>0.00</td>\n",
       "      <td>NaN</td>\n",
       "      <td>NaN</td>\n",
       "      <td>NaN</td>\n",
       "    </tr>\n",
       "    <tr>\n",
       "      <th>manufacturer_colour</th>\n",
       "      <td>NaN</td>\n",
       "      <td>Negro Obsidiana</td>\n",
       "      <td>Mountaingrau magno</td>\n",
       "      <td>Amarillo Sol</td>\n",
       "      <td>NaN</td>\n",
       "    </tr>\n",
       "    <tr>\n",
       "      <th>drivetrain</th>\n",
       "      <td>NaN</td>\n",
       "      <td>NaN</td>\n",
       "      <td>4WD</td>\n",
       "      <td>4WD</td>\n",
       "      <td>4WD</td>\n",
       "    </tr>\n",
       "    <tr>\n",
       "      <th>cylinders</th>\n",
       "      <td>NaN</td>\n",
       "      <td>NaN</td>\n",
       "      <td>4.00</td>\n",
       "      <td>4.00</td>\n",
       "      <td>4.00</td>\n",
       "    </tr>\n",
       "    <tr>\n",
       "      <th>fuel_consumption</th>\n",
       "      <td>NaN</td>\n",
       "      <td>NaN</td>\n",
       "      <td>8.4 l/100 km (comb.)</td>\n",
       "      <td>7.3 l/100 km (comb.)</td>\n",
       "      <td>4.9 l/100 km (comb.)</td>\n",
       "    </tr>\n",
       "    <tr>\n",
       "      <th>comfort_convenience</th>\n",
       "      <td>NaN</td>\n",
       "      <td>NaN</td>\n",
       "      <td>NaN</td>\n",
       "      <td>air conditioning, automatic climate control, p...</td>\n",
       "      <td>air conditioning, electrical side mirrors, mul...</td>\n",
       "    </tr>\n",
       "    <tr>\n",
       "      <th>entertainment_media</th>\n",
       "      <td>NaN</td>\n",
       "      <td>NaN</td>\n",
       "      <td>NaN</td>\n",
       "      <td>usb</td>\n",
       "      <td>bluetooth, cd player, mp3, usb</td>\n",
       "    </tr>\n",
       "    <tr>\n",
       "      <th>safety_security</th>\n",
       "      <td>NaN</td>\n",
       "      <td>NaN</td>\n",
       "      <td>NaN</td>\n",
       "      <td>abs, central door lock, driver-side airbag, el...</td>\n",
       "      <td>abs, central door lock, driver-side airbag, el...</td>\n",
       "    </tr>\n",
       "    <tr>\n",
       "      <th>extras</th>\n",
       "      <td>NaN</td>\n",
       "      <td>NaN</td>\n",
       "      <td>NaN</td>\n",
       "      <td>sport seats</td>\n",
       "      <td>NaN</td>\n",
       "    </tr>\n",
       "    <tr>\n",
       "      <th>empty_weight</th>\n",
       "      <td>NaN</td>\n",
       "      <td>NaN</td>\n",
       "      <td>NaN</td>\n",
       "      <td>NaN</td>\n",
       "      <td>1545.00</td>\n",
       "    </tr>\n",
       "    <tr>\n",
       "      <th>model_code</th>\n",
       "      <td>NaN</td>\n",
       "      <td>NaN</td>\n",
       "      <td>NaN</td>\n",
       "      <td>NaN</td>\n",
       "      <td>NaN</td>\n",
       "    </tr>\n",
       "    <tr>\n",
       "      <th>general_inspection</th>\n",
       "      <td>NaN</td>\n",
       "      <td>NaN</td>\n",
       "      <td>NaN</td>\n",
       "      <td>NaN</td>\n",
       "      <td>NaN</td>\n",
       "    </tr>\n",
       "    <tr>\n",
       "      <th>last_service</th>\n",
       "      <td>NaN</td>\n",
       "      <td>NaN</td>\n",
       "      <td>NaN</td>\n",
       "      <td>NaN</td>\n",
       "      <td>NaN</td>\n",
       "    </tr>\n",
       "    <tr>\n",
       "      <th>full_service_history</th>\n",
       "      <td>NaN</td>\n",
       "      <td>NaN</td>\n",
       "      <td>NaN</td>\n",
       "      <td>NaN</td>\n",
       "      <td>NaN</td>\n",
       "    </tr>\n",
       "    <tr>\n",
       "      <th>non_smoker_vehicle</th>\n",
       "      <td>NaN</td>\n",
       "      <td>NaN</td>\n",
       "      <td>NaN</td>\n",
       "      <td>NaN</td>\n",
       "      <td>NaN</td>\n",
       "    </tr>\n",
       "    <tr>\n",
       "      <th>emission_class</th>\n",
       "      <td>NaN</td>\n",
       "      <td>NaN</td>\n",
       "      <td>NaN</td>\n",
       "      <td>NaN</td>\n",
       "      <td>NaN</td>\n",
       "    </tr>\n",
       "    <tr>\n",
       "      <th>emissions_sticker</th>\n",
       "      <td>NaN</td>\n",
       "      <td>NaN</td>\n",
       "      <td>NaN</td>\n",
       "      <td>NaN</td>\n",
       "      <td>NaN</td>\n",
       "    </tr>\n",
       "    <tr>\n",
       "      <th>upholstery_colour</th>\n",
       "      <td>NaN</td>\n",
       "      <td>NaN</td>\n",
       "      <td>NaN</td>\n",
       "      <td>NaN</td>\n",
       "      <td>NaN</td>\n",
       "    </tr>\n",
       "    <tr>\n",
       "      <th>upholstery</th>\n",
       "      <td>NaN</td>\n",
       "      <td>NaN</td>\n",
       "      <td>NaN</td>\n",
       "      <td>NaN</td>\n",
       "      <td>NaN</td>\n",
       "    </tr>\n",
       "    <tr>\n",
       "      <th>production_date</th>\n",
       "      <td>NaN</td>\n",
       "      <td>NaN</td>\n",
       "      <td>NaN</td>\n",
       "      <td>NaN</td>\n",
       "      <td>NaN</td>\n",
       "    </tr>\n",
       "    <tr>\n",
       "      <th>previous_owner</th>\n",
       "      <td>NaN</td>\n",
       "      <td>NaN</td>\n",
       "      <td>NaN</td>\n",
       "      <td>NaN</td>\n",
       "      <td>NaN</td>\n",
       "    </tr>\n",
       "    <tr>\n",
       "      <th>other_fuel_types</th>\n",
       "      <td>NaN</td>\n",
       "      <td>NaN</td>\n",
       "      <td>NaN</td>\n",
       "      <td>NaN</td>\n",
       "      <td>NaN</td>\n",
       "    </tr>\n",
       "    <tr>\n",
       "      <th>power_consumption</th>\n",
       "      <td>NaN</td>\n",
       "      <td>NaN</td>\n",
       "      <td>NaN</td>\n",
       "      <td>NaN</td>\n",
       "      <td>NaN</td>\n",
       "    </tr>\n",
       "    <tr>\n",
       "      <th>energy_efficiency_class</th>\n",
       "      <td>NaN</td>\n",
       "      <td>NaN</td>\n",
       "      <td>NaN</td>\n",
       "      <td>NaN</td>\n",
       "      <td>NaN</td>\n",
       "    </tr>\n",
       "    <tr>\n",
       "      <th>co_efficiency</th>\n",
       "      <td>NaN</td>\n",
       "      <td>NaN</td>\n",
       "      <td>NaN</td>\n",
       "      <td>NaN</td>\n",
       "      <td>NaN</td>\n",
       "    </tr>\n",
       "    <tr>\n",
       "      <th>taxi_or_rental_car</th>\n",
       "      <td>NaN</td>\n",
       "      <td>NaN</td>\n",
       "      <td>NaN</td>\n",
       "      <td>NaN</td>\n",
       "      <td>NaN</td>\n",
       "    </tr>\n",
       "    <tr>\n",
       "      <th>country</th>\n",
       "      <td>ES</td>\n",
       "      <td>ES</td>\n",
       "      <td>ES</td>\n",
       "      <td>ES</td>\n",
       "      <td>ES</td>\n",
       "    </tr>\n",
       "    <tr>\n",
       "      <th>city</th>\n",
       "      <td>PUERTO DE SANTA MARIA</td>\n",
       "      <td>LOGROÑO</td>\n",
       "      <td>TARRAGONA</td>\n",
       "      <td>BARCELONA</td>\n",
       "      <td>CASILLAS</td>\n",
       "    </tr>\n",
       "    <tr>\n",
       "      <th>doors_mode</th>\n",
       "      <td>5.0</td>\n",
       "      <td>4.0</td>\n",
       "      <td>5.0</td>\n",
       "      <td>5.0</td>\n",
       "      <td>5.0</td>\n",
       "    </tr>\n",
       "  </tbody>\n",
       "</table>\n",
       "</div>"
      ],
      "text/plain": [
       "                                                                         0  \\\n",
       "make_model                                             Mercedes-Benz A 160   \n",
       "short_description                                                      CDi   \n",
       "make                                                         Mercedes-Benz   \n",
       "model                                                                A 160   \n",
       "location                 P.I. EL PALMAR C/FORJA 6,  11500 PUERTO DE SAN...   \n",
       "price                                                                16950   \n",
       "body_type                                                          Compact   \n",
       "type                                                                  Used   \n",
       "doors                                                                    5   \n",
       "country_version                                                      Spain   \n",
       "offer_number                                                       7468157   \n",
       "warranty                                                                 2   \n",
       "mileage                                                          120200.00   \n",
       "first_registration                                              2016-06-01   \n",
       "gearbox                                                             Manual   \n",
       "fuel_type                                                           diesel   \n",
       "colour                                                               Black   \n",
       "paint                                                                    1   \n",
       "desc                     [' ', 'Precio al contado: 16950 euros', ' ', '...   \n",
       "seller                                                              Dealer   \n",
       "seats                                                                  NaN   \n",
       "power                                                                  NaN   \n",
       "engine_size                                                            NaN   \n",
       "gears                                                                  NaN   \n",
       "co_emissions                                                           NaN   \n",
       "manufacturer_colour                                                    NaN   \n",
       "drivetrain                                                             NaN   \n",
       "cylinders                                                              NaN   \n",
       "fuel_consumption                                                       NaN   \n",
       "comfort_convenience                                                    NaN   \n",
       "entertainment_media                                                    NaN   \n",
       "safety_security                                                        NaN   \n",
       "extras                                                                 NaN   \n",
       "empty_weight                                                           NaN   \n",
       "model_code                                                             NaN   \n",
       "general_inspection                                                     NaN   \n",
       "last_service                                                           NaN   \n",
       "full_service_history                                                   NaN   \n",
       "non_smoker_vehicle                                                     NaN   \n",
       "emission_class                                                         NaN   \n",
       "emissions_sticker                                                      NaN   \n",
       "upholstery_colour                                                      NaN   \n",
       "upholstery                                                             NaN   \n",
       "production_date                                                        NaN   \n",
       "previous_owner                                                         NaN   \n",
       "other_fuel_types                                                       NaN   \n",
       "power_consumption                                                      NaN   \n",
       "energy_efficiency_class                                                NaN   \n",
       "co_efficiency                                                          NaN   \n",
       "taxi_or_rental_car                                                     NaN   \n",
       "country                                                                 ES   \n",
       "city                                                 PUERTO DE SANTA MARIA   \n",
       "doors_mode                                                             5.0   \n",
       "\n",
       "                                                                         1  \\\n",
       "make_model                                           Mercedes-Benz EQE 350   \n",
       "short_description                                                     350+   \n",
       "make                                                         Mercedes-Benz   \n",
       "model                                                              EQE 350   \n",
       "location                      APARTADO DE CORREOS 1032,  26140 LOGROÑO, ES   \n",
       "price                                                                80900   \n",
       "body_type                                                          Compact   \n",
       "type                                                        Pre-registered   \n",
       "doors                                                                    4   \n",
       "country_version                                                      Spain   \n",
       "offer_number                                                       7054863   \n",
       "warranty                                                                 2   \n",
       "mileage                                                            5000.00   \n",
       "first_registration                                              2022-06-01   \n",
       "gearbox                                                          Automatic   \n",
       "fuel_type                                                         electric   \n",
       "colour                                                                 NaN   \n",
       "paint                                                                    0   \n",
       "desc                     [' ', 'Precio al contado: 88900 euros', ' ', '...   \n",
       "seller                                                              Dealer   \n",
       "seats                                                                 5.00   \n",
       "power                                                               215.00   \n",
       "engine_size                                                           1.00   \n",
       "gears                                                                 9.00   \n",
       "co_emissions                                                          0.00   \n",
       "manufacturer_colour                                        Negro Obsidiana   \n",
       "drivetrain                                                             NaN   \n",
       "cylinders                                                              NaN   \n",
       "fuel_consumption                                                       NaN   \n",
       "comfort_convenience                                                    NaN   \n",
       "entertainment_media                                                    NaN   \n",
       "safety_security                                                        NaN   \n",
       "extras                                                                 NaN   \n",
       "empty_weight                                                           NaN   \n",
       "model_code                                                             NaN   \n",
       "general_inspection                                                     NaN   \n",
       "last_service                                                           NaN   \n",
       "full_service_history                                                   NaN   \n",
       "non_smoker_vehicle                                                     NaN   \n",
       "emission_class                                                         NaN   \n",
       "emissions_sticker                                                      NaN   \n",
       "upholstery_colour                                                      NaN   \n",
       "upholstery                                                             NaN   \n",
       "production_date                                                        NaN   \n",
       "previous_owner                                                         NaN   \n",
       "other_fuel_types                                                       NaN   \n",
       "power_consumption                                                      NaN   \n",
       "energy_efficiency_class                                                NaN   \n",
       "co_efficiency                                                          NaN   \n",
       "taxi_or_rental_car                                                     NaN   \n",
       "country                                                                 ES   \n",
       "city                                                               LOGROÑO   \n",
       "doors_mode                                                             4.0   \n",
       "\n",
       "                                                                         2  \\\n",
       "make_model                                          Mercedes-Benz A 45 AMG   \n",
       "short_description                                         S 4Matic+ 8G-DCT   \n",
       "make                                                         Mercedes-Benz   \n",
       "model                                                             A 45 AMG   \n",
       "location                 PORT. TARRACO, MOLL DE LLEVANT, Nº 5, LOC. 6-8...   \n",
       "price                                                                69900   \n",
       "body_type                                                          Compact   \n",
       "type                                                                  Used   \n",
       "doors                                                                    5   \n",
       "country_version                                                      Spain   \n",
       "offer_number                                                       7410454   \n",
       "warranty                                                                 1   \n",
       "mileage                                                           18900.00   \n",
       "first_registration                                              2020-07-01   \n",
       "gearbox                                                          Automatic   \n",
       "fuel_type                                                          benzine   \n",
       "colour                                                                Grey   \n",
       "paint                                                                    0   \n",
       "desc                     ['Gris MANUFAKTUR mountaingrau magno', ' ', 'L...   \n",
       "seller                                                              Dealer   \n",
       "seats                                                                 5.00   \n",
       "power                                                               310.00   \n",
       "engine_size                                                        1991.00   \n",
       "gears                                                                 8.00   \n",
       "co_emissions                                                           NaN   \n",
       "manufacturer_colour                                     Mountaingrau magno   \n",
       "drivetrain                                                             4WD   \n",
       "cylinders                                                             4.00   \n",
       "fuel_consumption                                      8.4 l/100 km (comb.)   \n",
       "comfort_convenience                                                    NaN   \n",
       "entertainment_media                                                    NaN   \n",
       "safety_security                                                        NaN   \n",
       "extras                                                                 NaN   \n",
       "empty_weight                                                           NaN   \n",
       "model_code                                                             NaN   \n",
       "general_inspection                                                     NaN   \n",
       "last_service                                                           NaN   \n",
       "full_service_history                                                   NaN   \n",
       "non_smoker_vehicle                                                     NaN   \n",
       "emission_class                                                         NaN   \n",
       "emissions_sticker                                                      NaN   \n",
       "upholstery_colour                                                      NaN   \n",
       "upholstery                                                             NaN   \n",
       "production_date                                                        NaN   \n",
       "previous_owner                                                         NaN   \n",
       "other_fuel_types                                                       NaN   \n",
       "power_consumption                                                      NaN   \n",
       "energy_efficiency_class                                                NaN   \n",
       "co_efficiency                                                          NaN   \n",
       "taxi_or_rental_car                                                     NaN   \n",
       "country                                                                 ES   \n",
       "city                                                             TARRAGONA   \n",
       "doors_mode                                                             5.0   \n",
       "\n",
       "                                                                         3  \\\n",
       "make_model                                          Mercedes-Benz A 35 AMG   \n",
       "short_description                                           4Matic+ 7G-DCT   \n",
       "make                                                         Mercedes-Benz   \n",
       "model                                                             A 35 AMG   \n",
       "location                 Carrer de Provença, 31 Local,  8029 BARCELONA, ES   \n",
       "price                                                                46990   \n",
       "body_type                                                          Compact   \n",
       "type                                                                  Used   \n",
       "doors                                                                    5   \n",
       "country_version                                                      Spain   \n",
       "offer_number                                                       7464503   \n",
       "warranty                                                                 1   \n",
       "mileage                                                           18995.00   \n",
       "first_registration                                              2020-01-01   \n",
       "gearbox                                                          Automatic   \n",
       "fuel_type                                                          benzine   \n",
       "colour                                                              Yellow   \n",
       "paint                                                                    0   \n",
       "desc                     [' ', 'Precio al contado: 48990 euros', ' ', '...   \n",
       "seller                                                              Dealer   \n",
       "seats                                                                 5.00   \n",
       "power                                                               225.00   \n",
       "engine_size                                                        1991.00   \n",
       "gears                                                                 7.00   \n",
       "co_emissions                                                           NaN   \n",
       "manufacturer_colour                                           Amarillo Sol   \n",
       "drivetrain                                                             4WD   \n",
       "cylinders                                                             4.00   \n",
       "fuel_consumption                                      7.3 l/100 km (comb.)   \n",
       "comfort_convenience      air conditioning, automatic climate control, p...   \n",
       "entertainment_media                                                    usb   \n",
       "safety_security          abs, central door lock, driver-side airbag, el...   \n",
       "extras                                                         sport seats   \n",
       "empty_weight                                                           NaN   \n",
       "model_code                                                             NaN   \n",
       "general_inspection                                                     NaN   \n",
       "last_service                                                           NaN   \n",
       "full_service_history                                                   NaN   \n",
       "non_smoker_vehicle                                                     NaN   \n",
       "emission_class                                                         NaN   \n",
       "emissions_sticker                                                      NaN   \n",
       "upholstery_colour                                                      NaN   \n",
       "upholstery                                                             NaN   \n",
       "production_date                                                        NaN   \n",
       "previous_owner                                                         NaN   \n",
       "other_fuel_types                                                       NaN   \n",
       "power_consumption                                                      NaN   \n",
       "energy_efficiency_class                                                NaN   \n",
       "co_efficiency                                                          NaN   \n",
       "taxi_or_rental_car                                                     NaN   \n",
       "country                                                                 ES   \n",
       "city                                                             BARCELONA   \n",
       "doors_mode                                                             5.0   \n",
       "\n",
       "                                                                         4  \n",
       "make_model                                          Mercedes-Benz A 45 AMG  \n",
       "short_description                                 200CDI BE Line 4M 7G-DCT  \n",
       "make                                                         Mercedes-Benz  \n",
       "model                                                             A 45 AMG  \n",
       "location                            CARRIL ARAGONES 4,  30007 CASILLAS, ES  \n",
       "price                                                                16800  \n",
       "body_type                                                          Compact  \n",
       "type                                                                  Used  \n",
       "doors                                                                    5  \n",
       "country_version                                                      Spain  \n",
       "offer_number                                                       7127931  \n",
       "warranty                                                                 1  \n",
       "mileage                                                          197000.00  \n",
       "first_registration                                              2015-09-01  \n",
       "gearbox                                                          Automatic  \n",
       "fuel_type                                                           diesel  \n",
       "colour                                                               White  \n",
       "paint                                                                    1  \n",
       "desc                     [' ', 'Precio al contado: 17400 euros', ' ', '...  \n",
       "seller                                                              Dealer  \n",
       "seats                                                                 5.00  \n",
       "power                                                               100.00  \n",
       "engine_size                                                        2143.00  \n",
       "gears                                                                 7.00  \n",
       "co_emissions                                                           NaN  \n",
       "manufacturer_colour                                                    NaN  \n",
       "drivetrain                                                             4WD  \n",
       "cylinders                                                             4.00  \n",
       "fuel_consumption                                      4.9 l/100 km (comb.)  \n",
       "comfort_convenience      air conditioning, electrical side mirrors, mul...  \n",
       "entertainment_media                         bluetooth, cd player, mp3, usb  \n",
       "safety_security          abs, central door lock, driver-side airbag, el...  \n",
       "extras                                                                 NaN  \n",
       "empty_weight                                                       1545.00  \n",
       "model_code                                                             NaN  \n",
       "general_inspection                                                     NaN  \n",
       "last_service                                                           NaN  \n",
       "full_service_history                                                   NaN  \n",
       "non_smoker_vehicle                                                     NaN  \n",
       "emission_class                                                         NaN  \n",
       "emissions_sticker                                                      NaN  \n",
       "upholstery_colour                                                      NaN  \n",
       "upholstery                                                             NaN  \n",
       "production_date                                                        NaN  \n",
       "previous_owner                                                         NaN  \n",
       "other_fuel_types                                                       NaN  \n",
       "power_consumption                                                      NaN  \n",
       "energy_efficiency_class                                                NaN  \n",
       "co_efficiency                                                          NaN  \n",
       "taxi_or_rental_car                                                     NaN  \n",
       "country                                                                 ES  \n",
       "city                                                              CASILLAS  \n",
       "doors_mode                                                             5.0  "
      ]
     },
     "execution_count": 33,
     "metadata": {},
     "output_type": "execute_result"
    }
   ],
   "source": [
    "df.head().T"
   ]
  },
  {
   "cell_type": "markdown",
   "id": "f6ed55d5-d4d2-4a2b-b1d4-fbfcadde06dd",
   "metadata": {},
   "source": [
    "# Mileage\n"
   ]
  },
  {
   "cell_type": "code",
   "execution_count": 34,
   "id": "ef0e13a7-b311-4465-9835-0904101badbf",
   "metadata": {},
   "outputs": [
    {
     "data": {
      "text/plain": [
       "mileage\n",
       "10.00        586\n",
       "1.00         172\n",
       "50.00        133\n",
       "100.00       119\n",
       "5000.00      118\n",
       "            ... \n",
       "141589.00      1\n",
       "59821.00       1\n",
       "123500.00      1\n",
       "29781.00       1\n",
       "230047.00      1\n",
       "Name: count, Length: 14184, dtype: int64"
      ]
     },
     "execution_count": 34,
     "metadata": {},
     "output_type": "execute_result"
    }
   ],
   "source": [
    "df['mileage'].value_counts(dropna=False)"
   ]
  },
  {
   "cell_type": "code",
   "execution_count": 35,
   "id": "046fc959-1e89-4cc6-b587-56e6c2e41d80",
   "metadata": {},
   "outputs": [
    {
     "name": "stdout",
     "output_type": "stream",
     "text": [
      "<class 'pandas.core.series.Series'>\n",
      "RangeIndex: 28630 entries, 0 to 28629\n",
      "Series name: mileage\n",
      "Non-Null Count  Dtype  \n",
      "--------------  -----  \n",
      "28629 non-null  float64\n",
      "dtypes: float64(1)\n",
      "memory usage: 223.8 KB\n"
     ]
    }
   ],
   "source": [
    "df['mileage'].info()"
   ]
  },
  {
   "cell_type": "code",
   "execution_count": 36,
   "id": "44a8321c-de23-490a-8781-2ca12701ba85",
   "metadata": {},
   "outputs": [
    {
     "data": {
      "text/plain": [
       "1"
      ]
     },
     "execution_count": 36,
     "metadata": {},
     "output_type": "execute_result"
    }
   ],
   "source": [
    "df['mileage'].isna().sum()"
   ]
  },
  {
   "cell_type": "code",
   "execution_count": 37,
   "id": "6a2efd1e-c96e-49ea-b66c-43a17d8455a5",
   "metadata": {},
   "outputs": [
    {
     "data": {
      "text/html": [
       "<div>\n",
       "<style scoped>\n",
       "    .dataframe tbody tr th:only-of-type {\n",
       "        vertical-align: middle;\n",
       "    }\n",
       "\n",
       "    .dataframe tbody tr th {\n",
       "        vertical-align: top;\n",
       "    }\n",
       "\n",
       "    .dataframe thead th {\n",
       "        text-align: right;\n",
       "    }\n",
       "</style>\n",
       "<table border=\"1\" class=\"dataframe\">\n",
       "  <thead>\n",
       "    <tr style=\"text-align: right;\">\n",
       "      <th></th>\n",
       "      <th>10753</th>\n",
       "    </tr>\n",
       "  </thead>\n",
       "  <tbody>\n",
       "    <tr>\n",
       "      <th>make_model</th>\n",
       "      <td>Fiat 500X</td>\n",
       "    </tr>\n",
       "    <tr>\n",
       "      <th>short_description</th>\n",
       "      <td>1.5 Hybrid Cabrio Automaat Yacht Club Capri</td>\n",
       "    </tr>\n",
       "    <tr>\n",
       "      <th>make</th>\n",
       "      <td>Fiat</td>\n",
       "    </tr>\n",
       "    <tr>\n",
       "      <th>model</th>\n",
       "      <td>500X</td>\n",
       "    </tr>\n",
       "    <tr>\n",
       "      <th>location</th>\n",
       "      <td>Cruquiusweg 35,  2102 LS HEEMSTEDE, NL</td>\n",
       "    </tr>\n",
       "    <tr>\n",
       "      <th>price</th>\n",
       "      <td>41570</td>\n",
       "    </tr>\n",
       "    <tr>\n",
       "      <th>body_type</th>\n",
       "      <td>Off-Road/Pick-up</td>\n",
       "    </tr>\n",
       "    <tr>\n",
       "      <th>type</th>\n",
       "      <td>Demonstration</td>\n",
       "    </tr>\n",
       "    <tr>\n",
       "      <th>doors</th>\n",
       "      <td>5</td>\n",
       "    </tr>\n",
       "    <tr>\n",
       "      <th>country_version</th>\n",
       "      <td>Netherlands</td>\n",
       "    </tr>\n",
       "    <tr>\n",
       "      <th>offer_number</th>\n",
       "      <td>#45532</td>\n",
       "    </tr>\n",
       "    <tr>\n",
       "      <th>warranty</th>\n",
       "      <td>1</td>\n",
       "    </tr>\n",
       "    <tr>\n",
       "      <th>mileage</th>\n",
       "      <td>NaN</td>\n",
       "    </tr>\n",
       "    <tr>\n",
       "      <th>first_registration</th>\n",
       "      <td>2022-06-01</td>\n",
       "    </tr>\n",
       "    <tr>\n",
       "      <th>gearbox</th>\n",
       "      <td>Automatic</td>\n",
       "    </tr>\n",
       "    <tr>\n",
       "      <th>fuel_type</th>\n",
       "      <td>NaN</td>\n",
       "    </tr>\n",
       "    <tr>\n",
       "      <th>colour</th>\n",
       "      <td>Blue</td>\n",
       "    </tr>\n",
       "    <tr>\n",
       "      <th>paint</th>\n",
       "      <td>1</td>\n",
       "    </tr>\n",
       "    <tr>\n",
       "      <th>desc</th>\n",
       "      <td>['Modeljaar: ', '2022', 'Max. trekgewicht: ', ...</td>\n",
       "    </tr>\n",
       "    <tr>\n",
       "      <th>seller</th>\n",
       "      <td>Dealer</td>\n",
       "    </tr>\n",
       "    <tr>\n",
       "      <th>seats</th>\n",
       "      <td>5.00</td>\n",
       "    </tr>\n",
       "    <tr>\n",
       "      <th>power</th>\n",
       "      <td>96.00</td>\n",
       "    </tr>\n",
       "    <tr>\n",
       "      <th>engine_size</th>\n",
       "      <td>1469.00</td>\n",
       "    </tr>\n",
       "    <tr>\n",
       "      <th>gears</th>\n",
       "      <td>7.00</td>\n",
       "    </tr>\n",
       "    <tr>\n",
       "      <th>co_emissions</th>\n",
       "      <td>NaN</td>\n",
       "    </tr>\n",
       "    <tr>\n",
       "      <th>manufacturer_colour</th>\n",
       "      <td>Blauw metallic</td>\n",
       "    </tr>\n",
       "    <tr>\n",
       "      <th>drivetrain</th>\n",
       "      <td>NaN</td>\n",
       "    </tr>\n",
       "    <tr>\n",
       "      <th>cylinders</th>\n",
       "      <td>4.00</td>\n",
       "    </tr>\n",
       "    <tr>\n",
       "      <th>fuel_consumption</th>\n",
       "      <td>NaN</td>\n",
       "    </tr>\n",
       "    <tr>\n",
       "      <th>comfort_convenience</th>\n",
       "      <td>air conditioning, armrest, automatic climate c...</td>\n",
       "    </tr>\n",
       "    <tr>\n",
       "      <th>entertainment_media</th>\n",
       "      <td>android auto, apple carplay, radio</td>\n",
       "    </tr>\n",
       "    <tr>\n",
       "      <th>safety_security</th>\n",
       "      <td>abs, central door lock, central door lock with...</td>\n",
       "    </tr>\n",
       "    <tr>\n",
       "      <th>extras</th>\n",
       "      <td>alloy wheels, electronic parking brake, emerge...</td>\n",
       "    </tr>\n",
       "    <tr>\n",
       "      <th>empty_weight</th>\n",
       "      <td>1380.00</td>\n",
       "    </tr>\n",
       "    <tr>\n",
       "      <th>model_code</th>\n",
       "      <td>NaN</td>\n",
       "    </tr>\n",
       "    <tr>\n",
       "      <th>general_inspection</th>\n",
       "      <td>NaN</td>\n",
       "    </tr>\n",
       "    <tr>\n",
       "      <th>last_service</th>\n",
       "      <td>NaN</td>\n",
       "    </tr>\n",
       "    <tr>\n",
       "      <th>full_service_history</th>\n",
       "      <td>NaN</td>\n",
       "    </tr>\n",
       "    <tr>\n",
       "      <th>non_smoker_vehicle</th>\n",
       "      <td>NaN</td>\n",
       "    </tr>\n",
       "    <tr>\n",
       "      <th>emission_class</th>\n",
       "      <td>NaN</td>\n",
       "    </tr>\n",
       "    <tr>\n",
       "      <th>emissions_sticker</th>\n",
       "      <td>NaN</td>\n",
       "    </tr>\n",
       "    <tr>\n",
       "      <th>upholstery_colour</th>\n",
       "      <td>Beige</td>\n",
       "    </tr>\n",
       "    <tr>\n",
       "      <th>upholstery</th>\n",
       "      <td>Full leather</td>\n",
       "    </tr>\n",
       "    <tr>\n",
       "      <th>production_date</th>\n",
       "      <td>2022-01-01</td>\n",
       "    </tr>\n",
       "    <tr>\n",
       "      <th>previous_owner</th>\n",
       "      <td>NaN</td>\n",
       "    </tr>\n",
       "    <tr>\n",
       "      <th>other_fuel_types</th>\n",
       "      <td>Electricity</td>\n",
       "    </tr>\n",
       "    <tr>\n",
       "      <th>power_consumption</th>\n",
       "      <td>NaN</td>\n",
       "    </tr>\n",
       "    <tr>\n",
       "      <th>energy_efficiency_class</th>\n",
       "      <td>NaN</td>\n",
       "    </tr>\n",
       "    <tr>\n",
       "      <th>co_efficiency</th>\n",
       "      <td>NaN</td>\n",
       "    </tr>\n",
       "    <tr>\n",
       "      <th>taxi_or_rental_car</th>\n",
       "      <td>NaN</td>\n",
       "    </tr>\n",
       "    <tr>\n",
       "      <th>country</th>\n",
       "      <td>NL</td>\n",
       "    </tr>\n",
       "    <tr>\n",
       "      <th>city</th>\n",
       "      <td>LS HEEMSTEDE</td>\n",
       "    </tr>\n",
       "    <tr>\n",
       "      <th>doors_mode</th>\n",
       "      <td>5.0</td>\n",
       "    </tr>\n",
       "  </tbody>\n",
       "</table>\n",
       "</div>"
      ],
      "text/plain": [
       "                                                                     10753\n",
       "make_model                                                       Fiat 500X\n",
       "short_description              1.5 Hybrid Cabrio Automaat Yacht Club Capri\n",
       "make                                                                  Fiat\n",
       "model                                                                 500X\n",
       "location                            Cruquiusweg 35,  2102 LS HEEMSTEDE, NL\n",
       "price                                                                41570\n",
       "body_type                                                 Off-Road/Pick-up\n",
       "type                                                         Demonstration\n",
       "doors                                                                    5\n",
       "country_version                                                Netherlands\n",
       "offer_number                                                        #45532\n",
       "warranty                                                                 1\n",
       "mileage                                                                NaN\n",
       "first_registration                                              2022-06-01\n",
       "gearbox                                                          Automatic\n",
       "fuel_type                                                              NaN\n",
       "colour                                                                Blue\n",
       "paint                                                                    1\n",
       "desc                     ['Modeljaar: ', '2022', 'Max. trekgewicht: ', ...\n",
       "seller                                                              Dealer\n",
       "seats                                                                 5.00\n",
       "power                                                                96.00\n",
       "engine_size                                                        1469.00\n",
       "gears                                                                 7.00\n",
       "co_emissions                                                           NaN\n",
       "manufacturer_colour                                         Blauw metallic\n",
       "drivetrain                                                             NaN\n",
       "cylinders                                                             4.00\n",
       "fuel_consumption                                                       NaN\n",
       "comfort_convenience      air conditioning, armrest, automatic climate c...\n",
       "entertainment_media                     android auto, apple carplay, radio\n",
       "safety_security          abs, central door lock, central door lock with...\n",
       "extras                   alloy wheels, electronic parking brake, emerge...\n",
       "empty_weight                                                       1380.00\n",
       "model_code                                                             NaN\n",
       "general_inspection                                                     NaN\n",
       "last_service                                                           NaN\n",
       "full_service_history                                                   NaN\n",
       "non_smoker_vehicle                                                     NaN\n",
       "emission_class                                                         NaN\n",
       "emissions_sticker                                                      NaN\n",
       "upholstery_colour                                                    Beige\n",
       "upholstery                                                    Full leather\n",
       "production_date                                                 2022-01-01\n",
       "previous_owner                                                         NaN\n",
       "other_fuel_types                                               Electricity\n",
       "power_consumption                                                      NaN\n",
       "energy_efficiency_class                                                NaN\n",
       "co_efficiency                                                          NaN\n",
       "taxi_or_rental_car                                                     NaN\n",
       "country                                                                 NL\n",
       "city                                                          LS HEEMSTEDE\n",
       "doors_mode                                                             5.0"
      ]
     },
     "execution_count": 37,
     "metadata": {},
     "output_type": "execute_result"
    }
   ],
   "source": [
    "df.loc[df['mileage'].isna()].T"
   ]
  },
  {
   "cell_type": "code",
   "execution_count": 38,
   "id": "df3aed21-01d2-4c47-a05e-a329062f63f9",
   "metadata": {},
   "outputs": [
    {
     "name": "stdout",
     "output_type": "stream",
     "text": [
      "<class 'pandas.core.series.Series'>\n",
      "RangeIndex: 28630 entries, 0 to 28629\n",
      "Series name: first_registration\n",
      "Non-Null Count  Dtype \n",
      "--------------  ----- \n",
      "28628 non-null  object\n",
      "dtypes: object(1)\n",
      "memory usage: 223.8+ KB\n"
     ]
    }
   ],
   "source": [
    "df[\"first_registration\"].info()"
   ]
  },
  {
   "cell_type": "code",
   "execution_count": 39,
   "id": "555c8885-aa10-4820-a534-ea6fd5247d31",
   "metadata": {},
   "outputs": [],
   "source": [
    "df[\"first_registration\"] = pd.to_datetime(df[\"first_registration\"])"
   ]
  },
  {
   "cell_type": "code",
   "execution_count": 40,
   "id": "57adf48f-b06d-4192-9430-b9a38bbd251d",
   "metadata": {},
   "outputs": [
    {
     "data": {
      "text/html": [
       "<div>\n",
       "<style scoped>\n",
       "    .dataframe tbody tr th:only-of-type {\n",
       "        vertical-align: middle;\n",
       "    }\n",
       "\n",
       "    .dataframe tbody tr th {\n",
       "        vertical-align: top;\n",
       "    }\n",
       "\n",
       "    .dataframe thead th {\n",
       "        text-align: right;\n",
       "    }\n",
       "</style>\n",
       "<table border=\"1\" class=\"dataframe\">\n",
       "  <thead>\n",
       "    <tr style=\"text-align: right;\">\n",
       "      <th></th>\n",
       "      <th>make_model</th>\n",
       "      <th>short_description</th>\n",
       "      <th>make</th>\n",
       "      <th>model</th>\n",
       "      <th>location</th>\n",
       "      <th>price</th>\n",
       "      <th>body_type</th>\n",
       "      <th>type</th>\n",
       "      <th>doors</th>\n",
       "      <th>country_version</th>\n",
       "      <th>...</th>\n",
       "      <th>production_date</th>\n",
       "      <th>previous_owner</th>\n",
       "      <th>other_fuel_types</th>\n",
       "      <th>power_consumption</th>\n",
       "      <th>energy_efficiency_class</th>\n",
       "      <th>co_efficiency</th>\n",
       "      <th>taxi_or_rental_car</th>\n",
       "      <th>country</th>\n",
       "      <th>city</th>\n",
       "      <th>doors_mode</th>\n",
       "    </tr>\n",
       "  </thead>\n",
       "  <tbody>\n",
       "    <tr>\n",
       "      <th>1</th>\n",
       "      <td>Mercedes-Benz EQE 350</td>\n",
       "      <td>350+</td>\n",
       "      <td>Mercedes-Benz</td>\n",
       "      <td>EQE 350</td>\n",
       "      <td>APARTADO DE CORREOS 1032,  26140 LOGROÑO, ES</td>\n",
       "      <td>80900</td>\n",
       "      <td>Compact</td>\n",
       "      <td>Pre-registered</td>\n",
       "      <td>4</td>\n",
       "      <td>Spain</td>\n",
       "      <td>...</td>\n",
       "      <td>NaN</td>\n",
       "      <td>NaN</td>\n",
       "      <td>NaN</td>\n",
       "      <td>NaN</td>\n",
       "      <td>NaN</td>\n",
       "      <td>NaN</td>\n",
       "      <td>NaN</td>\n",
       "      <td>ES</td>\n",
       "      <td>LOGROÑO</td>\n",
       "      <td>4.0</td>\n",
       "    </tr>\n",
       "    <tr>\n",
       "      <th>170</th>\n",
       "      <td>Mercedes-Benz CL</td>\n",
       "      <td>200 163ch AMG Line 7G-DCT 9cv</td>\n",
       "      <td>Mercedes-Benz</td>\n",
       "      <td>CL</td>\n",
       "      <td>60740 Saint Maximin, FR</td>\n",
       "      <td>39900</td>\n",
       "      <td>Compact</td>\n",
       "      <td>Used</td>\n",
       "      <td>5</td>\n",
       "      <td>NaN</td>\n",
       "      <td>...</td>\n",
       "      <td>NaN</td>\n",
       "      <td>NaN</td>\n",
       "      <td>NaN</td>\n",
       "      <td>NaN</td>\n",
       "      <td>NaN</td>\n",
       "      <td>NaN</td>\n",
       "      <td>NaN</td>\n",
       "      <td>FR</td>\n",
       "      <td>Saint Maximin</td>\n",
       "      <td>5.0</td>\n",
       "    </tr>\n",
       "    <tr>\n",
       "      <th>237</th>\n",
       "      <td>Mercedes-Benz CL</td>\n",
       "      <td>200 163ch AMG Line 7G-DCT 9cv</td>\n",
       "      <td>Mercedes-Benz</td>\n",
       "      <td>CL</td>\n",
       "      <td>--,  77240 Vert St Denis, FR</td>\n",
       "      <td>39990</td>\n",
       "      <td>Compact</td>\n",
       "      <td>Used</td>\n",
       "      <td>5</td>\n",
       "      <td>NaN</td>\n",
       "      <td>...</td>\n",
       "      <td>NaN</td>\n",
       "      <td>NaN</td>\n",
       "      <td>NaN</td>\n",
       "      <td>NaN</td>\n",
       "      <td>NaN</td>\n",
       "      <td>NaN</td>\n",
       "      <td>NaN</td>\n",
       "      <td>FR</td>\n",
       "      <td>Vert St Denis</td>\n",
       "      <td>5.0</td>\n",
       "    </tr>\n",
       "    <tr>\n",
       "      <th>253</th>\n",
       "      <td>Mercedes-Benz CL</td>\n",
       "      <td>200 163ch AMG Line 7G-DCT 9cv</td>\n",
       "      <td>Mercedes-Benz</td>\n",
       "      <td>CL</td>\n",
       "      <td>--,  77240 Vert St Denis, FR</td>\n",
       "      <td>39990</td>\n",
       "      <td>Compact</td>\n",
       "      <td>Used</td>\n",
       "      <td>5</td>\n",
       "      <td>NaN</td>\n",
       "      <td>...</td>\n",
       "      <td>NaN</td>\n",
       "      <td>NaN</td>\n",
       "      <td>NaN</td>\n",
       "      <td>NaN</td>\n",
       "      <td>NaN</td>\n",
       "      <td>NaN</td>\n",
       "      <td>NaN</td>\n",
       "      <td>FR</td>\n",
       "      <td>Vert St Denis</td>\n",
       "      <td>5.0</td>\n",
       "    </tr>\n",
       "    <tr>\n",
       "      <th>263</th>\n",
       "      <td>Mercedes-Benz CL</td>\n",
       "      <td>200 163ch AMG Line 7G-DCT 9cv</td>\n",
       "      <td>Mercedes-Benz</td>\n",
       "      <td>CL</td>\n",
       "      <td>--,  77240 Vert St Denis, FR</td>\n",
       "      <td>39990</td>\n",
       "      <td>Compact</td>\n",
       "      <td>Used</td>\n",
       "      <td>5</td>\n",
       "      <td>NaN</td>\n",
       "      <td>...</td>\n",
       "      <td>NaN</td>\n",
       "      <td>NaN</td>\n",
       "      <td>NaN</td>\n",
       "      <td>NaN</td>\n",
       "      <td>NaN</td>\n",
       "      <td>NaN</td>\n",
       "      <td>NaN</td>\n",
       "      <td>FR</td>\n",
       "      <td>Vert St Denis</td>\n",
       "      <td>5.0</td>\n",
       "    </tr>\n",
       "    <tr>\n",
       "      <th>...</th>\n",
       "      <td>...</td>\n",
       "      <td>...</td>\n",
       "      <td>...</td>\n",
       "      <td>...</td>\n",
       "      <td>...</td>\n",
       "      <td>...</td>\n",
       "      <td>...</td>\n",
       "      <td>...</td>\n",
       "      <td>...</td>\n",
       "      <td>...</td>\n",
       "      <td>...</td>\n",
       "      <td>...</td>\n",
       "      <td>...</td>\n",
       "      <td>...</td>\n",
       "      <td>...</td>\n",
       "      <td>...</td>\n",
       "      <td>...</td>\n",
       "      <td>...</td>\n",
       "      <td>...</td>\n",
       "      <td>...</td>\n",
       "      <td>...</td>\n",
       "    </tr>\n",
       "    <tr>\n",
       "      <th>27429</th>\n",
       "      <td>Volvo XC40</td>\n",
       "      <td>T3 Momentum Core</td>\n",
       "      <td>Volvo</td>\n",
       "      <td>XC40</td>\n",
       "      <td>AVDA. PRAT DE LA RIBA, 105,  08401 GRANOLLERS, ES</td>\n",
       "      <td>33900</td>\n",
       "      <td>Off-Road/Pick-up</td>\n",
       "      <td>Pre-registered</td>\n",
       "      <td>5</td>\n",
       "      <td>Spain</td>\n",
       "      <td>...</td>\n",
       "      <td>NaN</td>\n",
       "      <td>NaN</td>\n",
       "      <td>NaN</td>\n",
       "      <td>NaN</td>\n",
       "      <td>NaN</td>\n",
       "      <td>NaN</td>\n",
       "      <td>NaN</td>\n",
       "      <td>ES</td>\n",
       "      <td>GRANOLLERS</td>\n",
       "      <td>5.0</td>\n",
       "    </tr>\n",
       "    <tr>\n",
       "      <th>27621</th>\n",
       "      <td>Volvo V90 Cross Country</td>\n",
       "      <td>B5 D AWD Ultimate Bright 173 kW,</td>\n",
       "      <td>Volvo</td>\n",
       "      <td>V90 Cross Country</td>\n",
       "      <td>Liebstädter Str. 5,  01277 Dresden, DE</td>\n",
       "      <td>71850</td>\n",
       "      <td>Station wagon</td>\n",
       "      <td>Demonstration</td>\n",
       "      <td>5</td>\n",
       "      <td>Germany</td>\n",
       "      <td>...</td>\n",
       "      <td>NaN</td>\n",
       "      <td>NaN</td>\n",
       "      <td>NaN</td>\n",
       "      <td>NaN</td>\n",
       "      <td>A</td>\n",
       "      <td>Calculated on basis of measured CO₂-emissions ...</td>\n",
       "      <td>NaN</td>\n",
       "      <td>DE</td>\n",
       "      <td>Dresden</td>\n",
       "      <td>5.0</td>\n",
       "    </tr>\n",
       "    <tr>\n",
       "      <th>28008</th>\n",
       "      <td>Volvo V90 Cross Country</td>\n",
       "      <td>B5 D AWD Ultimate Bright 173 kW,</td>\n",
       "      <td>Volvo</td>\n",
       "      <td>V90 Cross Country</td>\n",
       "      <td>Liebstädter Str. 5,  01277 Dresden, DE</td>\n",
       "      <td>71850</td>\n",
       "      <td>Station wagon</td>\n",
       "      <td>Demonstration</td>\n",
       "      <td>5</td>\n",
       "      <td>Germany</td>\n",
       "      <td>...</td>\n",
       "      <td>NaN</td>\n",
       "      <td>NaN</td>\n",
       "      <td>NaN</td>\n",
       "      <td>NaN</td>\n",
       "      <td>A</td>\n",
       "      <td>Calculated on basis of measured CO₂-emissions ...</td>\n",
       "      <td>NaN</td>\n",
       "      <td>DE</td>\n",
       "      <td>Dresden</td>\n",
       "      <td>5.0</td>\n",
       "    </tr>\n",
       "    <tr>\n",
       "      <th>28418</th>\n",
       "      <td>Volvo XC40</td>\n",
       "      <td>1.5 T4 Twin   Auto Recharge R-Design</td>\n",
       "      <td>Volvo</td>\n",
       "      <td>XC40</td>\n",
       "      <td>BARRIO JAUREGI, 76,  20120 HERNANI, ES</td>\n",
       "      <td>44800</td>\n",
       "      <td>Sedan</td>\n",
       "      <td>Pre-registered</td>\n",
       "      <td>5</td>\n",
       "      <td>Spain</td>\n",
       "      <td>...</td>\n",
       "      <td>NaN</td>\n",
       "      <td>NaN</td>\n",
       "      <td>NaN</td>\n",
       "      <td>NaN</td>\n",
       "      <td>NaN</td>\n",
       "      <td>NaN</td>\n",
       "      <td>NaN</td>\n",
       "      <td>ES</td>\n",
       "      <td>HERNANI</td>\n",
       "      <td>nan</td>\n",
       "    </tr>\n",
       "    <tr>\n",
       "      <th>28531</th>\n",
       "      <td>Volvo XC40</td>\n",
       "      <td>T2 Core MODEL 2023 !!!</td>\n",
       "      <td>Volvo</td>\n",
       "      <td>XC40</td>\n",
       "      <td>Generaal de wittelaan 7 B,  2800 Mechelen, BE</td>\n",
       "      <td>35990</td>\n",
       "      <td>Sedan</td>\n",
       "      <td>Used</td>\n",
       "      <td>5</td>\n",
       "      <td>NaN</td>\n",
       "      <td>...</td>\n",
       "      <td>NaN</td>\n",
       "      <td>NaN</td>\n",
       "      <td>NaN</td>\n",
       "      <td>NaN</td>\n",
       "      <td>NaN</td>\n",
       "      <td>NaN</td>\n",
       "      <td>NaN</td>\n",
       "      <td>BE</td>\n",
       "      <td>Mechelen</td>\n",
       "      <td>nan</td>\n",
       "    </tr>\n",
       "  </tbody>\n",
       "</table>\n",
       "<p>428 rows × 53 columns</p>\n",
       "</div>"
      ],
      "text/plain": [
       "                    make_model                     short_description  \\\n",
       "1        Mercedes-Benz EQE 350                                  350+   \n",
       "170           Mercedes-Benz CL         200 163ch AMG Line 7G-DCT 9cv   \n",
       "237           Mercedes-Benz CL         200 163ch AMG Line 7G-DCT 9cv   \n",
       "253           Mercedes-Benz CL         200 163ch AMG Line 7G-DCT 9cv   \n",
       "263           Mercedes-Benz CL         200 163ch AMG Line 7G-DCT 9cv   \n",
       "...                        ...                                   ...   \n",
       "27429               Volvo XC40                      T3 Momentum Core   \n",
       "27621  Volvo V90 Cross Country      B5 D AWD Ultimate Bright 173 kW,   \n",
       "28008  Volvo V90 Cross Country      B5 D AWD Ultimate Bright 173 kW,   \n",
       "28418               Volvo XC40  1.5 T4 Twin   Auto Recharge R-Design   \n",
       "28531               Volvo XC40                T2 Core MODEL 2023 !!!   \n",
       "\n",
       "                make              model  \\\n",
       "1      Mercedes-Benz            EQE 350   \n",
       "170    Mercedes-Benz                 CL   \n",
       "237    Mercedes-Benz                 CL   \n",
       "253    Mercedes-Benz                 CL   \n",
       "263    Mercedes-Benz                 CL   \n",
       "...              ...                ...   \n",
       "27429          Volvo               XC40   \n",
       "27621          Volvo  V90 Cross Country   \n",
       "28008          Volvo  V90 Cross Country   \n",
       "28418          Volvo               XC40   \n",
       "28531          Volvo               XC40   \n",
       "\n",
       "                                                location  price  \\\n",
       "1           APARTADO DE CORREOS 1032,  26140 LOGROÑO, ES  80900   \n",
       "170                              60740 Saint Maximin, FR  39900   \n",
       "237                         --,  77240 Vert St Denis, FR  39990   \n",
       "253                         --,  77240 Vert St Denis, FR  39990   \n",
       "263                         --,  77240 Vert St Denis, FR  39990   \n",
       "...                                                  ...    ...   \n",
       "27429  AVDA. PRAT DE LA RIBA, 105,  08401 GRANOLLERS, ES  33900   \n",
       "27621             Liebstädter Str. 5,  01277 Dresden, DE  71850   \n",
       "28008             Liebstädter Str. 5,  01277 Dresden, DE  71850   \n",
       "28418             BARRIO JAUREGI, 76,  20120 HERNANI, ES  44800   \n",
       "28531      Generaal de wittelaan 7 B,  2800 Mechelen, BE  35990   \n",
       "\n",
       "              body_type            type  doors country_version  ...  \\\n",
       "1               Compact  Pre-registered      4           Spain  ...   \n",
       "170             Compact            Used      5             NaN  ...   \n",
       "237             Compact            Used      5             NaN  ...   \n",
       "253             Compact            Used      5             NaN  ...   \n",
       "263             Compact            Used      5             NaN  ...   \n",
       "...                 ...             ...    ...             ...  ...   \n",
       "27429  Off-Road/Pick-up  Pre-registered      5           Spain  ...   \n",
       "27621     Station wagon   Demonstration      5         Germany  ...   \n",
       "28008     Station wagon   Demonstration      5         Germany  ...   \n",
       "28418             Sedan  Pre-registered      5           Spain  ...   \n",
       "28531             Sedan            Used      5             NaN  ...   \n",
       "\n",
       "      production_date  previous_owner  other_fuel_types power_consumption  \\\n",
       "1                 NaN             NaN               NaN               NaN   \n",
       "170               NaN             NaN               NaN               NaN   \n",
       "237               NaN             NaN               NaN               NaN   \n",
       "253               NaN             NaN               NaN               NaN   \n",
       "263               NaN             NaN               NaN               NaN   \n",
       "...               ...             ...               ...               ...   \n",
       "27429             NaN             NaN               NaN               NaN   \n",
       "27621             NaN             NaN               NaN               NaN   \n",
       "28008             NaN             NaN               NaN               NaN   \n",
       "28418             NaN             NaN               NaN               NaN   \n",
       "28531             NaN             NaN               NaN               NaN   \n",
       "\n",
       "      energy_efficiency_class  \\\n",
       "1                         NaN   \n",
       "170                       NaN   \n",
       "237                       NaN   \n",
       "253                       NaN   \n",
       "263                       NaN   \n",
       "...                       ...   \n",
       "27429                     NaN   \n",
       "27621                       A   \n",
       "28008                       A   \n",
       "28418                     NaN   \n",
       "28531                     NaN   \n",
       "\n",
       "                                           co_efficiency taxi_or_rental_car  \\\n",
       "1                                                    NaN                NaN   \n",
       "170                                                  NaN                NaN   \n",
       "237                                                  NaN                NaN   \n",
       "253                                                  NaN                NaN   \n",
       "263                                                  NaN                NaN   \n",
       "...                                                  ...                ...   \n",
       "27429                                                NaN                NaN   \n",
       "27621  Calculated on basis of measured CO₂-emissions ...                NaN   \n",
       "28008  Calculated on basis of measured CO₂-emissions ...                NaN   \n",
       "28418                                                NaN                NaN   \n",
       "28531                                                NaN                NaN   \n",
       "\n",
       "       country              city doors_mode  \n",
       "1           ES           LOGROÑO        4.0  \n",
       "170         FR     Saint Maximin        5.0  \n",
       "237         FR     Vert St Denis        5.0  \n",
       "253         FR     Vert St Denis        5.0  \n",
       "263         FR     Vert St Denis        5.0  \n",
       "...        ...               ...        ...  \n",
       "27429       ES        GRANOLLERS        5.0  \n",
       "27621       DE           Dresden        5.0  \n",
       "28008       DE           Dresden        5.0  \n",
       "28418       ES           HERNANI        nan  \n",
       "28531       BE          Mechelen        nan  \n",
       "\n",
       "[428 rows x 53 columns]"
      ]
     },
     "execution_count": 40,
     "metadata": {},
     "output_type": "execute_result"
    }
   ],
   "source": [
    "df.loc[df[\"first_registration\"]=='2022-06-01']"
   ]
  },
  {
   "cell_type": "code",
   "execution_count": 41,
   "id": "53ff66e8-bda8-49f8-97dd-e7a1e833351b",
   "metadata": {},
   "outputs": [
    {
     "data": {
      "text/plain": [
       "2108.152224824356"
      ]
     },
     "execution_count": 41,
     "metadata": {},
     "output_type": "execute_result"
    }
   ],
   "source": [
    "df.loc[df[\"first_registration\"]=='2022-06-01']['mileage'].mean()"
   ]
  },
  {
   "cell_type": "code",
   "execution_count": 42,
   "id": "25611e2c-3e1c-46b9-9770-e76bf2428656",
   "metadata": {},
   "outputs": [],
   "source": [
    "df.loc[df.mileage.isna(), 'mileage']=df.loc[df[\"first_registration\"]=='2022-06-01']['mileage'].mean()"
   ]
  },
  {
   "cell_type": "code",
   "execution_count": 43,
   "id": "56d2ec8a-c5e0-46ef-9c04-e7b3c583c7bf",
   "metadata": {},
   "outputs": [
    {
     "data": {
      "text/plain": [
       "2108.152224824356"
      ]
     },
     "execution_count": 43,
     "metadata": {},
     "output_type": "execute_result"
    }
   ],
   "source": [
    "df.iloc[10753]['mileage']"
   ]
  },
  {
   "cell_type": "code",
   "execution_count": 44,
   "id": "c3bce13c-da56-48be-b410-de30a390b9c1",
   "metadata": {},
   "outputs": [
    {
     "data": {
      "text/plain": [
       "0"
      ]
     },
     "execution_count": 44,
     "metadata": {},
     "output_type": "execute_result"
    }
   ],
   "source": [
    "df['mileage'].isna().sum()"
   ]
  },
  {
   "cell_type": "markdown",
   "id": "4f5a7574-12d2-473b-9ba7-171a7a39c1c0",
   "metadata": {},
   "source": [
    "# First Registration"
   ]
  },
  {
   "cell_type": "code",
   "execution_count": 45,
   "id": "bfa5510e-06b7-48d5-bdd8-534a896dea3e",
   "metadata": {},
   "outputs": [
    {
     "data": {
      "text/plain": [
       "2"
      ]
     },
     "execution_count": 45,
     "metadata": {},
     "output_type": "execute_result"
    }
   ],
   "source": [
    "df['first_registration'].isna().sum()"
   ]
  },
  {
   "cell_type": "code",
   "execution_count": 46,
   "id": "fe803637-d561-47d5-8776-cb2d78aaa034",
   "metadata": {},
   "outputs": [
    {
     "data": {
      "text/html": [
       "<div>\n",
       "<style scoped>\n",
       "    .dataframe tbody tr th:only-of-type {\n",
       "        vertical-align: middle;\n",
       "    }\n",
       "\n",
       "    .dataframe tbody tr th {\n",
       "        vertical-align: top;\n",
       "    }\n",
       "\n",
       "    .dataframe thead th {\n",
       "        text-align: right;\n",
       "    }\n",
       "</style>\n",
       "<table border=\"1\" class=\"dataframe\">\n",
       "  <thead>\n",
       "    <tr style=\"text-align: right;\">\n",
       "      <th></th>\n",
       "      <th>683</th>\n",
       "      <th>16884</th>\n",
       "    </tr>\n",
       "  </thead>\n",
       "  <tbody>\n",
       "    <tr>\n",
       "      <th>make_model</th>\n",
       "      <td>Mercedes-Benz E 53 AMG</td>\n",
       "      <td>Toyota Corolla</td>\n",
       "    </tr>\n",
       "    <tr>\n",
       "      <th>short_description</th>\n",
       "      <td>Classe E AMG 53 4MATIC+</td>\n",
       "      <td>2.0 Hybrid Buss. Plus NAV LM DAB Android/Apple</td>\n",
       "    </tr>\n",
       "    <tr>\n",
       "      <th>make</th>\n",
       "      <td>Mercedes-Benz</td>\n",
       "      <td>Toyota</td>\n",
       "    </tr>\n",
       "    <tr>\n",
       "      <th>model</th>\n",
       "      <td>E 53 AMG</td>\n",
       "      <td>Corolla</td>\n",
       "    </tr>\n",
       "    <tr>\n",
       "      <th>location</th>\n",
       "      <td>Avenue de L'industrie 24,  4500 Huy, BE</td>\n",
       "      <td>Steenbokstraat 3,  7324 AZ APELDOORN, NL</td>\n",
       "    </tr>\n",
       "    <tr>\n",
       "      <th>price</th>\n",
       "      <td>108900</td>\n",
       "      <td>33999</td>\n",
       "    </tr>\n",
       "    <tr>\n",
       "      <th>body_type</th>\n",
       "      <td>Convertible</td>\n",
       "      <td>Compact</td>\n",
       "    </tr>\n",
       "    <tr>\n",
       "      <th>type</th>\n",
       "      <td>Demonstration</td>\n",
       "      <td>Demonstration</td>\n",
       "    </tr>\n",
       "    <tr>\n",
       "      <th>doors</th>\n",
       "      <td>2</td>\n",
       "      <td>5</td>\n",
       "    </tr>\n",
       "    <tr>\n",
       "      <th>country_version</th>\n",
       "      <td>NaN</td>\n",
       "      <td>Netherlands</td>\n",
       "    </tr>\n",
       "    <tr>\n",
       "      <th>offer_number</th>\n",
       "      <td>11109</td>\n",
       "      <td>N146PF</td>\n",
       "    </tr>\n",
       "    <tr>\n",
       "      <th>warranty</th>\n",
       "      <td>2</td>\n",
       "      <td>0</td>\n",
       "    </tr>\n",
       "    <tr>\n",
       "      <th>mileage</th>\n",
       "      <td>3856.00</td>\n",
       "      <td>2494.00</td>\n",
       "    </tr>\n",
       "    <tr>\n",
       "      <th>first_registration</th>\n",
       "      <td>NaT</td>\n",
       "      <td>NaT</td>\n",
       "    </tr>\n",
       "    <tr>\n",
       "      <th>gearbox</th>\n",
       "      <td>Automatic</td>\n",
       "      <td>Automatic</td>\n",
       "    </tr>\n",
       "    <tr>\n",
       "      <th>fuel_type</th>\n",
       "      <td>benzine</td>\n",
       "      <td>benzine</td>\n",
       "    </tr>\n",
       "    <tr>\n",
       "      <th>colour</th>\n",
       "      <td>Green</td>\n",
       "      <td>Grey</td>\n",
       "    </tr>\n",
       "    <tr>\n",
       "      <th>paint</th>\n",
       "      <td>1</td>\n",
       "      <td>1</td>\n",
       "    </tr>\n",
       "    <tr>\n",
       "      <th>desc</th>\n",
       "      <td>['Allumage automatique des feux de route, Anti...</td>\n",
       "      <td>['Bijzonderheden:', 'Demonstratie auto met opl...</td>\n",
       "    </tr>\n",
       "    <tr>\n",
       "      <th>seller</th>\n",
       "      <td>Dealer</td>\n",
       "      <td>Dealer</td>\n",
       "    </tr>\n",
       "    <tr>\n",
       "      <th>seats</th>\n",
       "      <td>4.00</td>\n",
       "      <td>NaN</td>\n",
       "    </tr>\n",
       "    <tr>\n",
       "      <th>power</th>\n",
       "      <td>320.00</td>\n",
       "      <td>135.00</td>\n",
       "    </tr>\n",
       "    <tr>\n",
       "      <th>engine_size</th>\n",
       "      <td>2999.00</td>\n",
       "      <td>1987.00</td>\n",
       "    </tr>\n",
       "    <tr>\n",
       "      <th>gears</th>\n",
       "      <td>8.00</td>\n",
       "      <td>NaN</td>\n",
       "    </tr>\n",
       "    <tr>\n",
       "      <th>co_emissions</th>\n",
       "      <td>219.00</td>\n",
       "      <td>89.00</td>\n",
       "    </tr>\n",
       "    <tr>\n",
       "      <th>manufacturer_colour</th>\n",
       "      <td>NaN</td>\n",
       "      <td>Manhattan Grey</td>\n",
       "    </tr>\n",
       "    <tr>\n",
       "      <th>drivetrain</th>\n",
       "      <td>4WD</td>\n",
       "      <td>NaN</td>\n",
       "    </tr>\n",
       "    <tr>\n",
       "      <th>cylinders</th>\n",
       "      <td>NaN</td>\n",
       "      <td>4.00</td>\n",
       "    </tr>\n",
       "    <tr>\n",
       "      <th>fuel_consumption</th>\n",
       "      <td>NaN</td>\n",
       "      <td>NaN</td>\n",
       "    </tr>\n",
       "    <tr>\n",
       "      <th>comfort_convenience</th>\n",
       "      <td>360° camera, air conditioning, automatic clima...</td>\n",
       "      <td>air conditioning, armrest, automatic climate c...</td>\n",
       "    </tr>\n",
       "    <tr>\n",
       "      <th>entertainment_media</th>\n",
       "      <td>android auto, apple carplay, bluetooth, cd pla...</td>\n",
       "      <td>android auto, apple carplay, bluetooth, digita...</td>\n",
       "    </tr>\n",
       "    <tr>\n",
       "      <th>safety_security</th>\n",
       "      <td>alarm system, central door lock, driver-side a...</td>\n",
       "      <td>abs, daytime running lights, distance warning ...</td>\n",
       "    </tr>\n",
       "    <tr>\n",
       "      <th>extras</th>\n",
       "      <td>alloy wheels, ambient lighting, automatically ...</td>\n",
       "      <td>alloy wheels, automatically dimming interior m...</td>\n",
       "    </tr>\n",
       "    <tr>\n",
       "      <th>empty_weight</th>\n",
       "      <td>NaN</td>\n",
       "      <td>1315.00</td>\n",
       "    </tr>\n",
       "    <tr>\n",
       "      <th>model_code</th>\n",
       "      <td>NaN</td>\n",
       "      <td>NaN</td>\n",
       "    </tr>\n",
       "    <tr>\n",
       "      <th>general_inspection</th>\n",
       "      <td>NaN</td>\n",
       "      <td>NaN</td>\n",
       "    </tr>\n",
       "    <tr>\n",
       "      <th>last_service</th>\n",
       "      <td>NaN</td>\n",
       "      <td>NaN</td>\n",
       "    </tr>\n",
       "    <tr>\n",
       "      <th>full_service_history</th>\n",
       "      <td>NaN</td>\n",
       "      <td>Yes</td>\n",
       "    </tr>\n",
       "    <tr>\n",
       "      <th>non_smoker_vehicle</th>\n",
       "      <td>Yes</td>\n",
       "      <td>NaN</td>\n",
       "    </tr>\n",
       "    <tr>\n",
       "      <th>emission_class</th>\n",
       "      <td>Euro 6</td>\n",
       "      <td>Euro 1</td>\n",
       "    </tr>\n",
       "    <tr>\n",
       "      <th>emissions_sticker</th>\n",
       "      <td>NaN</td>\n",
       "      <td>NaN</td>\n",
       "    </tr>\n",
       "    <tr>\n",
       "      <th>upholstery_colour</th>\n",
       "      <td>Other</td>\n",
       "      <td>NaN</td>\n",
       "    </tr>\n",
       "    <tr>\n",
       "      <th>upholstery</th>\n",
       "      <td>Full leather</td>\n",
       "      <td>Cloth</td>\n",
       "    </tr>\n",
       "    <tr>\n",
       "      <th>production_date</th>\n",
       "      <td>NaN</td>\n",
       "      <td>2021-01-01</td>\n",
       "    </tr>\n",
       "    <tr>\n",
       "      <th>previous_owner</th>\n",
       "      <td>NaN</td>\n",
       "      <td>NaN</td>\n",
       "    </tr>\n",
       "    <tr>\n",
       "      <th>other_fuel_types</th>\n",
       "      <td>NaN</td>\n",
       "      <td>Electricity</td>\n",
       "    </tr>\n",
       "    <tr>\n",
       "      <th>power_consumption</th>\n",
       "      <td>NaN</td>\n",
       "      <td>3.90</td>\n",
       "    </tr>\n",
       "    <tr>\n",
       "      <th>energy_efficiency_class</th>\n",
       "      <td>NaN</td>\n",
       "      <td>NaN</td>\n",
       "    </tr>\n",
       "    <tr>\n",
       "      <th>co_efficiency</th>\n",
       "      <td>NaN</td>\n",
       "      <td>NaN</td>\n",
       "    </tr>\n",
       "    <tr>\n",
       "      <th>taxi_or_rental_car</th>\n",
       "      <td>NaN</td>\n",
       "      <td>NaN</td>\n",
       "    </tr>\n",
       "    <tr>\n",
       "      <th>country</th>\n",
       "      <td>BE</td>\n",
       "      <td>NL</td>\n",
       "    </tr>\n",
       "    <tr>\n",
       "      <th>city</th>\n",
       "      <td>Huy</td>\n",
       "      <td>AZ APELDOORN</td>\n",
       "    </tr>\n",
       "    <tr>\n",
       "      <th>doors_mode</th>\n",
       "      <td>2.0</td>\n",
       "      <td>5.0</td>\n",
       "    </tr>\n",
       "  </tbody>\n",
       "</table>\n",
       "</div>"
      ],
      "text/plain": [
       "                                                                     683    \\\n",
       "make_model                                          Mercedes-Benz E 53 AMG   \n",
       "short_description                                  Classe E AMG 53 4MATIC+   \n",
       "make                                                         Mercedes-Benz   \n",
       "model                                                             E 53 AMG   \n",
       "location                           Avenue de L'industrie 24,  4500 Huy, BE   \n",
       "price                                                               108900   \n",
       "body_type                                                      Convertible   \n",
       "type                                                         Demonstration   \n",
       "doors                                                                    2   \n",
       "country_version                                                        NaN   \n",
       "offer_number                                                         11109   \n",
       "warranty                                                                 2   \n",
       "mileage                                                            3856.00   \n",
       "first_registration                                                     NaT   \n",
       "gearbox                                                          Automatic   \n",
       "fuel_type                                                          benzine   \n",
       "colour                                                               Green   \n",
       "paint                                                                    1   \n",
       "desc                     ['Allumage automatique des feux de route, Anti...   \n",
       "seller                                                              Dealer   \n",
       "seats                                                                 4.00   \n",
       "power                                                               320.00   \n",
       "engine_size                                                        2999.00   \n",
       "gears                                                                 8.00   \n",
       "co_emissions                                                        219.00   \n",
       "manufacturer_colour                                                    NaN   \n",
       "drivetrain                                                             4WD   \n",
       "cylinders                                                              NaN   \n",
       "fuel_consumption                                                       NaN   \n",
       "comfort_convenience      360° camera, air conditioning, automatic clima...   \n",
       "entertainment_media      android auto, apple carplay, bluetooth, cd pla...   \n",
       "safety_security          alarm system, central door lock, driver-side a...   \n",
       "extras                   alloy wheels, ambient lighting, automatically ...   \n",
       "empty_weight                                                           NaN   \n",
       "model_code                                                             NaN   \n",
       "general_inspection                                                     NaN   \n",
       "last_service                                                           NaN   \n",
       "full_service_history                                                   NaN   \n",
       "non_smoker_vehicle                                                     Yes   \n",
       "emission_class                                                      Euro 6   \n",
       "emissions_sticker                                                      NaN   \n",
       "upholstery_colour                                                    Other   \n",
       "upholstery                                                    Full leather   \n",
       "production_date                                                        NaN   \n",
       "previous_owner                                                         NaN   \n",
       "other_fuel_types                                                       NaN   \n",
       "power_consumption                                                      NaN   \n",
       "energy_efficiency_class                                                NaN   \n",
       "co_efficiency                                                          NaN   \n",
       "taxi_or_rental_car                                                     NaN   \n",
       "country                                                                 BE   \n",
       "city                                                                   Huy   \n",
       "doors_mode                                                             2.0   \n",
       "\n",
       "                                                                     16884  \n",
       "make_model                                                  Toyota Corolla  \n",
       "short_description           2.0 Hybrid Buss. Plus NAV LM DAB Android/Apple  \n",
       "make                                                                Toyota  \n",
       "model                                                              Corolla  \n",
       "location                          Steenbokstraat 3,  7324 AZ APELDOORN, NL  \n",
       "price                                                                33999  \n",
       "body_type                                                          Compact  \n",
       "type                                                         Demonstration  \n",
       "doors                                                                    5  \n",
       "country_version                                                Netherlands  \n",
       "offer_number                                                        N146PF  \n",
       "warranty                                                                 0  \n",
       "mileage                                                            2494.00  \n",
       "first_registration                                                     NaT  \n",
       "gearbox                                                          Automatic  \n",
       "fuel_type                                                          benzine  \n",
       "colour                                                                Grey  \n",
       "paint                                                                    1  \n",
       "desc                     ['Bijzonderheden:', 'Demonstratie auto met opl...  \n",
       "seller                                                              Dealer  \n",
       "seats                                                                  NaN  \n",
       "power                                                               135.00  \n",
       "engine_size                                                        1987.00  \n",
       "gears                                                                  NaN  \n",
       "co_emissions                                                         89.00  \n",
       "manufacturer_colour                                         Manhattan Grey  \n",
       "drivetrain                                                             NaN  \n",
       "cylinders                                                             4.00  \n",
       "fuel_consumption                                                       NaN  \n",
       "comfort_convenience      air conditioning, armrest, automatic climate c...  \n",
       "entertainment_media      android auto, apple carplay, bluetooth, digita...  \n",
       "safety_security          abs, daytime running lights, distance warning ...  \n",
       "extras                   alloy wheels, automatically dimming interior m...  \n",
       "empty_weight                                                       1315.00  \n",
       "model_code                                                             NaN  \n",
       "general_inspection                                                     NaN  \n",
       "last_service                                                           NaN  \n",
       "full_service_history                                                   Yes  \n",
       "non_smoker_vehicle                                                     NaN  \n",
       "emission_class                                                      Euro 1  \n",
       "emissions_sticker                                                      NaN  \n",
       "upholstery_colour                                                      NaN  \n",
       "upholstery                                                           Cloth  \n",
       "production_date                                                 2021-01-01  \n",
       "previous_owner                                                         NaN  \n",
       "other_fuel_types                                               Electricity  \n",
       "power_consumption                                                     3.90  \n",
       "energy_efficiency_class                                                NaN  \n",
       "co_efficiency                                                          NaN  \n",
       "taxi_or_rental_car                                                     NaN  \n",
       "country                                                                 NL  \n",
       "city                                                          AZ APELDOORN  \n",
       "doors_mode                                                             5.0  "
      ]
     },
     "execution_count": 46,
     "metadata": {},
     "output_type": "execute_result"
    }
   ],
   "source": [
    "df.loc[df['first_registration'].isna()].T"
   ]
  },
  {
   "cell_type": "code",
   "execution_count": 47,
   "id": "bdf99d1a-3c4c-4a6a-ad06-83375d65bcab",
   "metadata": {},
   "outputs": [
    {
     "data": {
      "text/plain": [
       "0       2016.00\n",
       "1       2022.00\n",
       "2       2020.00\n",
       "3       2020.00\n",
       "4       2015.00\n",
       "          ...  \n",
       "28625   2019.00\n",
       "28626   2004.00\n",
       "28627   2011.00\n",
       "28628   2017.00\n",
       "28629   2002.00\n",
       "Name: year, Length: 28630, dtype: float64"
      ]
     },
     "execution_count": 47,
     "metadata": {},
     "output_type": "execute_result"
    }
   ],
   "source": [
    "df['year'] = df['first_registration'].dt.year\n",
    "df['year']"
   ]
  },
  {
   "cell_type": "code",
   "execution_count": 48,
   "id": "8ef721bb-a337-4977-b85c-29b90842020c",
   "metadata": {},
   "outputs": [],
   "source": [
    "df.loc[df.first_registration.isna(), 'year'] = 2022"
   ]
  },
  {
   "cell_type": "code",
   "execution_count": 49,
   "id": "7c5d8c04-908e-4e3e-be66-4faea8f42045",
   "metadata": {},
   "outputs": [
    {
     "data": {
      "text/plain": [
       "0"
      ]
     },
     "execution_count": 49,
     "metadata": {},
     "output_type": "execute_result"
    }
   ],
   "source": [
    "df['year'].isna().sum()"
   ]
  },
  {
   "cell_type": "code",
   "execution_count": 50,
   "id": "b8d492e8-a519-4c30-9adc-fc28e89ada8a",
   "metadata": {},
   "outputs": [],
   "source": [
    "df[\"age\"] = 2022 - df[\"year\"] "
   ]
  },
  {
   "cell_type": "code",
   "execution_count": 51,
   "id": "4b80d151-de74-41f7-be21-c58327a9597e",
   "metadata": {},
   "outputs": [
    {
     "data": {
      "text/plain": [
       "age\n",
       "3.00       3667\n",
       "4.00       3492\n",
       "0.00       3088\n",
       "1.00       2870\n",
       "2.00       2473\n",
       "           ... \n",
       "93.00         1\n",
       "66.00         1\n",
       "-180.00       1\n",
       "94.00         1\n",
       "72.00         1\n",
       "Name: count, Length: 83, dtype: int64"
      ]
     },
     "execution_count": 51,
     "metadata": {},
     "output_type": "execute_result"
    }
   ],
   "source": [
    "df[\"age\"].value_counts(dropna=False)"
   ]
  },
  {
   "cell_type": "code",
   "execution_count": 52,
   "id": "7077ff93-cbfc-4b4a-b0cb-f986682d8daf",
   "metadata": {},
   "outputs": [
    {
     "name": "stdout",
     "output_type": "stream",
     "text": [
      "<class 'pandas.core.series.Series'>\n",
      "RangeIndex: 28630 entries, 0 to 28629\n",
      "Series name: age\n",
      "Non-Null Count  Dtype  \n",
      "--------------  -----  \n",
      "28630 non-null  float64\n",
      "dtypes: float64(1)\n",
      "memory usage: 223.8 KB\n"
     ]
    }
   ],
   "source": [
    "df[\"age\"].info()"
   ]
  },
  {
   "cell_type": "code",
   "execution_count": 53,
   "id": "712a96b6-236c-4428-9427-e08f86212407",
   "metadata": {},
   "outputs": [
    {
     "data": {
      "text/plain": [
       "7011    2202-10-01\n",
       "9764    2025-05-01\n",
       "19213   2023-04-01\n",
       "Name: first_registration, dtype: datetime64[ns]"
      ]
     },
     "execution_count": 53,
     "metadata": {},
     "output_type": "execute_result"
    }
   ],
   "source": [
    "df[df['year'] > 2022]['first_registration']"
   ]
  },
  {
   "cell_type": "markdown",
   "id": "bc068a04-19f7-44cb-be5b-d699a92886e6",
   "metadata": {},
   "source": [
    "# Gearbox"
   ]
  },
  {
   "cell_type": "code",
   "execution_count": 54,
   "id": "da8e2bbb-e720-4cc7-9491-ea277e3f070f",
   "metadata": {},
   "outputs": [
    {
     "data": {
      "text/plain": [
       "gearbox\n",
       "Manual            17023\n",
       "Automatic         11287\n",
       "NaN                 248\n",
       "Semi-automatic       72\n",
       "Name: count, dtype: int64"
      ]
     },
     "execution_count": 54,
     "metadata": {},
     "output_type": "execute_result"
    }
   ],
   "source": [
    "df[\"gearbox\"].value_counts(dropna=False)"
   ]
  },
  {
   "cell_type": "code",
   "execution_count": 55,
   "id": "805d033a-5849-4bf5-824f-533a07247201",
   "metadata": {},
   "outputs": [
    {
     "data": {
      "text/plain": [
       "gears\n",
       "5.00    21\n",
       "7.00     8\n",
       "6.00     6\n",
       "4.00     4\n",
       "1.00     4\n",
       "8.00     4\n",
       "0.00     3\n",
       "2.00     1\n",
       "3.00     1\n",
       "Name: count, dtype: int64"
      ]
     },
     "execution_count": 55,
     "metadata": {},
     "output_type": "execute_result"
    }
   ],
   "source": [
    "df.loc[df['gearbox'].isna()]['gears'].value_counts()"
   ]
  },
  {
   "cell_type": "code",
   "execution_count": 56,
   "id": "dac02c2d-7e6a-445e-a0d9-7d8c2de623f1",
   "metadata": {},
   "outputs": [
    {
     "data": {
      "text/plain": [
       "150          Mercedes-Benz A 180\n",
       "175       Mercedes-Benz A 35 AMG\n",
       "210          Mercedes-Benz A 200\n",
       "222          Mercedes-Benz A 220\n",
       "235          Mercedes-Benz A 220\n",
       "                  ...           \n",
       "27848                  Volvo V90\n",
       "28020                  Volvo V60\n",
       "28029                  Volvo V90\n",
       "28032    Volvo V90 Cross Country\n",
       "28228                  Volvo V90\n",
       "Name: make_model, Length: 248, dtype: object"
      ]
     },
     "execution_count": 56,
     "metadata": {},
     "output_type": "execute_result"
    }
   ],
   "source": [
    "df.loc[df['gearbox'].isna()]['make_model']"
   ]
  },
  {
   "cell_type": "code",
   "execution_count": 57,
   "id": "055a6377-4240-4fa9-8674-25c020bfb2d8",
   "metadata": {},
   "outputs": [
    {
     "data": {
      "text/plain": [
       "gearbox\n",
       "Manual            17190\n",
       "Automatic         11368\n",
       "Semi-automatic       72\n",
       "Name: count, dtype: int64"
      ]
     },
     "execution_count": 57,
     "metadata": {},
     "output_type": "execute_result"
    }
   ],
   "source": [
    "df.gearbox = df.gearbox.fillna(df.groupby(\"make_model\")[\"gearbox\"].transform(lambda x: x.mode()[0]))\n",
    "df.gearbox.value_counts(dropna=False)"
   ]
  },
  {
   "cell_type": "code",
   "execution_count": 58,
   "id": "4feea909-f2ef-4ec2-a53c-7d45f2a81255",
   "metadata": {},
   "outputs": [],
   "source": [
    "df['gearbox']=df['gearbox'].astype('string')"
   ]
  },
  {
   "cell_type": "markdown",
   "id": "4a4f670a-e4d6-485e-b836-1d6081621960",
   "metadata": {},
   "source": [
    "# Fuel Type"
   ]
  },
  {
   "cell_type": "code",
   "execution_count": 59,
   "id": "6132cb3f-4f66-4907-8079-14fe9c2f4dfb",
   "metadata": {},
   "outputs": [
    {
     "data": {
      "text/plain": [
       "fuel_type\n",
       "benzine     17334\n",
       "diesel       8727\n",
       "NaN          1787\n",
       "LPG           378\n",
       "others        216\n",
       "electric      188\n",
       "Name: count, dtype: int64"
      ]
     },
     "execution_count": 59,
     "metadata": {},
     "output_type": "execute_result"
    }
   ],
   "source": [
    "df[\"fuel_type\"].value_counts(dropna=False)"
   ]
  },
  {
   "cell_type": "code",
   "execution_count": 60,
   "id": "d5dc1728-9232-403e-942f-7c92213b2a55",
   "metadata": {},
   "outputs": [
    {
     "data": {
      "text/plain": [
       "other_fuel_types\n",
       "NaN             16824\n",
       "Electricity       508\n",
       "Hydogen             1\n",
       "Super E10 95        1\n",
       "Name: count, dtype: int64"
      ]
     },
     "execution_count": 60,
     "metadata": {},
     "output_type": "execute_result"
    }
   ],
   "source": [
    "df.loc[df['fuel_type']=='benzine']['other_fuel_types'].value_counts(dropna=False)"
   ]
  },
  {
   "cell_type": "code",
   "execution_count": 61,
   "id": "b122d25a-c67d-429f-8482-ece5872676f0",
   "metadata": {},
   "outputs": [
    {
     "data": {
      "text/plain": [
       "make_model\n",
       "Toyota Corolla    111\n",
       "Toyota Auris      107\n",
       "Toyota Yaris       89\n",
       "Fiat 500           84\n",
       "Hyundai IONIQ      75\n",
       "                 ... \n",
       "Toyota Prius+       1\n",
       "Nissan Sunny        1\n",
       "Nissan Ariya        1\n",
       "Nissan Evalia       1\n",
       "Fiat                1\n",
       "Name: count, Length: 121, dtype: int64"
      ]
     },
     "execution_count": 61,
     "metadata": {},
     "output_type": "execute_result"
    }
   ],
   "source": [
    "df.loc[df['fuel_type'].isna()]['make_model'].value_counts(dropna=False)"
   ]
  },
  {
   "cell_type": "code",
   "execution_count": 62,
   "id": "6e122bc0-9455-483f-9113-6782799ccf13",
   "metadata": {},
   "outputs": [
    {
     "data": {
      "text/plain": [
       "other_fuel_types\n",
       "Electricity    1767\n",
       "NaN              10\n",
       "Hydogen          10\n",
       "Name: count, dtype: int64"
      ]
     },
     "execution_count": 62,
     "metadata": {},
     "output_type": "execute_result"
    }
   ],
   "source": [
    "df.loc[df['fuel_type'].isna()]['other_fuel_types'].value_counts(dropna=False)"
   ]
  },
  {
   "cell_type": "code",
   "execution_count": 63,
   "id": "8f14002c-b345-4275-93e1-354da022438c",
   "metadata": {},
   "outputs": [
    {
     "data": {
      "text/plain": [
       "make_model      other_fuel_types  fuel_type\n",
       "Fiat 500        Electricity       benzine       8\n",
       "Fiat 500C       Electricity       benzine      12\n",
       "Fiat New Panda  Electricity       benzine       1\n",
       "Fiat Panda      Electricity       benzine       4\n",
       "Fiat Tipo       Electricity       benzine       1\n",
       "                                               ..\n",
       "Volvo V60       Electricity       diesel        6\n",
       "Volvo V90       Electricity       benzine      58\n",
       "Volvo XC40      Electricity       benzine      18\n",
       "Volvo XC60      Electricity       benzine      54\n",
       "Volvo XC90      Electricity       benzine      18\n",
       "Name: count, Length: 67, dtype: int64"
      ]
     },
     "execution_count": 63,
     "metadata": {},
     "output_type": "execute_result"
    }
   ],
   "source": [
    "df.groupby(['make_model', 'other_fuel_types'])['fuel_type'].value_counts()"
   ]
  },
  {
   "cell_type": "code",
   "execution_count": 64,
   "id": "fa99ce4f-e0f5-4369-9315-a3007faf0659",
   "metadata": {},
   "outputs": [],
   "source": [
    "import numpy as np\n",
    "\n",
    "def fill_fuel_type(row):\n",
    "    if pd.isna(row['fuel_type']):\n",
    "        if row['other_fuel_types'] == 'Electricity':     #saha arastirmasi ile fuel_type 'benzine' olanlarin other_type larinin 'electric oldugunu gördük, ona göre doldurduk.'\n",
    "            return 'benzine'\n",
    "        elif row['other_fuel_types'] == 'Hydogen':\n",
    "            return 'electric'\n",
    "    return row['fuel_type']\n",
    "\n",
    "df['fuel_type'] = df.apply(fill_fuel_type, axis=1)"
   ]
  },
  {
   "cell_type": "code",
   "execution_count": 65,
   "id": "54775a42-2637-4b34-bc83-86d6b599985d",
   "metadata": {},
   "outputs": [
    {
     "data": {
      "text/plain": [
       "fuel_type\n",
       "benzine     19101\n",
       "diesel       8727\n",
       "LPG           378\n",
       "others        216\n",
       "electric      198\n",
       "NaN            10\n",
       "Name: count, dtype: int64"
      ]
     },
     "execution_count": 65,
     "metadata": {},
     "output_type": "execute_result"
    }
   ],
   "source": [
    "df[\"fuel_type\"].value_counts(dropna=False)"
   ]
  },
  {
   "cell_type": "code",
   "execution_count": 66,
   "id": "a4e8f211-ea60-49e3-bdda-b019468137fb",
   "metadata": {},
   "outputs": [
    {
     "data": {
      "text/plain": [
       "make_model         short_description                                 \n",
       "Ford Mustang       3.7 V6 Aut. Cabrio/Design Leder/Xenon/                1\n",
       "                   GT 4.6 Cabrio Unfallfrei, Deutsche EZ                 1\n",
       "Hyundai TUCSON     1.6 GDi 2WD Trend Bluetooth Klima                     1\n",
       "                   1.6 Turbo 2WD Advantage mit AHK aus erster            1\n",
       "Hyundai i30        CW 1.4i i-Motion Business AIRCO TREKHAAL LPG-G3 De    1\n",
       "Mercedes-Benz 500  SL                                                    1\n",
       "Nissan Sunny       *AUS 2 HAND*AUTOMATIK*SERVO*                          1\n",
       "Renault Arkana     ARKANA E-Tech 145 - 21B R.S. Line                     1\n",
       "                   tce 140 edc fap r.s. line                             1\n",
       "Skoda Octavia      COMBI/CNG/1.5 G-TEC AMBITION DSG                      1\n",
       "Name: count, dtype: int64"
      ]
     },
     "execution_count": 66,
     "metadata": {},
     "output_type": "execute_result"
    }
   ],
   "source": [
    "df.loc[df['fuel_type'].isna()][['make_model', 'short_description']].value_counts(dropna=False)"
   ]
  },
  {
   "cell_type": "code",
   "execution_count": 67,
   "id": "c8e6c68e-2127-4405-b39b-4e74cd64adef",
   "metadata": {},
   "outputs": [
    {
     "data": {
      "text/html": [
       "<div>\n",
       "<style scoped>\n",
       "    .dataframe tbody tr th:only-of-type {\n",
       "        vertical-align: middle;\n",
       "    }\n",
       "\n",
       "    .dataframe tbody tr th {\n",
       "        vertical-align: top;\n",
       "    }\n",
       "\n",
       "    .dataframe thead th {\n",
       "        text-align: right;\n",
       "    }\n",
       "</style>\n",
       "<table border=\"1\" class=\"dataframe\">\n",
       "  <thead>\n",
       "    <tr style=\"text-align: right;\">\n",
       "      <th></th>\n",
       "      <th>make_model</th>\n",
       "      <th>short_description</th>\n",
       "    </tr>\n",
       "  </thead>\n",
       "  <tbody>\n",
       "    <tr>\n",
       "      <th>740</th>\n",
       "      <td>Mercedes-Benz 500</td>\n",
       "      <td>SL</td>\n",
       "    </tr>\n",
       "    <tr>\n",
       "      <th>5664</th>\n",
       "      <td>Renault Arkana</td>\n",
       "      <td>tce 140 edc fap r.s. line</td>\n",
       "    </tr>\n",
       "    <tr>\n",
       "      <th>5839</th>\n",
       "      <td>Renault Arkana</td>\n",
       "      <td>ARKANA E-Tech 145 - 21B R.S. Line</td>\n",
       "    </tr>\n",
       "    <tr>\n",
       "      <th>14529</th>\n",
       "      <td>Skoda Octavia</td>\n",
       "      <td>COMBI/CNG/1.5 G-TEC AMBITION DSG</td>\n",
       "    </tr>\n",
       "    <tr>\n",
       "      <th>19573</th>\n",
       "      <td>Nissan Sunny</td>\n",
       "      <td>*AUS 2 HAND*AUTOMATIK*SERVO*</td>\n",
       "    </tr>\n",
       "    <tr>\n",
       "      <th>21321</th>\n",
       "      <td>Ford Mustang</td>\n",
       "      <td>GT 4.6 Cabrio Unfallfrei, Deutsche EZ</td>\n",
       "    </tr>\n",
       "    <tr>\n",
       "      <th>21676</th>\n",
       "      <td>Ford Mustang</td>\n",
       "      <td>3.7 V6 Aut. Cabrio/Design Leder/Xenon/</td>\n",
       "    </tr>\n",
       "    <tr>\n",
       "      <th>23825</th>\n",
       "      <td>Hyundai TUCSON</td>\n",
       "      <td>1.6 GDi 2WD Trend Bluetooth Klima</td>\n",
       "    </tr>\n",
       "    <tr>\n",
       "      <th>23843</th>\n",
       "      <td>Hyundai TUCSON</td>\n",
       "      <td>1.6 Turbo 2WD Advantage mit AHK aus erster</td>\n",
       "    </tr>\n",
       "    <tr>\n",
       "      <th>24526</th>\n",
       "      <td>Hyundai i30</td>\n",
       "      <td>CW 1.4i i-Motion Business AIRCO TREKHAAL LPG-G...</td>\n",
       "    </tr>\n",
       "  </tbody>\n",
       "</table>\n",
       "</div>"
      ],
      "text/plain": [
       "              make_model                                  short_description\n",
       "740    Mercedes-Benz 500                                                 SL\n",
       "5664      Renault Arkana                          tce 140 edc fap r.s. line\n",
       "5839      Renault Arkana                  ARKANA E-Tech 145 - 21B R.S. Line\n",
       "14529      Skoda Octavia                   COMBI/CNG/1.5 G-TEC AMBITION DSG\n",
       "19573       Nissan Sunny                       *AUS 2 HAND*AUTOMATIK*SERVO*\n",
       "21321       Ford Mustang              GT 4.6 Cabrio Unfallfrei, Deutsche EZ\n",
       "21676       Ford Mustang             3.7 V6 Aut. Cabrio/Design Leder/Xenon/\n",
       "23825     Hyundai TUCSON                  1.6 GDi 2WD Trend Bluetooth Klima\n",
       "23843     Hyundai TUCSON         1.6 Turbo 2WD Advantage mit AHK aus erster\n",
       "24526        Hyundai i30  CW 1.4i i-Motion Business AIRCO TREKHAAL LPG-G..."
      ]
     },
     "execution_count": 67,
     "metadata": {},
     "output_type": "execute_result"
    }
   ],
   "source": [
    "df.loc[df['fuel_type'].isna()][['make_model', 'short_description']]"
   ]
  },
  {
   "cell_type": "code",
   "execution_count": 68,
   "id": "6ece4262-c02d-49b4-ad11-c39f8662f3da",
   "metadata": {},
   "outputs": [],
   "source": [
    "df.loc[[740, 5664, 5839, 19573, 21321, 21676, 23825, 23843], 'fuel_type'] = 'benzine'\n"
   ]
  },
  {
   "cell_type": "code",
   "execution_count": 69,
   "id": "41b6d489-fc83-4b3c-8e38-84cd43077415",
   "metadata": {},
   "outputs": [
    {
     "data": {
      "text/plain": [
       "fuel_type\n",
       "benzine     19109\n",
       "diesel       8727\n",
       "LPG           378\n",
       "others        216\n",
       "electric      198\n",
       "NaN             2\n",
       "Name: count, dtype: int64"
      ]
     },
     "execution_count": 69,
     "metadata": {},
     "output_type": "execute_result"
    }
   ],
   "source": [
    "df[\"fuel_type\"].value_counts(dropna=False)"
   ]
  },
  {
   "cell_type": "code",
   "execution_count": 70,
   "id": "b354c837-d51e-4fef-87e6-f1cab3429fe6",
   "metadata": {},
   "outputs": [],
   "source": [
    "df.loc[[24526,14529], 'fuel_type']='LPG'"
   ]
  },
  {
   "cell_type": "code",
   "execution_count": 71,
   "id": "2b508b23-b758-4cf5-b967-ce36b6dab43a",
   "metadata": {},
   "outputs": [
    {
     "data": {
      "text/plain": [
       "fuel_type\n",
       "benzine     19109\n",
       "diesel       8727\n",
       "LPG           380\n",
       "others        216\n",
       "electric      198\n",
       "Name: count, dtype: int64"
      ]
     },
     "execution_count": 71,
     "metadata": {},
     "output_type": "execute_result"
    }
   ],
   "source": [
    "df[\"fuel_type\"].value_counts(dropna=False)"
   ]
  },
  {
   "cell_type": "code",
   "execution_count": 72,
   "id": "22e24e63-50d0-47ad-b657-48e32f67938f",
   "metadata": {},
   "outputs": [
    {
     "data": {
      "text/plain": [
       "dtype('O')"
      ]
     },
     "execution_count": 72,
     "metadata": {},
     "output_type": "execute_result"
    }
   ],
   "source": [
    "df[\"fuel_type\"].dtype"
   ]
  },
  {
   "cell_type": "markdown",
   "id": "de9ceb7b-634a-4b4a-96e8-409c28e46e7c",
   "metadata": {},
   "source": [
    "# Colour"
   ]
  },
  {
   "cell_type": "code",
   "execution_count": 73,
   "id": "a276c45e-5ba9-4705-9699-34b838fb8a58",
   "metadata": {},
   "outputs": [
    {
     "data": {
      "text/plain": [
       "colour\n",
       "Black     6473\n",
       "Grey      5998\n",
       "White     5185\n",
       "Blue      3478\n",
       "Red       2242\n",
       "NaN       1724\n",
       "Silver    1622\n",
       "Green      450\n",
       "Brown      437\n",
       "Orange     288\n",
       "Beige      278\n",
       "Yellow     230\n",
       "Violet      98\n",
       "Bronze      65\n",
       "Gold        62\n",
       "Name: count, dtype: int64"
      ]
     },
     "execution_count": 73,
     "metadata": {},
     "output_type": "execute_result"
    }
   ],
   "source": [
    "df['colour'].value_counts(dropna=False)"
   ]
  },
  {
   "cell_type": "code",
   "execution_count": 74,
   "id": "120cbca4-ee3d-4eb6-9e3c-8e197db4e6ff",
   "metadata": {},
   "outputs": [
    {
     "data": {
      "text/plain": [
       "manufacturer_colour\n",
       "NaN                               6843\n",
       "Blanco                            1235\n",
       "Gris                               671\n",
       "Azul                               552\n",
       "Negro                              546\n",
       "                                  ... \n",
       "Colore esterno (snowflake whit       1\n",
       "Pompeigraumetallic                   1\n",
       "Cararragrau                          1\n",
       "ICE WHITE (wit metallic)             1\n",
       "Denim Blue metallic (blauw met       1\n",
       "Name: count, Length: 4964, dtype: int64"
      ]
     },
     "execution_count": 74,
     "metadata": {},
     "output_type": "execute_result"
    }
   ],
   "source": [
    "df['manufacturer_colour'].value_counts(dropna=False)"
   ]
  },
  {
   "cell_type": "code",
   "execution_count": 75,
   "id": "ef0d47a5-5f0c-4d51-8abb-f346d0eafa0d",
   "metadata": {},
   "outputs": [
    {
     "data": {
      "text/plain": [
       "manufacturer_colour\n",
       "NaN                              243\n",
       "BLANCO                            58\n",
       "Gris                              56\n",
       "BLANC                             49\n",
       "NOIR                              46\n",
       "                                ... \n",
       "ROSÉ GOLD                          1\n",
       "CELESTIAL BLUE                     1\n",
       "LACKIERUNG PLATINIUM-GRAU/TYP      1\n",
       "ESM BLEU VERTIGO METALLIS          1\n",
       "DENIM BLUE                         1\n",
       "Name: count, Length: 514, dtype: int64"
      ]
     },
     "execution_count": 75,
     "metadata": {},
     "output_type": "execute_result"
    }
   ],
   "source": [
    "df.loc[df['colour'].isna()][\"manufacturer_colour\"].value_counts(dropna=False)"
   ]
  },
  {
   "cell_type": "code",
   "execution_count": 76,
   "id": "e0e098c3-a04b-4702-9a1e-0c1f222fc080",
   "metadata": {},
   "outputs": [],
   "source": [
    "df[\"manufacturer_colour\"]=df[\"manufacturer_colour\"].str.lower()"
   ]
  },
  {
   "cell_type": "code",
   "execution_count": 77,
   "id": "68ecfe49-848a-4678-bd98-25a57cbfad72",
   "metadata": {},
   "outputs": [],
   "source": [
    "color_dict = {\n",
    "    \"Black\": [\"bianco gelato tetto nero\", \"black solid (stone) / solid\", \"black solid\", \"black stone\", \"black\", \"dark night\", \"exy - lack onyx schwarz\", \"karbonschw graphitschw midnigh\", \"lackierung schwarz perla nera/\", \"midnight black metalizado\", \"negro absolute\", \"negro agate\", \"negro azabache\", \"negro cinema (sólido)\", \"negro mtl\", \"negro obsidiana (metalizado)\", \"negro obsidiana\", \"negro onyx m. c717e\", \"negro rubí\", \"negro\", \"nero pastello\", \"nero\", \"noir (z11g)\", \"noir attitude\", \"noir cinema\", \"noir cosmos métallisé\", \"noir etoilé\", \"noir métal\", \"noir metallique\", \"noir nacré\", \"noir obscur\", \"noir onyx (o)\", \"noir onyx métallisé\", \"noir onyx\", \"noir perla nera (m)\", \"noir perla nera metallise\", \"noir perla nera\", \"noir perla\", \"noir\", \"noire perla nera\", \"noire perla\", \"noire\", \"obsidianschwarz\", \"onyx black / metallic\", \"onyx black\", \"onyx schwarz\", \"phantom black / met\", \"phantom black / mic\", \"phantom black métal\", \"preto\", \"scharz\", \"schwarz\", \"universo schwarz\", \"zwart\", \"zwarte\"],\n",
    "    \"Blue\": [\"aquamarin-blau\", \"arden blau (p2/so)\", \"azul báltico\", \"azul cavansita\", \"azul chrome\", \"azul denim metalizada\", \"azul denim metalizado\", \"azul denim\", \"azul espectral\", \"azul marino\", \"azul medianoche\", \"azul oscuro\", \"azul tormenta\", \"azul\", \"azzurro\", \"barents blue pearl\", \"blau metallic\", \"blau\", \"blauw metallic\", \"blauw\", \"bleu avatar\", \"bleu azurite\", \"bleu c\", \"bleu célèbes (m)\", \"bleu celebes\", \"bleu clair métal\", \"bleu cosmos\", \"bleu de france\", \"bleu de prusse bi-ton\", \"bleu denim métallisé\", \"bleu f\", \"bleu fonce\", \"bleu foncé\", \"bleu foudre\", \"bleu iron\", \"bleu magnetic\", \"bleu metal\", \"bleu navy\", \"bleu nuit\", \"bleu vertigo\", \"bleu\", \"blu italia metallizzato\", \"blu\", \"blue marin\", \"bursting blue / metallic\", \"celestial blue\", \"chroma-blau metallic\", \"colore esterno (blu suggestivo\", \"dark blue\", \"dark knight\", \"dark sapphire\", \"denim blue / metallic\", \"denim blue\", \"diamant blau(m2) / diam silb\", \"dolphinblau metallic\", \"esm bleu vertigo metallis\", \"faded denim (m)\", \"inc\", \"indigoblau (p2)\", \"intense blue\", \"juniperblue / mystikschwaz met\", \"lackierung magnetic-blau/metal\", \"magnetic blue metalizado\", \"magnetic blue\", \"morning blue / sol\", \"peinture bleu iron\", \"race-blau metallic\", \"race-blau\", \"splash cyan metallic\", \"stellar blue / met\", \"surfy blue\", \"teal blue / met\", \"tiefsee blau\", \"titanblau metallic\"],\n",
    "    \"Yellow\": [\"amarillo\", \"geel\", \"amg solarbeam\", \"ingnite flame\", \"jaune\", \"jaune faro\", \"luminous sand m.c719e\"],\n",
    "    \"Gray\": [\"aluminium-grau\", \"amazon gray\", \"amazon grey / met\", \"anthracite\", \"anthrazit\", \"antracite\", \"argent iridium métallisé\", \"argent iridium\", \"argent polaire\", \"blanc cristal\", \"dark knight / mic\", \"dark knight\", \"dark metal grey\", \"dark night (perlado)\", \"electric shadow / sol\", \"grafitgrau\", \"granate\", \"graphitgrau\", \"grau\", \"graumet.\", \"gray\", \"grigio platinum\", \"grigio\", \"grijs metallic\", \"grijs\", \"gris / plata\", \"gris acier\", \"gris anthracite\", \"gris argent\", \"gris argenté\", \"gris argile\", \"gris artense (m)\", \"gris artense\", \"gris atlas\", \"gris baltique\", \"gris c\", \"gris carbonizado\", \"gris cassiopée\", \"gris celestine\", \"gris ceramic\", \"gris ceramique\", \"gris clair metal\", \"gris clair métal\", \"gris clair\", \"gris claire\", \"gris clara\", \"gris colosseo (metalizado)\", \"gris comete metal\", \"gris comete\", \"gris comète\", \"gris f\", \"gris foncé métal\", \"gris fonce\", \"gris foncé\", \"gris gallium (m)\", \"gris gallium\", \"gris givré\", \"gris grafito metalizado\", \"gris grafito\", \"gris graphite\", \"gris haria\", \"gris highland\", \"gris hurricane\", \"gris lunaire métallisée\", \"gris lunaire\", \"gris maestro (metalizado)\", \"gris maestro\", \"gris magnetic\", \"gris magnético\", \"gris manhatan bi-ton toit noir\", \"gris metal\", \"gris mineral\", \"gris moda (metalizado)\", \"gris moda\", \"gris montagne magno manufaktur\", \"gris montagne métallisé\", \"gris montagne\", \"gris montaña met\", \"gris mtl\", \"gris oscuro\", \"gris osmium\", \"gris perle\", \"gris plata\", \"gris platine\", \"gris platinium\", \"gris pompei metalizado\", \"gris selenita magno\", \"gris selenita\", \"gris shades of grey\", \"gris squale (kadg)\", \"gris squale\", \"gris technic\", \"gris tenorita\", \"gris titanium\", \"gris urban\", \"gris-negro\", \"gris\", \"grisb fonce\", \"grise\", \"gun (m)\", \"gun metallic (m)\", \"gunmetal grey metalizado\", \"k23g-gris argent#gris graphite\", \"katana grey + midnight black m\", \"kometen grau met. kna\", \"kosmosschwarz\", \"kua - lackierung grau haria\", \"lack grau artense/typ aussenve\", \"lack grau hurricane/typ aussen\", \"lackierung aluminium-grau/meta\", \"lackierung platinium-grau/meta\", \"lackierung platinium-grau/typ\", \"licht grau\", \"magnetic grau\", \"matt grey\", \"micron grey / met\", \"midnight / metallic\", \"milano grigio\", \"moon rock\", \"night shade (m)\", \"night shade metallic\", \"night shade\", \"osmium grey / metallic\", \"pebble grey\", \"pine grey / metallic\", \"pine grey\", \"pintura metalizada - plat\", \"plat.anthr.\", \"plata aragonita metalizado\", \"plata hightech\", \"plata iridio metalizado\", \"platin anthrazhit metallic\", \"platinum silver metalizado\", \"quarz-grau metallic\", \"rosantracite met.\", \"schwarz metallic\", \"selenitgrau\", \"shadow grey\", \"silky grey\", \"skyline grey metalizado\", \"stahlgrau\", \"thunder grey m. c728e\", \"titan-grau\", \"zbdk-gris platine-met\", \"zu lackieren silver grey 1e7/m\"],\n",
    "    \"Red\": [\"bordeaux\", \"burgundy\", \"corrida-rot\", \"cuprite\", \"desire rot\", \"dragon red\", \"engine red\", \"fiery red\", \"hot magenta\", \"lava rot\", \"metro m2\", \"new rosso\", \"opera bordeaux metallic\", \"opera bordeaux\", \"org.rubinrot\", \"passion red metalizado\", \"peinture spéciale rouge jupite\", \"power red\", \"race-rot\", \"red met\", \"red\", \"reinrot\", \"rojo lucid\", \"rojo metalizado\", \"rojo passione\", \"rojo race\", \"rojo tokio\", \"rojo\", \"rot\", \"rot/metallic klarlack\", \"rot/weiß\", \"rouge candy\", \"rouge désir métal\", \"rouge désir\", \"rouge elixir\", \"rouge et noir\", \"rouge foncé\", \"rouge fusion\", \"rouge intense\", \"rouge kardio\", \"rouge métal\", \"rouge passion\", \"rouge passione pastel\", \"rouge passione\", \"rouge scarlet\", \"rouge ultimate\", \"rouge velvet\", \"rouge\", \"rubellitrot\", \"ruby rot\", \"sunset red\", \"very berry red met (171v)\", \"vibrant red (s)\", \"zu lackieren rot 3p0/deckende\"],\n",
    "    \"White\": [\"abalone white tri-4 (486b)\", \"arctic white\", \"atlas white\", \"biały\", \"bianco alabastro\", \"bianco gelato pastello\", \"bianco perla\", \"bianco\", \"blan lunaire\", \"blanc arktis\", \"blanc banquise\", \"blanc digital métallisé\", \"blanc gelato\", \"blanc glacier\", \"blanc lipizan\", \"blanc lunair\", \"blanc lunaire (qabg)\", \"blanc lunaire\", \"blanc métal\", \"blanc nacré (s)\", \"blanc nacre\", \"blanc nacré\", \"blanc nevada\", \"blanc opaque\", \"blanc perle\", \"blanc polaire\", \"blanc\", \"blanche\", \"blanco (sólido)\", \"blanco gelato (sólido)\", \"blanco gelato sólido\", \"blanco gelato\", \"blanco negro\", \"blanco oxford (sólida)\", \"blanco perlado\", \"blanco platinum (metalizada)\", \"blanco polar\", \"blanco\", \"business grau\", \"candy weis\", \"candy weiss\", \"candy-weiss\", \"casablanca/arctic/eis weiss\", \"diamantweiss - metalliclack\", \"frost-weiß\", \"frozen white\", \"glacier\", \"gletscherweiss\", \"ice white\", \"jade weiss/arktis weiss\", \"kwe blanc nacre\", \"lack weiss perlglänzend/metall\", \"lack weiss perlglänzend/typ au\", \"laser-weiss\", \"magnetic-tech\", \"manufaktur blanco diamant\", \"nevada wei\", \"niebieski\", \"perlmutt-weiss\", \"polar white / sol\", \"polar white\", \"polar white/phantom black\", \"polarweiß\", \"polarweiü\", \"pure white / sol\", \"sapporo white s?lido\", \"schneeweiß\", \"snow / metallic\", \"solid white s?lido\", \"weiss metallic\", \"weiß\", \"white\", \"wit\", \"x-blanco\"],\n",
    "    \"Silver\": [\"aluminium silb/kristall silb\", \"argent silber\", \"argent\", \"argentato\", \"bright silver / metallic\", \"coloris métal tech house grey\", \"grigio underground (vr-695/a)\", \"gris aluminium\", \"gun-metallic\", \"magnetic metallic\", \"magnetic tech\", \"magnetic\", \"metalstream metallic\", \"plata iridio\", \"plata metalizado\", \"plata\", \"plateado\", \"platin-grau\", \"platinsilber metallic\", \"platinsilber\", \"platinum silver\", \"silber\", \"sleek silver\", \"sleek silver/toit noir\", \"switchblade silver met (g)\", \"titansilber mica metallic\", \"whtie metallic\", \"zilver metallic\", \"zilver\"],\n",
    "    \"Green\": [\"bambusgruen\", \"dark camouflage metallic\", \"fresh mint\", \"green\", \"groen\", \"grün\", \"kiwi-grün\", \"smaragd gruen (mi)\", \"smaragd gruen\", \"verde oscuro\", \"verde\", \"vert clair\", \"vert f\", \"vert fonce\", \"vert olivine\", \"vert\"],\n",
    "    \"Brown\": [\"adventure braun\", \"braun\", \"bruin\", \"brun ebène\", \"brun vison\", \"cafe (metallic)\", \"chocolat\", \"granate\", \"guaranja braun metallic\", \"lack terre d ombre/metallic-la\", \"mahogany brown (p2/so)\", \"maple brown / metallic\", \"marron metal\", \"marron\", \"marrón\", \"tan brown mica\"],\n",
    "    \"Orange\": [\"mandarin orange (mica)\", \"naranja cuántico (metalizado)\", \"naranja\", \"orange arizon\", \"orange arizona\", \"orange atacama\", \"orange fusion\", \"orange power\", \"orange sicilia pastel extra-sé\", \"orange\", \"oranje\"],\n",
    "    \"Purple\": [\"bohemelila metallic\", \"dunkel amethyst metallic / da\", \"mauve\", \"nordlichtviolett - metalliclac\", \"morado\", \"paars\"],\n",
    "    \"Pink\": [\"rosa\", \"roze\", \"colore esterno (rosso passione\", \"rosa\", \"rose gold\", \"rosso seduzione tetto nero\", \"rosso\", \"roz\"],\n",
    "    \"Beige\": [\"beige\", \"beige / negro\", \"beige cappuccino pastel\", \"beige ceniza (metalizado)\", \"beige dune\", \"beige métal\", \"creme metallic\", \"ivoire\", \"ivoire tri-couche\", \"ivory\", \"mativoire\", \"pannacotta\", \"pannacotta m2\", \"shiny rock met\"],\n",
    "    \"Gold\": [\"goud\", \"oro\", \"rose gold (metalizado)\", \"rosé gold\", \"warmgold metallic / schw. dach\"],\n",
    "    \"Bronze\": [\"bronze\", \"colore esterno (bronzo bronzin\", \"metallic copper\", \"platinumbronze\", \"silky bronze\", \"bronce\"],\n",
    "    \"Other\": [\"1k0\", \"automatico\", \"be style parigi\", \"bi-tono ambar\", \"camara\", \"inconnu\", \"kodiaq 2.0 tdi 110kw 150cv dsg\", \"llanta 20\", \"other\", \"otro\", \"otros\", \"solid / solid\", \"tourmaline\", \"vari colori\", \"varios\"],\n",
    "}"
   ]
  },
  {
   "cell_type": "code",
   "execution_count": 78,
   "id": "c7781806-f6ed-425e-b2a4-de8c93380e42",
   "metadata": {},
   "outputs": [],
   "source": [
    "for value in df.loc[df['colour'].isna(), \"manufacturer_colour\"]:\n",
    "  \n",
    "    if value in [color for colors in color_dict.values() for color in colors]:\n",
    "        for key, colors in color_dict.items():\n",
    "            if value in colors:\n",
    "                df.loc[df['manufacturer_colour'] == value, 'colour'] = key\n",
    "                break"
   ]
  },
  {
   "cell_type": "code",
   "execution_count": 79,
   "id": "8be006ea-4f69-4f30-b12f-c328308db694",
   "metadata": {},
   "outputs": [
    {
     "data": {
      "text/plain": [
       "colour\n",
       "Black     6727\n",
       "White     5545\n",
       "Grey      4932\n",
       "Blue      3673\n",
       "Red       2272\n",
       "Silver    1690\n",
       "Gray      1410\n",
       "Brown      496\n",
       "Green      465\n",
       "Beige      305\n",
       "Orange     303\n",
       "NaN        254\n",
       "Yellow     234\n",
       "Violet      83\n",
       "Pink        80\n",
       "Bronze      73\n",
       "Gold        61\n",
       "Other       24\n",
       "Purple       3\n",
       "Name: count, dtype: int64"
      ]
     },
     "execution_count": 79,
     "metadata": {},
     "output_type": "execute_result"
    }
   ],
   "source": [
    "df['colour'].value_counts(dropna=False)"
   ]
  },
  {
   "cell_type": "code",
   "execution_count": 80,
   "id": "a2a457db-1046-4f05-a1b5-c4f4b077fe13",
   "metadata": {},
   "outputs": [
    {
     "data": {
      "text/plain": [
       "254"
      ]
     },
     "execution_count": 80,
     "metadata": {},
     "output_type": "execute_result"
    }
   ],
   "source": [
    "df['colour'].isna().sum()"
   ]
  },
  {
   "cell_type": "code",
   "execution_count": 81,
   "id": "25f2a9ef-2479-4ff5-a180-2fc444c09518",
   "metadata": {},
   "outputs": [],
   "source": [
    "df['colour'] = df.groupby(['manufacturer_colour', 'paint'])['colour'].fillna(method='bfill').fillna(method='ffill')"
   ]
  },
  {
   "cell_type": "code",
   "execution_count": 82,
   "id": "a2932bff-d61b-4514-a58f-0ab45d607f6f",
   "metadata": {},
   "outputs": [
    {
     "data": {
      "text/plain": [
       "1"
      ]
     },
     "execution_count": 82,
     "metadata": {},
     "output_type": "execute_result"
    }
   ],
   "source": [
    "df['colour'].isna().sum()"
   ]
  },
  {
   "cell_type": "code",
   "execution_count": 83,
   "id": "195920b1-ccac-4c16-864c-8dd99fa57428",
   "metadata": {},
   "outputs": [],
   "source": [
    "df['colour'] = df.groupby(['paint'])['colour'].fillna(method='bfill').fillna(method='ffill')"
   ]
  },
  {
   "cell_type": "code",
   "execution_count": 84,
   "id": "4fda836e-0a76-4a4a-aaef-50b19ad45135",
   "metadata": {},
   "outputs": [
    {
     "data": {
      "text/plain": [
       "0"
      ]
     },
     "execution_count": 84,
     "metadata": {},
     "output_type": "execute_result"
    }
   ],
   "source": [
    "df['colour'].isna().sum()"
   ]
  },
  {
   "cell_type": "code",
   "execution_count": 85,
   "id": "d6f09188-fe66-456b-930a-dceb3c66264a",
   "metadata": {},
   "outputs": [],
   "source": [
    "df['colour']=df['colour'].astype('string')"
   ]
  },
  {
   "cell_type": "code",
   "execution_count": 86,
   "id": "62b53730-b9d0-4519-a3dd-ba6a5a5b3d7f",
   "metadata": {},
   "outputs": [],
   "source": [
    "df['colour']=df['colour'].apply(lambda x: 'Black' if x=='Black' else 'White' if x== 'White'\n",
    "                                  else 'Grey' if x in ['Grey', 'Gray']  else 'Others')"
   ]
  },
  {
   "cell_type": "code",
   "execution_count": 87,
   "id": "26efe1cb-b33f-43cc-a2b0-fb33434db7dc",
   "metadata": {},
   "outputs": [
    {
     "data": {
      "text/plain": [
       "colour\n",
       "Others    9348\n",
       "Black     6940\n",
       "Grey      6650\n",
       "White     5692\n",
       "Name: count, dtype: int64"
      ]
     },
     "execution_count": 87,
     "metadata": {},
     "output_type": "execute_result"
    }
   ],
   "source": [
    "df['colour'].value_counts(dropna=False)"
   ]
  },
  {
   "cell_type": "markdown",
   "id": "d9ff2288-f1b2-4267-8be2-3719abf602ee",
   "metadata": {},
   "source": [
    "# Seller"
   ]
  },
  {
   "cell_type": "code",
   "execution_count": 88,
   "id": "dac35964-ba80-4b94-ad05-fbcf05a71ab3",
   "metadata": {},
   "outputs": [
    {
     "data": {
      "text/plain": [
       "seller\n",
       "Dealer            26318\n",
       "Private seller     2312\n",
       "Name: count, dtype: int64"
      ]
     },
     "execution_count": 88,
     "metadata": {},
     "output_type": "execute_result"
    }
   ],
   "source": [
    "df['seller'].value_counts(dropna=False)"
   ]
  },
  {
   "cell_type": "code",
   "execution_count": 89,
   "id": "bd6f0157-a141-4f67-b709-69d77419ba37",
   "metadata": {},
   "outputs": [
    {
     "name": "stdout",
     "output_type": "stream",
     "text": [
      "<class 'pandas.core.series.Series'>\n",
      "RangeIndex: 28630 entries, 0 to 28629\n",
      "Series name: seller\n",
      "Non-Null Count  Dtype \n",
      "--------------  ----- \n",
      "28630 non-null  object\n",
      "dtypes: object(1)\n",
      "memory usage: 223.8+ KB\n"
     ]
    }
   ],
   "source": [
    "df['seller'].info()"
   ]
  },
  {
   "cell_type": "code",
   "execution_count": 90,
   "id": "45cd73e4-6801-4c29-a5ba-cfc1131a2a7a",
   "metadata": {},
   "outputs": [],
   "source": [
    "df['seller']=df['seller'].astype('string')"
   ]
  },
  {
   "cell_type": "markdown",
   "id": "e199e90f-0852-4df9-9ebe-706a0ac7b6db",
   "metadata": {},
   "source": [
    "# Seats"
   ]
  },
  {
   "cell_type": "code",
   "execution_count": 91,
   "id": "af6230cc-4a0e-4586-bd70-8022391c00c5",
   "metadata": {},
   "outputs": [
    {
     "data": {
      "text/plain": [
       "seats\n",
       "5.00     18308\n",
       "4.00      5390\n",
       "NaN       3125\n",
       "2.00      1186\n",
       "7.00       488\n",
       "8.00        43\n",
       "9.00        35\n",
       "3.00        25\n",
       "6.00        12\n",
       "0.00         9\n",
       "1.00         7\n",
       "17.00        2\n",
       "Name: count, dtype: int64"
      ]
     },
     "execution_count": 91,
     "metadata": {},
     "output_type": "execute_result"
    }
   ],
   "source": [
    "df['seats'].value_counts(dropna=False)"
   ]
  },
  {
   "cell_type": "code",
   "execution_count": 92,
   "id": "1cff6a2f-7689-4705-84d6-b4ca0837139e",
   "metadata": {},
   "outputs": [
    {
     "data": {
      "text/plain": [
       "make_model         body_type       \n",
       "Nissan Qashqai     Sedan               158\n",
       "Dacia Sandero      Sedan               135\n",
       "Ford Mustang       Coupe               111\n",
       "Fiat 500L          Station wagon        60\n",
       "Fiat 500X          Off-Road/Pick-up     58\n",
       "                                      ... \n",
       "Opel GT            Coupe                 1\n",
       "Opel Crossland X   Sedan                 1\n",
       "Mercedes-Benz 260  Sedan                 1\n",
       "Opel Corsa-e       Compact               1\n",
       "Dacia Break        Station wagon         1\n",
       "Name: count, Length: 560, dtype: int64"
      ]
     },
     "execution_count": 92,
     "metadata": {},
     "output_type": "execute_result"
    }
   ],
   "source": [
    "df.loc[df[\"seats\"].isna()][[\"make_model\", \"body_type\"]].value_counts(dropna=False)"
   ]
  },
  {
   "cell_type": "code",
   "execution_count": 93,
   "id": "78b61e3e-4083-455b-8050-0576cf982373",
   "metadata": {},
   "outputs": [
    {
     "data": {
      "text/plain": [
       "make_model    body_type       \n",
       "Dacia         Compact                   5.00\n",
       "              Sedan                     5.00\n",
       "              Station wagon             7.00\n",
       "Dacia Break   Station wagon               []\n",
       "Dacia Dokker  Compact                     []\n",
       "                                     ...    \n",
       "Volvo XC70    Station wagon             5.00\n",
       "Volvo XC90    Coupe                     7.00\n",
       "              Off-Road/Pick-up          7.00\n",
       "              Sedan                       []\n",
       "              Station wagon       [5.0, 7.0]\n",
       "Name: seats, Length: 1257, dtype: object"
      ]
     },
     "execution_count": 93,
     "metadata": {},
     "output_type": "execute_result"
    }
   ],
   "source": [
    "df.groupby([\"make_model\", \"body_type\"])[\"seats\"].agg(pd.Series.mode)"
   ]
  },
  {
   "cell_type": "code",
   "execution_count": 94,
   "id": "d01e6882-55d3-42f9-bcb8-8a01d8faae1a",
   "metadata": {},
   "outputs": [],
   "source": [
    "df[\"seats\"] = df.groupby(['make_model', 'body_type'], group_keys = False)['seats'].transform(lambda x: x.fillna(x.mode()[0]) if len(x.mode()) > 0 else x)"
   ]
  },
  {
   "cell_type": "code",
   "execution_count": 95,
   "id": "c2be24f4-13d1-48ce-adc7-682fd625489f",
   "metadata": {},
   "outputs": [
    {
     "data": {
      "text/plain": [
       "seats\n",
       "5.00     20561\n",
       "4.00      5957\n",
       "2.00      1261\n",
       "7.00       535\n",
       "NaN        182\n",
       "8.00        44\n",
       "9.00        35\n",
       "3.00        25\n",
       "6.00        12\n",
       "0.00         9\n",
       "1.00         7\n",
       "17.00        2\n",
       "Name: count, dtype: int64"
      ]
     },
     "execution_count": 95,
     "metadata": {},
     "output_type": "execute_result"
    }
   ],
   "source": [
    "df['seats'].value_counts(dropna=False)"
   ]
  },
  {
   "cell_type": "code",
   "execution_count": 96,
   "id": "fc0a46cb-c88e-4151-a6ad-a80925a52bfc",
   "metadata": {},
   "outputs": [],
   "source": [
    "df['seats']=df.groupby(['make_model'], group_keys = False)['seats'].transform(lambda x: x.fillna(x.mode()[0]) if len(x.mode()) > 0 else x)"
   ]
  },
  {
   "cell_type": "code",
   "execution_count": 97,
   "id": "47b61732-abee-4d47-8531-d3f05cde02cd",
   "metadata": {},
   "outputs": [
    {
     "data": {
      "text/plain": [
       "seats\n",
       "5.00     20682\n",
       "4.00      5968\n",
       "2.00      1265\n",
       "7.00       541\n",
       "8.00        44\n",
       "NaN         39\n",
       "9.00        35\n",
       "3.00        26\n",
       "6.00        12\n",
       "0.00         9\n",
       "1.00         7\n",
       "17.00        2\n",
       "Name: count, dtype: int64"
      ]
     },
     "execution_count": 97,
     "metadata": {},
     "output_type": "execute_result"
    }
   ],
   "source": [
    "df['seats'].value_counts(dropna=False)"
   ]
  },
  {
   "cell_type": "code",
   "execution_count": 98,
   "id": "557e9220-3021-4c67-bc15-5d5e6fc0bd37",
   "metadata": {},
   "outputs": [],
   "source": [
    "df['seats']=df.groupby(['body_type'], group_keys = False)['seats'].transform(lambda x: x.fillna(x.mode()[0]) if len(x.mode()) > 0 else x)"
   ]
  },
  {
   "cell_type": "code",
   "execution_count": 99,
   "id": "b21559d4-81bd-4ac0-9608-b19400d7e819",
   "metadata": {},
   "outputs": [
    {
     "data": {
      "text/plain": [
       "seats\n",
       "5.00     20706\n",
       "4.00      5983\n",
       "2.00      1265\n",
       "7.00       541\n",
       "8.00        44\n",
       "9.00        35\n",
       "3.00        26\n",
       "6.00        12\n",
       "0.00         9\n",
       "1.00         7\n",
       "17.00        2\n",
       "Name: count, dtype: int64"
      ]
     },
     "execution_count": 99,
     "metadata": {},
     "output_type": "execute_result"
    }
   ],
   "source": [
    "df['seats'].value_counts(dropna=False)"
   ]
  },
  {
   "cell_type": "code",
   "execution_count": 100,
   "id": "925ca0c6-5810-4ff2-ae08-a39bd34b753a",
   "metadata": {},
   "outputs": [],
   "source": [
    "df['seats']=df['seats'].astype('int')"
   ]
  },
  {
   "cell_type": "markdown",
   "id": "6d30a9b4-1468-4af1-aca4-b6057714c880",
   "metadata": {},
   "source": [
    "# Engine Size"
   ]
  },
  {
   "cell_type": "code",
   "execution_count": 101,
   "id": "899e8304-521f-4594-9859-86950eb92643",
   "metadata": {},
   "outputs": [
    {
     "data": {
      "text/plain": [
       "engine_size\n",
       "1598.00    2099\n",
       "999.00     2068\n",
       "1969.00    1929\n",
       "NaN        1403\n",
       "1461.00    1110\n",
       "           ... \n",
       "2753.00       1\n",
       "2495.00       1\n",
       "200.00        1\n",
       "3224.00       1\n",
       "2473.00       1\n",
       "Name: count, Length: 468, dtype: int64"
      ]
     },
     "execution_count": 101,
     "metadata": {},
     "output_type": "execute_result"
    }
   ],
   "source": [
    "df['engine_size'].value_counts(dropna=False)"
   ]
  },
  {
   "cell_type": "code",
   "execution_count": 102,
   "id": "66d38c2d-d427-48df-8130-12723608c6b9",
   "metadata": {},
   "outputs": [
    {
     "data": {
      "text/plain": [
       "make_model    body_type         fuel_type  engine_size\n",
       "Dacia         Compact           benzine    0.00           1\n",
       "              Sedan             benzine    1289.00        1\n",
       "              Station wagon     benzine    999.00         1\n",
       "Dacia Dokker  Compact           diesel     1461.00        1\n",
       "              Off-Road/Pick-up  LPG        1598.00        1\n",
       "                                                         ..\n",
       "Volvo XC90    Off-Road/Pick-up  diesel     2401.00        4\n",
       "                                           2.00           2\n",
       "                                electric   1969.00        2\n",
       "              Sedan             diesel     1969.00        2\n",
       "              Station wagon     diesel     1969.00        4\n",
       "Name: count, Length: 3810, dtype: int64"
      ]
     },
     "execution_count": 102,
     "metadata": {},
     "output_type": "execute_result"
    }
   ],
   "source": [
    "df.groupby(['make_model', 'body_type', 'fuel_type'])['engine_size'].value_counts()"
   ]
  },
  {
   "cell_type": "code",
   "execution_count": 103,
   "id": "7eccf11c-7fa4-41a6-b5be-7ccebd5afd4e",
   "metadata": {},
   "outputs": [],
   "source": [
    "df[\"engine_size\"] = df.groupby([\"make_model\", \"body_type\", \"fuel_type\"])[\"engine_size\"].transform(lambda x: x.fillna(x.median()) if len(x.mode()) > 0 else x)"
   ]
  },
  {
   "cell_type": "code",
   "execution_count": 104,
   "id": "a5019b06-7ea3-45e6-9170-3de68696a7b5",
   "metadata": {},
   "outputs": [
    {
     "data": {
      "text/plain": [
       "engine_size\n",
       "1598.00    2175\n",
       "999.00     2144\n",
       "1969.00    1947\n",
       "1461.00    1148\n",
       "1998.00    1029\n",
       "           ... \n",
       "2441.00       1\n",
       "2991.00       1\n",
       "2980.00       1\n",
       "2464.00       1\n",
       "2473.00       1\n",
       "Name: count, Length: 495, dtype: int64"
      ]
     },
     "execution_count": 104,
     "metadata": {},
     "output_type": "execute_result"
    }
   ],
   "source": [
    "df['engine_size'].value_counts(dropna=False)"
   ]
  },
  {
   "cell_type": "code",
   "execution_count": 105,
   "id": "37ce21fc-5db1-4a2c-b44a-e1a408d883ac",
   "metadata": {},
   "outputs": [
    {
     "data": {
      "text/plain": [
       "365"
      ]
     },
     "execution_count": 105,
     "metadata": {},
     "output_type": "execute_result"
    }
   ],
   "source": [
    "df['engine_size'].isna().sum()"
   ]
  },
  {
   "cell_type": "code",
   "execution_count": 106,
   "id": "35664a38-9e1a-423c-9a21-0cd893529bca",
   "metadata": {},
   "outputs": [],
   "source": [
    "df[\"engine_size\"] = df.groupby([\"make_model\", \"body_type\"])[\"engine_size\"].transform(lambda x: x.fillna(x.median()) if len(x.mode()) > 0 else x)"
   ]
  },
  {
   "cell_type": "code",
   "execution_count": 107,
   "id": "ac11b851-738d-4026-948c-b25e5d4d6329",
   "metadata": {},
   "outputs": [
    {
     "data": {
      "text/plain": [
       "212"
      ]
     },
     "execution_count": 107,
     "metadata": {},
     "output_type": "execute_result"
    }
   ],
   "source": [
    "df['engine_size'].isna().sum()"
   ]
  },
  {
   "cell_type": "code",
   "execution_count": 108,
   "id": "f1134b33-fcf1-47bc-b18c-362fc698cdaf",
   "metadata": {},
   "outputs": [],
   "source": [
    "df[\"engine_size\"] = df.groupby([\"make_model\"])[\"engine_size\"].transform(lambda x: x.fillna(x.median()) if len(x.mode()) > 0 else x)"
   ]
  },
  {
   "cell_type": "code",
   "execution_count": 109,
   "id": "ec8c7a6a-b076-45c2-8bea-36e2fcb95f39",
   "metadata": {},
   "outputs": [
    {
     "data": {
      "text/plain": [
       "80"
      ]
     },
     "execution_count": 109,
     "metadata": {},
     "output_type": "execute_result"
    }
   ],
   "source": [
    "df['engine_size'].isna().sum()"
   ]
  },
  {
   "cell_type": "code",
   "execution_count": 110,
   "id": "fc9b1e9c-9a25-4d1e-9461-2d151bbb81a2",
   "metadata": {},
   "outputs": [
    {
     "data": {
      "text/plain": [
       "count   28550.00\n",
       "mean     1746.83\n",
       "std      1048.17\n",
       "min         0.00\n",
       "25%      1329.00\n",
       "50%      1598.00\n",
       "75%      1984.00\n",
       "max     99900.00\n",
       "Name: engine_size, dtype: float64"
      ]
     },
     "execution_count": 110,
     "metadata": {},
     "output_type": "execute_result"
    }
   ],
   "source": [
    "df[\"engine_size\"].describe().T"
   ]
  },
  {
   "cell_type": "code",
   "execution_count": 111,
   "id": "122e45b5-8343-45ff-a74f-2365dda48be0",
   "metadata": {},
   "outputs": [],
   "source": [
    "df[\"engine_size\"].fillna(df[\"engine_size\"].median(), inplace=True)"
   ]
  },
  {
   "cell_type": "code",
   "execution_count": 112,
   "id": "71187332-f2bc-4742-97a2-7fb1a980ad03",
   "metadata": {},
   "outputs": [
    {
     "data": {
      "text/plain": [
       "0"
      ]
     },
     "execution_count": 112,
     "metadata": {},
     "output_type": "execute_result"
    }
   ],
   "source": [
    "df['engine_size'].isna().sum()"
   ]
  },
  {
   "cell_type": "code",
   "execution_count": 113,
   "id": "c6cba20e-2f0b-425b-b314-77977e726cb1",
   "metadata": {},
   "outputs": [
    {
     "data": {
      "text/plain": [
       "dtype('float64')"
      ]
     },
     "execution_count": 113,
     "metadata": {},
     "output_type": "execute_result"
    }
   ],
   "source": [
    "df[\"engine_size\"].dtype"
   ]
  },
  {
   "cell_type": "code",
   "execution_count": 114,
   "id": "b665e4f6-bf95-4b01-a818-41a89c4c5b03",
   "metadata": {},
   "outputs": [],
   "source": [
    "df[\"engine_size\"]=df[\"engine_size\"].astype('int')"
   ]
  },
  {
   "cell_type": "markdown",
   "id": "3d734ec4-bd18-4ab1-8158-b62177666dd7",
   "metadata": {},
   "source": [
    "# Power"
   ]
  },
  {
   "cell_type": "code",
   "execution_count": 115,
   "id": "62bfcf25-b975-4dad-a325-13e3ace7302b",
   "metadata": {},
   "outputs": [
    {
     "data": {
      "text/plain": [
       "power\n",
       "110.00    1992\n",
       "96.00     1356\n",
       "88.00     1182\n",
       "81.00     1166\n",
       "66.00     1110\n",
       "          ... \n",
       "746.00       1\n",
       "570.00       1\n",
       "471.00       1\n",
       "179.00       1\n",
       "26.00        1\n",
       "Name: count, Length: 352, dtype: int64"
      ]
     },
     "execution_count": 115,
     "metadata": {},
     "output_type": "execute_result"
    }
   ],
   "source": [
    "df['power'].value_counts(dropna=False)"
   ]
  },
  {
   "cell_type": "code",
   "execution_count": 116,
   "id": "6eda911c-0f21-4d13-b20a-5301f7f02b45",
   "metadata": {},
   "outputs": [
    {
     "data": {
      "text/plain": [
       "572"
      ]
     },
     "execution_count": 116,
     "metadata": {},
     "output_type": "execute_result"
    }
   ],
   "source": [
    "df['power'].isna().sum()"
   ]
  },
  {
   "cell_type": "code",
   "execution_count": 117,
   "id": "ce6f925a-0f7c-425d-abd8-c261cfdecaad",
   "metadata": {},
   "outputs": [
    {
     "data": {
      "text/plain": [
       "power\n",
       "110.00    1899\n",
       "88.00     1407\n",
       "96.00     1388\n",
       "81.00     1311\n",
       "66.00     1120\n",
       "          ... \n",
       "34.00        1\n",
       "570.00       1\n",
       "294.00       1\n",
       "238.00       1\n",
       "15.00        1\n",
       "Name: count, Length: 376, dtype: int64"
      ]
     },
     "execution_count": 117,
     "metadata": {},
     "output_type": "execute_result"
    }
   ],
   "source": [
    "df[\"power\"] = df.groupby([\"make_model\", \"body_type\",\"engine_size\"])[\"power\"].transform(lambda x : x.median())\n",
    "df[\"power\"].value_counts(dropna=False)"
   ]
  },
  {
   "cell_type": "code",
   "execution_count": 118,
   "id": "eddc132d-039b-4482-b0b1-98861517f1ea",
   "metadata": {},
   "outputs": [
    {
     "data": {
      "text/plain": [
       "48"
      ]
     },
     "execution_count": 118,
     "metadata": {},
     "output_type": "execute_result"
    }
   ],
   "source": [
    "df['power'].isna().sum()"
   ]
  },
  {
   "cell_type": "code",
   "execution_count": 119,
   "id": "4106c5b6-7b9f-4c8e-b765-a6d57af44044",
   "metadata": {},
   "outputs": [
    {
     "data": {
      "text/plain": [
       "count   28582.00\n",
       "mean      117.71\n",
       "std        64.39\n",
       "min         1.00\n",
       "25%        81.00\n",
       "50%       100.00\n",
       "75%       135.00\n",
       "max       588.00\n",
       "Name: power, dtype: float64"
      ]
     },
     "execution_count": 119,
     "metadata": {},
     "output_type": "execute_result"
    }
   ],
   "source": [
    "df['power'].describe().T"
   ]
  },
  {
   "cell_type": "code",
   "execution_count": 120,
   "id": "73272f6c-d672-412e-961c-13858050a850",
   "metadata": {},
   "outputs": [],
   "source": [
    "df[\"power\"] = df.groupby([\"make_model\",\"engine_size\"])[\"power\"].transform(lambda x : x.median())"
   ]
  },
  {
   "cell_type": "code",
   "execution_count": 121,
   "id": "2663c75b-1936-4be0-be98-0ec112556bdf",
   "metadata": {},
   "outputs": [
    {
     "data": {
      "text/plain": [
       "34"
      ]
     },
     "execution_count": 121,
     "metadata": {},
     "output_type": "execute_result"
    }
   ],
   "source": [
    "df['power'].isna().sum()"
   ]
  },
  {
   "cell_type": "code",
   "execution_count": 122,
   "id": "0f211d9e-02fe-4812-af2c-1fa189ebcee1",
   "metadata": {},
   "outputs": [],
   "source": [
    "df[\"power\"] = df.groupby([\"engine_size\"])[\"power\"].transform(lambda x : x.median())"
   ]
  },
  {
   "cell_type": "code",
   "execution_count": 123,
   "id": "a6443df2-d202-4ea3-9d6b-876718d8eaf3",
   "metadata": {},
   "outputs": [
    {
     "data": {
      "text/plain": [
       "11"
      ]
     },
     "execution_count": 123,
     "metadata": {},
     "output_type": "execute_result"
    }
   ],
   "source": [
    "df['power'].isna().sum()"
   ]
  },
  {
   "cell_type": "code",
   "execution_count": 124,
   "id": "d30385ff-69ee-4bd0-a20e-2bf79e944662",
   "metadata": {},
   "outputs": [],
   "source": [
    "df[\"power\"].fillna(df[\"power\"].median(), inplace=True)"
   ]
  },
  {
   "cell_type": "code",
   "execution_count": 125,
   "id": "8bc4b417-c3b4-402a-9a5b-ea2652ccb622",
   "metadata": {},
   "outputs": [
    {
     "data": {
      "text/plain": [
       "0"
      ]
     },
     "execution_count": 125,
     "metadata": {},
     "output_type": "execute_result"
    }
   ],
   "source": [
    "df['power'].isna().sum()"
   ]
  },
  {
   "cell_type": "code",
   "execution_count": 126,
   "id": "8fa29983-21c8-44e6-8838-cbc256a4ecfc",
   "metadata": {},
   "outputs": [
    {
     "data": {
      "text/plain": [
       "dtype('float64')"
      ]
     },
     "execution_count": 126,
     "metadata": {},
     "output_type": "execute_result"
    }
   ],
   "source": [
    "df['power'].dtype"
   ]
  },
  {
   "cell_type": "code",
   "execution_count": 127,
   "id": "dc3b0844-eb8b-4d11-bf9e-a7efbce0b5be",
   "metadata": {},
   "outputs": [],
   "source": [
    "df['power']=df['power'].astype('int')"
   ]
  },
  {
   "cell_type": "markdown",
   "id": "52b2d6aa-559f-4bb8-900e-905b0728e94a",
   "metadata": {},
   "source": [
    "# Gears"
   ]
  },
  {
   "cell_type": "code",
   "execution_count": 128,
   "id": "d54b4c0a-f21b-4a67-98fb-b14e2582ef96",
   "metadata": {},
   "outputs": [
    {
     "data": {
      "text/plain": [
       "gears\n",
       "NaN      9676\n",
       "6.00     8412\n",
       "5.00     5335\n",
       "7.00     1738\n",
       "8.00     1690\n",
       "1.00      712\n",
       "9.00      642\n",
       "4.00      256\n",
       "10.00     112\n",
       "0.00       31\n",
       "3.00       24\n",
       "2.00        2\n",
       "Name: count, dtype: int64"
      ]
     },
     "execution_count": 128,
     "metadata": {},
     "output_type": "execute_result"
    }
   ],
   "source": [
    "df[\"gears\"].value_counts(dropna=False)  # drop at the end "
   ]
  },
  {
   "cell_type": "code",
   "execution_count": 129,
   "id": "e174db6c-1e96-432e-ba05-2842a8a9c7d1",
   "metadata": {},
   "outputs": [
    {
     "data": {
      "text/html": [
       "<div>\n",
       "<style scoped>\n",
       "    .dataframe tbody tr th:only-of-type {\n",
       "        vertical-align: middle;\n",
       "    }\n",
       "\n",
       "    .dataframe tbody tr th {\n",
       "        vertical-align: top;\n",
       "    }\n",
       "\n",
       "    .dataframe thead tr th {\n",
       "        text-align: left;\n",
       "    }\n",
       "</style>\n",
       "<table border=\"1\" class=\"dataframe\">\n",
       "  <thead>\n",
       "    <tr>\n",
       "      <th>make_model</th>\n",
       "      <th colspan=\"2\" halign=\"left\">Dacia</th>\n",
       "      <th>Dacia Break</th>\n",
       "      <th>Dacia Dokker</th>\n",
       "      <th colspan=\"2\" halign=\"left\">Dacia Duster</th>\n",
       "      <th>Dacia Jogger</th>\n",
       "      <th>Dacia Lodgy</th>\n",
       "      <th colspan=\"2\" halign=\"left\">Dacia Logan</th>\n",
       "      <th>...</th>\n",
       "      <th>Volvo V90 Cross Country</th>\n",
       "      <th colspan=\"2\" halign=\"left\">Volvo XC40</th>\n",
       "      <th colspan=\"2\" halign=\"left\">Volvo XC60</th>\n",
       "      <th colspan=\"2\" halign=\"left\">Volvo XC70</th>\n",
       "      <th colspan=\"3\" halign=\"left\">Volvo XC90</th>\n",
       "    </tr>\n",
       "    <tr>\n",
       "      <th>gearbox</th>\n",
       "      <th>Automatic</th>\n",
       "      <th>Manual</th>\n",
       "      <th>Manual</th>\n",
       "      <th>Manual</th>\n",
       "      <th>Automatic</th>\n",
       "      <th>Manual</th>\n",
       "      <th>Manual</th>\n",
       "      <th>Manual</th>\n",
       "      <th>Automatic</th>\n",
       "      <th>Manual</th>\n",
       "      <th>...</th>\n",
       "      <th>Automatic</th>\n",
       "      <th>Automatic</th>\n",
       "      <th>Manual</th>\n",
       "      <th>Automatic</th>\n",
       "      <th>Manual</th>\n",
       "      <th>Automatic</th>\n",
       "      <th>Manual</th>\n",
       "      <th>Automatic</th>\n",
       "      <th>Manual</th>\n",
       "      <th>Semi-automatic</th>\n",
       "    </tr>\n",
       "  </thead>\n",
       "  <tbody>\n",
       "    <tr>\n",
       "      <th>mode</th>\n",
       "      <td>1.00</td>\n",
       "      <td>4.00</td>\n",
       "      <td>[]</td>\n",
       "      <td>5.00</td>\n",
       "      <td>6.00</td>\n",
       "      <td>6.00</td>\n",
       "      <td>6.00</td>\n",
       "      <td>6.00</td>\n",
       "      <td>5.00</td>\n",
       "      <td>5.00</td>\n",
       "      <td>...</td>\n",
       "      <td>8.00</td>\n",
       "      <td>8.00</td>\n",
       "      <td>6.00</td>\n",
       "      <td>8.00</td>\n",
       "      <td>6.00</td>\n",
       "      <td>6.00</td>\n",
       "      <td>6.00</td>\n",
       "      <td>8.00</td>\n",
       "      <td>6.00</td>\n",
       "      <td>8.00</td>\n",
       "    </tr>\n",
       "    <tr>\n",
       "      <th>median</th>\n",
       "      <td>1.00</td>\n",
       "      <td>4.00</td>\n",
       "      <td>NaN</td>\n",
       "      <td>5.00</td>\n",
       "      <td>6.00</td>\n",
       "      <td>6.00</td>\n",
       "      <td>6.00</td>\n",
       "      <td>6.00</td>\n",
       "      <td>5.00</td>\n",
       "      <td>5.00</td>\n",
       "      <td>...</td>\n",
       "      <td>8.00</td>\n",
       "      <td>8.00</td>\n",
       "      <td>6.00</td>\n",
       "      <td>8.00</td>\n",
       "      <td>6.00</td>\n",
       "      <td>6.00</td>\n",
       "      <td>6.00</td>\n",
       "      <td>8.00</td>\n",
       "      <td>6.00</td>\n",
       "      <td>8.00</td>\n",
       "    </tr>\n",
       "  </tbody>\n",
       "</table>\n",
       "<p>2 rows × 897 columns</p>\n",
       "</div>"
      ],
      "text/plain": [
       "make_model    Dacia         Dacia Break Dacia Dokker Dacia Duster         \\\n",
       "gearbox    Automatic Manual      Manual       Manual    Automatic Manual   \n",
       "mode            1.00   4.00          []         5.00         6.00   6.00   \n",
       "median          1.00   4.00         NaN         5.00         6.00   6.00   \n",
       "\n",
       "make_model Dacia Jogger Dacia Lodgy Dacia Logan         ...  \\\n",
       "gearbox          Manual      Manual   Automatic Manual  ...   \n",
       "mode               6.00        6.00        5.00   5.00  ...   \n",
       "median             6.00        6.00        5.00   5.00  ...   \n",
       "\n",
       "make_model Volvo V90 Cross Country Volvo XC40        Volvo XC60         \\\n",
       "gearbox                  Automatic  Automatic Manual  Automatic Manual   \n",
       "mode                          8.00       8.00   6.00       8.00   6.00   \n",
       "median                        8.00       8.00   6.00       8.00   6.00   \n",
       "\n",
       "make_model Volvo XC70        Volvo XC90                        \n",
       "gearbox     Automatic Manual  Automatic Manual Semi-automatic  \n",
       "mode             6.00   6.00       8.00   6.00           8.00  \n",
       "median           6.00   6.00       8.00   6.00           8.00  \n",
       "\n",
       "[2 rows x 897 columns]"
      ]
     },
     "execution_count": 129,
     "metadata": {},
     "output_type": "execute_result"
    }
   ],
   "source": [
    "df.groupby([\"make_model\",\"gearbox\"])[\"gears\"].agg([pd.Series.mode, \"median\"]).T"
   ]
  },
  {
   "cell_type": "markdown",
   "id": "afc92bf8-0ade-4aa4-8799-619e96ef840a",
   "metadata": {},
   "source": [
    "# Co Emissions"
   ]
  },
  {
   "cell_type": "code",
   "execution_count": 130,
   "id": "03ed710b-76fb-4194-95a3-87fc1c78347b",
   "metadata": {},
   "outputs": [
    {
     "data": {
      "text/plain": [
       "co_emissions\n",
       "NaN       10036\n",
       "0.00       1040\n",
       "119.00      393\n",
       "124.00      340\n",
       "129.00      319\n",
       "          ...  \n",
       "332.00        1\n",
       "70.00         1\n",
       "338.00        1\n",
       "342.00        1\n",
       "53.00         1\n",
       "Name: count, Length: 327, dtype: int64"
      ]
     },
     "execution_count": 130,
     "metadata": {},
     "output_type": "execute_result"
    }
   ],
   "source": [
    "df[\"co_emissions\"].value_counts(dropna=False)"
   ]
  },
  {
   "cell_type": "code",
   "execution_count": 131,
   "id": "c58b016b-eb87-45d6-8ebe-f5aeb974c456",
   "metadata": {},
   "outputs": [
    {
     "data": {
      "text/plain": [
       "10036"
      ]
     },
     "execution_count": 131,
     "metadata": {},
     "output_type": "execute_result"
    }
   ],
   "source": [
    "df[\"co_emissions\"].isnull().sum()"
   ]
  },
  {
   "cell_type": "code",
   "execution_count": 132,
   "id": "3ac2111e-d4a6-4ae4-8156-4b48b91625f4",
   "metadata": {},
   "outputs": [
    {
     "data": {
      "text/plain": [
       "fuel_type\n",
       "benzine     688\n",
       "electric    194\n",
       "diesel      150\n",
       "LPG           5\n",
       "others        3\n",
       "Name: count, dtype: int64"
      ]
     },
     "execution_count": 132,
     "metadata": {},
     "output_type": "execute_result"
    }
   ],
   "source": [
    "df.loc[df[\"co_emissions\"] == 0 , \"fuel_type\"].value_counts(dropna=False)"
   ]
  },
  {
   "cell_type": "code",
   "execution_count": 133,
   "id": "179835f2-b777-461e-b267-9b9b22dad69f",
   "metadata": {},
   "outputs": [
    {
     "data": {
      "text/plain": [
       "other_fuel_types\n",
       "NaN             926\n",
       "Electricity     104\n",
       "Hydogen           9\n",
       "Super E10 95      1\n",
       "Name: count, dtype: int64"
      ]
     },
     "execution_count": 133,
     "metadata": {},
     "output_type": "execute_result"
    }
   ],
   "source": [
    "df.loc[df[\"co_emissions\"] == 0 , \"other_fuel_types\"].value_counts(dropna=False)"
   ]
  },
  {
   "cell_type": "code",
   "execution_count": 134,
   "id": "133a6826-25d7-4c62-b11a-e4c9b73d89ec",
   "metadata": {},
   "outputs": [
    {
     "data": {
      "text/plain": [
       "co_efficiency\n",
       "NaN                                                                                           918\n",
       "Calculated on basis of measured CO₂-emissions taking into account the mass of the vehicle.    122\n",
       "Name: count, dtype: int64"
      ]
     },
     "execution_count": 134,
     "metadata": {},
     "output_type": "execute_result"
    }
   ],
   "source": [
    "df.loc[df[\"co_emissions\"] == 0 , \"co_efficiency\"].value_counts(dropna=False)"
   ]
  },
  {
   "cell_type": "code",
   "execution_count": 135,
   "id": "95c42295-8171-40a7-929c-cc6d47584a95",
   "metadata": {},
   "outputs": [
    {
     "data": {
      "text/plain": [
       "make_model    fuel_type  co_emissions\n",
       "Dacia         benzine    NaN             4\n",
       "                         130.00          1\n",
       "Dacia Break   benzine    NaN             1\n",
       "Dacia Dokker  LPG        NaN             3\n",
       "                         143.00          2\n",
       "                                        ..\n",
       "Volvo XC90    diesel     159.00          2\n",
       "                         0.00            2\n",
       "                         136.00          2\n",
       "                         219.00          2\n",
       "              electric   0.00            4\n",
       "Name: count, Length: 6341, dtype: int64"
      ]
     },
     "execution_count": 135,
     "metadata": {},
     "output_type": "execute_result"
    }
   ],
   "source": [
    "df.groupby([\"make_model\",\"fuel_type\"])[\"co_emissions\"].value_counts(dropna=False)"
   ]
  },
  {
   "cell_type": "code",
   "execution_count": 136,
   "id": "8376a09a-f3b1-4334-b14d-6ad03c0f4186",
   "metadata": {},
   "outputs": [
    {
     "data": {
      "text/plain": [
       "make_model    emission_class  fuel_type  co_emissions\n",
       "Dacia         Euro 6          benzine    NaN             2\n",
       "                                         130.00          1\n",
       "Dacia Dokker  Euro 5          LPG        NaN             1\n",
       "                                         165.00          1\n",
       "              Euro 6          LPG        143.00          2\n",
       "                                                        ..\n",
       "Volvo XC90    Euro 6          diesel     150.00          4\n",
       "                                         136.00          2\n",
       "                                         159.00          2\n",
       "                                         154.00          2\n",
       "                                         208.00          2\n",
       "Name: count, Length: 6191, dtype: int64"
      ]
     },
     "execution_count": 136,
     "metadata": {},
     "output_type": "execute_result"
    }
   ],
   "source": [
    "df.groupby([\"make_model\",\"emission_class\", \"fuel_type\"])[\"co_emissions\"].value_counts(dropna=False)"
   ]
  },
  {
   "cell_type": "code",
   "execution_count": 137,
   "id": "e625faa1-3ee2-41dd-aedf-fe5420081ceb",
   "metadata": {},
   "outputs": [],
   "source": [
    "df['co_emissions'] = df.groupby(['make_model', 'emission_class', 'fuel_type'])['co_emissions'].fillna(method='bfill').fillna(method='ffill')\n"
   ]
  },
  {
   "cell_type": "code",
   "execution_count": 138,
   "id": "7dab84e7-105f-4a6e-aa4d-0bb6de6a68f5",
   "metadata": {},
   "outputs": [
    {
     "data": {
      "text/plain": [
       "co_emissions\n",
       "0.00      1314\n",
       "119.00     616\n",
       "124.00     556\n",
       "129.00     539\n",
       "99.00      432\n",
       "          ... \n",
       "394.00       1\n",
       "398.00       1\n",
       "73.00        1\n",
       "70.00        1\n",
       "335.00       1\n",
       "Name: count, Length: 321, dtype: int64"
      ]
     },
     "execution_count": 138,
     "metadata": {},
     "output_type": "execute_result"
    }
   ],
   "source": [
    "df[\"co_emissions\"].value_counts(dropna=False)"
   ]
  },
  {
   "cell_type": "code",
   "execution_count": 139,
   "id": "4fc44e19-62bf-4324-80d9-628fbcab9b6d",
   "metadata": {},
   "outputs": [
    {
     "data": {
      "text/plain": [
       "5"
      ]
     },
     "execution_count": 139,
     "metadata": {},
     "output_type": "execute_result"
    }
   ],
   "source": [
    "df[\"co_emissions\"].isna().sum()"
   ]
  },
  {
   "cell_type": "code",
   "execution_count": 140,
   "id": "cf9d3451-db52-46e7-a060-dc7c067f47c9",
   "metadata": {},
   "outputs": [],
   "source": [
    "df['co_emissions'] = df.groupby(['make_model', 'fuel_type'])['co_emissions'].fillna(method='bfill').fillna(method='ffill')"
   ]
  },
  {
   "cell_type": "code",
   "execution_count": 141,
   "id": "378221a7-324f-4265-ba5d-b9cbb63856e8",
   "metadata": {},
   "outputs": [
    {
     "data": {
      "text/plain": [
       "0"
      ]
     },
     "execution_count": 141,
     "metadata": {},
     "output_type": "execute_result"
    }
   ],
   "source": [
    "df[\"co_emissions\"].isna().sum()"
   ]
  },
  {
   "cell_type": "code",
   "execution_count": 142,
   "id": "6ad70a67-240c-4f2f-b56d-1a880b4b347c",
   "metadata": {},
   "outputs": [],
   "source": [
    "df[\"co_emissions\"]=df[\"co_emissions\"].astype('int')"
   ]
  },
  {
   "cell_type": "markdown",
   "id": "b3c53ba5-af9a-481b-9689-8d8d9bd07905",
   "metadata": {},
   "source": [
    "# Drivetrain"
   ]
  },
  {
   "cell_type": "code",
   "execution_count": 143,
   "id": "b32ba020-8a6c-46ba-a5f0-1495504f8533",
   "metadata": {},
   "outputs": [
    {
     "data": {
      "text/plain": [
       "drivetrain\n",
       "Front    12066\n",
       "NaN      11737\n",
       "4WD       3252\n",
       "Rear      1575\n",
       "Name: count, dtype: int64"
      ]
     },
     "execution_count": 143,
     "metadata": {},
     "output_type": "execute_result"
    }
   ],
   "source": [
    "df['drivetrain'].value_counts(dropna=False)"
   ]
  },
  {
   "cell_type": "code",
   "execution_count": 144,
   "id": "f2b1fc31-f92a-40db-b777-f20cdafaa8fa",
   "metadata": {},
   "outputs": [
    {
     "data": {
      "text/plain": [
       "make_model   body_type         gearbox         fuel_type  power  drivetrain\n",
       "Dacia        Compact           Automatic       benzine    100    NaN           2\n",
       "                                                                 Front         1\n",
       "             Sedan             Manual          benzine    40     NaN           1\n",
       "             Station wagon     Manual          benzine    70     NaN           1\n",
       "Dacia Break  Station wagon     Manual          benzine    88     NaN           1\n",
       "                                                                              ..\n",
       "Volvo XC90   Off-Road/Pick-up  Manual          diesel     140    4WD           2\n",
       "             Sedan             Automatic       benzine    145    NaN           1\n",
       "                                               diesel     145    NaN           2\n",
       "             Station wagon     Automatic       diesel     145    4WD           2\n",
       "                               Semi-automatic  diesel     145    4WD           2\n",
       "Name: count, Length: 6314, dtype: int64"
      ]
     },
     "execution_count": 144,
     "metadata": {},
     "output_type": "execute_result"
    }
   ],
   "source": [
    "df.groupby(['make_model', 'body_type', 'gearbox','fuel_type','power'])['drivetrain'].value_counts(dropna=False)"
   ]
  },
  {
   "cell_type": "code",
   "execution_count": 145,
   "id": "d29db0fb-8121-45a8-a566-a7a957023358",
   "metadata": {},
   "outputs": [],
   "source": [
    "df['drivetrain']=df.groupby(['make_model', 'body_type', 'gearbox','fuel_type','power'])['drivetrain'].fillna(method='bfill').fillna(method='ffill')"
   ]
  },
  {
   "cell_type": "code",
   "execution_count": 146,
   "id": "d040cdc0-7639-4003-a82f-e7c798084916",
   "metadata": {},
   "outputs": [
    {
     "data": {
      "text/plain": [
       "drivetrain\n",
       "Front    21371\n",
       "4WD       4353\n",
       "Rear      2906\n",
       "Name: count, dtype: int64"
      ]
     },
     "execution_count": 146,
     "metadata": {},
     "output_type": "execute_result"
    }
   ],
   "source": [
    "df['drivetrain'].value_counts(dropna=False)"
   ]
  },
  {
   "cell_type": "code",
   "execution_count": 147,
   "id": "50f69712-5609-4d12-90e7-c303982617c5",
   "metadata": {},
   "outputs": [],
   "source": [
    "df['drivetrain']=df['drivetrain'].astype('string')"
   ]
  },
  {
   "cell_type": "markdown",
   "id": "c7bdcdbf-9863-44df-8d13-d4b50920b5b4",
   "metadata": {},
   "source": [
    "# Cylinders"
   ]
  },
  {
   "cell_type": "code",
   "execution_count": 148,
   "id": "4bf5f73d-ed01-414b-8043-89e9be5286e3",
   "metadata": {},
   "outputs": [
    {
     "data": {
      "text/plain": [
       "cylinders\n",
       "4.00     13068\n",
       "NaN       9778\n",
       "3.00      3258\n",
       "6.00      1013\n",
       "5.00       799\n",
       "8.00       539\n",
       "2.00       103\n",
       "0.00        35\n",
       "1.00        21\n",
       "12.00        8\n",
       "7.00         6\n",
       "26.00        1\n",
       "16.00        1\n",
       "Name: count, dtype: int64"
      ]
     },
     "execution_count": 148,
     "metadata": {},
     "output_type": "execute_result"
    }
   ],
   "source": [
    "df['cylinders'].value_counts(dropna=False)"
   ]
  },
  {
   "cell_type": "code",
   "execution_count": 149,
   "id": "75b3d15d-0de4-41f1-9755-3065f294f638",
   "metadata": {},
   "outputs": [],
   "source": [
    "df['cylinders']=df.groupby([\"make_model\",\"body_type\"] ,group_keys = False)[\"cylinders\"].transform(lambda x: x.fillna(x.median()))\n",
    "\n",
    "df['cylinders']=df.groupby([\"make_model\"] ,group_keys = False)[\"cylinders\"].transform(lambda x: x.fillna(x.median()))\n",
    "\n",
    "df['cylinders'].fillna(df['cylinders'].median(),inplace=True)"
   ]
  },
  {
   "cell_type": "code",
   "execution_count": 150,
   "id": "14f418f2-d57b-4131-b3c9-1cce298af7fc",
   "metadata": {},
   "outputs": [
    {
     "data": {
      "text/plain": [
       "0"
      ]
     },
     "execution_count": 150,
     "metadata": {},
     "output_type": "execute_result"
    }
   ],
   "source": [
    "df['cylinders'].isna().sum()"
   ]
  },
  {
   "cell_type": "code",
   "execution_count": 151,
   "id": "a715588b-9f07-4971-9f11-71b39b7241d8",
   "metadata": {},
   "outputs": [
    {
     "data": {
      "text/plain": [
       "cylinders\n",
       "4.00     19643\n",
       "3.00      5155\n",
       "6.00      1312\n",
       "5.00       994\n",
       "8.00       943\n",
       "1.00       135\n",
       "2.00       105\n",
       "0.00       100\n",
       "3.50        93\n",
       "0.50        87\n",
       "7.00        35\n",
       "4.50        14\n",
       "12.00       11\n",
       "2.50         1\n",
       "26.00        1\n",
       "16.00        1\n",
       "Name: count, dtype: int64"
      ]
     },
     "execution_count": 151,
     "metadata": {},
     "output_type": "execute_result"
    }
   ],
   "source": [
    "df['cylinders'].value_counts(dropna=False)"
   ]
  },
  {
   "cell_type": "code",
   "execution_count": 152,
   "id": "b563da56-ba45-4e4e-9d1f-3c6e77f50214",
   "metadata": {},
   "outputs": [
    {
     "data": {
      "text/plain": [
       "dtype('float64')"
      ]
     },
     "execution_count": 152,
     "metadata": {},
     "output_type": "execute_result"
    }
   ],
   "source": [
    "df['cylinders'].dtype"
   ]
  },
  {
   "cell_type": "code",
   "execution_count": 153,
   "id": "8c94b152-7699-4fa5-b0cb-6420e687e926",
   "metadata": {},
   "outputs": [
    {
     "data": {
      "text/plain": [
       "<Figure size 1000x500 with 0 Axes>"
      ]
     },
     "metadata": {},
     "output_type": "display_data"
    },
    {
     "data": {
      "image/png": "[encoded data removed]",
      "text/plain": [
       "<Figure size 1008.87x925 with 1 Axes>"
      ]
     },
     "metadata": {},
     "output_type": "display_data"
    }
   ],
   "source": [
    "show_nulls(df);"
   ]
  },
  {
   "cell_type": "markdown",
   "id": "c318a783-b093-4caf-97b6-66996f96ebc4",
   "metadata": {},
   "source": [
    "# Fuel Consumption"
   ]
  },
  {
   "cell_type": "code",
   "execution_count": 154,
   "id": "426a7b82-7a57-4067-93e0-631e3c6896ab",
   "metadata": {},
   "outputs": [
    {
     "data": {
      "text/plain": [
       "fuel_consumption\n",
       "NaN                       5245\n",
       "5 l/100 km (comb.)         818\n",
       "4.9 l/100 km (comb.)       809\n",
       "4.5 l/100 km (comb.)       690\n",
       "5.1 l/100 km (comb.)       639\n",
       "                          ... \n",
       "6.5 kg/100 km (comb.)        1\n",
       "4 kg/100 km (comb.)          1\n",
       "7 l/100 km (city)            1\n",
       "4.9 l/100 km (country)       1\n",
       "9 l/100 km (country)         1\n",
       "Name: count, Length: 219, dtype: int64"
      ]
     },
     "execution_count": 154,
     "metadata": {},
     "output_type": "execute_result"
    }
   ],
   "source": [
    "df['fuel_consumption'].value_counts(dropna=False)"
   ]
  },
  {
   "cell_type": "code",
   "execution_count": 155,
   "id": "eadbd5b5-6096-43f5-967c-d02c0675e4a1",
   "metadata": {},
   "outputs": [
    {
     "data": {
      "text/plain": [
       "fuel_consumption\n",
       "NaN     5245\n",
       "5        831\n",
       "4.9      812\n",
       "4.5      690\n",
       "0        652\n",
       "        ... \n",
       "16         1\n",
       "57         1\n",
       "61         1\n",
       "14.5       1\n",
       "44         1\n",
       "Name: count, Length: 162, dtype: int64"
      ]
     },
     "execution_count": 155,
     "metadata": {},
     "output_type": "execute_result"
    }
   ],
   "source": [
    "df['fuel_consumption'] = df['fuel_consumption'].str.extract(r\"(\\d+\\.?\\d*)\")\n",
    "df['fuel_consumption'].value_counts(dropna=False)"
   ]
  },
  {
   "cell_type": "code",
   "execution_count": 156,
   "id": "2a2b346c-cd30-4373-949b-d5604a2efe4e",
   "metadata": {},
   "outputs": [],
   "source": [
    "df['fuel_consumption']=df.groupby(['make_model', 'body_type', 'engine_size','fuel_type','power'])['fuel_consumption'].fillna(method='bfill').fillna(method='ffill')"
   ]
  },
  {
   "cell_type": "code",
   "execution_count": 157,
   "id": "d78d1df3-cd05-4bdf-a6d9-0b0122ff21a3",
   "metadata": {},
   "outputs": [
    {
     "data": {
      "text/plain": [
       "0"
      ]
     },
     "execution_count": 157,
     "metadata": {},
     "output_type": "execute_result"
    }
   ],
   "source": [
    "df['fuel_consumption'].isna().sum()"
   ]
  },
  {
   "cell_type": "code",
   "execution_count": 158,
   "id": "5b6f6ffc-c346-4bd4-8c5a-a1ff313d0353",
   "metadata": {},
   "outputs": [],
   "source": [
    "df['fuel_consumption']=df['fuel_consumption'].astype('float')"
   ]
  },
  {
   "cell_type": "markdown",
   "id": "c4e64e3d-448b-4fdb-bb59-ffc293451709",
   "metadata": {},
   "source": [
    "# Comfort Conveinence"
   ]
  },
  {
   "cell_type": "code",
   "execution_count": 159,
   "id": "40070a9c-b56a-42d6-82bc-cf1906147623",
   "metadata": {},
   "outputs": [
    {
     "data": {
      "text/plain": [
       "comfort_convenience\n",
       "NaN                                                                                                                                                                                                                                                                                                                                                                                                            3197\n",
       "air conditioning, automatic climate control, electrical side mirrors, multi-function steering wheel, power windows                                                                                                                                                                                                                                                                                              244\n",
       "air conditioning, automatic climate control, cruise control                                                                                                                                                                                                                                                                                                                                                     171\n",
       "air conditioning, automatic climate control, cruise control, electrical side mirrors, multi-function steering wheel, power windows                                                                                                                                                                                                                                                                              168\n",
       "air conditioning                                                                                                                                                                                                                                                                                                                                                                                                157\n",
       "                                                                                                                                                                                                                                                                                                                                                                                                               ... \n",
       "armrest, automatic climate control, 2 zones, cruise control, fold flat passenger seat, hill holder, leather steering wheel, light sensor, lumbar support, multi-function steering wheel, navigation system, parking assist system sensors rear, power windows, rain sensor, seat heating, split rear seats, start-stop system                                                                                     1\n",
       "air conditioning, armrest, automatic climate control, cruise control, electric tailgate, electrical side mirrors, hill holder, keyless central door lock, leather steering wheel, light sensor, multi-function steering wheel, navigation system, parking assist system sensors front, parking assist system sensors rear, power windows, rain sensor, seat heating                                               1\n",
       "armrest, automatic climate control, 2 zones, cruise control, electrical side mirrors, fold flat passenger seat, hill holder, leather steering wheel, light sensor, lumbar support, multi-function steering wheel, navigation system, parking assist system sensors front, parking assist system sensors rear, power windows, rain sensor, seat heating, split rear seats, start-stop system, tinted windows       1\n",
       "armrest, automatic climate control, 2 zones, cruise control, electrical side mirrors, hill holder, keyless central door lock, leather steering wheel, light sensor, multi-function steering wheel, parking assist system camera, parking assist system sensors front, parking assist system sensors rear, power windows, rain sensor, seat heating, split rear seats, start-stop system, tinted windows           1\n",
       "air conditioning, armrest, cruise control, electrical side mirrors, leather steering wheel, lumbar support, multi-function steering wheel, navigation system, power windows, seat heating, tinted windows                                                                                                                                                                                                         1\n",
       "Name: count, Length: 14439, dtype: int64"
      ]
     },
     "execution_count": 159,
     "metadata": {},
     "output_type": "execute_result"
    }
   ],
   "source": [
    "df['comfort_convenience'].value_counts(dropna=False)"
   ]
  },
  {
   "cell_type": "code",
   "execution_count": 160,
   "id": "d9e6dcd6-d860-4cfe-8656-af591c59c914",
   "metadata": {},
   "outputs": [],
   "source": [
    "df[\"comfort_convenience_count\"] = df['comfort_convenience'].str.count(',') + 1\n"
   ]
  },
  {
   "cell_type": "code",
   "execution_count": 161,
   "id": "d0356a55-ab67-4e6f-88fd-04fcb9095800",
   "metadata": {},
   "outputs": [
    {
     "data": {
      "text/plain": [
       "comfort_convenience_count\n",
       "NaN      3197\n",
       "5.00     1429\n",
       "6.00     1360\n",
       "3.00     1224\n",
       "7.00     1189\n",
       "4.00     1108\n",
       "17.00    1100\n",
       "15.00    1081\n",
       "8.00     1070\n",
       "16.00    1062\n",
       "18.00    1057\n",
       "19.00    1055\n",
       "14.00    1052\n",
       "20.00    1050\n",
       "10.00    1023\n",
       "11.00     987\n",
       "12.00     980\n",
       "13.00     921\n",
       "21.00     880\n",
       "9.00      873\n",
       "22.00     832\n",
       "2.00      765\n",
       "23.00     731\n",
       "24.00     650\n",
       "1.00      585\n",
       "25.00     428\n",
       "26.00     347\n",
       "27.00     200\n",
       "28.00     150\n",
       "29.00     118\n",
       "30.00      62\n",
       "31.00      34\n",
       "32.00      15\n",
       "33.00      12\n",
       "34.00       3\n",
       "Name: count, dtype: int64"
      ]
     },
     "execution_count": 161,
     "metadata": {},
     "output_type": "execute_result"
    }
   ],
   "source": [
    "df[\"comfort_convenience_count\"].value_counts(dropna=False)"
   ]
  },
  {
   "cell_type": "code",
   "execution_count": 162,
   "id": "4bb6e3f3-2be1-4ac8-9f02-4dba8714f7e7",
   "metadata": {},
   "outputs": [],
   "source": [
    "df['comfort_convenience_count']=df.groupby(['make_model', 'body_type','price'])['comfort_convenience_count'].fillna(method='bfill').fillna(method='ffill')"
   ]
  },
  {
   "cell_type": "code",
   "execution_count": 163,
   "id": "7b263470-c890-4512-bfd3-da8250fe11f8",
   "metadata": {},
   "outputs": [
    {
     "data": {
      "text/plain": [
       "3"
      ]
     },
     "execution_count": 163,
     "metadata": {},
     "output_type": "execute_result"
    }
   ],
   "source": [
    "df[\"comfort_convenience_count\"].isna().sum()"
   ]
  },
  {
   "cell_type": "code",
   "execution_count": 164,
   "id": "92970102-629e-4832-afb1-af5959d4045a",
   "metadata": {},
   "outputs": [],
   "source": [
    "df['comfort_convenience_count']=df.groupby(['make_model','price'])['comfort_convenience_count'].fillna(method='bfill').fillna(method='ffill')"
   ]
  },
  {
   "cell_type": "code",
   "execution_count": 165,
   "id": "60b45112-904a-441a-bf6c-3cdd0dac9ab5",
   "metadata": {},
   "outputs": [
    {
     "data": {
      "text/plain": [
       "3"
      ]
     },
     "execution_count": 165,
     "metadata": {},
     "output_type": "execute_result"
    }
   ],
   "source": [
    "df[\"comfort_convenience_count\"].isna().sum()"
   ]
  },
  {
   "cell_type": "code",
   "execution_count": 166,
   "id": "a23103ef-b85a-49b0-ba59-1bbb6ee6bad1",
   "metadata": {},
   "outputs": [],
   "source": [
    "df[\"comfort_convenience_count\"]=df.groupby([\"make_model\"])[\"comfort_convenience_count\"].transform(lambda x: x.fillna(x.median()) if len(x.mode()) > 0 else x)"
   ]
  },
  {
   "cell_type": "code",
   "execution_count": 167,
   "id": "4787fe59-f4e1-46bd-8b92-acdd4e101cc4",
   "metadata": {},
   "outputs": [
    {
     "data": {
      "text/plain": [
       "0"
      ]
     },
     "execution_count": 167,
     "metadata": {},
     "output_type": "execute_result"
    }
   ],
   "source": [
    "df[\"comfort_convenience_count\"].isna().sum()"
   ]
  },
  {
   "cell_type": "code",
   "execution_count": 168,
   "id": "85e9b2bc-d84e-49f9-a1bc-f8f5d5bbbdc8",
   "metadata": {},
   "outputs": [
    {
     "data": {
      "text/plain": [
       "dtype('float64')"
      ]
     },
     "execution_count": 168,
     "metadata": {},
     "output_type": "execute_result"
    }
   ],
   "source": [
    "df[\"comfort_convenience_count\"].dtype"
   ]
  },
  {
   "cell_type": "code",
   "execution_count": 169,
   "id": "9215511c-b636-48ab-814b-9adb9751bf4e",
   "metadata": {},
   "outputs": [],
   "source": [
    "df[\"comfort_convenience_count\"]=df[\"comfort_convenience_count\"].astype('int')"
   ]
  },
  {
   "cell_type": "code",
   "execution_count": 170,
   "id": "60e4ca64-1288-4760-963e-a72ca8200e78",
   "metadata": {},
   "outputs": [
    {
     "data": {
      "text/plain": [
       "comfort_convenience_count\n",
       "5     1650\n",
       "6     1554\n",
       "3     1461\n",
       "7     1380\n",
       "4     1269\n",
       "8     1220\n",
       "17    1206\n",
       "15    1191\n",
       "10    1189\n",
       "16    1169\n",
       "14    1150\n",
       "20    1143\n",
       "19    1139\n",
       "18    1136\n",
       "12    1101\n",
       "11    1100\n",
       "13    1052\n",
       "9      995\n",
       "2      973\n",
       "21     946\n",
       "22     883\n",
       "23     781\n",
       "1      780\n",
       "24     696\n",
       "25     460\n",
       "26     376\n",
       "27     208\n",
       "28     160\n",
       "29     125\n",
       "30      67\n",
       "31      36\n",
       "32      17\n",
       "33      14\n",
       "34       3\n",
       "Name: count, dtype: int64"
      ]
     },
     "execution_count": 170,
     "metadata": {},
     "output_type": "execute_result"
    }
   ],
   "source": [
    "df[\"comfort_convenience_count\"].value_counts(dropna=False)"
   ]
  },
  {
   "cell_type": "code",
   "execution_count": 171,
   "id": "8d623b76-a7f5-407e-bda8-979009769e95",
   "metadata": {},
   "outputs": [],
   "source": [
    "df[\"comfort_convenience\"]=df[\"comfort_convenience_count\"].apply(lambda x: \"Low\" if (x >= 1 and x <= 10) else \n",
    "                                       (\"Medium\" if (x > 10 and x <= 20) else \"High\" if (x > 20) else None))\n"
   ]
  },
  {
   "cell_type": "code",
   "execution_count": 172,
   "id": "1ea609e6-9c8b-461b-9bc9-c8145f460966",
   "metadata": {},
   "outputs": [
    {
     "data": {
      "text/plain": [
       "comfort_convenience\n",
       "Low       12471\n",
       "Medium    11387\n",
       "High       4772\n",
       "Name: count, dtype: int64"
      ]
     },
     "execution_count": 172,
     "metadata": {},
     "output_type": "execute_result"
    }
   ],
   "source": [
    "df[\"comfort_convenience\"].value_counts(dropna=False)"
   ]
  },
  {
   "cell_type": "code",
   "execution_count": 173,
   "id": "c8232ebf-9575-49b1-bc51-9a24e19ff1ba",
   "metadata": {},
   "outputs": [],
   "source": [
    "df[\"comfort_convenience\"]=df[\"comfort_convenience\"].astype('str')"
   ]
  },
  {
   "cell_type": "code",
   "execution_count": 174,
   "id": "ac955edf-8f0d-483f-9c8b-e79492ed5247",
   "metadata": {},
   "outputs": [
    {
     "data": {
      "text/plain": [
       "dtype('O')"
      ]
     },
     "execution_count": 174,
     "metadata": {},
     "output_type": "execute_result"
    }
   ],
   "source": [
    "df[\"comfort_convenience\"].dtype"
   ]
  },
  {
   "cell_type": "code",
   "execution_count": 175,
   "id": "24e762d1-e418-4a60-9ded-6c9b12643957",
   "metadata": {},
   "outputs": [],
   "source": [
    "df[\"comfort_convenience_n\"]=df[\"comfort_convenience_count\"].apply(lambda x: 1 if (x >= 1 and x <= 10) else \n",
    "                                       (2 if (x > 10 and x <= 20) else 3 if (x > 20) else None))"
   ]
  },
  {
   "cell_type": "code",
   "execution_count": 176,
   "id": "65cad4c7-7257-4464-ab8d-8da33fb13ac4",
   "metadata": {},
   "outputs": [
    {
     "data": {
      "text/plain": [
       "comfort_convenience_n\n",
       "1    12471\n",
       "2    11387\n",
       "3     4772\n",
       "Name: count, dtype: int64"
      ]
     },
     "execution_count": 176,
     "metadata": {},
     "output_type": "execute_result"
    }
   ],
   "source": [
    "df[\"comfort_convenience_n\"].value_counts(dropna=False)"
   ]
  },
  {
   "cell_type": "code",
   "execution_count": 177,
   "id": "68d13c7d-5413-4d88-a298-45a681f08154",
   "metadata": {},
   "outputs": [
    {
     "data": {
      "text/plain": [
       "dtype('int64')"
      ]
     },
     "execution_count": 177,
     "metadata": {},
     "output_type": "execute_result"
    }
   ],
   "source": [
    "df[\"comfort_convenience_n\"].dtype"
   ]
  },
  {
   "cell_type": "markdown",
   "id": "a7fbaabe-3584-4ee4-971a-a7558a6be4a8",
   "metadata": {},
   "source": [
    "# Safety Security"
   ]
  },
  {
   "cell_type": "code",
   "execution_count": 178,
   "id": "dae463c1-87c4-461a-8bfd-a9841ce931c1",
   "metadata": {},
   "outputs": [
    {
     "data": {
      "text/plain": [
       "safety_security\n",
       "NaN                                                                                                                                                                                                                                                                                                                                                                                                                                                                                                                          3215\n",
       "isofix                                                                                                                                                                                                                                                                                                                                                                                                                                                                                                                        380\n",
       "abs, central door lock, driver-side airbag, electronic stability control, immobilizer, isofix, passenger-side airbag, power steering, side airbag                                                                                                                                                                                                                                                                                                                                                                             328\n",
       "abs, central door lock, driver-side airbag, immobilizer, isofix, passenger-side airbag, power steering, side airbag, traction control                                                                                                                                                                                                                                                                                                                                                                                         125\n",
       "abs, central door lock, driver-side airbag, electronic stability control, fog lights, isofix, power steering, side airbag                                                                                                                                                                                                                                                                                                                                                                                                     121\n",
       "                                                                                                                                                                                                                                                                                                                                                                                                                                                                                                                             ... \n",
       "daytime running lights, emergency brake assistant, fog lights, isofix, led daytime running lights, lane departure warning system, power steering, tire pressure monitoring system                                                                                                                                                                                                                                                                                                                                               1\n",
       "abs, adaptive cruise control, central door lock, daytime running lights, driver drowsiness detection, driver-side airbag, electronic stability control, emergency brake assistant, emergency system, fog lights, full-led headlights, glare-free high beam headlights, immobilizer, isofix, led headlights, lane departure warning system, passenger-side airbag, power steering, side airbag, tire pressure monitoring system, traction control                                                                                1\n",
       "abs, driver-side airbag, electronic stability control, emergency brake assistant, immobilizer, led daytime running lights, passenger-side airbag, side airbag, tire pressure monitoring system, traction control                                                                                                                                                                                                                                                                                                                1\n",
       "abs, blind spot monitor, central door lock, daytime running lights, distance warning system, driver drowsiness detection, driver-side airbag, electronic stability control, emergency system, fog lights, full-led headlights, head airbag, high beam assist, immobilizer, isofix, led daytime running lights, led headlights, lane departure warning system, passenger-side airbag, power steering, side airbag, speed limit control system, tire pressure monitoring system, traction control, traffic sign recognition       1\n",
       "abs, alarm system, central door lock, central door lock with remote control, driver-side airbag, electronic stability control, fog lights, head airbag, immobilizer, power steering, side airbag, traction control                                                                                                                                                                                                                                                                                                              1\n",
       "Name: count, Length: 12550, dtype: int64"
      ]
     },
     "execution_count": 178,
     "metadata": {},
     "output_type": "execute_result"
    }
   ],
   "source": [
    "df['safety_security'].value_counts(dropna=False)"
   ]
  },
  {
   "cell_type": "code",
   "execution_count": 179,
   "id": "e8892e20-54fc-4c58-9c0e-15a732568d4c",
   "metadata": {},
   "outputs": [],
   "source": [
    "df[\"safety_security_count\"] = df['safety_security'].str.count(',') + 1"
   ]
  },
  {
   "cell_type": "code",
   "execution_count": 180,
   "id": "8d6b395b-b6b6-4d57-a4a2-e4d45918375b",
   "metadata": {},
   "outputs": [
    {
     "data": {
      "text/plain": [
       "safety_security_count\n",
       "NaN      3215\n",
       "9.00     1706\n",
       "8.00     1370\n",
       "10.00    1310\n",
       "13.00    1274\n",
       "11.00    1274\n",
       "14.00    1237\n",
       "12.00    1227\n",
       "15.00    1176\n",
       "7.00     1142\n",
       "16.00    1111\n",
       "18.00     976\n",
       "17.00     927\n",
       "19.00     907\n",
       "22.00     904\n",
       "21.00     868\n",
       "6.00      848\n",
       "23.00     840\n",
       "24.00     826\n",
       "20.00     802\n",
       "25.00     733\n",
       "26.00     686\n",
       "1.00      662\n",
       "4.00      469\n",
       "5.00      424\n",
       "3.00      408\n",
       "27.00     372\n",
       "2.00      262\n",
       "28.00     247\n",
       "29.00     154\n",
       "30.00     153\n",
       "31.00      60\n",
       "32.00      27\n",
       "34.00      18\n",
       "33.00      12\n",
       "35.00       2\n",
       "36.00       1\n",
       "Name: count, dtype: int64"
      ]
     },
     "execution_count": 180,
     "metadata": {},
     "output_type": "execute_result"
    }
   ],
   "source": [
    "df[\"safety_security_count\"].value_counts(dropna=False)"
   ]
  },
  {
   "cell_type": "code",
   "execution_count": 181,
   "id": "9c36245a-ff6b-43a9-af1a-3947de7ea871",
   "metadata": {},
   "outputs": [],
   "source": [
    "df['safety_security_count']=df.groupby(['make_model', 'body_type','price'])['safety_security_count'].fillna(method='bfill').fillna(method='ffill')"
   ]
  },
  {
   "cell_type": "code",
   "execution_count": 182,
   "id": "88929f2f-bca1-4761-bfd9-397cc7339f4a",
   "metadata": {},
   "outputs": [
    {
     "data": {
      "text/plain": [
       "3"
      ]
     },
     "execution_count": 182,
     "metadata": {},
     "output_type": "execute_result"
    }
   ],
   "source": [
    "df['safety_security_count'].isna().sum()"
   ]
  },
  {
   "cell_type": "code",
   "execution_count": 183,
   "id": "ba4fa57a-b0cb-406e-8c9f-5b5adbcab7e0",
   "metadata": {},
   "outputs": [],
   "source": [
    "df[\"safety_security_count\"]=df.groupby([\"make_model\"])[\"safety_security_count\"].transform(lambda x: x.fillna(x.median()) if len(x.mode()) > 0 else x)"
   ]
  },
  {
   "cell_type": "code",
   "execution_count": 184,
   "id": "ec105675-9770-4ed3-b07e-b3ee1d0575aa",
   "metadata": {},
   "outputs": [
    {
     "data": {
      "text/plain": [
       "0"
      ]
     },
     "execution_count": 184,
     "metadata": {},
     "output_type": "execute_result"
    }
   ],
   "source": [
    "df['safety_security_count'].isna().sum()"
   ]
  },
  {
   "cell_type": "code",
   "execution_count": 185,
   "id": "3042a81a-7cd5-4d13-99b4-886aea1487f8",
   "metadata": {},
   "outputs": [],
   "source": [
    "df['safety_security_count']=df['safety_security_count'].astype('int')"
   ]
  },
  {
   "cell_type": "code",
   "execution_count": 186,
   "id": "20149ceb-ab06-47a2-9479-0e9076feaa35",
   "metadata": {},
   "outputs": [
    {
     "data": {
      "text/plain": [
       "safety_security_count\n",
       "9     1947\n",
       "8     1536\n",
       "11    1475\n",
       "13    1455\n",
       "10    1455\n",
       "14    1406\n",
       "12    1371\n",
       "7     1355\n",
       "15    1305\n",
       "16    1227\n",
       "18    1055\n",
       "6     1019\n",
       "17    1018\n",
       "19     989\n",
       "22     976\n",
       "21     943\n",
       "23     899\n",
       "24     896\n",
       "20     872\n",
       "1      835\n",
       "25     781\n",
       "26     738\n",
       "4      586\n",
       "3      553\n",
       "5      503\n",
       "27     406\n",
       "2      305\n",
       "28     267\n",
       "29     164\n",
       "30     162\n",
       "31      66\n",
       "32      27\n",
       "34      21\n",
       "33      13\n",
       "36       2\n",
       "35       2\n",
       "Name: count, dtype: int64"
      ]
     },
     "execution_count": 186,
     "metadata": {},
     "output_type": "execute_result"
    }
   ],
   "source": [
    "df['safety_security_count'].value_counts(dropna=False)"
   ]
  },
  {
   "cell_type": "code",
   "execution_count": 187,
   "id": "42c489f2-8ca9-4936-b834-e767bd172cc5",
   "metadata": {},
   "outputs": [],
   "source": [
    "df[\"safety_security\"]=df[\"safety_security_count\"].apply(lambda x: \"Low\" if (x >= 1 and x <= 10) else \n",
    "                                       (\"Medium\" if (x > 10 and x <= 20) else \"High\" if (x > 20) else None))"
   ]
  },
  {
   "cell_type": "code",
   "execution_count": 188,
   "id": "762d35d2-d086-4696-9d59-accd658d1b61",
   "metadata": {},
   "outputs": [
    {
     "data": {
      "text/plain": [
       "safety_security\n",
       "Medium    12173\n",
       "Low       10094\n",
       "High       6363\n",
       "Name: count, dtype: int64"
      ]
     },
     "execution_count": 188,
     "metadata": {},
     "output_type": "execute_result"
    }
   ],
   "source": [
    "df['safety_security'].value_counts(dropna=False)"
   ]
  },
  {
   "cell_type": "code",
   "execution_count": 189,
   "id": "1e9a7575-e051-4159-871f-044168e1d5f8",
   "metadata": {},
   "outputs": [],
   "source": [
    "df['safety_security']=df['safety_security'].astype('str')"
   ]
  },
  {
   "cell_type": "code",
   "execution_count": 190,
   "id": "3be6b1d1-9225-4cc0-8708-4a3561f9c6ab",
   "metadata": {},
   "outputs": [],
   "source": [
    "df[\"safety_security_n\"]=df[\"safety_security_count\"].apply(lambda x: 1 if (x >= 1 and x <= 10) else \n",
    "                                       (2 if (x > 10 and x <= 20) else 3 if (x > 20) else None))"
   ]
  },
  {
   "cell_type": "code",
   "execution_count": 191,
   "id": "8b7b5c1b-910d-4953-b977-572ff06abf5d",
   "metadata": {},
   "outputs": [
    {
     "data": {
      "text/plain": [
       "safety_security_n\n",
       "2    12173\n",
       "1    10094\n",
       "3     6363\n",
       "Name: count, dtype: int64"
      ]
     },
     "execution_count": 191,
     "metadata": {},
     "output_type": "execute_result"
    }
   ],
   "source": [
    "df['safety_security_n'].value_counts(dropna=False)"
   ]
  },
  {
   "cell_type": "markdown",
   "id": "22b5b9ee-455d-47a7-bc0a-fefb3f35eb20",
   "metadata": {},
   "source": [
    "# Entertainment Media"
   ]
  },
  {
   "cell_type": "code",
   "execution_count": 192,
   "id": "21ca0739-eef1-4fb3-9b03-2f8a87f031ae",
   "metadata": {},
   "outputs": [
    {
     "data": {
      "text/plain": [
       "entertainment_media\n",
       "NaN                                                                                                                                                                        4986\n",
       "bluetooth, usb                                                                                                                                                              753\n",
       "bluetooth                                                                                                                                                                   665\n",
       "on-board computer                                                                                                                                                           662\n",
       "cd player, on-board computer, radio                                                                                                                                         644\n",
       "                                                                                                                                                                           ... \n",
       "android auto, apple carplay, bluetooth, digital cockpit, digital radio, induction charging for smartphones, on-board computer, radio, sound system, wlan / wifi hotspot       1\n",
       "bluetooth, cd player, digital cockpit, digital radio, hands-free equipment, integrated music streaming, on-board computer, sound system, usb, wlan / wifi hotspot             1\n",
       "digital cockpit, digital radio, on-board computer, radio                                                                                                                      1\n",
       "android auto, apple carplay, digital radio, on-board computer, radio, sound system, usb, wlan / wifi hotspot                                                                  1\n",
       "hands-free equipment, integrated music streaming, on-board computer, radio, usb                                                                                               1\n",
       "Name: count, Length: 1945, dtype: int64"
      ]
     },
     "execution_count": 192,
     "metadata": {},
     "output_type": "execute_result"
    }
   ],
   "source": [
    "df['entertainment_media'].value_counts(dropna=False)"
   ]
  },
  {
   "cell_type": "code",
   "execution_count": 193,
   "id": "e63b33f9-8d48-4ea8-b993-015e30a8dcc8",
   "metadata": {},
   "outputs": [],
   "source": [
    "df[\"entertainment_media_count\"] = df['entertainment_media'].str.count(',') + 1"
   ]
  },
  {
   "cell_type": "code",
   "execution_count": 194,
   "id": "ae9307d8-77ba-412b-802d-6d0a26e167b6",
   "metadata": {},
   "outputs": [
    {
     "data": {
      "text/plain": [
       "entertainment_media_count\n",
       "NaN      4986\n",
       "2.00     2555\n",
       "3.00     2444\n",
       "4.00     2241\n",
       "1.00     2157\n",
       "7.00     2105\n",
       "8.00     2058\n",
       "6.00     2040\n",
       "5.00     2019\n",
       "9.00     1800\n",
       "10.00    1602\n",
       "11.00    1196\n",
       "12.00     840\n",
       "13.00     448\n",
       "14.00     115\n",
       "15.00      20\n",
       "16.00       4\n",
       "Name: count, dtype: int64"
      ]
     },
     "execution_count": 194,
     "metadata": {},
     "output_type": "execute_result"
    }
   ],
   "source": [
    "df[\"entertainment_media_count\"].value_counts(dropna=False)"
   ]
  },
  {
   "cell_type": "code",
   "execution_count": 195,
   "id": "97113a98-d69d-434d-b552-bf9bf78589ff",
   "metadata": {},
   "outputs": [],
   "source": [
    "df['entertainment_media_count']=df.groupby(['make_model', 'body_type','price'])['entertainment_media_count'].fillna(method='bfill').fillna(method='ffill')"
   ]
  },
  {
   "cell_type": "code",
   "execution_count": 196,
   "id": "c3e04d96-7497-415f-8e0c-90da8f707544",
   "metadata": {},
   "outputs": [
    {
     "data": {
      "text/plain": [
       "3"
      ]
     },
     "execution_count": 196,
     "metadata": {},
     "output_type": "execute_result"
    }
   ],
   "source": [
    "df['entertainment_media_count'].isna().sum()"
   ]
  },
  {
   "cell_type": "code",
   "execution_count": 197,
   "id": "cba8ae9c-426f-4d36-bd44-baa0c1c8b859",
   "metadata": {},
   "outputs": [],
   "source": [
    "df[\"entertainment_media_count\"]=df.groupby([\"make_model\"])[\"entertainment_media_count\"].transform(lambda x: x.fillna(x.median()) if len(x.mode()) > 0 else x)"
   ]
  },
  {
   "cell_type": "code",
   "execution_count": 198,
   "id": "d695821e-506b-4e96-9ca6-9c1e2fdbe0fa",
   "metadata": {},
   "outputs": [
    {
     "data": {
      "text/plain": [
       "0"
      ]
     },
     "execution_count": 198,
     "metadata": {},
     "output_type": "execute_result"
    }
   ],
   "source": [
    "df['entertainment_media_count'].isna().sum()"
   ]
  },
  {
   "cell_type": "code",
   "execution_count": 199,
   "id": "c9db6f24-0b85-45a4-a7a4-86af60556c55",
   "metadata": {},
   "outputs": [],
   "source": [
    "df['entertainment_media_count']=df['entertainment_media_count'].astype('int')"
   ]
  },
  {
   "cell_type": "code",
   "execution_count": 200,
   "id": "2dab4304-f3f8-40a4-9b59-be6d4d179184",
   "metadata": {},
   "outputs": [
    {
     "data": {
      "text/plain": [
       "entertainment_media_count\n",
       "1     3211\n",
       "2     3203\n",
       "3     3123\n",
       "4     2726\n",
       "5     2398\n",
       "7     2394\n",
       "8     2392\n",
       "6     2391\n",
       "9     2065\n",
       "10    1771\n",
       "11    1339\n",
       "12     940\n",
       "13     512\n",
       "14     131\n",
       "15      22\n",
       "16      12\n",
       "Name: count, dtype: int64"
      ]
     },
     "execution_count": 200,
     "metadata": {},
     "output_type": "execute_result"
    }
   ],
   "source": [
    "df['entertainment_media_count'].value_counts(dropna=False)"
   ]
  },
  {
   "cell_type": "code",
   "execution_count": 201,
   "id": "4661ff12-3da3-4261-8aee-aaa001359955",
   "metadata": {},
   "outputs": [],
   "source": [
    "df[\"entertainment_media\"]=df[\"entertainment_media_count\"].apply(lambda x: \"Low\" if (x >= 1 and x <= 5) else \n",
    "                                       (\"Medium\" if (x > 5 and x <= 10) else \"High\" if (x > 10) else None))"
   ]
  },
  {
   "cell_type": "code",
   "execution_count": 202,
   "id": "95684b2c-9b7d-4f72-8188-32e420ca70b2",
   "metadata": {},
   "outputs": [
    {
     "data": {
      "text/plain": [
       "entertainment_media\n",
       "Low       14661\n",
       "Medium    11013\n",
       "High       2956\n",
       "Name: count, dtype: int64"
      ]
     },
     "execution_count": 202,
     "metadata": {},
     "output_type": "execute_result"
    }
   ],
   "source": [
    "df[\"entertainment_media\"].value_counts(dropna=False)"
   ]
  },
  {
   "cell_type": "code",
   "execution_count": 203,
   "id": "3ad55abc-bcc7-49b8-9cd6-7e818259d6fe",
   "metadata": {},
   "outputs": [],
   "source": [
    "df[\"entertainment_media\"]=df[\"entertainment_media\"].astype('str')"
   ]
  },
  {
   "cell_type": "code",
   "execution_count": 204,
   "id": "6df9829f-9b33-46f6-92d8-c2fa9c8c057d",
   "metadata": {},
   "outputs": [],
   "source": [
    "df[\"entertainment_media_n\"]=df[\"entertainment_media_count\"].apply(lambda x: 1 if (x >= 1 and x <= 5) else \n",
    "                                       (2 if (x > 5 and x <= 10) else 3 if (x > 10) else None))"
   ]
  },
  {
   "cell_type": "code",
   "execution_count": 205,
   "id": "d0b6468a-35fd-4277-85ca-45b54b361783",
   "metadata": {},
   "outputs": [
    {
     "data": {
      "text/plain": [
       "entertainment_media_n\n",
       "1    14661\n",
       "2    11013\n",
       "3     2956\n",
       "Name: count, dtype: int64"
      ]
     },
     "execution_count": 205,
     "metadata": {},
     "output_type": "execute_result"
    }
   ],
   "source": [
    "df[\"entertainment_media_n\"].value_counts(dropna=False)"
   ]
  },
  {
   "cell_type": "markdown",
   "id": "e29bee9f-d91b-4102-986d-578cee307caa",
   "metadata": {},
   "source": [
    "# Extras"
   ]
  },
  {
   "cell_type": "code",
   "execution_count": 206,
   "id": "118ad234-4e5b-4efe-88a1-3dd85d450726",
   "metadata": {},
   "outputs": [
    {
     "data": {
      "text/plain": [
       "extras\n",
       "NaN                                                                                                                                                                                                                                                                 5150\n",
       "alloy wheels                                                                                                                                                                                                                                                        3408\n",
       "alloy wheels, roof rack                                                                                                                                                                                                                                              380\n",
       "alloy wheels, sport seats                                                                                                                                                                                                                                            372\n",
       "alloy wheels, touch screen                                                                                                                                                                                                                                           231\n",
       "                                                                                                                                                                                                                                                                    ... \n",
       "alloy wheels (18\"), spoiler, summer tyres, trailer hitch                                                                                                                                                                                                               1\n",
       "all season tyres, alloy wheels, automatically dimming interior mirror, catalytic converter, headlight washer system, ski bag, sport seats, trailer hitch, winter tyres                                                                                                 1\n",
       "alloy wheels, automatically dimming interior mirror, headlight washer system, sport package, sport seats, summer tyres                                                                                                                                                 1\n",
       "alloy wheels (19\"), ambient lighting, automatically dimming interior mirror, catalytic converter, e10-enabled, emergency tyre repair kit, headlight washer system, spoiler, sport package, sport seats, sport suspension, summer tyres, tuned car, voice control       1\n",
       "alloy wheels, automatically dimming interior mirror, ski bag, trailer hitch                                                                                                                                                                                            1\n",
       "Name: count, Length: 9361, dtype: int64"
      ]
     },
     "execution_count": 206,
     "metadata": {},
     "output_type": "execute_result"
    }
   ],
   "source": [
    "df[\"extras\"].value_counts(dropna=False)"
   ]
  },
  {
   "cell_type": "code",
   "execution_count": 207,
   "id": "fe0680f8-a522-4d27-ac1a-8ded297e464f",
   "metadata": {},
   "outputs": [],
   "source": [
    "df[\"extras_count\"] = df['extras'].str.count(',') + 1"
   ]
  },
  {
   "cell_type": "code",
   "execution_count": 208,
   "id": "723d2edd-350e-42c2-b448-a11ce6e35408",
   "metadata": {},
   "outputs": [
    {
     "data": {
      "text/plain": [
       "extras_count\n",
       "NaN      5150\n",
       "1.00     4874\n",
       "2.00     3105\n",
       "3.00     2797\n",
       "4.00     2315\n",
       "5.00     2024\n",
       "6.00     1597\n",
       "7.00     1494\n",
       "8.00     1137\n",
       "9.00      997\n",
       "10.00     880\n",
       "11.00     650\n",
       "12.00     565\n",
       "13.00     378\n",
       "14.00     271\n",
       "15.00     191\n",
       "16.00     108\n",
       "17.00      55\n",
       "18.00      27\n",
       "19.00      10\n",
       "20.00       3\n",
       "26.00       2\n",
       "Name: count, dtype: int64"
      ]
     },
     "execution_count": 208,
     "metadata": {},
     "output_type": "execute_result"
    }
   ],
   "source": [
    "df[\"extras_count\"].value_counts(dropna=False)"
   ]
  },
  {
   "cell_type": "code",
   "execution_count": 209,
   "id": "9587d67c-cb36-45d5-891f-79b7e2bceb2e",
   "metadata": {},
   "outputs": [],
   "source": [
    "df['extras_count']=df.groupby(['make_model', 'body_type','price'])['extras_count'].fillna(method='bfill').fillna(method='ffill')"
   ]
  },
  {
   "cell_type": "code",
   "execution_count": 210,
   "id": "b2519213-b86c-445c-a996-54f367151983",
   "metadata": {},
   "outputs": [
    {
     "data": {
      "text/plain": [
       "extras_count\n",
       "1.00     6466\n",
       "2.00     3969\n",
       "3.00     3412\n",
       "4.00     2775\n",
       "5.00     2423\n",
       "6.00     1887\n",
       "7.00     1745\n",
       "8.00     1309\n",
       "9.00     1133\n",
       "10.00     962\n",
       "11.00     746\n",
       "12.00     642\n",
       "13.00     419\n",
       "14.00     313\n",
       "15.00     204\n",
       "16.00     112\n",
       "17.00      64\n",
       "18.00      30\n",
       "19.00      11\n",
       "NaN         3\n",
       "20.00       3\n",
       "26.00       2\n",
       "Name: count, dtype: int64"
      ]
     },
     "execution_count": 210,
     "metadata": {},
     "output_type": "execute_result"
    }
   ],
   "source": [
    "df[\"extras_count\"].value_counts(dropna=False)"
   ]
  },
  {
   "cell_type": "code",
   "execution_count": 211,
   "id": "e64fab27-b8da-4c0d-87dc-99acfb183eda",
   "metadata": {},
   "outputs": [],
   "source": [
    "df[\"extras_count\"]=df.groupby([\"make_model\"])[\"extras_count\"].transform(lambda x: x.fillna(x.median()) if len(x.mode()) > 0 else x)"
   ]
  },
  {
   "cell_type": "code",
   "execution_count": 212,
   "id": "511a6e9e-0f93-4bef-af54-5c51e4d85e68",
   "metadata": {},
   "outputs": [
    {
     "data": {
      "text/plain": [
       "0"
      ]
     },
     "execution_count": 212,
     "metadata": {},
     "output_type": "execute_result"
    }
   ],
   "source": [
    "df[\"extras_count\"].isna().sum()"
   ]
  },
  {
   "cell_type": "code",
   "execution_count": 213,
   "id": "ef372311-1ced-4ff4-ba96-4d4539604367",
   "metadata": {},
   "outputs": [],
   "source": [
    "df[\"extras_count\"]=df[\"extras_count\"].astype('int')"
   ]
  },
  {
   "cell_type": "code",
   "execution_count": 214,
   "id": "8e7e7df1-55ae-4286-a65f-0d240556d022",
   "metadata": {},
   "outputs": [],
   "source": [
    "df[\"extras\"]=df[\"extras_count\"].apply(lambda x: \"Low\" if (x >= 1 and x <= 5) else \n",
    "                                       (\"Medium\" if (x > 5 and x <= 10) else \"High\" if (x > 10) else None))"
   ]
  },
  {
   "cell_type": "code",
   "execution_count": 215,
   "id": "c1bc113d-06de-418a-9722-8c53762622eb",
   "metadata": {},
   "outputs": [
    {
     "data": {
      "text/plain": [
       "extras\n",
       "Low       19047\n",
       "Medium     7037\n",
       "High       2546\n",
       "Name: count, dtype: int64"
      ]
     },
     "execution_count": 215,
     "metadata": {},
     "output_type": "execute_result"
    }
   ],
   "source": [
    "df[\"extras\"].value_counts(dropna=False)"
   ]
  },
  {
   "cell_type": "code",
   "execution_count": 216,
   "id": "e45e43db-bef4-42d0-823c-5de6f24b32a1",
   "metadata": {},
   "outputs": [],
   "source": [
    "df[\"extras\"]=df[\"extras\"].astype('str')"
   ]
  },
  {
   "cell_type": "code",
   "execution_count": 217,
   "id": "4b4f7433-5028-4974-9380-5266ec8ab888",
   "metadata": {},
   "outputs": [],
   "source": [
    "df[\"extras_n\"]=df[\"extras_count\"].apply(lambda x: 1 if (x >= 1 and x <= 5) else \n",
    "                                       (2 if (x > 5 and x <= 10) else 3 if (x > 10) else None))"
   ]
  },
  {
   "cell_type": "code",
   "execution_count": 218,
   "id": "47989242-e2d9-4105-a5c5-a1403aa9ee52",
   "metadata": {},
   "outputs": [
    {
     "data": {
      "text/plain": [
       "extras_n\n",
       "1    19047\n",
       "2     7037\n",
       "3     2546\n",
       "Name: count, dtype: int64"
      ]
     },
     "execution_count": 218,
     "metadata": {},
     "output_type": "execute_result"
    }
   ],
   "source": [
    "df[\"extras_n\"].value_counts(dropna=False)"
   ]
  },
  {
   "cell_type": "markdown",
   "id": "be491351-5337-4f25-86d9-b37a0589eef4",
   "metadata": {},
   "source": [
    "# Empty Weight"
   ]
  },
  {
   "cell_type": "code",
   "execution_count": 219,
   "id": "181c536e-0b5d-4a80-a984-cfcfd8b45692",
   "metadata": {},
   "outputs": [
    {
     "data": {
      "text/plain": [
       "empty_weight\n",
       "NaN        10872\n",
       "1395.00      233\n",
       "1055.00      224\n",
       "1423.00      216\n",
       "1165.00      200\n",
       "           ...  \n",
       "1877.00        1\n",
       "1011.00        1\n",
       "1069.00        1\n",
       "983.00         1\n",
       "1391.00        1\n",
       "Name: count, Length: 1219, dtype: int64"
      ]
     },
     "execution_count": 219,
     "metadata": {},
     "output_type": "execute_result"
    }
   ],
   "source": [
    "df['empty_weight'].value_counts(dropna=False) # price i etkileyecegini düsünmedigim icin drop edebiliriz."
   ]
  },
  {
   "cell_type": "markdown",
   "id": "018b24ea-9777-494c-af3e-09c5249b1c67",
   "metadata": {},
   "source": [
    "# General Inspection"
   ]
  },
  {
   "cell_type": "code",
   "execution_count": 220,
   "id": "ca28017c-c632-4ed4-971c-2b9290c2d745",
   "metadata": {},
   "outputs": [
    {
     "data": {
      "text/plain": [
       "general_inspection\n",
       "NaN        16376\n",
       "New         5883\n",
       "05/2023      286\n",
       "08/2023      280\n",
       "03/2023      268\n",
       "           ...  \n",
       "09/2017        1\n",
       "08/2013        1\n",
       "08/2020        1\n",
       "08/2018        1\n",
       "03/2021        1\n",
       "Name: count, Length: 92, dtype: int64"
      ]
     },
     "execution_count": 220,
     "metadata": {},
     "output_type": "execute_result"
    }
   ],
   "source": [
    "df['general_inspection'].value_counts(dropna=False)"
   ]
  },
  {
   "cell_type": "code",
   "execution_count": 221,
   "id": "4de0098f-294e-43d9-9415-7f77c849c883",
   "metadata": {},
   "outputs": [
    {
     "data": {
      "text/plain": [
       "general_inspection\n",
       "No     16376\n",
       "Yes    12254\n",
       "Name: count, dtype: int64"
      ]
     },
     "execution_count": 221,
     "metadata": {},
     "output_type": "execute_result"
    }
   ],
   "source": [
    "df['general_inspection'] = df['general_inspection'].apply(lambda x : 'No' if pd.isnull(x) else 'Yes' )\n",
    "df['general_inspection'].value_counts(dropna=False)"
   ]
  },
  {
   "cell_type": "code",
   "execution_count": 222,
   "id": "56904ebc-a599-4c85-9fb5-725db272e9d3",
   "metadata": {},
   "outputs": [],
   "source": [
    "df['general_inspection']=df['general_inspection'].astype('str')"
   ]
  },
  {
   "cell_type": "code",
   "execution_count": 223,
   "id": "0f40d7d3-d5c1-4ae3-a169-40308e146de1",
   "metadata": {},
   "outputs": [],
   "source": [
    "df['general_inspection'] = df['general_inspection'].apply(lambda x : 0 if x=='No' else 1 if x=='Yes' else 2 )"
   ]
  },
  {
   "cell_type": "code",
   "execution_count": 224,
   "id": "806369b6-73ab-442b-af37-41087c01da58",
   "metadata": {},
   "outputs": [
    {
     "data": {
      "text/plain": [
       "general_inspection\n",
       "0    16376\n",
       "1    12254\n",
       "Name: count, dtype: int64"
      ]
     },
     "execution_count": 224,
     "metadata": {},
     "output_type": "execute_result"
    }
   ],
   "source": [
    "df['general_inspection'].value_counts(dropna=False)"
   ]
  },
  {
   "cell_type": "code",
   "execution_count": 225,
   "id": "85d746ca-a396-44e9-9be1-012d9cbe8634",
   "metadata": {},
   "outputs": [
    {
     "data": {
      "text/plain": [
       "<Figure size 1000x500 with 0 Axes>"
      ]
     },
     "metadata": {},
     "output_type": "display_data"
    },
    {
     "data": {
      "image/png": "[encoded data removed]",
      "text/plain": [
       "<Figure size 1008.87x925 with 1 Axes>"
      ]
     },
     "metadata": {},
     "output_type": "display_data"
    }
   ],
   "source": [
    "show_nulls(df);"
   ]
  },
  {
   "cell_type": "markdown",
   "id": "66b8ebc5-11e3-4e4f-b037-d407a0a46c3b",
   "metadata": {},
   "source": [
    "# Last Service"
   ]
  },
  {
   "cell_type": "code",
   "execution_count": 226,
   "id": "ed757da2-aa81-4d52-9c32-b2fda8fc1cc1",
   "metadata": {},
   "outputs": [
    {
     "data": {
      "text/plain": [
       "last_service\n",
       "NaN        26627\n",
       "09/2022      220\n",
       "08/2022      196\n",
       "06/2022      164\n",
       "07/2022      155\n",
       "           ...  \n",
       "02/2018        1\n",
       "02/2011        1\n",
       "10/2013        1\n",
       "08/2017        1\n",
       "08/2019        1\n",
       "Name: count, Length: 62, dtype: int64"
      ]
     },
     "execution_count": 226,
     "metadata": {},
     "output_type": "execute_result"
    }
   ],
   "source": [
    "df['last_service'].value_counts(dropna=False)"
   ]
  },
  {
   "cell_type": "code",
   "execution_count": 227,
   "id": "8b154aeb-cc59-4066-b035-95b9fdec6ac8",
   "metadata": {},
   "outputs": [
    {
     "data": {
      "text/plain": [
       "last_service\n",
       "No     26627\n",
       "Yes     2003\n",
       "Name: count, dtype: int64"
      ]
     },
     "execution_count": 227,
     "metadata": {},
     "output_type": "execute_result"
    }
   ],
   "source": [
    "df['last_service'] = df['last_service'].apply(lambda x : 'No' if pd.isnull(x) else 'Yes' )\n",
    "df['last_service'].value_counts(dropna=False)"
   ]
  },
  {
   "cell_type": "code",
   "execution_count": 228,
   "id": "d4a0d7c5-455a-4f46-8210-a325620e3e22",
   "metadata": {},
   "outputs": [],
   "source": [
    "df['last_service']=df['last_service'].astype('str')"
   ]
  },
  {
   "cell_type": "code",
   "execution_count": 229,
   "id": "6703bc4f-f4fd-4ea2-be7b-f9709c1fbcff",
   "metadata": {},
   "outputs": [
    {
     "data": {
      "text/plain": [
       "last_service\n",
       "0    26627\n",
       "1     2003\n",
       "Name: count, dtype: int64"
      ]
     },
     "execution_count": 229,
     "metadata": {},
     "output_type": "execute_result"
    }
   ],
   "source": [
    "df['last_service'] = df['last_service'].apply(lambda x : 0 if x== 'No' else 1 if x=='Yes' else 2 )\n",
    "df['last_service'].value_counts(dropna=False)"
   ]
  },
  {
   "cell_type": "code",
   "execution_count": 230,
   "id": "6b3390d1-8ddb-4aa3-86d8-3da91619a538",
   "metadata": {},
   "outputs": [
    {
     "data": {
      "text/plain": [
       "full_service_history\n",
       "NaN    16065\n",
       "Yes    12565\n",
       "Name: count, dtype: int64"
      ]
     },
     "execution_count": 230,
     "metadata": {},
     "output_type": "execute_result"
    }
   ],
   "source": [
    "df['full_service_history'].value_counts(dropna=False)"
   ]
  },
  {
   "cell_type": "code",
   "execution_count": 231,
   "id": "986a408c-70e4-44c2-9a66-46d5a6dc5fdf",
   "metadata": {},
   "outputs": [
    {
     "data": {
      "text/plain": [
       "full_service_history\n",
       "No     16065\n",
       "Yes    12565\n",
       "Name: count, dtype: int64"
      ]
     },
     "execution_count": 231,
     "metadata": {},
     "output_type": "execute_result"
    }
   ],
   "source": [
    "df['full_service_history'] = df['full_service_history'].apply(lambda x : 'No' if pd.isnull(x) else 'Yes' )\n",
    "df['full_service_history'].value_counts(dropna=False)"
   ]
  },
  {
   "cell_type": "code",
   "execution_count": 232,
   "id": "819d8deb-0160-4cac-aabb-b11bad15b119",
   "metadata": {},
   "outputs": [],
   "source": [
    "df['full_service_history']=df['full_service_history'].astype('str')"
   ]
  },
  {
   "cell_type": "code",
   "execution_count": 233,
   "id": "3edfbc03-dce5-4522-8ead-a74861973548",
   "metadata": {},
   "outputs": [
    {
     "data": {
      "text/plain": [
       "full_service_history\n",
       "0    16065\n",
       "1    12565\n",
       "Name: count, dtype: int64"
      ]
     },
     "execution_count": 233,
     "metadata": {},
     "output_type": "execute_result"
    }
   ],
   "source": [
    "df['full_service_history']=df['full_service_history'].apply(lambda x : 0 if x== 'No' else 1 if x=='Yes' else 2 )\n",
    "df['full_service_history'].value_counts(dropna=False)"
   ]
  },
  {
   "cell_type": "markdown",
   "id": "434eb581-e3d0-4c38-b6e6-6086e44b71f0",
   "metadata": {},
   "source": [
    "# No Smoker Vehicle"
   ]
  },
  {
   "cell_type": "code",
   "execution_count": 234,
   "id": "07ffaa00-20e4-4607-b15b-2e13996cd220",
   "metadata": {},
   "outputs": [
    {
     "data": {
      "text/plain": [
       "non_smoker_vehicle\n",
       "NaN    17036\n",
       "Yes    11594\n",
       "Name: count, dtype: int64"
      ]
     },
     "execution_count": 234,
     "metadata": {},
     "output_type": "execute_result"
    }
   ],
   "source": [
    "df['non_smoker_vehicle'].value_counts(dropna=False)"
   ]
  },
  {
   "cell_type": "code",
   "execution_count": 235,
   "id": "8bb13c4f-7b72-4f5d-9773-f5433a67e52f",
   "metadata": {},
   "outputs": [
    {
     "data": {
      "text/plain": [
       "non_smoker_vehicle\n",
       "No     17036\n",
       "Yes    11594\n",
       "Name: count, dtype: int64"
      ]
     },
     "execution_count": 235,
     "metadata": {},
     "output_type": "execute_result"
    }
   ],
   "source": [
    "df['non_smoker_vehicle'] = df['non_smoker_vehicle'].apply(lambda x : 'No' if pd.isnull(x) else 'Yes' )\n",
    "df['non_smoker_vehicle'].value_counts(dropna=False)"
   ]
  },
  {
   "cell_type": "code",
   "execution_count": 236,
   "id": "e1c9a4ad-4997-49ad-9eb4-d93b06a618eb",
   "metadata": {},
   "outputs": [],
   "source": [
    "df['non_smoker_vehicle']=df['non_smoker_vehicle'].astype('str')"
   ]
  },
  {
   "cell_type": "code",
   "execution_count": 237,
   "id": "f4090eae-85c9-4dd3-838e-0b1cabe73c38",
   "metadata": {},
   "outputs": [
    {
     "data": {
      "text/plain": [
       "non_smoker_vehicle\n",
       "0    17036\n",
       "1    11594\n",
       "Name: count, dtype: int64"
      ]
     },
     "execution_count": 237,
     "metadata": {},
     "output_type": "execute_result"
    }
   ],
   "source": [
    "df['non_smoker_vehicle']=df['non_smoker_vehicle'].apply(lambda x : 0 if x== 'No' else 1 if x=='Yes' else 2 )\n",
    "df['non_smoker_vehicle'].value_counts(dropna=False)"
   ]
  },
  {
   "cell_type": "markdown",
   "id": "26722f34-5986-4f99-b55f-94afa64028d6",
   "metadata": {},
   "source": [
    "# Emission Class"
   ]
  },
  {
   "cell_type": "code",
   "execution_count": 238,
   "id": "95de6861-80fb-4cd1-97e4-cbf28f4a372a",
   "metadata": {},
   "outputs": [
    {
     "data": {
      "text/plain": [
       "emission_class\n",
       "Euro 6    12815\n",
       "NaN       10771\n",
       "Euro 5     2389\n",
       "Euro 4     1743\n",
       "Euro 3      523\n",
       "Euro 2      217\n",
       "Euro 1      172\n",
       "Name: count, dtype: int64"
      ]
     },
     "execution_count": 238,
     "metadata": {},
     "output_type": "execute_result"
    }
   ],
   "source": [
    "df['emission_class'].value_counts(dropna=False)"
   ]
  },
  {
   "cell_type": "code",
   "execution_count": 239,
   "id": "eced840b-51a4-4fa1-a0b3-73d553738f48",
   "metadata": {},
   "outputs": [
    {
     "data": {
      "text/plain": [
       "emissions_sticker\n",
       "NaN               10288\n",
       "4 (Green)           427\n",
       "1 (No sticker)       56\n",
       "Name: count, dtype: int64"
      ]
     },
     "execution_count": 239,
     "metadata": {},
     "output_type": "execute_result"
    }
   ],
   "source": [
    "df.loc[df['emission_class'].isna()]['emissions_sticker'].value_counts(dropna=False)"
   ]
  },
  {
   "cell_type": "code",
   "execution_count": 240,
   "id": "c22282df-673c-42b9-a680-cd0cb2151d36",
   "metadata": {},
   "outputs": [],
   "source": [
    "df['emission_class']=df.groupby(['fuel_type','engine_size','co_emissions','emissions_sticker'])['emission_class'].fillna(method='bfill').fillna(method='ffill')"
   ]
  },
  {
   "cell_type": "code",
   "execution_count": 241,
   "id": "d1442c88-dc0e-4e05-9f7c-5d5c80e2a4d2",
   "metadata": {},
   "outputs": [
    {
     "data": {
      "text/plain": [
       "emission_class\n",
       "Euro 6    23691\n",
       "Euro 5     2719\n",
       "Euro 4     1738\n",
       "Euro 3      293\n",
       "Euro 2      123\n",
       "Euro 1       61\n",
       "NaN           5\n",
       "Name: count, dtype: int64"
      ]
     },
     "execution_count": 241,
     "metadata": {},
     "output_type": "execute_result"
    }
   ],
   "source": [
    "df['emission_class'].value_counts(dropna=False)"
   ]
  },
  {
   "cell_type": "code",
   "execution_count": 242,
   "id": "c3b81304-e9ed-430c-9968-03e8701e9df5",
   "metadata": {},
   "outputs": [],
   "source": [
    "df['emission_class']=df.groupby(['fuel_type','engine_size','co_emissions'])['emission_class'].fillna(method='bfill').fillna(method='ffill')"
   ]
  },
  {
   "cell_type": "code",
   "execution_count": 243,
   "id": "c0d6f419-4f59-40aa-8f52-2850d9888fde",
   "metadata": {},
   "outputs": [
    {
     "data": {
      "text/plain": [
       "0"
      ]
     },
     "execution_count": 243,
     "metadata": {},
     "output_type": "execute_result"
    }
   ],
   "source": [
    "df['emission_class'].isna().sum()"
   ]
  },
  {
   "cell_type": "code",
   "execution_count": 244,
   "id": "f294a4b5-dd4f-4587-a2d7-2ee376b9c706",
   "metadata": {},
   "outputs": [],
   "source": [
    "df['emission_class']=df['emission_class'].str.split(' ').str[1]"
   ]
  },
  {
   "cell_type": "code",
   "execution_count": 245,
   "id": "e1ace9d0-26c6-4a62-8462-f37c7578c540",
   "metadata": {},
   "outputs": [
    {
     "data": {
      "text/plain": [
       "emission_class\n",
       "6    23696\n",
       "5     2719\n",
       "4     1738\n",
       "3      293\n",
       "2      123\n",
       "1       61\n",
       "Name: count, dtype: int64"
      ]
     },
     "execution_count": 245,
     "metadata": {},
     "output_type": "execute_result"
    }
   ],
   "source": [
    "df['emission_class'].value_counts(dropna=False)"
   ]
  },
  {
   "cell_type": "markdown",
   "id": "fca6d1f8-21d9-4fb7-bb39-9f5e865608c8",
   "metadata": {},
   "source": [
    " # Upholstery"
   ]
  },
  {
   "cell_type": "code",
   "execution_count": 246,
   "id": "4258b057-b5bd-4f66-b99f-ea5b3586f122",
   "metadata": {},
   "outputs": [
    {
     "data": {
      "text/plain": [
       "upholstery\n",
       "NaN             10020\n",
       "Cloth            8736\n",
       "Full leather     5439\n",
       "Part leather     2835\n",
       "alcantara         764\n",
       "Other             628\n",
       "Velour            208\n",
       "Name: count, dtype: int64"
      ]
     },
     "execution_count": 246,
     "metadata": {},
     "output_type": "execute_result"
    }
   ],
   "source": [
    "df['upholstery'].value_counts(dropna=False)"
   ]
  },
  {
   "cell_type": "code",
   "execution_count": 247,
   "id": "d1b704b2-eece-4eb1-96d7-639ba0d7d332",
   "metadata": {},
   "outputs": [],
   "source": [
    "df['upholstery'] = df['upholstery'].apply(lambda x: 'Cloth' if x in ['Cloth', 'Velour'] or pd.isna(x) \n",
    "                                              else 'Leather' if x in ['Full leather', 'Part leather'] \n",
    "                                              else 'Other' if x in ['Other', 'alcantara']\n",
    "                                              else 'Unknown')"
   ]
  },
  {
   "cell_type": "code",
   "execution_count": 248,
   "id": "4bb6d559-0d29-4c4e-9b7f-0aecb783e898",
   "metadata": {},
   "outputs": [
    {
     "data": {
      "text/plain": [
       "upholstery\n",
       "Cloth      18964\n",
       "Leather     8274\n",
       "Other       1392\n",
       "Name: count, dtype: int64"
      ]
     },
     "execution_count": 248,
     "metadata": {},
     "output_type": "execute_result"
    }
   ],
   "source": [
    "df['upholstery'].value_counts(dropna=False)"
   ]
  },
  {
   "cell_type": "code",
   "execution_count": 249,
   "id": "a648a6bb-344b-475d-a162-d791bf28daf1",
   "metadata": {},
   "outputs": [],
   "source": [
    "df['upholstery']=df['upholstery'].astype('str')"
   ]
  },
  {
   "cell_type": "markdown",
   "id": "626d773f-fecd-4285-a5d3-da14dd45b08a",
   "metadata": {},
   "source": [
    "# Previous Owner"
   ]
  },
  {
   "cell_type": "code",
   "execution_count": 250,
   "id": "df622143-14f7-495a-87b9-a49451a68a56",
   "metadata": {},
   "outputs": [
    {
     "data": {
      "text/plain": [
       "previous_owner\n",
       "NaN      14615\n",
       "1.00      9746\n",
       "2.00      3221\n",
       "3.00       699\n",
       "4.00       184\n",
       "5.00        69\n",
       "6.00        37\n",
       "7.00        22\n",
       "8.00        16\n",
       "9.00        14\n",
       "12.00        3\n",
       "10.00        2\n",
       "14.00        1\n",
       "13.00        1\n",
       "Name: count, dtype: int64"
      ]
     },
     "execution_count": 250,
     "metadata": {},
     "output_type": "execute_result"
    }
   ],
   "source": [
    "df['previous_owner'].value_counts(dropna=False)"
   ]
  },
  {
   "cell_type": "code",
   "execution_count": 251,
   "id": "c37ca558-0eb7-4c9a-b37e-558d0f888a7c",
   "metadata": {},
   "outputs": [],
   "source": [
    "df['previous_owner']=df['previous_owner'].apply(lambda x : 'No' if pd.isnull(x) else 'Yes' )"
   ]
  },
  {
   "cell_type": "code",
   "execution_count": 252,
   "id": "aaea9cb0-c030-43c7-97be-9a42ad6fb4e9",
   "metadata": {},
   "outputs": [
    {
     "data": {
      "text/plain": [
       "previous_owner\n",
       "No     14615\n",
       "Yes    14015\n",
       "Name: count, dtype: int64"
      ]
     },
     "execution_count": 252,
     "metadata": {},
     "output_type": "execute_result"
    }
   ],
   "source": [
    "df['previous_owner'].value_counts(dropna=False)"
   ]
  },
  {
   "cell_type": "code",
   "execution_count": 253,
   "id": "aa1f50d7-fc4e-45fe-bbaf-de91d2b99a72",
   "metadata": {},
   "outputs": [],
   "source": [
    "df['previous_owner']=df['previous_owner'].astype('str')"
   ]
  },
  {
   "cell_type": "code",
   "execution_count": 254,
   "id": "cc8bed5a-063e-41fd-a95b-94c60ff4ba51",
   "metadata": {},
   "outputs": [
    {
     "data": {
      "text/plain": [
       "previous_owner\n",
       "0    14615\n",
       "1    14015\n",
       "Name: count, dtype: int64"
      ]
     },
     "execution_count": 254,
     "metadata": {},
     "output_type": "execute_result"
    }
   ],
   "source": [
    "df['previous_owner']=df['previous_owner'].apply(lambda x : 0 if x== 'No' else 1 if x=='Yes' else 2 )\n",
    "df['previous_owner'].value_counts(dropna=False)"
   ]
  },
  {
   "cell_type": "code",
   "execution_count": 255,
   "id": "3239fdc3-222f-48b0-86fd-7f502ee3eab1",
   "metadata": {},
   "outputs": [
    {
     "data": {
      "text/plain": [
       "power_consumption\n",
       "NaN      28115\n",
       "0.00       101\n",
       "15.20       30\n",
       "15.70       19\n",
       "17.70       17\n",
       "         ...  \n",
       "18.00        1\n",
       "25.30        1\n",
       "12.70        1\n",
       "22.70        1\n",
       "20.40        1\n",
       "Name: count, Length: 105, dtype: int64"
      ]
     },
     "execution_count": 255,
     "metadata": {},
     "output_type": "execute_result"
    }
   ],
   "source": [
    "df['power_consumption'].value_counts(dropna=False)  # to be dropped"
   ]
  },
  {
   "cell_type": "code",
   "execution_count": 256,
   "id": "8d974d89-a3b5-456d-8c7a-4067b7ac6ef3",
   "metadata": {},
   "outputs": [
    {
     "data": {
      "text/plain": [
       "co_efficiency\n",
       "NaN                                                                                           20826\n",
       "Calculated on basis of measured CO₂-emissions taking into account the mass of the vehicle.     7804\n",
       "Name: count, dtype: int64"
      ]
     },
     "execution_count": 256,
     "metadata": {},
     "output_type": "execute_result"
    }
   ],
   "source": [
    "df['co_efficiency'].value_counts(dropna=False) # to be dropped"
   ]
  },
  {
   "cell_type": "code",
   "execution_count": 257,
   "id": "138495b1-f60d-4b8e-b5e2-880f80229a60",
   "metadata": {},
   "outputs": [
    {
     "data": {
      "text/plain": [
       "taxi_or_rental_car\n",
       "NaN    28208\n",
       "Yes      422\n",
       "Name: count, dtype: int64"
      ]
     },
     "execution_count": 257,
     "metadata": {},
     "output_type": "execute_result"
    }
   ],
   "source": [
    "df['taxi_or_rental_car'].value_counts(dropna=False)"
   ]
  },
  {
   "cell_type": "code",
   "execution_count": 258,
   "id": "733c3e80-c83e-4048-9796-550908d20a50",
   "metadata": {},
   "outputs": [],
   "source": [
    "df['taxi_or_rental_car']=df['taxi_or_rental_car'].apply(lambda x : 'No' if pd.isnull(x) else 'Yes' )"
   ]
  },
  {
   "cell_type": "code",
   "execution_count": 259,
   "id": "d0a6820f-a581-49d4-a599-8cdabdeea6c0",
   "metadata": {},
   "outputs": [
    {
     "data": {
      "text/plain": [
       "taxi_or_rental_car\n",
       "No     28208\n",
       "Yes      422\n",
       "Name: count, dtype: int64"
      ]
     },
     "execution_count": 259,
     "metadata": {},
     "output_type": "execute_result"
    }
   ],
   "source": [
    "df['taxi_or_rental_car'].value_counts(dropna=False)"
   ]
  },
  {
   "cell_type": "code",
   "execution_count": 260,
   "id": "5fda8ae0-4333-4da4-9ae2-4e5e0f04bdcf",
   "metadata": {},
   "outputs": [],
   "source": [
    "df['taxi_or_rental_car']=df['taxi_or_rental_car'].astype('str')"
   ]
  },
  {
   "cell_type": "code",
   "execution_count": 261,
   "id": "f30ed128-0a47-48ac-9d7d-bd8754325e08",
   "metadata": {},
   "outputs": [],
   "source": [
    "df['taxi_or_rental_car']=df['taxi_or_rental_car'].apply(lambda x : 0 if x== 'No' else 1 if x=='Yes' else 2 )"
   ]
  },
  {
   "cell_type": "code",
   "execution_count": 262,
   "id": "2c47ca48-fa12-4e2f-86ae-cf0868abe570",
   "metadata": {},
   "outputs": [
    {
     "data": {
      "text/plain": [
       "taxi_or_rental_car\n",
       "0    28208\n",
       "1      422\n",
       "Name: count, dtype: int64"
      ]
     },
     "execution_count": 262,
     "metadata": {},
     "output_type": "execute_result"
    }
   ],
   "source": [
    "df['taxi_or_rental_car'].value_counts(dropna=False)"
   ]
  },
  {
   "cell_type": "markdown",
   "id": "c37c5e24-649c-41c9-9469-4d5b09e6f545",
   "metadata": {},
   "source": [
    "# Paint"
   ]
  },
  {
   "cell_type": "code",
   "execution_count": 263,
   "id": "9c3fdc95-6db6-4b60-bfd4-b591dd7c218f",
   "metadata": {},
   "outputs": [
    {
     "data": {
      "text/plain": [
       "paint\n",
       "1    14494\n",
       "0    14136\n",
       "Name: count, dtype: int64"
      ]
     },
     "execution_count": 263,
     "metadata": {},
     "output_type": "execute_result"
    }
   ],
   "source": [
    "df['paint'].value_counts(dropna=False)"
   ]
  },
  {
   "cell_type": "code",
   "execution_count": 264,
   "id": "7747f015-f168-462c-a377-e4d37cc0fa7a",
   "metadata": {},
   "outputs": [],
   "source": [
    "df[\"paint\"] = df[\"paint\"].apply(lambda x: 'Metallic'  if x == 1 else 'Basic')"
   ]
  },
  {
   "cell_type": "code",
   "execution_count": 265,
   "id": "176b6f66-97ae-44e4-ba30-d6b3d8f89978",
   "metadata": {},
   "outputs": [],
   "source": [
    "df[\"paint\"]=df[\"paint\"].astype('str')"
   ]
  },
  {
   "cell_type": "code",
   "execution_count": 266,
   "id": "8d44571a-7ed5-4dee-b5bf-966c373f1430",
   "metadata": {},
   "outputs": [
    {
     "data": {
      "text/plain": [
       "paint\n",
       "Metallic    14494\n",
       "Basic       14136\n",
       "Name: count, dtype: int64"
      ]
     },
     "execution_count": 266,
     "metadata": {},
     "output_type": "execute_result"
    }
   ],
   "source": [
    "df['paint'].value_counts(dropna=False)"
   ]
  },
  {
   "cell_type": "markdown",
   "id": "9edcc667-8f4e-4d47-aaad-62aaac4b5810",
   "metadata": {},
   "source": [
    "# Dropping"
   ]
  },
  {
   "cell_type": "code",
   "execution_count": 267,
   "id": "940c4a84-8cda-43a9-91c0-2f855eb9c129",
   "metadata": {
    "scrolled": true
   },
   "outputs": [
    {
     "data": {
      "text/plain": [
       "Index(['make_model', 'short_description', 'make', 'model', 'location', 'price',\n",
       "       'body_type', 'type', 'doors', 'country_version', 'offer_number',\n",
       "       'warranty', 'mileage', 'first_registration', 'gearbox', 'fuel_type',\n",
       "       'colour', 'paint', 'desc', 'seller', 'seats', 'power', 'engine_size',\n",
       "       'gears', 'co_emissions', 'manufacturer_colour', 'drivetrain',\n",
       "       'cylinders', 'fuel_consumption', 'comfort_convenience',\n",
       "       'entertainment_media', 'safety_security', 'extras', 'empty_weight',\n",
       "       'model_code', 'general_inspection', 'last_service',\n",
       "       'full_service_history', 'non_smoker_vehicle', 'emission_class',\n",
       "       'emissions_sticker', 'upholstery_colour', 'upholstery',\n",
       "       'production_date', 'previous_owner', 'other_fuel_types',\n",
       "       'power_consumption', 'energy_efficiency_class', 'co_efficiency',\n",
       "       'taxi_or_rental_car', 'country', 'city', 'doors_mode', 'year', 'age',\n",
       "       'comfort_convenience_count', 'comfort_convenience_n',\n",
       "       'safety_security_count', 'safety_security_n',\n",
       "       'entertainment_media_count', 'entertainment_media_n', 'extras_count',\n",
       "       'extras_n'],\n",
       "      dtype='object')"
      ]
     },
     "execution_count": 267,
     "metadata": {},
     "output_type": "execute_result"
    }
   ],
   "source": [
    "df.columns"
   ]
  },
  {
   "cell_type": "code",
   "execution_count": 268,
   "id": "493181ed-6b78-478a-89a0-8edb2eed8058",
   "metadata": {},
   "outputs": [
    {
     "data": {
      "text/plain": [
       "(28630, 63)"
      ]
     },
     "execution_count": 268,
     "metadata": {},
     "output_type": "execute_result"
    }
   ],
   "source": [
    "df.shape"
   ]
  },
  {
   "cell_type": "code",
   "execution_count": 269,
   "id": "f62d5817-a338-4528-8af1-6fba0fd36431",
   "metadata": {},
   "outputs": [],
   "source": [
    "df.drop(['country_version', 'offer_number', 'doors_mode', 'desc', 'short_description', 'model', 'gears', 'manufacturer_colour','cylinders', 'empty_weight', 'model_code',\n",
    "          'emissions_sticker', 'upholstery_colour','production_date', 'other_fuel_types',\n",
    "       'power_consumption', 'energy_efficiency_class', 'co_efficiency', 'year',  'comfort_convenience_count', 'safety_security_count',\n",
    "       'entertainment_media_count', 'extras_count', 'city'], axis=1, inplace=True)"
   ]
  },
  {
   "cell_type": "code",
   "execution_count": 270,
   "id": "64b4120d-dabb-4acc-b9d0-3360ea97ecc5",
   "metadata": {},
   "outputs": [
    {
     "data": {
      "text/plain": [
       "(28630, 39)"
      ]
     },
     "execution_count": 270,
     "metadata": {},
     "output_type": "execute_result"
    }
   ],
   "source": [
    "df.shape"
   ]
  },
  {
   "cell_type": "code",
   "execution_count": 271,
   "id": "07f73ee4-7c36-43fc-9fbf-d93fda6ce2bb",
   "metadata": {},
   "outputs": [
    {
     "data": {
      "text/plain": [
       "Index(['make_model', 'make', 'location', 'price', 'body_type', 'type', 'doors',\n",
       "       'warranty', 'mileage', 'first_registration', 'gearbox', 'fuel_type',\n",
       "       'colour', 'paint', 'seller', 'seats', 'power', 'engine_size',\n",
       "       'co_emissions', 'drivetrain', 'fuel_consumption', 'comfort_convenience',\n",
       "       'entertainment_media', 'safety_security', 'extras',\n",
       "       'general_inspection', 'last_service', 'full_service_history',\n",
       "       'non_smoker_vehicle', 'emission_class', 'upholstery', 'previous_owner',\n",
       "       'taxi_or_rental_car', 'country', 'age', 'comfort_convenience_n',\n",
       "       'safety_security_n', 'entertainment_media_n', 'extras_n'],\n",
       "      dtype='object')"
      ]
     },
     "execution_count": 271,
     "metadata": {},
     "output_type": "execute_result"
    }
   ],
   "source": [
    "df.columns"
   ]
  },
  {
   "cell_type": "markdown",
   "id": "7c513bef",
   "metadata": {},
   "source": [
    "## Saving the data into a csv file"
   ]
  },
  {
   "cell_type": "code",
   "execution_count": 272,
   "id": "59cf6453-b1f6-436c-8f8c-ed44bf9e95d5",
   "metadata": {},
   "outputs": [],
   "source": [
    "df.to_csv('df_cleaned_no_missing_val.csv')"
   ]
  }
 ],
 "metadata": {
  "kernelspec": {
   "display_name": "Python 3 (ipykernel)",
   "language": "python",
   "name": "python3"
  },
  "language_info": {
   "codemirror_mode": {
    "name": "ipython",
    "version": 3
   },
   "file_extension": ".py",
   "mimetype": "text/x-python",
   "name": "python",
   "nbconvert_exporter": "python",
   "pygments_lexer": "ipython3",
   "version": "3.11.5"
  }
 },
 "nbformat": 4,
 "nbformat_minor": 5
}
