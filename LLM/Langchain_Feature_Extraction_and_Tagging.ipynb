{
  "cells": [
    {
      "cell_type": "markdown",
      "id": "9d1b6f00",
      "metadata": {},
      "source": [
        "# Using Langchain for Feature Extraction and Tagging"
      ]
    },
    {
      "cell_type": "markdown",
      "id": "b84edb4e",
      "metadata": {
        "id": "b84edb4e"
      },
      "source": [
        "Getting structured output from raw LLM generations is hard.\n",
        "\n",
        "For example, suppose you need the model output formatted with a specific schema for:\n",
        "\n",
        "- Extracting different parts of a user query (e.g., for semantic vs keyword search)\n"
      ]
    },
    {
      "cell_type": "markdown",
      "id": "178dbc59",
      "metadata": {
        "id": "178dbc59"
      },
      "source": [
        "![Image description](https://github.com/langchain-ai/langchain/blob/master/docs/static/img/extraction.png?raw=1)"
      ]
    },
    {
      "cell_type": "markdown",
      "id": "97f474d4",
      "metadata": {
        "id": "97f474d4"
      },
      "source": [
        "## Overview\n",
        "\n",
        "There are two primary approaches for this:\n",
        "\n",
        "- `Functions`: Some LLMs can call [functions](https://openai.com/blog/function-calling-and-other-api-updates) to extract arbitrary entities from LLM responses.\n",
        "\n",
        "- `Pydantic`: Pydantic library is used to extract the features we want from the data for Python.\n",
        "\n",
        "Only some LLMs support functions (e.g., OpenAI), and they are more general than parsers.\n",
        "\n",
        "Parsers extract precisely what is enumerated in a provided schema (e.g., specific attributes of a person).\n",
        "\n",
        "Functions can infer things beyond of a provided schema (e.g., attributes about a person that you did not ask for)."
      ]
    },
    {
      "cell_type": "markdown",
      "id": "25d89f21",
      "metadata": {
        "id": "25d89f21"
      },
      "source": [
        "## Quickstart\n",
        "\n",
        "OpenAI functions are one way to get started with extraction.\n",
        "\n",
        "Define a schema that specifies the properties we want to extract from the LLM output.\n",
        "\n",
        "Then, we can use `create_extraction_chain` to extract our desired schema using an OpenAI function call."
      ]
    },
    {
      "cell_type": "code",
      "execution_count": null,
      "id": "3f5ec7a3",
      "metadata": {
        "colab": {
          "base_uri": "https://localhost:8080/"
        },
        "id": "3f5ec7a3",
        "outputId": "25f6b44a-eb18-44ac-8094-febe37dfc546"
      },
      "outputs": [
        {
          "name": "stdout",
          "output_type": "stream",
          "text": [
            "\u001b[2K     \u001b[90m━━━━━━━━━━━━━━━━━━━━━━━━━━━━━━━━━━━━━━━━\u001b[0m \u001b[32m817.7/817.7 kB\u001b[0m \u001b[31m8.4 MB/s\u001b[0m eta \u001b[36m0:00:00\u001b[0m\n",
            "\u001b[2K     \u001b[90m━━━━━━━━━━━━━━━━━━━━━━━━━━━━━━━━━━━━━━━━\u001b[0m \u001b[32m1.9/1.9 MB\u001b[0m \u001b[31m47.0 MB/s\u001b[0m eta \u001b[36m0:00:00\u001b[0m\n",
            "\u001b[2K     \u001b[90m━━━━━━━━━━━━━━━━━━━━━━━━━━━━━━━━━━━━━━━━\u001b[0m \u001b[32m291.3/291.3 kB\u001b[0m \u001b[31m19.4 MB/s\u001b[0m eta \u001b[36m0:00:00\u001b[0m\n",
            "\u001b[2K     \u001b[90m━━━━━━━━━━━━━━━━━━━━━━━━━━━━━━━━━━━━━━━━\u001b[0m \u001b[32m115.5/115.5 kB\u001b[0m \u001b[31m7.2 MB/s\u001b[0m eta \u001b[36m0:00:00\u001b[0m\n",
            "\u001b[2K     \u001b[90m━━━━━━━━━━━━━━━━━━━━━━━━━━━━━━━━━━━━━━━━\u001b[0m \u001b[32m311.6/311.6 kB\u001b[0m \u001b[31m22.5 MB/s\u001b[0m eta \u001b[36m0:00:00\u001b[0m\n",
            "\u001b[2K     \u001b[90m━━━━━━━━━━━━━━━━━━━━━━━━━━━━━━━━━━━━━━━━\u001b[0m \u001b[32m1.8/1.8 MB\u001b[0m \u001b[31m47.8 MB/s\u001b[0m eta \u001b[36m0:00:00\u001b[0m\n",
            "\u001b[2K     \u001b[90m━━━━━━━━━━━━━━━━━━━━━━━━━━━━━━━━━━━━━━━━\u001b[0m \u001b[32m49.4/49.4 kB\u001b[0m \u001b[31m3.1 MB/s\u001b[0m eta \u001b[36m0:00:00\u001b[0m\n",
            "\u001b[2K     \u001b[90m━━━━━━━━━━━━━━━━━━━━━━━━━━━━━━━━━━━━━━━━\u001b[0m \u001b[32m53.0/53.0 kB\u001b[0m \u001b[31m3.5 MB/s\u001b[0m eta \u001b[36m0:00:00\u001b[0m\n",
            "\u001b[2K     \u001b[90m━━━━━━━━━━━━━━━━━━━━━━━━━━━━━━━━━━━━━━━━\u001b[0m \u001b[32m141.1/141.1 kB\u001b[0m \u001b[31m1.6 MB/s\u001b[0m eta \u001b[36m0:00:00\u001b[0m\n",
            "\u001b[2K     \u001b[90m━━━━━━━━━━━━━━━━━━━━━━━━━━━━━━━━━━━━━━━━\u001b[0m \u001b[32m75.6/75.6 kB\u001b[0m \u001b[31m2.9 MB/s\u001b[0m eta \u001b[36m0:00:00\u001b[0m\n",
            "\u001b[2K     \u001b[90m━━━━━━━━━━━━━━━━━━━━━━━━━━━━━━━━━━━━━━━━\u001b[0m \u001b[32m77.9/77.9 kB\u001b[0m \u001b[31m5.2 MB/s\u001b[0m eta \u001b[36m0:00:00\u001b[0m\n",
            "\u001b[2K     \u001b[90m━━━━━━━━━━━━━━━━━━━━━━━━━━━━━━━━━━━━━━━━\u001b[0m \u001b[32m58.3/58.3 kB\u001b[0m \u001b[31m4.0 MB/s\u001b[0m eta \u001b[36m0:00:00\u001b[0m\n",
            "\u001b[?25h"
          ]
        }
      ],
      "source": [
        "!pip install --upgrade --quiet langchain langchain-openai"
      ]
    },
    {
      "cell_type": "code",
      "execution_count": null,
      "id": "mnkeqTm5xymm",
      "metadata": {
        "id": "mnkeqTm5xymm"
      },
      "outputs": [],
      "source": [
        "import os\n",
        "from google.colab import userdata\n",
        "os.environ['OPENAI_API_KEY']=userdata.get('OPENAI_API_KEY')"
      ]
    },
    {
      "cell_type": "code",
      "execution_count": null,
      "id": "3e017ba0",
      "metadata": {
        "colab": {
          "base_uri": "https://localhost:8080/"
        },
        "id": "3e017ba0",
        "outputId": "2f9900cf-3ca4-4398-b8b3-e01085e1cf8b"
      },
      "outputs": [
        {
          "data": {
            "text/plain": [
              "{'input': 'Alex is 5 feet tall. Claudia is 1 feet taller Alex and jumps higher than him. Claudia is a brunette and Alex is blonde.',\n",
              " 'text': [{'name': 'Alex', 'height': 5, 'hair_color': 'blonde'},\n",
              "  {'name': 'Claudia', 'height': 6, 'hair_color': 'brunette'}]}"
            ]
          },
          "execution_count": 6,
          "metadata": {},
          "output_type": "execute_result"
        }
      ],
      "source": [
        "from langchain.chains import create_extraction_chain\n",
        "from langchain_openai import ChatOpenAI\n",
        "\n",
        "# Schema\n",
        "schema = {\n",
        "    \"properties\": {\n",
        "        \"name\": {\"type\": \"string\"}, #\"description\":\"person name\", required=True\n",
        "        \"height\": {\"type\": \"integer\"},\n",
        "        \"hair_color\": {\"type\": \"string\"},\n",
        "    },\n",
        "    \"required\": [\"name\", \"height\"],\n",
        "}\n",
        "\n",
        "# Input\n",
        "inp = \"\"\"Alex is 5 feet tall. Claudia is 1 feet taller Alex and jumps higher than him. Claudia is a brunette and Alex is blonde.\"\"\"\n",
        "\n",
        "# Run chain\n",
        "llm = ChatOpenAI(model=\"gpt-3.5-turbo-0125\",\n",
        "                 #openai_api_key=os.environ['OPENAI_API_KEY'],\n",
        "                 temperature=0)\n",
        "chain = create_extraction_chain(schema, llm)\n",
        "output=chain.invoke(inp)\n",
        "output"
      ]
    },
    {
      "cell_type": "code",
      "execution_count": null,
      "id": "InivWz01bLRH",
      "metadata": {
        "colab": {
          "base_uri": "https://localhost:8080/"
        },
        "id": "InivWz01bLRH",
        "outputId": "e45d4660-9341-451c-bcd4-2adacc082c4d"
      },
      "outputs": [
        {
          "data": {
            "text/plain": [
              "[{'name': 'Alex', 'height': 5, 'hair_color': 'blonde'},\n",
              " {'name': 'Claudia', 'height': 6, 'hair_color': 'brunette'}]"
            ]
          },
          "execution_count": 7,
          "metadata": {},
          "output_type": "execute_result"
        }
      ],
      "source": [
        "# Just output\n",
        "output[\"text\"]"
      ]
    },
    {
      "cell_type": "code",
      "execution_count": null,
      "id": "c-uGTJdX0Sc_",
      "metadata": {
        "colab": {
          "base_uri": "https://localhost:8080/"
        },
        "id": "c-uGTJdX0Sc_",
        "outputId": "e0f6f362-9e97-4614-fbd5-535ac24ccec9"
      },
      "outputs": [
        {
          "data": {
            "text/plain": [
              "ChatPromptTemplate(input_variables=['input'], messages=[HumanMessagePromptTemplate(prompt=PromptTemplate(input_variables=['input'], template=\"Extract and save the relevant entities mentioned in the following passage together with their properties.\\n\\nOnly extract the properties mentioned in the 'information_extraction' function.\\n\\nIf a property is not present and is not required in the function parameters, do not include it in the output.\\n\\nPassage:\\n{input}\\n\"))])"
            ]
          },
          "execution_count": 8,
          "metadata": {},
          "output_type": "execute_result"
        }
      ],
      "source": [
        "chain.prompt"
      ]
    },
    {
      "cell_type": "code",
      "execution_count": null,
      "id": "BTluxKYPDx3W",
      "metadata": {
        "colab": {
          "base_uri": "https://localhost:8080/"
        },
        "id": "BTluxKYPDx3W",
        "outputId": "17dcb2e1-bcb8-444e-9d64-34b71004a4c7"
      },
      "outputs": [
        {
          "name": "stdout",
          "output_type": "stream",
          "text": [
            "Extract and save the relevant entities mentioned in the following passage together with their properties.\n",
            "\n",
            "Only extract the properties mentioned in the 'information_extraction' function.\n",
            "\n",
            "If a property is not present and is not required in the function parameters, do not include it in the output.\n",
            "\n",
            "Passage:\n",
            "{input}\n",
            "\n"
          ]
        }
      ],
      "source": [
        "print(chain.prompt.messages[0].prompt.template)"
      ]
    },
    {
      "cell_type": "code",
      "execution_count": null,
      "id": "YEo-ucGTVivR",
      "metadata": {
        "colab": {
          "base_uri": "https://localhost:8080/"
        },
        "id": "YEo-ucGTVivR",
        "outputId": "1f79a7c5-a9f4-4fe2-e643-7b7048510a51"
      },
      "outputs": [
        {
          "data": {
            "text/plain": [
              "{'functions': [{'name': 'information_extraction',\n",
              "   'description': 'Extracts the relevant information from the passage.',\n",
              "   'parameters': {'type': 'object',\n",
              "    'properties': {'info': {'type': 'array',\n",
              "      'items': {'type': 'object',\n",
              "       'properties': {'name': {'title': 'name', 'type': 'string'},\n",
              "        'height': {'title': 'height', 'type': 'integer'},\n",
              "        'hair_color': {'title': 'hair_color', 'type': 'string'}},\n",
              "       'required': ['name', 'height']}}},\n",
              "    'required': ['info']}}],\n",
              " 'function_call': {'name': 'information_extraction'}}"
            ]
          },
          "execution_count": 10,
          "metadata": {},
          "output_type": "execute_result"
        }
      ],
      "source": [
        "chain.llm_kwargs"
      ]
    },
    {
      "cell_type": "code",
      "execution_count": null,
      "id": "SlGyubDmVkG_",
      "metadata": {
        "colab": {
          "base_uri": "https://localhost:8080/",
          "height": 36
        },
        "id": "SlGyubDmVkG_",
        "outputId": "0db0c784-eef9-417f-f8f0-133e134ad4f9"
      },
      "outputs": [
        {
          "data": {
            "application/vnd.google.colaboratory.intrinsic+json": {
              "type": "string"
            },
            "text/plain": [
              "'Extracts the relevant information from the passage.'"
            ]
          },
          "execution_count": 11,
          "metadata": {},
          "output_type": "execute_result"
        }
      ],
      "source": [
        "chain.llm_kwargs[\"functions\"][0][\"description\"]"
      ]
    },
    {
      "cell_type": "markdown",
      "id": "6f7eb826",
      "metadata": {
        "id": "6f7eb826"
      },
      "source": [
        "### Looking under the hood\n",
        "\n",
        "Let's dig into what is happening when we call [create_extraction_chain](https://api.python.langchain.com/en/latest/chains/langchain.chains.openai_functions.extraction.create_extraction_chain.html#langchain.chains.openai_functions.extraction.create_extraction_chain)."
      ]
    },
    {
      "cell_type": "markdown",
      "id": "uV9bQANPc_nl",
      "metadata": {
        "id": "uV9bQANPc_nl"
      },
      "source": [
        "### Pydantic with \"create_extraction_chain_pydantic\" toolkits\n",
        "\n",
        "Pydantic library is used to extract the features we want from the data for Python.\n",
        "\n",
        "It allows you to create data classes with attributes that are automatically validated when you instantiate an object.\n",
        "\n",
        "Lets define a class with attributes annotated with types."
      ]
    },
    {
      "cell_type": "markdown",
      "id": "7Vwt4UijDgGR",
      "metadata": {
        "id": "7Vwt4UijDgGR"
      },
      "source": [
        "### Pydantic with \"create_extraction_chain_pydantic\" toolkits"
      ]
    },
    {
      "cell_type": "code",
      "execution_count": null,
      "id": "Iel8OLThc-Ku",
      "metadata": {
        "colab": {
          "base_uri": "https://localhost:8080/"
        },
        "id": "Iel8OLThc-Ku",
        "outputId": "b03e53f0-2b41-4701-aba2-fe7de2a5c144"
      },
      "outputs": [
        {
          "data": {
            "text/plain": [
              "{'input': 'Alex is 5 feet tall. Claudia is 1 feet taller Alex and jumps higher than him. Claudia is a brunette.',\n",
              " 'text': [Person(name='Alex', height=5.0, hair_color=None),\n",
              "  Person(name='Claudia', height=6.0, hair_color='brunette')]}"
            ]
          },
          "execution_count": 20,
          "metadata": {},
          "output_type": "execute_result"
        }
      ],
      "source": [
        "from typing import List, Optional\n",
        "\n",
        "from langchain_core.pydantic_v1 import BaseModel, Field\n",
        "from langchain.chains import create_extraction_chain_pydantic\n",
        "\n",
        "inp= 'Alex is 5 feet tall. Claudia is 1 feet taller Alex and jumps higher than him. Claudia is a brunette.'\n",
        "\n",
        "class Person(BaseModel):\n",
        "    \"\"\"Information about a person.\"\"\"\n",
        "\n",
        "    # ^ Doc-string for the entity Person.\n",
        "    # This doc-string is sent to the LLM as the description of the schema Person,\n",
        "    # and it can help to improve extraction results.\n",
        "\n",
        "    # Note that:\n",
        "    # 1. Each field is an `optional` -- this allows the model to decline to extract it!\n",
        "    # 2. Each field has a `description` -- this description is used by the LLM.\n",
        "    # Having a good description can help improve extraction results.\n",
        "    name: Optional[str] = Field(description=\"The person's name\", default=None)\n",
        "    height: Optional[float] = Field(description=\"Height measured in feets\", default=None)\n",
        "    hair_color: Optional[str] = Field(description=\"The color of the person's hair if known\",default=None)\n",
        "\n",
        "chain2 = create_extraction_chain_pydantic(Person, llm)\n",
        "chain2.invoke(inp)\n",
        "#1 feet=0.3048 m,"
      ]
    },
    {
      "cell_type": "markdown",
      "id": "IizJXt6wDsP7",
      "metadata": {
        "id": "IizJXt6wDsP7"
      },
      "source": [
        "### Pydantic with \"with_structured_output\" Method"
      ]
    },
    {
      "cell_type": "code",
      "execution_count": null,
      "id": "pdzTE8z7D5tB",
      "metadata": {
        "id": "pdzTE8z7D5tB"
      },
      "outputs": [],
      "source": [
        "from typing import List, Optional\n",
        "\n",
        "inp= 'Alex is 5 feet tall. Claudia is 1 feet taller Alex and jumps higher than him. Claudia is a brunette.'\n",
        "\n",
        "class Person(BaseModel):\n",
        "    \"\"\"Information about a person.\"\"\"\n",
        "\n",
        "    # ^ Doc-string for the entity Person.\n",
        "    # This doc-string is sent to the LLM as the description of the schema Person,\n",
        "    # and it can help to improve extraction results.\n",
        "\n",
        "    # Note that:\n",
        "    # 1. Each field is an `optional` -- this allows the model to decline to extract it!\n",
        "    # 2. Each field has a `description` -- this description is used by the LLM.\n",
        "    # Having a good description can help improve extraction results.\n",
        "    name: Optional[str] = Field(description=\"The person's name\", default=None)\n",
        "    height: Optional[float] = Field(description=\"Height measured in feets\", default=None)\n",
        "    hair_color: Optional[str] = Field(description=\"The color of the person's hair if known\",default=None)\n",
        "\n",
        "class Data(BaseModel):\n",
        "    \"\"\"Extracted data about people.\"\"\"\n",
        "\n",
        "    # Creates a model so that we can extract multiple entities.\n",
        "    people: List[Person]"
      ]
    },
    {
      "cell_type": "code",
      "execution_count": null,
      "id": "YSqANL43BP1i",
      "metadata": {
        "id": "YSqANL43BP1i"
      },
      "outputs": [],
      "source": [
        "from langchain_core.prompts import ChatPromptTemplate, MessagesPlaceholder\n",
        "\n",
        "# Define a custom prompt to provide instructions and any additional context.\n",
        "# 1) You can add examples into the prompt template to improve extraction quality\n",
        "# 2) Introduce additional parameters to take context into account (e.g., include metadata\n",
        "#    about the document from which the text was extracted.)\n",
        "prompt = ChatPromptTemplate.from_messages(\n",
        "    [\n",
        "        (\n",
        "            \"system\",\n",
        "            \"You are an expert extraction algorithm. \"\n",
        "        ),\n",
        "        # Please see the how-to about improving performance with\n",
        "        # reference examples.\n",
        "        # MessagesPlaceholder('examples'),\n",
        "        (\"human\",\n",
        "         \"Only extract relevant information from the '{text}'. \"\n",
        "         \"If you do not know the value of an attribute asked \"\n",
        "         \"to extract, return null for the attribute's value.\"),\n",
        "    ]\n",
        ")\n",
        "\n",
        "llm = ChatOpenAI(model=\"gpt-3.5-turbo-0125\",\n",
        "                 temperature=0,\n",
        "                 model_kwargs={\"top_p\":1})"
      ]
    },
    {
      "cell_type": "code",
      "execution_count": null,
      "id": "NqJlM8CvEh7h",
      "metadata": {
        "colab": {
          "base_uri": "https://localhost:8080/",
          "height": 36
        },
        "id": "NqJlM8CvEh7h",
        "outputId": "ab09260f-5423-4fae-8a93-0616c780e9ec"
      },
      "outputs": [
        {
          "data": {
            "application/vnd.google.colaboratory.intrinsic+json": {
              "type": "string"
            },
            "text/plain": [
              "'Alex is 5 feet tall. Claudia is 1 feet taller Alex and jumps higher than him. Claudia is a brunette.'"
            ]
          },
          "execution_count": 24,
          "metadata": {},
          "output_type": "execute_result"
        }
      ],
      "source": [
        "inp"
      ]
    },
    {
      "cell_type": "code",
      "execution_count": null,
      "id": "Y7pHItTFBP73",
      "metadata": {
        "colab": {
          "base_uri": "https://localhost:8080/"
        },
        "id": "Y7pHItTFBP73",
        "outputId": "63c663aa-a401-4f96-d62d-816cff55db0d"
      },
      "outputs": [
        {
          "name": "stderr",
          "output_type": "stream",
          "text": [
            "/usr/local/lib/python3.10/dist-packages/langchain_core/_api/beta_decorator.py:87: LangChainBetaWarning: The function `with_structured_output` is in beta. It is actively being worked on, so the API may change.\n",
            "  warn_beta(\n"
          ]
        },
        {
          "data": {
            "text/plain": [
              "Person(name='Alex', height=5.0, hair_color=None)"
            ]
          },
          "execution_count": 25,
          "metadata": {},
          "output_type": "execute_result"
        }
      ],
      "source": [
        "#We need to use a model that supports function/tool calling.\n",
        "chain = prompt | llm.with_structured_output(schema=Person) #if schema is Person, the output of model is for one person\n",
        "chain.invoke({\"text\":inp}) #inp"
      ]
    },
    {
      "cell_type": "code",
      "execution_count": null,
      "id": "cGlY6wpHCm9M",
      "metadata": {
        "colab": {
          "base_uri": "https://localhost:8080/"
        },
        "id": "cGlY6wpHCm9M",
        "outputId": "591c4ba3-78f2-4114-bac9-5bd85e927ae1"
      },
      "outputs": [
        {
          "data": {
            "text/plain": [
              "Data(people=[Person(name='Alex', height=5.0, hair_color=None), Person(name='Claudia', height=6.0, hair_color='brunette')])"
            ]
          },
          "execution_count": 27,
          "metadata": {},
          "output_type": "execute_result"
        }
      ],
      "source": [
        "chain = prompt | llm.with_structured_output(schema=Data) #if schema is Data, the output of model is for all person\n",
        "output= chain.invoke({\"text\":inp})\n",
        "output"
      ]
    },
    {
      "cell_type": "code",
      "execution_count": null,
      "id": "RR1ce5oCBQB_",
      "metadata": {
        "colab": {
          "base_uri": "https://localhost:8080/"
        },
        "id": "RR1ce5oCBQB_",
        "outputId": "4f157fdd-3393-4135-a904-fd8f48c281e0"
      },
      "outputs": [
        {
          "data": {
            "text/plain": [
              "Person(name='Alex', height=5.0, hair_color=None)"
            ]
          },
          "execution_count": 28,
          "metadata": {},
          "output_type": "execute_result"
        }
      ],
      "source": [
        "output.people[0]"
      ]
    },
    {
      "cell_type": "markdown",
      "id": "sfojOwXZJvSt",
      "metadata": {
        "id": "sfojOwXZJvSt"
      },
      "source": [
        "### Another example via \"with_structured_output\" method\n",
        "\n",
        "#### Without Examples"
      ]
    },
    {
      "cell_type": "code",
      "execution_count": null,
      "id": "BylZziacBQHo",
      "metadata": {
        "id": "BylZziacBQHo"
      },
      "outputs": [],
      "source": [
        "# We will be using tool calling mode, which\n",
        "# requires a tool calling capable model.\n",
        "llm = ChatOpenAI(\n",
        "    # Consider benchmarking with a good model to get\n",
        "    # a sense of the best possible quality.\n",
        "    model=\"gpt-3.5-turbo-0125\",\n",
        "    # Remember to set the temperature to 0 for extractions!\n",
        "    temperature=0,\n",
        "    model_kwargs={\"top_p\":1}\n",
        ")\n",
        "\n",
        "\n",
        "runnable = prompt | llm.with_structured_output(schema=Data)"
      ]
    },
    {
      "cell_type": "code",
      "execution_count": null,
      "id": "S6dBuMkWBQNA",
      "metadata": {
        "colab": {
          "base_uri": "https://localhost:8080/"
        },
        "id": "S6dBuMkWBQNA",
        "outputId": "b730d2d9-6512-4e0d-df47-1445162ef8d9"
      },
      "outputs": [
        {
          "name": "stdout",
          "output_type": "stream",
          "text": [
            "people=[Person(name=None, height=None, hair_color=None)]\n",
            "people=[Person(name='The solar system is large, but earth has only 1 moon.', height=None, hair_color=None)]\n",
            "people=[Person(name=None, height=None, hair_color=None)]\n",
            "people=[Person(name='The solar system is large, but earth has only 1 moon.', height=None, hair_color=None)]\n",
            "people=[Person(name=None, height=None, hair_color=None)]\n",
            "people=[Person(name=None, height=None, hair_color=None)]\n",
            "people=[Person(name=None, height=None, hair_color=None)]\n",
            "people=[Person(name=None, height=None, hair_color=None)]\n",
            "people=[Person(name=None, height=None, hair_color=None)]\n",
            "people=[Person(name=None, height=None, hair_color=None)]\n"
          ]
        }
      ],
      "source": [
        "for _ in range(10):\n",
        "    text = \"The solar system is large, but earth has only 1 moon.\"\n",
        "    print(runnable.invoke({\"text\": text, \"examples\": []}))"
      ]
    },
    {
      "cell_type": "markdown",
      "id": "TvcDVxogIJeW",
      "metadata": {
        "id": "TvcDVxogIJeW"
      },
      "source": [
        "### With examples"
      ]
    },
    {
      "cell_type": "code",
      "execution_count": null,
      "id": "_wSwt0UAINMC",
      "metadata": {
        "id": "_wSwt0UAINMC"
      },
      "outputs": [],
      "source": [
        "from langchain_core.prompts import ChatPromptTemplate, MessagesPlaceholder\n",
        "\n",
        "# Define a custom prompt to provide instructions and any additional context.\n",
        "# 1) You can add examples into the prompt template to improve extraction quality\n",
        "# 2) Introduce additional parameters to take context into account (e.g., include metadata\n",
        "#    about the document from which the text was extracted.)\n",
        "prompt = ChatPromptTemplate.from_messages(\n",
        "    [\n",
        "        (\n",
        "            \"system\",\n",
        "            \"You are an expert extraction algorithm.\"\n",
        "        ),\n",
        "        # ↓↓↓↓↓↓↓↓↓↓↓↓↓↓↓↓↓↓↓↓↓↓↓↓↓↓↓↓\n",
        "        MessagesPlaceholder(\"examples\"),  # <-- EXAMPLES!\n",
        "        # ↑↑↑↑↑↑↑↑↑↑↑↑↑↑↑↑↑↑↑↑↑↑↑↑↑↑↑↑↑\n",
        "        (\"human\",\n",
        "         \"Only extract relevant information from the '{text}'. \"\n",
        "         \"If you do not know the value of an attribute asked \"\n",
        "         \"to extract, return null for the attribute's value.\"),\n",
        "    ]\n",
        ")"
      ]
    },
    {
      "cell_type": "code",
      "execution_count": null,
      "id": "RIpCiE9QIhgw",
      "metadata": {
        "id": "RIpCiE9QIhgw"
      },
      "outputs": [],
      "source": [
        "import uuid\n",
        "from typing import Dict, List, TypedDict\n",
        "\n",
        "from langchain_core.messages import (\n",
        "    AIMessage,\n",
        "    BaseMessage,\n",
        "    HumanMessage,\n",
        "    SystemMessage,\n",
        "    ToolMessage,\n",
        ")\n",
        "from langchain_core.pydantic_v1 import BaseModel, Field\n",
        "\n",
        "\n",
        "class Example(TypedDict):\n",
        "    \"\"\"A representation of an example consisting of text input and expected tool calls.\n",
        "\n",
        "    For extraction, the tool calls are represented as instances of pydantic model.\n",
        "    \"\"\"\n",
        "\n",
        "    input: str  # This is the example text\n",
        "    tool_calls: List[BaseModel]  # Instances of pydantic model that should be extracted\n",
        "\n",
        "\n",
        "def tool_example_to_messages(example: Example) -> List[BaseMessage]:\n",
        "    \"\"\"Convert an example into a list of messages that can be fed into an LLM.\n",
        "\n",
        "    This code is an adapter that converts our example to a list of messages\n",
        "    that can be fed into a chat model.\n",
        "\n",
        "    The list of messages per example corresponds to:\n",
        "\n",
        "    1) HumanMessage: contains the content from which content should be extracted.\n",
        "    2) AIMessage: contains the extracted information from the model\n",
        "    3) ToolMessage: contains confirmation to the model that the model requested a tool correctly.\n",
        "\n",
        "    The ToolMessage is required because some of the chat models are hyper-optimized for agents\n",
        "    rather than for an extraction use case.\n",
        "    \"\"\"\n",
        "    messages: List[BaseMessage] = [HumanMessage(content=example[\"input\"])]\n",
        "    openai_tool_calls = []\n",
        "    for tool_call in example[\"tool_calls\"]:\n",
        "        openai_tool_calls.append(\n",
        "            {\n",
        "                \"id\": str(uuid.uuid4()),\n",
        "                \"type\": \"function\",\n",
        "                \"function\": {\n",
        "                    # The name of the function right now corresponds\n",
        "                    # to the name of the pydantic model\n",
        "                    # This is implicit in the API right now,\n",
        "                    # and will be improved over time.\n",
        "                    \"name\": tool_call.__class__.__name__,\n",
        "                    \"arguments\": tool_call.json(),\n",
        "                },\n",
        "            }\n",
        "        )\n",
        "    messages.append(\n",
        "        AIMessage(content=\"\", additional_kwargs={\"tool_calls\": openai_tool_calls})\n",
        "    )\n",
        "    tool_outputs = example.get(\"tool_outputs\") or [\n",
        "        \"You have correctly called this tool.\"\n",
        "    ] * len(openai_tool_calls)\n",
        "    for output, tool_call in zip(tool_outputs, openai_tool_calls):\n",
        "        messages.append(ToolMessage(content=output, tool_call_id=tool_call[\"id\"]))\n",
        "    return messages"
      ]
    },
    {
      "cell_type": "code",
      "execution_count": null,
      "id": "QNR9s8WkIhnP",
      "metadata": {
        "id": "QNR9s8WkIhnP"
      },
      "outputs": [],
      "source": [
        "examples = [\n",
        "    (\n",
        "        \"The ocean is vast and blue. It's more than 20,000 feet deep. There are many fish in it.\",\n",
        "        Person(name=None, height=None, hair_color=None),\n",
        "    ),\n",
        "    (\n",
        "        \"Fiona traveled far from France to Spain.\",\n",
        "        Person(name=\"Fiona\", height=None, hair_color=None),\n",
        "    ),\n",
        "]\n",
        "\n",
        "\n",
        "messages = []\n",
        "\n",
        "for text, tool_call in examples:\n",
        "    messages.extend(\n",
        "        tool_example_to_messages({\"input\": text, \"tool_calls\": [tool_call]})\n",
        "    )"
      ]
    },
    {
      "cell_type": "code",
      "execution_count": null,
      "id": "k0NdEGi_Ihtv",
      "metadata": {
        "colab": {
          "base_uri": "https://localhost:8080/"
        },
        "id": "k0NdEGi_Ihtv",
        "outputId": "ce967da9-c529-40dc-f004-a088c7bad2aa"
      },
      "outputs": [
        {
          "data": {
            "text/plain": [
              "[HumanMessage(content=\"The ocean is vast and blue. It's more than 20,000 feet deep. There are many fish in it.\"),\n",
              " AIMessage(content='', additional_kwargs={'tool_calls': [{'id': 'ed89ebc6-b17c-4189-bc80-0281b8942f00', 'type': 'function', 'function': {'name': 'Person', 'arguments': '{\"name\": null, \"height\": null, \"hair_color\": null}'}}]}, tool_calls=[{'name': 'Person', 'args': {'name': None, 'height': None, 'hair_color': None}, 'id': 'ed89ebc6-b17c-4189-bc80-0281b8942f00'}]),\n",
              " ToolMessage(content='You have correctly called this tool.', tool_call_id='ed89ebc6-b17c-4189-bc80-0281b8942f00'),\n",
              " HumanMessage(content='Fiona traveled far from France to Spain.'),\n",
              " AIMessage(content='', additional_kwargs={'tool_calls': [{'id': '58fab6dd-afff-42b4-b19f-43babc352965', 'type': 'function', 'function': {'name': 'Person', 'arguments': '{\"name\": \"Fiona\", \"height\": null, \"hair_color\": null}'}}]}, tool_calls=[{'name': 'Person', 'args': {'name': 'Fiona', 'height': None, 'hair_color': None}, 'id': '58fab6dd-afff-42b4-b19f-43babc352965'}]),\n",
              " ToolMessage(content='You have correctly called this tool.', tool_call_id='58fab6dd-afff-42b4-b19f-43babc352965')]"
            ]
          },
          "execution_count": 35,
          "metadata": {},
          "output_type": "execute_result"
        }
      ],
      "source": [
        "messages"
      ]
    },
    {
      "cell_type": "code",
      "execution_count": null,
      "id": "juiAEbPzKYUe",
      "metadata": {
        "id": "juiAEbPzKYUe"
      },
      "outputs": [],
      "source": [
        "llm = ChatOpenAI(\n",
        "    # Consider benchmarking with a good model to get\n",
        "    # a sense of the best possible quality.\n",
        "    model=\"gpt-3.5-turbo-0125\",\n",
        "    # Remember to set the temperature to 0 for extractions!\n",
        "    temperature=0,\n",
        ")\n",
        "\n",
        "\n",
        "runnable = prompt | llm.with_structured_output(schema=Data)"
      ]
    },
    {
      "cell_type": "code",
      "execution_count": null,
      "id": "33X6l-f6Ihz3",
      "metadata": {
        "colab": {
          "base_uri": "https://localhost:8080/"
        },
        "id": "33X6l-f6Ihz3",
        "outputId": "5794f98f-9774-4bee-98ed-372de83a4de7"
      },
      "outputs": [
        {
          "name": "stdout",
          "output_type": "stream",
          "text": [
            "people=[Person(name=None, height=None, hair_color=None)]\n",
            "people=[Person(name=None, height=None, hair_color=None)]\n",
            "people=[Person(name=None, height=None, hair_color=None)]\n",
            "people=[Person(name=None, height=None, hair_color=None)]\n",
            "people=[Person(name=None, height=None, hair_color=None)]\n",
            "people=[Person(name=None, height=None, hair_color=None)]\n",
            "people=[Person(name=None, height=None, hair_color=None)]\n",
            "people=[Person(name=None, height=None, hair_color=None)]\n",
            "people=[Person(name=None, height=None, hair_color=None)]\n",
            "people=[Person(name=None, height=None, hair_color=None)]\n"
          ]
        }
      ],
      "source": [
        "for _ in range(10):\n",
        "    text = \"The solar system is large, but earth has only 1 moon.\"\n",
        "    print(runnable.invoke({\"text\": text, \"examples\": messages}))"
      ]
    },
    {
      "cell_type": "markdown",
      "id": "dcb03138",
      "metadata": {
        "id": "dcb03138"
      },
      "source": [
        "### Multiple entity types\n",
        "\n",
        "We can extend this further.\n",
        "\n",
        "Let's say we want to differentiate between dogs and people.\n",
        "\n",
        "We can add `person_` and `dog_` prefixes for each property"
      ]
    },
    {
      "cell_type": "markdown",
      "id": "0JpbNW_OIcWJ",
      "metadata": {
        "id": "0JpbNW_OIcWJ"
      },
      "source": [
        "### with \"create_extraction_chain_pydantic\""
      ]
    },
    {
      "cell_type": "code",
      "execution_count": null,
      "id": "sU6ynERISPai",
      "metadata": {
        "id": "sU6ynERISPai"
      },
      "outputs": [],
      "source": [
        "from typing import List, Optional\n",
        "\n",
        "\n",
        "class Person_and_Dog(BaseModel):\n",
        "    \"\"\"Information about a person and dog.\"\"\"\n",
        "\n",
        "    person_name: Optional[str] = Field(description=\"The person's name\", default=None)\n",
        "    person_height: Optional[float] = Field(description=\"Height measured in feets\", default=None)\n",
        "    person_hair_color: Optional[str] = Field(description=\"The color of the person's hair if known\", default=None)\n",
        "    dog_name: Optional[str] = Field(description=\"The name of the dog\", default=None)\n",
        "    dog_breed: Optional[str] = Field(description=\"The breed of the dog\", default=None)\n",
        "\n",
        "class Data(BaseModel):\n",
        "    \"\"\"Extracted data about people and dogs.\"\"\"\n",
        "\n",
        "    # Creates a model so that we can extract multiple entities.\n",
        "    people_dogs: List[Person_and_Dog]"
      ]
    },
    {
      "cell_type": "code",
      "execution_count": null,
      "id": "ifaaj--wTWmx",
      "metadata": {
        "colab": {
          "base_uri": "https://localhost:8080/"
        },
        "id": "ifaaj--wTWmx",
        "outputId": "4e23d7aa-c5aa-419c-efed-4745a1979cea"
      },
      "outputs": [
        {
          "data": {
            "text/plain": [
              "{'input': 'Alex is 5 feet tall. Claudia is 1 feet taller Alex and jumps higher than him. Claudia is a brunette and Alex is blonde.',\n",
              " 'text': [Data(people_dogs=[Person_and_Dog(person_name='Alex', person_height=5.0, person_hair_color='blonde', dog_name=None, dog_breed=None), Person_and_Dog(person_name='Claudia', person_height=6.0, person_hair_color='brunette', dog_name=None, dog_breed=None)])]}"
            ]
          },
          "execution_count": 41,
          "metadata": {},
          "output_type": "execute_result"
        }
      ],
      "source": [
        "llm = ChatOpenAI(model=\"gpt-3.5-turbo-0125\",\n",
        "                 temperature=0,\n",
        "                 model_kwargs={\"top_p\":1})\n",
        "inp = \"Alex is 5 feet tall. Claudia is 1 feet taller Alex and jumps higher than him. Claudia is a brunette and Alex is blonde.\"\n",
        "\n",
        "chain = create_extraction_chain_pydantic(Data, llm)\n",
        "chain.invoke(inp)"
      ]
    },
    {
      "cell_type": "code",
      "execution_count": null,
      "id": "9cJF08rtUCwh",
      "metadata": {
        "colab": {
          "base_uri": "https://localhost:8080/"
        },
        "id": "9cJF08rtUCwh",
        "outputId": "2a9b845a-a0a9-4d2c-bf8e-3753c9a712c4"
      },
      "outputs": [
        {
          "data": {
            "text/plain": [
              "[Person_and_Dog(person_name='Alex', person_height=5.0, person_hair_color='blonde', dog_name='Frosty', dog_breed='labrador'),\n",
              " Person_and_Dog(person_name='Claudia', person_height=6.0, person_hair_color='brunette', dog_name=None, dog_breed=None)]"
            ]
          },
          "execution_count": 42,
          "metadata": {},
          "output_type": "execute_result"
        }
      ],
      "source": [
        "inp = \"\"\"Alex is 5 feet tall. Claudia is 1 feet taller Alex and jumps higher than him. Claudia is a brunette and Alex is blonde.\n",
        "Alex's dog Frosty is a labrador and likes to play hide and seek.\"\"\"\n",
        "\n",
        "chain.invoke(inp)[\"text\"][0].people_dogs"
      ]
    },
    {
      "cell_type": "markdown",
      "id": "b428E8daIh92",
      "metadata": {
        "id": "b428E8daIh92"
      },
      "source": [
        "## via \"with_structured_output\""
      ]
    },
    {
      "cell_type": "code",
      "execution_count": null,
      "id": "MjZkEGOVUaeY",
      "metadata": {
        "id": "MjZkEGOVUaeY"
      },
      "outputs": [],
      "source": [
        "prompt = ChatPromptTemplate.from_messages(\n",
        "    [\n",
        "        (\n",
        "            \"system\",\n",
        "            \"You are an expert extraction algorithm. \"\n",
        "        ),\n",
        "        # Please see the how-to about improving performance with\n",
        "        # reference examples.\n",
        "        # MessagesPlaceholder('examples'),\n",
        "        (\"human\",\n",
        "         \"Only extract relevant information from the '{text}'. \"\n",
        "         \"If you do not know the value of an attribute asked \"\n",
        "         \"to extract, return null for the attribute's value.\"),\n",
        "    ]\n",
        ")\n",
        "\n",
        "runnable = prompt | llm.with_structured_output(schema=Data)"
      ]
    },
    {
      "cell_type": "code",
      "execution_count": null,
      "id": "1mfJDcW5Uz5Q",
      "metadata": {
        "colab": {
          "base_uri": "https://localhost:8080/"
        },
        "id": "1mfJDcW5Uz5Q",
        "outputId": "b212164e-cbe8-4d07-ff81-48d9337788f7"
      },
      "outputs": [
        {
          "data": {
            "text/plain": [
              "[Person_and_Dog(person_name='Alex', person_height=5.0, person_hair_color='blonde', dog_name='Frosty', dog_breed='labrador'),\n",
              " Person_and_Dog(person_name='Claudia', person_height=6.0, person_hair_color='brunette', dog_name=None, dog_breed=None)]"
            ]
          },
          "execution_count": 44,
          "metadata": {},
          "output_type": "execute_result"
        }
      ],
      "source": [
        "output= runnable.invoke({\"text\":inp})\n",
        "output.people_dogs"
      ]
    },
    {
      "cell_type": "markdown",
      "id": "ruzV-t3bI0iY",
      "metadata": {
        "id": "ruzV-t3bI0iY"
      },
      "source": [
        "## via \"create_extraction_chain_pydantic\""
      ]
    },
    {
      "cell_type": "code",
      "execution_count": null,
      "id": "P3rj4KztcGKA",
      "metadata": {
        "colab": {
          "base_uri": "https://localhost:8080/"
        },
        "id": "P3rj4KztcGKA",
        "outputId": "52a05c9a-982f-43cb-cf08-8dac0492b923"
      },
      "outputs": [
        {
          "data": {
            "text/plain": [
              "[Person_and_Dog(person_name='Alex', person_height=1.52, person_hair_color='blonde', dog_name=None, dog_breed=None),\n",
              " Person_and_Dog(person_name='Claudia', person_height=1.67, person_hair_color='brunette', dog_name=None, dog_breed=None),\n",
              " Person_and_Dog(person_name=None, person_height=None, person_hair_color=None, dog_name='Willow', dog_breed='German Shepherd'),\n",
              " Person_and_Dog(person_name=None, person_height=None, person_hair_color=None, dog_name='Milo', dog_breed='Border Collie')]"
            ]
          },
          "execution_count": 309,
          "metadata": {},
          "output_type": "execute_result"
        }
      ],
      "source": [
        "inp = \"\"\"Alex is 5 feet tall. Claudia is 1 feet taller Alex and jumps higher than him. Claudia is a brunette and Alex is blonde.\n",
        "Willow is a German Shepherd that likes to play with other dogs and can always be found playing with Milo, a border collie that lives close by.\"\"\"\n",
        "\n",
        "chain = create_extraction_chain_pydantic(Data, llm)\n",
        "chain.invoke(inp)[\"text\"][0].people_dogs"
      ]
    },
    {
      "cell_type": "markdown",
      "id": "dX5kiTCzJH08",
      "metadata": {
        "id": "dX5kiTCzJH08"
      },
      "source": [
        "## via \"with_structured_output\""
      ]
    },
    {
      "cell_type": "code",
      "execution_count": null,
      "id": "aCIRBxPMVtTI",
      "metadata": {
        "colab": {
          "base_uri": "https://localhost:8080/"
        },
        "id": "aCIRBxPMVtTI",
        "outputId": "c7b0873c-cabf-4293-d5f0-954bb4a6a6b3"
      },
      "outputs": [
        {
          "data": {
            "text/plain": [
              "[Person_and_Dog(person_name='Alex', person_height=5.0, person_hair_color='blonde', dog_name=None, dog_breed=None),\n",
              " Person_and_Dog(person_name='Claudia', person_height=6.0, person_hair_color='brunette', dog_name=None, dog_breed=None),\n",
              " Person_and_Dog(person_name=None, person_height=None, person_hair_color=None, dog_name='Willow', dog_breed='German Shepherd'),\n",
              " Person_and_Dog(person_name=None, person_height=None, person_hair_color=None, dog_name='Milo', dog_breed='Border Collie')]"
            ]
          },
          "execution_count": 45,
          "metadata": {},
          "output_type": "execute_result"
        }
      ],
      "source": [
        "inp = \"\"\"Alex is 5 feet tall. Claudia is 1 feet taller Alex and jumps higher than him. Claudia is a brunette and Alex is blonde.\n",
        "Willow is a German Shepherd that likes to play with other dogs and can always be found playing with Milo, a border collie that lives close by.\"\"\"\n",
        "\n",
        "output= runnable.invoke({\"text\":inp})\n",
        "output.people_dogs"
      ]
    },
    {
      "cell_type": "markdown",
      "id": "34f3b958",
      "metadata": {
        "id": "34f3b958"
      },
      "source": [
        "### Extra information\n",
        "\n",
        "The power of functions (relative to using parsers alone) lies in the ability to perform semantic extraction.\n",
        "\n",
        "In particular, `we can ask for things that are not explicitly enumerated in the schema`.\n",
        "\n",
        "Suppose we want unspecified additional information about dogs.\n",
        "\n",
        "We can use add a placeholder for unstructured extraction, `dog_extra_info`."
      ]
    },
    {
      "cell_type": "code",
      "execution_count": null,
      "id": "iG3KxbO1ZKY_",
      "metadata": {
        "id": "iG3KxbO1ZKY_"
      },
      "outputs": [],
      "source": [
        "class Person_and_Dog(BaseModel):\n",
        "    \"\"\"Information about a person and dog.\"\"\"\n",
        "\n",
        "    person_name: Optional[str] = Field(description=\"The person's name\", default=None)\n",
        "    person_height: Optional[float] = Field(description=\"Height measured in feets\", default=None)\n",
        "    person_hair_color: Optional[str] = Field(description=\"The color of the person's hair if known\", default=None)\n",
        "    dog_name: Optional[str] = Field(description=\"The name of the dog\", default=None)\n",
        "    dog_breed: Optional[str] = Field(description=\"The breed of the dog\", default=None)\n",
        "    dog_extra_info: Optional[str] = Field(description=\"extra information about the dog\", default=None)\n",
        "\n",
        "class Data(BaseModel):\n",
        "    \"\"\"Extracted data about people and dogs.\"\"\"\n",
        "\n",
        "    # Creates a model so that we can extract multiple entities.\n",
        "    people_dogs: List[Person_and_Dog]"
      ]
    },
    {
      "cell_type": "code",
      "execution_count": null,
      "id": "ZQTIaceQapPR",
      "metadata": {
        "colab": {
          "base_uri": "https://localhost:8080/"
        },
        "id": "ZQTIaceQapPR",
        "outputId": "3d8ae14d-766b-4f66-a6cd-ef0e0c8a8c4c"
      },
      "outputs": [
        {
          "data": {
            "text/plain": [
              "[Person_and_Dog(person_name='Alex', person_height=5.0, person_hair_color='blonde', dog_name=None, dog_breed=None, dog_extra_info=None),\n",
              " Person_and_Dog(person_name='Claudia', person_height=6.0, person_hair_color='brunette', dog_name=None, dog_breed=None, dog_extra_info=None),\n",
              " Person_and_Dog(person_name=None, person_height=None, person_hair_color=None, dog_name='Willow', dog_breed='German Shepherd', dog_extra_info='likes to play with other dogs'),\n",
              " Person_and_Dog(person_name=None, person_height=None, person_hair_color=None, dog_name='Milo', dog_breed='border collie', dog_extra_info='lives close by')]"
            ]
          },
          "execution_count": 47,
          "metadata": {},
          "output_type": "execute_result"
        }
      ],
      "source": [
        "llm = ChatOpenAI(model=\"gpt-3.5-turbo-0125\",\n",
        "                 temperature=0,\n",
        "                 model_kwargs={\"top_p\":1})\n",
        "\n",
        "chain = create_extraction_chain_pydantic(Data, llm)\n",
        "chain.invoke(inp)[\"text\"][0].people_dogs"
      ]
    },
    {
      "cell_type": "code",
      "execution_count": null,
      "id": "M08POsruZ0lY",
      "metadata": {
        "id": "M08POsruZ0lY"
      },
      "outputs": [],
      "source": [
        "prompt = ChatPromptTemplate.from_messages(\n",
        "    [\n",
        "        (\n",
        "            \"system\",\n",
        "            \"You are an expert extraction algorithm. \"\n",
        "        ),\n",
        "        # Please see the how-to about improving performance with reference examples.\n",
        "        # MessagesPlaceholder('examples'),\n",
        "        (\"human\",\n",
        "         \"Only extract relevant information from the '{text}'. \"\n",
        "         \"If you do not know the value of an attribute asked \"\n",
        "         \"to extract, return null for the attribute's value.\"),\n",
        "    ]\n",
        ")\n",
        "\n",
        "\n",
        "runnable = prompt | llm.with_structured_output(schema=Data)"
      ]
    },
    {
      "cell_type": "code",
      "execution_count": null,
      "id": "KaNB_pANZ0Yh",
      "metadata": {
        "colab": {
          "base_uri": "https://localhost:8080/"
        },
        "id": "KaNB_pANZ0Yh",
        "outputId": "f36565a9-7020-49fd-9133-04944c7796ca"
      },
      "outputs": [
        {
          "data": {
            "text/plain": [
              "[Person_and_Dog(person_name='Alex', person_height=5.0, person_hair_color='blonde', dog_name=None, dog_breed=None, dog_extra_info=None),\n",
              " Person_and_Dog(person_name='Claudia', person_height=6.0, person_hair_color='brunette', dog_name=None, dog_breed=None, dog_extra_info=None),\n",
              " Person_and_Dog(person_name=None, person_height=None, person_hair_color=None, dog_name='Willow', dog_breed='German Shepherd', dog_extra_info='likes to play with other dogs'),\n",
              " Person_and_Dog(person_name=None, person_height=None, person_hair_color=None, dog_name='Milo', dog_breed='Border Collie', dog_extra_info=None)]"
            ]
          },
          "execution_count": 50,
          "metadata": {},
          "output_type": "execute_result"
        }
      ],
      "source": [
        "inp = \"\"\"Alex is 5 feet tall. Claudia is 1 feet taller Alex and jumps higher than him. Claudia is a brunette and Alex is blonde.\n",
        "Willow is a German Shepherd that likes to play with other dogs and can always be found playing with Milo, a border collie that lives close by.\"\"\"\n",
        "\n",
        "output= runnable.invoke({\"text\":inp})\n",
        "output.people_dogs"
      ]
    },
    {
      "cell_type": "markdown",
      "id": "3a949c60",
      "metadata": {
        "id": "3a949c60"
      },
      "source": [
        "This gives us additional information about the dogs."
      ]
    },
    {
      "cell_type": "markdown",
      "id": "pi1f5olDHkPK",
      "metadata": {
        "id": "pi1f5olDHkPK"
      },
      "source": [
        "# Tagging"
      ]
    },
    {
      "cell_type": "markdown",
      "id": "dyhF52ReHmeS",
      "metadata": {
        "id": "dyhF52ReHmeS"
      },
      "source": [
        "\n",
        "## Use case\n",
        "\n",
        "Tagging means labeling a document with classes such as:\n",
        "\n",
        "- sentiment\n",
        "- language\n",
        "- style (formal, informal etc.)\n",
        "- covered topics\n",
        "- political tendency\n",
        "\n",
        "![Image description](https://github.com/langchain-ai/langchain/blob/master/docs/static/img/tagging.png?raw=1)\n",
        "\n",
        "## Overview\n",
        "\n",
        "Tagging has a few components:\n",
        "\n",
        "* `function`: tagging uses [functions](https://openai.com/blog/function-calling-and-other-api-updates) to specify how the model should tag a document\n",
        "* `schema and pydantic`: defines how we want to tag the document\n",
        "\n",
        "## Quickstart\n",
        "\n",
        "Let's see a very straightforward example of how we can use OpenAI functions for tagging in LangChain."
      ]
    },
    {
      "cell_type": "code",
      "execution_count": null,
      "id": "X7mPqvz3JNHe",
      "metadata": {
        "id": "X7mPqvz3JNHe"
      },
      "outputs": [],
      "source": [
        "from langchain.chains import create_tagging_chain\n",
        "from langchain_openai import ChatOpenAI"
      ]
    },
    {
      "cell_type": "markdown",
      "id": "_wU0uRF1JTDP",
      "metadata": {
        "id": "_wU0uRF1JTDP"
      },
      "source": [
        "We specify a few properties with their expected type in our schema."
      ]
    },
    {
      "cell_type": "code",
      "execution_count": null,
      "id": "gzKEswJYJTw3",
      "metadata": {
        "id": "gzKEswJYJTw3"
      },
      "outputs": [],
      "source": [
        "# Schema\n",
        "schema = {\n",
        "    \"properties\": {\n",
        "        \"sentiment\": {\"type\": \"string\"},\n",
        "        \"aggressiveness\": {\"type\": \"integer\"},\n",
        "        \"language\": {\"type\": \"string\"},\n",
        "    }\n",
        "}\n",
        "\n",
        "# LLM\n",
        "llm = ChatOpenAI(temperature=0,\n",
        "                 model=\"gpt-3.5-turbo-0125\",\n",
        "                 #openai_api_key=os.environ['OPENAI_API_KEY']\n",
        "                 )\n",
        "chain = create_tagging_chain(schema, llm)"
      ]
    },
    {
      "cell_type": "code",
      "execution_count": null,
      "id": "dM2iOE_fJZ3d",
      "metadata": {
        "colab": {
          "base_uri": "https://localhost:8080/"
        },
        "id": "dM2iOE_fJZ3d",
        "outputId": "1a25a69d-49c2-4307-a280-dfd3bf690939"
      },
      "outputs": [
        {
          "data": {
            "text/plain": [
              "{'sentiment': 'positive', 'language': 'Spanish'}"
            ]
          },
          "execution_count": 53,
          "metadata": {},
          "output_type": "execute_result"
        }
      ],
      "source": [
        "inp = \"Estoy increiblemente contento de haberte conocido! Creo que seremos muy buenos amigos!\"\n",
        "chain.invoke(inp)[\"text\"] # Usually don't return aggressiveness because required is not specified"
      ]
    },
    {
      "cell_type": "code",
      "execution_count": null,
      "id": "0TUE1HKaJgu3",
      "metadata": {
        "colab": {
          "base_uri": "https://localhost:8080/"
        },
        "id": "0TUE1HKaJgu3",
        "outputId": "91d6095f-07f5-4b0c-b6e1-1fe79bff32af"
      },
      "outputs": [
        {
          "data": {
            "text/plain": [
              "{'sentiment': 'enojado', 'aggressiveness': 3, 'language': 'Spanish'}"
            ]
          },
          "execution_count": 54,
          "metadata": {},
          "output_type": "execute_result"
        }
      ],
      "source": [
        "inp = \"Estoy muy enojado con vos! Te voy a dar tu merecido!\"\n",
        "chain.invoke(inp)[\"text\"]"
      ]
    },
    {
      "cell_type": "markdown",
      "id": "HWWxEvKYJn4h",
      "metadata": {
        "id": "HWWxEvKYJn4h"
      },
      "source": [
        "As we can see in the examples, it correctly interprets what we want.\n",
        "\n",
        "The results vary so that we get, for example, sentiments in different languages ('positive', 'enojado' etc.).\n",
        "\n",
        "We will see how to control these results in the next section."
      ]
    },
    {
      "cell_type": "markdown",
      "id": "xQOsvgU2JtoM",
      "metadata": {
        "id": "xQOsvgU2JtoM"
      },
      "source": [
        "## Finer control\n",
        "\n",
        "Careful schema definition gives us more control over the model's output.\n",
        "\n",
        "Specifically, we can define:\n",
        "\n",
        "- possible values for each property\n",
        "- description to make sure that the model understands the property\n",
        "- required properties to be returned\n",
        "\n",
        "Here is an example of how we can use `_enum_`, `_description_`, and `_required_` to control for each of the previously mentioned aspects:"
      ]
    },
    {
      "cell_type": "code",
      "execution_count": null,
      "id": "KmC2A64sJuf-",
      "metadata": {
        "id": "KmC2A64sJuf-"
      },
      "outputs": [],
      "source": [
        "schema = {\n",
        "    \"properties\": {\n",
        "        \"sentiment\": {\"type\": \"string\",\n",
        "                      \"enum\": [\"positive\", \"neutral\", \"negative\"],\n",
        "                      \"description\": \"The sentiment for text\"},\n",
        "        \"aggressiveness\": {\n",
        "            \"type\": \"integer\",\n",
        "            \"enum\": [1, 2, 3, 4, 5],\n",
        "            \"description\": \"describes how aggressive the statement is, the higher the number the more aggressive\",\n",
        "        },\n",
        "        \"language\": {\n",
        "            \"type\": \"string\",\n",
        "            \"enum\": [\"spanish\", \"english\", \"french\", \"german\", \"italian\"],\n",
        "        },\n",
        "    },\n",
        "    \"required\": [\"language\", \"sentiment\", \"aggressiveness\"],\n",
        "}"
      ]
    },
    {
      "cell_type": "code",
      "execution_count": null,
      "id": "JVYbowOTJ7Ie",
      "metadata": {
        "id": "JVYbowOTJ7Ie"
      },
      "outputs": [],
      "source": [
        "llm = ChatOpenAI(temperature=0,\n",
        "                 model=\"gpt-3.5-turbo-0125\")\n",
        "chain = create_tagging_chain(schema, llm)"
      ]
    },
    {
      "cell_type": "markdown",
      "id": "dC1QL_-wJ-nG",
      "metadata": {
        "id": "dC1QL_-wJ-nG"
      },
      "source": [
        "Now the answers are much better!"
      ]
    },
    {
      "cell_type": "code",
      "execution_count": null,
      "id": "NVGzTwrCJ9uk",
      "metadata": {
        "colab": {
          "base_uri": "https://localhost:8080/"
        },
        "id": "NVGzTwrCJ9uk",
        "outputId": "d7c9d805-8614-44d2-c2dd-722b0001bf21"
      },
      "outputs": [
        {
          "data": {
            "text/plain": [
              "{'sentiment': 'positive', 'aggressiveness': 1, 'language': 'spanish'}"
            ]
          },
          "execution_count": 57,
          "metadata": {},
          "output_type": "execute_result"
        }
      ],
      "source": [
        "inp = \"Estoy increiblemente contento de haberte conocido! Creo que seremos muy buenos amigos!\"\n",
        "chain.invoke(inp)[\"text\"]"
      ]
    },
    {
      "cell_type": "code",
      "execution_count": null,
      "id": "YjVs1S9nKHTA",
      "metadata": {
        "colab": {
          "base_uri": "https://localhost:8080/"
        },
        "id": "YjVs1S9nKHTA",
        "outputId": "4eae7a6c-d41c-4c26-d92c-e90b80be0a92"
      },
      "outputs": [
        {
          "data": {
            "text/plain": [
              "{'sentiment': 'neutral', 'aggressiveness': 1, 'language': 'english'}"
            ]
          },
          "execution_count": 58,
          "metadata": {},
          "output_type": "execute_result"
        }
      ],
      "source": [
        "inp = \"Weather is ok here, I can go outside without much more than a coat\"\n",
        "chain.invoke(inp)[\"text\"]"
      ]
    },
    {
      "cell_type": "markdown",
      "id": "e0ehhgjOjaT6",
      "metadata": {
        "id": "e0ehhgjOjaT6"
      },
      "source": [
        "##Pydantic"
      ]
    },
    {
      "cell_type": "code",
      "execution_count": null,
      "id": "HZHukbrkjaxF",
      "metadata": {
        "colab": {
          "base_uri": "https://localhost:8080/"
        },
        "id": "HZHukbrkjaxF",
        "outputId": "49909fbb-f123-46c1-85f3-b9881e39be26"
      },
      "outputs": [
        {
          "data": {
            "text/plain": [
              "{'input': 'Weather is ok here, I can go outside without much more than a coat',\n",
              " 'text': Classification(sentiment='neutral', aggressiveness=1, language='english')}"
            ]
          },
          "execution_count": 59,
          "metadata": {},
          "output_type": "execute_result"
        }
      ],
      "source": [
        "from typing import Optional\n",
        "from langchain_core.pydantic_v1 import BaseModel, Field\n",
        "from langchain.chains import create_tagging_chain_pydantic\n",
        "\n",
        "\n",
        "\n",
        "class Classification(BaseModel):\n",
        "    sentiment: str = Field(description=\"The sentiment of the text\",\n",
        "                             enum=[\"happy\", \"neutral\", \"sad\"])\n",
        "    aggressiveness: int = Field(description=\"describes how aggressive the statement is, the higher the number the more aggressive\",\n",
        "                            enum=[1, 2, 3, 4, 5])\n",
        "    language: str = Field(description=\"The language the text is written in\",\n",
        "                            enum=[\"spanish\", \"english\", \"french\", \"german\", \"italian\"])\n",
        "\n",
        "inp = \"Weather is ok here, I can go outside without much more than a coat\"\n",
        "chain2 = create_tagging_chain_pydantic(Classification, llm)\n",
        "chain2.invoke(inp)"
      ]
    },
    {
      "cell_type": "code",
      "execution_count": null,
      "id": "FHpUSqN_ja3S",
      "metadata": {
        "colab": {
          "base_uri": "https://localhost:8080/"
        },
        "id": "FHpUSqN_ja3S",
        "outputId": "768cd66e-6960-43e2-f02d-e6395884a015"
      },
      "outputs": [
        {
          "data": {
            "text/plain": [
              "Classification(sentiment='sad', aggressiveness=5, language='english')"
            ]
          },
          "execution_count": 60,
          "metadata": {},
          "output_type": "execute_result"
        }
      ],
      "source": [
        "inp = \"damn!\"\n",
        "chain2.invoke(inp)[\"text\"]"
      ]
    },
    {
      "cell_type": "code",
      "execution_count": null,
      "id": "PMBbQTyJfJrx",
      "metadata": {
        "colab": {
          "base_uri": "https://localhost:8080/"
        },
        "id": "PMBbQTyJfJrx",
        "outputId": "f96fbce0-ad5b-4506-dd0b-896ec9c5d592"
      },
      "outputs": [
        {
          "data": {
            "text/plain": [
              "Classification(sentiment='sad', aggressiveness=5, language='english')"
            ]
          },
          "execution_count": 61,
          "metadata": {},
          "output_type": "execute_result"
        }
      ],
      "source": [
        "from langchain_core.prompts import ChatPromptTemplate\n",
        "\n",
        "tagging_prompt = ChatPromptTemplate.from_template(\n",
        "    \"\"\"\n",
        "Extract the desired information from the following passage.\n",
        "\n",
        "Only extract the properties mentioned in the 'Classification' function.\n",
        "\n",
        "Passage:\n",
        "{input}\n",
        "\"\"\"\n",
        ")\n",
        "\n",
        "inp = \"damn!\"\n",
        "\n",
        "llm = ChatOpenAI(temperature=0,\n",
        "                 model=\"gpt-3.5-turbo-0125\")\n",
        "\n",
        "tagging_chain = tagging_prompt | llm.with_structured_output(Classification)\n",
        "tagging_chain.invoke({\"input\": inp})"
      ]
    },
    {
      "cell_type": "markdown",
      "id": "ERD3xSbGUoTv",
      "metadata": {
        "id": "ERD3xSbGUoTv"
      },
      "source": [
        "## Multi-Label Classification"
      ]
    },
    {
      "cell_type": "markdown",
      "id": "wN6alID7L-t9",
      "metadata": {
        "id": "wN6alID7L-t9"
      },
      "source": [
        "Let's make our example more specific and challenging. Let's analyze customers' comments separately for both the product they purchased and for their interactions with customer service."
      ]
    },
    {
      "cell_type": "code",
      "execution_count": null,
      "id": "3KbZHHBnL_WH",
      "metadata": {
        "id": "3KbZHHBnL_WH"
      },
      "outputs": [],
      "source": [
        "# Schema\n",
        "schema = {\n",
        "    \"properties\": {\n",
        "        \"sentiment_for_product\":{\"type\": \"string\",\n",
        "                                        \"enum\":[\"positive\", \"neutral\", \"negative\"],\n",
        "                                        \"description\": \"The sentiment for product\"},\n",
        "         \"sentiment_for_customer_service_issue\":{\"type\": \"string\",\n",
        "                                        \"enum\":[\"positive\", \"neutral\", \"negative\"],\n",
        "                                        \"description\": \"The sentiment for customer service issues\"},\n",
        "        \"tecnical_problems\": {\"type\": \"string\",\n",
        "                              \"description\": \"Details of the technical problem encountered with the products.\"},\n",
        "        \"negative_customer_surves_experiences\": {\"type\": \"string\",\n",
        "                                                 \"description\": \"Details of the negative customer service experiences\"}\n",
        "    },\n",
        "    \"required\": [\"sentiment_for_product\", \"sentiment_for_customer_service_issue\", \"tecnical_problems\",  \"negative_customer_surves_experiences\"]\n",
        "}\n",
        "\n",
        "# Input\n",
        "inp = [\"Although the phone's battery life is satisfactory, I had a frustrating experience with customer service when I needed help with a software issue.\",\n",
        "\"The camera's low-light performance is excellent, but I encountered difficulties with the phone's software updates. Fortunately, the customer service team was \\\n",
        "helpful in resolving the issue.\",\n",
        "\"The design of the phone is impressive, but I had to contact customer service multiple times to address an issue with the speaker.\",\n",
        "\"I'm satisfied with the phone's performance overall, but the lack of timely software updates is disappointing. Customer service was responsive when \\\n",
        "I reached out for assistance. \",\n",
        "\"The phone's sleek design caught my eye, but I faced challenges with connectivity issues. Despite this, customer service was prompt in helping me \\\n",
        "troubleshoot the problem.\"]\n",
        "\n",
        "# Run chain\n",
        "llm = ChatOpenAI(model=\"gpt-3.5-turbo-0125\",\n",
        "                 temperature=0)\n",
        "\n",
        "chain = create_tagging_chain(schema, llm)"
      ]
    },
    {
      "cell_type": "code",
      "execution_count": null,
      "id": "7KxP_aUmWCQN",
      "metadata": {
        "colab": {
          "base_uri": "https://localhost:8080/"
        },
        "id": "7KxP_aUmWCQN",
        "outputId": "78a9b8ad-45b6-4c64-fa20-34e946e8e7be"
      },
      "outputs": [
        {
          "name": "stdout",
          "output_type": "stream",
          "text": [
            "{'sentiment_for_product': 'neutral', 'sentiment_for_customer_service_issue': 'negative', 'tecnical_problems': 'software issue', 'negative_customer_surves_experiences': 'frustrating experience'}\n",
            "{'sentiment_for_product': 'positive', 'sentiment_for_customer_service_issue': 'positive', 'tecnical_problems': \"difficulties with the phone's software updates\", 'negative_customer_surves_experiences': ''}\n",
            "{'sentiment_for_product': 'positive', 'sentiment_for_customer_service_issue': 'negative', 'tecnical_problems': 'issue with the speaker', 'negative_customer_surves_experiences': 'had to contact customer service multiple times'}\n",
            "{'sentiment_for_product': 'positive', 'sentiment_for_customer_service_issue': 'positive', 'tecnical_problems': 'lack of timely software updates', 'negative_customer_surves_experiences': ''}\n",
            "{'sentiment_for_product': 'neutral', 'sentiment_for_customer_service_issue': 'positive', 'tecnical_problems': 'connectivity issues', 'negative_customer_surves_experiences': ''}\n"
          ]
        }
      ],
      "source": [
        "for i in inp:\n",
        "  print(chain.invoke(i)[\"text\"])"
      ]
    },
    {
      "cell_type": "code",
      "execution_count": null,
      "id": "AiidCpadlhze",
      "metadata": {
        "colab": {
          "base_uri": "https://localhost:8080/"
        },
        "id": "AiidCpadlhze",
        "outputId": "4985180e-db87-468a-adb0-9d07efa6e56a"
      },
      "outputs": [
        {
          "name": "stdout",
          "output_type": "stream",
          "text": [
            "sentiment_for_product='neutral' sentiment_for_customer_service_issue='negative' tecnical_problems='software issue' negative_customer_surves_experiences='frustrating experience with customer service'\n",
            "sentiment_for_product='positive' sentiment_for_customer_service_issue='positive' tecnical_problems=\"difficulties with the phone's software updates\" negative_customer_surves_experiences=''\n",
            "sentiment_for_product='positive' sentiment_for_customer_service_issue='negative' tecnical_problems='issue with the speaker' negative_customer_surves_experiences='had to contact customer service multiple times'\n",
            "sentiment_for_product='positive' sentiment_for_customer_service_issue='positive' tecnical_problems='lack of timely software updates' negative_customer_surves_experiences=''\n",
            "sentiment_for_product='neutral' sentiment_for_customer_service_issue='positive' tecnical_problems='connectivity issues' negative_customer_surves_experiences=''\n"
          ]
        }
      ],
      "source": [
        "from typing import Optional\n",
        "from langchain_core.pydantic_v1 import BaseModel, Field\n",
        "from langchain.chains import create_tagging_chain_pydantic\n",
        "\n",
        "\n",
        "\n",
        "class Classification(BaseModel):\n",
        "    sentiment_for_product: str = Field(description=\"The sentiment for product\",\n",
        "                                       enum=[\"positive\", \"neutral\", \"negative\"])\n",
        "    sentiment_for_customer_service_issue: str = Field(description=\"The sentiment for customer service issues\",\n",
        "                                                      enum=[\"positive\", \"neutral\", \"negative\"])\n",
        "    tecnical_problems: str = Field(description=\"Details of the technical problem encountered with the products.\")\n",
        "    negative_customer_surves_experiences: str =Field(description=\"Details of the negative customer service experiences\")\n",
        "\n",
        "chain2 = create_tagging_chain_pydantic(Classification, llm)\n",
        "for i in inp:\n",
        "  print(chain2.invoke(i)[\"text\"])"
      ]
    },
    {
      "cell_type": "code",
      "execution_count": null,
      "id": "oXjVWpw8mul0",
      "metadata": {
        "colab": {
          "base_uri": "https://localhost:8080/"
        },
        "id": "oXjVWpw8mul0",
        "outputId": "1ac93701-f946-4f7e-c356-daa1aaeeefa0"
      },
      "outputs": [
        {
          "name": "stdout",
          "output_type": "stream",
          "text": [
            "sentiment_for_product='positive' sentiment_for_customer_service_issue='negative' tecnical_problems='software issue' negative_customer_surves_experiences='frustrating experience with customer service'\n",
            "sentiment_for_product='positive' sentiment_for_customer_service_issue='positive' tecnical_problems=\"difficulties with the phone's software updates\" negative_customer_surves_experiences=''\n",
            "sentiment_for_product='positive' sentiment_for_customer_service_issue='negative' tecnical_problems='issue with the speaker' negative_customer_surves_experiences='had to contact customer service multiple times'\n",
            "sentiment_for_product='positive' sentiment_for_customer_service_issue='positive' tecnical_problems='lack of timely software updates' negative_customer_surves_experiences=''\n",
            "sentiment_for_product='neutral' sentiment_for_customer_service_issue='positive' tecnical_problems='connectivity issues' negative_customer_surves_experiences='None'\n"
          ]
        }
      ],
      "source": [
        "tagging_prompt = ChatPromptTemplate.from_template(\n",
        "    \"\"\"\n",
        "Extract the desired information from the following passage.\n",
        "\n",
        "Only extract the properties mentioned in the 'Classification' function.\n",
        "\n",
        "Passage:\n",
        "{input}\n",
        "\"\"\"\n",
        ")\n",
        "\n",
        "llm = ChatOpenAI(temperature=0,\n",
        "                 model=\"gpt-3.5-turbo-0125\")\n",
        "\n",
        "tagging_chain = tagging_prompt | llm.with_structured_output(Classification)\n",
        "for i in inp:\n",
        "  print(tagging_chain.invoke({\"input\": i}))"
      ]
    },
    {
      "cell_type": "markdown",
      "id": "fJoYyESHVZfU",
      "metadata": {
        "id": "fJoYyESHVZfU"
      },
      "source": [
        "Now, using the discharge summary information of the patients, let's determine whether they have diabetes and hypertension, and score their likelihood of being a patient on a scale of 0 to 5."
      ]
    },
    {
      "cell_type": "code",
      "execution_count": null,
      "id": "RPMXBHOZM5oa",
      "metadata": {
        "id": "RPMXBHOZM5oa"
      },
      "outputs": [],
      "source": [
        "patient_1=\"\"\"Age: 50, Gender: Male,\n",
        "\n",
        "Symptoms:\n",
        "\n",
        "Experiencing persistent headaches lately.\n",
        "Feeling numbness in hands and feet, especially in the evenings.\n",
        "Frequently experiencing the need to urinate.\n",
        "\n",
        "Findings:\n",
        "\n",
        "Physical examination reveals retinal changes due to hypertension and signs of diabetic neuropathy.\n",
        "Blood pressure measurement indicates 160/100 mmHg.\n",
        "Blood tests reveal elevated blood sugar levels (fasting blood glucose of 200 mg/dL) and high cholesterol levels.\"\"\"\n",
        "\n",
        "patient_2=\"\"\"Age: 60, Gender: Female\n",
        "\n",
        "Symptoms:\n",
        "\n",
        "Experiencing blurred vision lately.\n",
        "Constantly feeling tired.\n",
        "Experiencing weakness and fatigue.\n",
        "Findings:\n",
        "\n",
        "Physical examination reveals retinopathy due to hypertension and signs of diabetic nephropathy.\n",
        "Blood pressure measurement indicates 170/110 mmHg.\n",
        "Blood tests reveal high blood sugar levels (HbA1c levels above 9%) and elevated triglyceride levels.\"\"\"\n",
        "\n",
        "patient_3=\"\"\"Age: 55, Gender: Male\n",
        "\n",
        "Symptoms:\n",
        "\n",
        "Experiencing frequent urination, especially during the night.\n",
        "Feeling constantly thirsty and drinking large amounts of water.\n",
        "Noticing unexplained weight loss despite normal or increased appetite.\n",
        "Findings:\n",
        "\n",
        "Physical examination reveals signs of peripheral neuropathy, such as tingling or numbness in the feet.\n",
        "Blood tests show elevated fasting blood glucose levels (above 126 mg/dL) and HbA1c levels indicating poorly controlled diabetes.\n",
        "Urinalysis indicates the presence of glucose in the urine, suggestive of uncontrolled diabetes.\"\"\"\n",
        "\n",
        "patient_4=\"\"\"Age: 35\n",
        "Gender: Female\n",
        "\n",
        "Symptoms:\n",
        "\n",
        "Experiencing frequent headaches, particularly in the morning.\n",
        "Feeling dizzy or lightheaded, especially when standing up quickly.\n",
        "Noticing chest pain or discomfort, especially during physical exertion.\n",
        "Findings:\n",
        "\n",
        "Blood pressure measurements consistently indicate elevated levels (systolic blood pressure above 140 mmHg and/or diastolic blood pressure above 90 mmHg).\n",
        "Fundoscopic examination may reveal signs of hypertensive retinopathy, such as retinal hemorrhages or cotton-wool spots.\n",
        "Laboratory tests may show elevated cholesterol or triglyceride levels, contributing to hypertension.\"\"\"\n",
        "\n",
        "patient_5=\"\"\"Age: 45\n",
        "Gender: Male\n",
        "\n",
        "Symptoms:\n",
        "\n",
        "Experiencing sudden onset of high fever, typically above 100.4°F (38°C).\n",
        "Complaining of body aches and muscle soreness all over the body.\n",
        "Having a persistent dry cough, sometimes accompanied by chest discomfort.\n",
        "Feeling fatigued and weak, often experiencing extreme tiredness.\n",
        "Findings:\n",
        "\n",
        "Physical examination may reveal redness and inflammation of the throat.\n",
        "Auscultation of the lungs may reveal crackles or wheezing due to inflammation.\n",
        "Rapid antigen tests or PCR tests may confirm the presence of influenza virus in respiratory secretions.\"\"\"\n",
        "\n",
        "patients= [patient_1, patient_2, patient_3, patient_4, patient_5]"
      ]
    },
    {
      "cell_type": "code",
      "execution_count": null,
      "id": "AiVgKHIlViVP",
      "metadata": {
        "id": "AiVgKHIlViVP"
      },
      "outputs": [],
      "source": [
        "# Schema\n",
        "schema = {\n",
        "    \"properties\": {\n",
        "        \"diabetes\":{\"type\": \"string\",\n",
        "                    \"enum\":[\"yes\", \"no\"],\n",
        "                    \"description\": \"Classify the patient as having diabetes.\"},\n",
        "         \"hypertension\":{\"type\": \"string\",\n",
        "                        \"enum\":[\"yes\", \"no\"],\n",
        "                        \"description\": \"Classify the patient as having hypertension.\"},\n",
        "        \"diabetes_likelihood\": {\"type\": \"number\",\n",
        "                                 \"description\": \"score of the patient having diabetes on a scale from 0 to 5.\",\n",
        "                                 \"minimum\":0,\n",
        "                                 \"maximum\":5},\n",
        "        \"hypertension_likelihood\": {\"type\": \"number\",\n",
        "                                    \"description\": \"score of the patient having hypertension on a scale from 0 to 5.\",\n",
        "                                    \"minimum\":0,\n",
        "                                    \"maximum\":5}\n",
        "    },\n",
        "    \"required\": [\"diabetes\", \"hypertension\", \"diabetes_likelihood\",  \"hypertension_likelihood\"]\n",
        "}"
      ]
    },
    {
      "cell_type": "code",
      "execution_count": null,
      "id": "2WdLbmqwVrZO",
      "metadata": {
        "id": "2WdLbmqwVrZO"
      },
      "outputs": [],
      "source": [
        "# Run chain\n",
        "llm = ChatOpenAI(temperature=0,\n",
        "                 model=\"gpt-3.5-turbo-0125\")\n",
        "chain = create_tagging_chain(schema, llm)"
      ]
    },
    {
      "cell_type": "code",
      "execution_count": null,
      "id": "1OUWIG-OWJ3Y",
      "metadata": {
        "colab": {
          "base_uri": "https://localhost:8080/"
        },
        "id": "1OUWIG-OWJ3Y",
        "outputId": "95371a18-d542-4efd-90f8-dc5b35b86d3c"
      },
      "outputs": [
        {
          "name": "stdout",
          "output_type": "stream",
          "text": [
            "{'diabetes': 'yes', 'hypertension': 'yes', 'diabetes_likelihood': 4.5, 'hypertension_likelihood': 4.0}\n",
            "{'diabetes': 'yes', 'hypertension': 'yes', 'diabetes_likelihood': 4.5, 'hypertension_likelihood': 5}\n",
            "{'diabetes': 'yes', 'hypertension': 'no', 'diabetes_likelihood': 4.5, 'hypertension_likelihood': 0.0}\n",
            "{'diabetes': 'no', 'hypertension': 'yes', 'diabetes_likelihood': 0, 'hypertension_likelihood': 5}\n",
            "{'diabetes': 'no', 'hypertension': 'no', 'diabetes_likelihood': 0, 'hypertension_likelihood': 0}\n"
          ]
        }
      ],
      "source": [
        "for i in patients:\n",
        "  print(chain.invoke(i)[\"text\"])"
      ]
    },
    {
      "cell_type": "code",
      "execution_count": null,
      "id": "CbYpN8W7WcfY",
      "metadata": {
        "colab": {
          "base_uri": "https://localhost:8080/"
        },
        "id": "CbYpN8W7WcfY",
        "outputId": "5631caa2-dbc8-4fcb-c640-560bb9f8c328"
      },
      "outputs": [
        {
          "name": "stdout",
          "output_type": "stream",
          "text": [
            "diabetes='yes' hypertension='yes' diabetes_likelihood=4.5 hypertension_likelihood=4.0\n",
            "diabetes='yes' hypertension='yes' diabetes_likelihood=4.5 hypertension_likelihood=4.0\n",
            "diabetes='yes' hypertension='no' diabetes_likelihood=4.5 hypertension_likelihood=0.0\n",
            "diabetes='no' hypertension='yes' diabetes_likelihood=0.0 hypertension_likelihood=5.0\n",
            "diabetes='no' hypertension='no' diabetes_likelihood=0.0 hypertension_likelihood=0.0\n"
          ]
        }
      ],
      "source": [
        "class Classification(BaseModel):\n",
        "    diabetes: str = Field(description=\"Classify the patient as having diabetes\",\n",
        "                          enum=[\"yes\", \"no\"])\n",
        "    hypertension: str = Field(description=\"Classify the patient as having hypertension\",\n",
        "                              enum=[\"yes\", \"no\"])\n",
        "    diabetes_likelihood: float = Field(description=\"score of the patient having diabetes on a scale from 0 to 5.\",\n",
        "                                       ge=0, le=5,) #ge=min, le=max\n",
        "    hypertension_likelihood: float =Field(description=\"score of the patient having hypertension on a scale from 0 to 5\",\n",
        "                                          ge=0, le=5)\n",
        "\n",
        "chain2 = create_tagging_chain_pydantic(Classification, llm)\n",
        "for i in patients:\n",
        "  print(chain2.invoke(i)[\"text\"])"
      ]
    },
    {
      "cell_type": "code",
      "execution_count": null,
      "id": "IcWBKMVhs_Tf",
      "metadata": {
        "colab": {
          "base_uri": "https://localhost:8080/"
        },
        "id": "IcWBKMVhs_Tf",
        "outputId": "bf9c2483-90f6-474d-8b0a-1cccfc49c775"
      },
      "outputs": [
        {
          "name": "stdout",
          "output_type": "stream",
          "text": [
            "diabetes='yes' hypertension='yes' diabetes_likelihood=4.5 hypertension_likelihood=4.0\n",
            "diabetes='yes' hypertension='yes' diabetes_likelihood=4.5 hypertension_likelihood=4.0\n",
            "diabetes='yes' hypertension='no' diabetes_likelihood=4.5 hypertension_likelihood=0.0\n",
            "diabetes='no' hypertension='yes' diabetes_likelihood=0.0 hypertension_likelihood=4.5\n",
            "diabetes='no' hypertension='no' diabetes_likelihood=0.0 hypertension_likelihood=0.0\n"
          ]
        }
      ],
      "source": [
        "tagging_prompt = ChatPromptTemplate.from_template(\n",
        "    \"\"\"\n",
        "Extract the desired information from the following passage.\n",
        "\n",
        "Only extract the properties mentioned in the 'Classification' function.\n",
        "\n",
        "Passage:\n",
        "{input}\n",
        "\"\"\"\n",
        ")\n",
        "\n",
        "llm = ChatOpenAI(temperature=0,\n",
        "                 model=\"gpt-3.5-turbo-0125\")\n",
        "\n",
        "tagging_chain = tagging_prompt | llm.with_structured_output(Classification)\n",
        "for i in patients:\n",
        "  print(tagging_chain.invoke({\"input\": i}))"
      ]
    },
    {
      "cell_type": "markdown",
      "id": "2Qlz4GPDWdAo",
      "metadata": {
        "id": "2Qlz4GPDWdAo"
      },
      "source": [
        "## Custom Prompt"
      ]
    },
    {
      "cell_type": "code",
      "execution_count": null,
      "id": "uNpIgOtifdVc",
      "metadata": {
        "id": "uNpIgOtifdVc"
      },
      "outputs": [],
      "source": [
        "# Schema\n",
        "schema = {\n",
        "    \"properties\": {\n",
        "        \"sentiment_for_product\":{\"type\": \"string\",\n",
        "                                        \"enum\":[\"positive\", \"neutral\", \"negative\"],\n",
        "                                        \"description\": \"The sentiment for product\"},\n",
        "\n",
        "        \"tecnical_problems\": {\"type\": \"string\",\n",
        "                              \"description\": \"Details of the technical problem encountered with the products.\"},\n",
        "    },\n",
        "    \"required\": [\"sentiment_for_product\", \"tecnical_problems\"]\n",
        "}\n",
        "\n",
        "# Input\n",
        "inp = [\"Although the phone's battery life is satisfactory, I had a frustrating experience with customer service when I needed help with a software issue.\",\n",
        "\"The camera's low-light performance is excellent, but I encountered difficulties with the phone's software updates. Fortunately, the customer service team was \\\n",
        "helpful in resolving the issue.\",\n",
        "\"The design of the phone is impressive, but I had to contact customer service multiple times to address an issue with the speaker.\",\n",
        "\"I'm satisfied with the phone's performance overall, but the lack of timely software updates is disappointing. Customer service was responsive when \\\n",
        "I reached out for assistance. \",\n",
        "\"The phone's sleek design caught my eye, but I faced challenges with connectivity issues. Despite this, customer service was prompt in helping me \\\n",
        "troubleshoot the problem.\"]\n"
      ]
    },
    {
      "cell_type": "code",
      "execution_count": null,
      "id": "ssMUVUqpWqqA",
      "metadata": {
        "id": "ssMUVUqpWqqA"
      },
      "outputs": [],
      "source": [
        "llm = ChatOpenAI(temperature=0,\n",
        "                 model=\"gpt-4-turbo-2024-04-09\",\n",
        "                 openai_api_key=os.environ['OPENAI_API_KEY'])\n",
        "chain = create_tagging_chain(schema, llm)"
      ]
    },
    {
      "cell_type": "code",
      "execution_count": null,
      "id": "z9o0QYxko3Pd",
      "metadata": {
        "colab": {
          "base_uri": "https://localhost:8080/"
        },
        "id": "z9o0QYxko3Pd",
        "outputId": "c97e14d2-8359-4288-94ab-58531db31ba6"
      },
      "outputs": [
        {
          "name": "stdout",
          "output_type": "stream",
          "text": [
            "Extract the desired information from the following passage.\n",
            "\n",
            "Only extract the properties mentioned in the 'information_extraction' function.\n",
            "\n",
            "Passage:\n",
            "{input}\n",
            "\n"
          ]
        }
      ],
      "source": [
        "#default chain prompt\n",
        "print(chain.prompt.messages[0].prompt.template)"
      ]
    },
    {
      "cell_type": "code",
      "execution_count": null,
      "id": "Bhqu2VXKpGK2",
      "metadata": {
        "id": "Bhqu2VXKpGK2"
      },
      "outputs": [],
      "source": [
        "template_prompt = \"\"\"Extract the desired information from the following passage.\n",
        "\n",
        "Only extract the properties mentioned in the 'information_extraction' function.\n",
        "\n",
        "capitalize the first letter of the tecnical_problems properties.\n",
        "\n",
        "Passage:\n",
        "{input}\n",
        "\"\"\"\n",
        "\n",
        "chain.prompt.messages[0].prompt.template=template_prompt"
      ]
    },
    {
      "cell_type": "code",
      "execution_count": null,
      "id": "_kwj8wwRXQgZ",
      "metadata": {
        "colab": {
          "base_uri": "https://localhost:8080/"
        },
        "id": "_kwj8wwRXQgZ",
        "outputId": "c2e92b17-826a-455c-f917-1f4a58a4844b"
      },
      "outputs": [
        {
          "name": "stdout",
          "output_type": "stream",
          "text": [
            "{'sentiment_for_product': 'neutral', 'tecnical_problems': 'Software issue'}\n",
            "{'sentiment_for_product': 'positive', 'tecnical_problems': \"Difficulties with the phone's software updates\"}\n",
            "{'sentiment_for_product': 'positive', 'tecnical_problems': 'Had to contact customer service multiple times to address an issue with the speaker.'}\n",
            "{'sentiment_for_product': 'positive', 'tecnical_problems': 'Lack of timely software updates'}\n",
            "{'sentiment_for_product': 'neutral', 'tecnical_problems': 'Connectivity issues'}\n"
          ]
        }
      ],
      "source": [
        "for i in inp:\n",
        "  print(chain.invoke(i)[\"text\"])"
      ]
    },
    {
      "cell_type": "code",
      "execution_count": null,
      "id": "dRdS5RA7CAZo",
      "metadata": {
        "id": "dRdS5RA7CAZo"
      },
      "outputs": [],
      "source": [
        "class Sentiment(BaseModel):\n",
        "    sentiment_for_product: str = Field(description=\"The sentiment for product\",\n",
        "                                              enum=[\"positive\", \"neutral\", \"negative\"])\n",
        "\n",
        "    tecnical_problems: str = Field(description=\"Details of the technical problem encountered with the product.\")"
      ]
    },
    {
      "cell_type": "code",
      "execution_count": null,
      "id": "_94G0JqRBXD7",
      "metadata": {
        "colab": {
          "base_uri": "https://localhost:8080/"
        },
        "id": "_94G0JqRBXD7",
        "outputId": "b2fff113-2195-4fe4-91b4-946d0d64ab21"
      },
      "outputs": [
        {
          "name": "stdout",
          "output_type": "stream",
          "text": [
            "sentiment_for_product='neutral' tecnical_problems='frustrating experience with customer service'\n",
            "sentiment_for_product='positive' tecnical_problems=\"difficulties with the phone's software updates\"\n",
            "sentiment_for_product='positive' tecnical_problems='issue with the speaker'\n",
            "sentiment_for_product='positive' tecnical_problems='lack of timely software updates'\n",
            "sentiment_for_product='neutral' tecnical_problems='connectivity issues'\n"
          ]
        }
      ],
      "source": [
        "llm = ChatOpenAI(model=\"gpt-3.5-turbo-0125\",\n",
        "                 temperature=0)\n",
        "#chain = tagging_prompt | llm.with_structured_output(schema=Person)\n",
        "chain = create_tagging_chain_pydantic(Sentiment, llm)\n",
        "for i in inp:\n",
        "  print(chain.invoke(i)[\"text\"])"
      ]
    },
    {
      "cell_type": "code",
      "execution_count": null,
      "id": "KUogSrGpGMky",
      "metadata": {
        "colab": {
          "base_uri": "https://localhost:8080/"
        },
        "id": "KUogSrGpGMky",
        "outputId": "6008f0b3-95e1-4977-d713-d424e3f89e7f"
      },
      "outputs": [
        {
          "data": {
            "text/plain": [
              "[\"Although the phone's battery life is satisfactory, I had a frustrating experience with customer service when I needed help with a software issue.\",\n",
              " \"The camera's low-light performance is excellent, but I encountered difficulties with the phone's software updates. Fortunately, the customer service team was helpful in resolving the issue.\",\n",
              " 'The design of the phone is impressive, but I had to contact customer service multiple times to address an issue with the speaker.',\n",
              " \"I'm satisfied with the phone's performance overall, but the lack of timely software updates is disappointing. Customer service was responsive when I reached out for assistance. \",\n",
              " \"The phone's sleek design caught my eye, but I faced challenges with connectivity issues. Despite this, customer service was prompt in helping me troubleshoot the problem.\"]"
            ]
          },
          "execution_count": 125,
          "metadata": {},
          "output_type": "execute_result"
        }
      ],
      "source": [
        "inp"
      ]
    },
    {
      "cell_type": "markdown",
      "id": "dWCU5yDBugUt",
      "metadata": {
        "id": "dWCU5yDBugUt"
      },
      "source": [
        "END OF THE PROJECT"
      ]
    }
  ],
  "metadata": {
    "colab": {
      "provenance": []
    },
    "kernelspec": {
      "display_name": "Python 3",
      "name": "python3"
    },
    "language_info": {
      "codemirror_mode": {
        "name": "ipython",
        "version": 3
      },
      "file_extension": ".py",
      "mimetype": "text/x-python",
      "name": "python",
      "nbconvert_exporter": "python",
      "pygments_lexer": "ipython3",
      "version": "3.9.1"
    }
  },
  "nbformat": 4,
  "nbformat_minor": 5
}
