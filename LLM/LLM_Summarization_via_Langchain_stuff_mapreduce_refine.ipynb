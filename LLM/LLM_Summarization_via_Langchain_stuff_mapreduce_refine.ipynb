{
  "cells": [
    {
      "cell_type": "markdown",
      "metadata": {},
      "source": [
        "# LLM Document Summarization via Langchain (stuff, map reduce, refine)\n",
        "\n",
        "## Use case\n",
        "\n",
        "[Summarizing Documents](https://python.langchain.com/docs/use_cases/summarization)\n",
        "\n",
        "Suppose you have a set of documents (PDFs, Notion pages, customer questions, etc.) and you want to summarize the content.\n",
        "\n",
        "LLMs are a great tool for this given their proficiency in understanding and synthesizing text.\n",
        "\n",
        "In this walkthrough we'll go over how to perform document summarization using LLMs."
      ]
    },
    {
      "cell_type": "code",
      "execution_count": 1,
      "metadata": {
        "colab": {
          "base_uri": "https://localhost:8080/"
        },
        "id": "RRYSu48huSUW",
        "outputId": "c72079d1-fb57-4d41-dede-8cbcb45e381d"
      },
      "outputs": [
        {
          "name": "stdout",
          "output_type": "stream",
          "text": [
            "\u001b[2K     \u001b[90m━━━━━━━━━━━━━━━━━━━━━━━━━━━━━━━━━━━━━━━━\u001b[0m \u001b[32m299.3/299.3 kB\u001b[0m \u001b[31m3.3 MB/s\u001b[0m eta \u001b[36m0:00:00\u001b[0m\n",
            "\u001b[2K     \u001b[90m━━━━━━━━━━━━━━━━━━━━━━━━━━━━━━━━━━━━━━━━\u001b[0m \u001b[32m311.6/311.6 kB\u001b[0m \u001b[31m14.8 MB/s\u001b[0m eta \u001b[36m0:00:00\u001b[0m\n",
            "\u001b[2K     \u001b[90m━━━━━━━━━━━━━━━━━━━━━━━━━━━━━━━━━━━━━━━━\u001b[0m \u001b[32m1.8/1.8 MB\u001b[0m \u001b[31m25.4 MB/s\u001b[0m eta \u001b[36m0:00:00\u001b[0m\n",
            "\u001b[2K     \u001b[90m━━━━━━━━━━━━━━━━━━━━━━━━━━━━━━━━━━━━━━━━\u001b[0m \u001b[32m116.0/116.0 kB\u001b[0m \u001b[31m9.1 MB/s\u001b[0m eta \u001b[36m0:00:00\u001b[0m\n",
            "\u001b[2K     \u001b[90m━━━━━━━━━━━━━━━━━━━━━━━━━━━━━━━━━━━━━━━━\u001b[0m \u001b[32m53.0/53.0 kB\u001b[0m \u001b[31m3.3 MB/s\u001b[0m eta \u001b[36m0:00:00\u001b[0m\n",
            "\u001b[2K     \u001b[90m━━━━━━━━━━━━━━━━━━━━━━━━━━━━━━━━━━━━━━━━\u001b[0m \u001b[32m75.6/75.6 kB\u001b[0m \u001b[31m5.1 MB/s\u001b[0m eta \u001b[36m0:00:00\u001b[0m\n",
            "\u001b[2K     \u001b[90m━━━━━━━━━━━━━━━━━━━━━━━━━━━━━━━━━━━━━━━━\u001b[0m \u001b[32m77.9/77.9 kB\u001b[0m \u001b[31m2.4 MB/s\u001b[0m eta \u001b[36m0:00:00\u001b[0m\n",
            "\u001b[2K     \u001b[90m━━━━━━━━━━━━━━━━━━━━━━━━━━━━━━━━━━━━━━━━\u001b[0m \u001b[32m58.3/58.3 kB\u001b[0m \u001b[31m4.8 MB/s\u001b[0m eta \u001b[36m0:00:00\u001b[0m\n",
            "\u001b[2K     \u001b[90m━━━━━━━━━━━━━━━━━━━━━━━━━━━━━━━━━━━━━━━━\u001b[0m \u001b[32m141.1/141.1 kB\u001b[0m \u001b[31m2.3 MB/s\u001b[0m eta \u001b[36m0:00:00\u001b[0m\n",
            "\u001b[?25h"
          ]
        }
      ],
      "source": [
        "!pip install -qU langchain-openai"
      ]
    },
    {
      "cell_type": "code",
      "execution_count": 2,
      "metadata": {
        "id": "dNA4TsHpu6OM"
      },
      "outputs": [],
      "source": [
        "import os\n",
        "from google.colab import userdata\n",
        "os.environ['OPENAI_API_KEY']=userdata.get('OpenAI4Clarusway')"
      ]
    },
    {
      "cell_type": "markdown",
      "metadata": {
        "id": "HqwsGJDhvAQ5"
      },
      "source": [
        "### Reading and Preparing The Text"
      ]
    },
    {
      "cell_type": "code",
      "execution_count": 4,
      "metadata": {
        "colab": {
          "base_uri": "https://localhost:8080/"
        },
        "id": "JkOZE1chsb4t",
        "outputId": "5536e542-d12f-40c7-eade-0b30f29c0eba"
      },
      "outputs": [
        {
          "name": "stdout",
          "output_type": "stream",
          "text": [
            "Requirement already satisfied: langchain in /usr/local/lib/python3.10/dist-packages (0.1.16)\n",
            "Requirement already satisfied: PyYAML>=5.3 in /usr/local/lib/python3.10/dist-packages (from langchain) (6.0.1)\n",
            "Requirement already satisfied: SQLAlchemy<3,>=1.4 in /usr/local/lib/python3.10/dist-packages (from langchain) (2.0.29)\n",
            "Requirement already satisfied: aiohttp<4.0.0,>=3.8.3 in /usr/local/lib/python3.10/dist-packages (from langchain) (3.9.5)\n",
            "Requirement already satisfied: async-timeout<5.0.0,>=4.0.0 in /usr/local/lib/python3.10/dist-packages (from langchain) (4.0.3)\n",
            "Requirement already satisfied: dataclasses-json<0.7,>=0.5.7 in /usr/local/lib/python3.10/dist-packages (from langchain) (0.6.4)\n",
            "Requirement already satisfied: jsonpatch<2.0,>=1.33 in /usr/local/lib/python3.10/dist-packages (from langchain) (1.33)\n",
            "Requirement already satisfied: langchain-community<0.1,>=0.0.32 in /usr/local/lib/python3.10/dist-packages (from langchain) (0.0.34)\n",
            "Requirement already satisfied: langchain-core<0.2.0,>=0.1.42 in /usr/local/lib/python3.10/dist-packages (from langchain) (0.1.46)\n",
            "Requirement already satisfied: langchain-text-splitters<0.1,>=0.0.1 in /usr/local/lib/python3.10/dist-packages (from langchain) (0.0.1)\n",
            "Requirement already satisfied: langsmith<0.2.0,>=0.1.17 in /usr/local/lib/python3.10/dist-packages (from langchain) (0.1.51)\n",
            "Requirement already satisfied: numpy<2,>=1 in /usr/local/lib/python3.10/dist-packages (from langchain) (1.25.2)\n",
            "Requirement already satisfied: pydantic<3,>=1 in /usr/local/lib/python3.10/dist-packages (from langchain) (2.7.0)\n",
            "Requirement already satisfied: requests<3,>=2 in /usr/local/lib/python3.10/dist-packages (from langchain) (2.31.0)\n",
            "Requirement already satisfied: tenacity<9.0.0,>=8.1.0 in /usr/local/lib/python3.10/dist-packages (from langchain) (8.2.3)\n",
            "Requirement already satisfied: aiosignal>=1.1.2 in /usr/local/lib/python3.10/dist-packages (from aiohttp<4.0.0,>=3.8.3->langchain) (1.3.1)\n",
            "Requirement already satisfied: attrs>=17.3.0 in /usr/local/lib/python3.10/dist-packages (from aiohttp<4.0.0,>=3.8.3->langchain) (23.2.0)\n",
            "Requirement already satisfied: frozenlist>=1.1.1 in /usr/local/lib/python3.10/dist-packages (from aiohttp<4.0.0,>=3.8.3->langchain) (1.4.1)\n",
            "Requirement already satisfied: multidict<7.0,>=4.5 in /usr/local/lib/python3.10/dist-packages (from aiohttp<4.0.0,>=3.8.3->langchain) (6.0.5)\n",
            "Requirement already satisfied: yarl<2.0,>=1.0 in /usr/local/lib/python3.10/dist-packages (from aiohttp<4.0.0,>=3.8.3->langchain) (1.9.4)\n",
            "Requirement already satisfied: marshmallow<4.0.0,>=3.18.0 in /usr/local/lib/python3.10/dist-packages (from dataclasses-json<0.7,>=0.5.7->langchain) (3.21.1)\n",
            "Requirement already satisfied: typing-inspect<1,>=0.4.0 in /usr/local/lib/python3.10/dist-packages (from dataclasses-json<0.7,>=0.5.7->langchain) (0.9.0)\n",
            "Requirement already satisfied: jsonpointer>=1.9 in /usr/local/lib/python3.10/dist-packages (from jsonpatch<2.0,>=1.33->langchain) (2.4)\n",
            "Requirement already satisfied: packaging<24.0,>=23.2 in /usr/local/lib/python3.10/dist-packages (from langchain-core<0.2.0,>=0.1.42->langchain) (23.2)\n",
            "Requirement already satisfied: orjson<4.0.0,>=3.9.14 in /usr/local/lib/python3.10/dist-packages (from langsmith<0.2.0,>=0.1.17->langchain) (3.10.1)\n",
            "Requirement already satisfied: annotated-types>=0.4.0 in /usr/local/lib/python3.10/dist-packages (from pydantic<3,>=1->langchain) (0.6.0)\n",
            "Requirement already satisfied: pydantic-core==2.18.1 in /usr/local/lib/python3.10/dist-packages (from pydantic<3,>=1->langchain) (2.18.1)\n",
            "Requirement already satisfied: typing-extensions>=4.6.1 in /usr/local/lib/python3.10/dist-packages (from pydantic<3,>=1->langchain) (4.11.0)\n",
            "Requirement already satisfied: charset-normalizer<4,>=2 in /usr/local/lib/python3.10/dist-packages (from requests<3,>=2->langchain) (3.3.2)\n",
            "Requirement already satisfied: idna<4,>=2.5 in /usr/local/lib/python3.10/dist-packages (from requests<3,>=2->langchain) (3.7)\n",
            "Requirement already satisfied: urllib3<3,>=1.21.1 in /usr/local/lib/python3.10/dist-packages (from requests<3,>=2->langchain) (2.0.7)\n",
            "Requirement already satisfied: certifi>=2017.4.17 in /usr/local/lib/python3.10/dist-packages (from requests<3,>=2->langchain) (2024.2.2)\n",
            "Requirement already satisfied: greenlet!=0.4.17 in /usr/local/lib/python3.10/dist-packages (from SQLAlchemy<3,>=1.4->langchain) (3.0.3)\n",
            "Requirement already satisfied: mypy-extensions>=0.3.0 in /usr/local/lib/python3.10/dist-packages (from typing-inspect<1,>=0.4.0->dataclasses-json<0.7,>=0.5.7->langchain) (1.0.0)\n"
          ]
        }
      ],
      "source": [
        "!pip install -U langchain"
      ]
    },
    {
      "cell_type": "code",
      "execution_count": 5,
      "metadata": {
        "colab": {
          "base_uri": "https://localhost:8080/"
        },
        "id": "7ALQ0PrI0SC7",
        "outputId": "aec4fc02-fee3-4a20-acfb-c0a8ff5fa81e"
      },
      "outputs": [
        {
          "name": "stdout",
          "output_type": "stream",
          "text": [
            "Collecting pypdfium2\n",
            "  Downloading pypdfium2-4.29.0-py3-none-manylinux_2_17_x86_64.manylinux2014_x86_64.whl (2.8 MB)\n",
            "\u001b[2K     \u001b[90m━━━━━━━━━━━━━━━━━━━━━━━━━━━━━━━━━━━━━━━━\u001b[0m \u001b[32m2.8/2.8 MB\u001b[0m \u001b[31m10.9 MB/s\u001b[0m eta \u001b[36m0:00:00\u001b[0m\n",
            "\u001b[?25hInstalling collected packages: pypdfium2\n",
            "Successfully installed pypdfium2-4.29.0\n"
          ]
        }
      ],
      "source": [
        "!pip install -U pypdfium2"
      ]
    },
    {
      "cell_type": "code",
      "execution_count": 8,
      "metadata": {
        "id": "Cat2Sv5R0WlY"
      },
      "outputs": [],
      "source": [
        "from langchain.document_loaders import PyPDFium2Loader\n",
        "\n",
        "def read_doc(directory):\n",
        "    file_loader=PyPDFium2Loader(directory)\n",
        "    pdf_documents=file_loader.load()\n",
        "    return pdf_documents"
      ]
    },
    {
      "cell_type": "code",
      "execution_count": 11,
      "metadata": {
        "colab": {
          "base_uri": "https://localhost:8080/"
        },
        "id": "sowrticH0bwJ",
        "outputId": "aa8ed93b-7de6-4938-b7b2-eed7f27ecdea"
      },
      "outputs": [
        {
          "data": {
            "text/plain": [
              "15"
            ]
          },
          "execution_count": 11,
          "metadata": {},
          "output_type": "execute_result"
        }
      ],
      "source": [
        "pdf=read_doc('/content/attention is all you need.pdf')\n",
        "len(pdf)"
      ]
    },
    {
      "cell_type": "code",
      "execution_count": 12,
      "metadata": {
        "colab": {
          "base_uri": "https://localhost:8080/"
        },
        "id": "PFlAf_160b67",
        "outputId": "648794c9-520c-48cb-f217-cd6d8cf92f67"
      },
      "outputs": [
        {
          "data": {
            "text/plain": [
              "Document(page_content='Provided proper attribution is provided, Google hereby grants permission to\\r\\nreproduce the tables and figures in this paper solely for use in journalistic or\\r\\nscholarly works.\\r\\nAttention Is All You Need\\r\\nAshish Vaswani∗\\r\\nGoogle Brain\\r\\navaswani@google.com\\r\\nNoam Shazeer∗\\r\\nGoogle Brain\\r\\nnoam@google.com\\r\\nNiki Parmar∗\\r\\nGoogle Research\\r\\nnikip@google.com\\r\\nJakob Uszkoreit∗\\r\\nGoogle Research\\r\\nusz@google.com\\r\\nLlion Jones∗\\r\\nGoogle Research\\r\\nllion@google.com\\r\\nAidan N. Gomez∗ †\\r\\nUniversity of Toronto\\r\\naidan@cs.toronto.edu\\r\\nŁukasz Kaiser∗\\r\\nGoogle Brain\\r\\nlukaszkaiser@google.com\\r\\nIllia Polosukhin∗ ‡\\r\\nillia.polosukhin@gmail.com\\r\\nAbstract\\r\\nThe dominant sequence transduction models are based on complex recurrent or\\r\\nconvolutional neural networks that include an encoder and a decoder. The best\\r\\nperforming models also connect the encoder and decoder through an attention\\r\\nmechanism. We propose a new simple network architecture, the Transformer,\\r\\nbased solely on attention mechanisms, dispensing with recurrence and convolutions\\r\\nentirely. Experiments on two machine translation tasks show these models to\\r\\nbe superior in quality while being more parallelizable and requiring significantly\\r\\nless time to train. Our model achieves 28.4 BLEU on the WMT 2014 English\\x02to-German translation task, improving over the existing best results, including\\r\\nensembles, by over 2 BLEU. On the WMT 2014 English-to-French translation task,\\r\\nour model establishes a new single-model state-of-the-art BLEU score of 41.8 after\\r\\ntraining for 3.5 days on eight GPUs, a small fraction of the training costs of the\\r\\nbest models from the literature. We show that the Transformer generalizes well to\\r\\nother tasks by applying it successfully to English constituency parsing both with\\r\\nlarge and limited training data.\\r\\n∗Equal contribution. Listing order is random. Jakob proposed replacing RNNs with self-attention and started\\r\\nthe effort to evaluate this idea. Ashish, with Illia, designed and implemented the first Transformer models and\\r\\nhas been crucially involved in every aspect of this work. Noam proposed scaled dot-product attention, multi-head\\r\\nattention and the parameter-free position representation and became the other person involved in nearly every\\r\\ndetail. Niki designed, implemented, tuned and evaluated countless model variants in our original codebase and\\r\\ntensor2tensor. Llion also experimented with novel model variants, was responsible for our initial codebase, and\\r\\nefficient inference and visualizations. Lukasz and Aidan spent countless long days designing various parts of and\\r\\nimplementing tensor2tensor, replacing our earlier codebase, greatly improving results and massively accelerating\\r\\nour research.\\r\\n†Work performed while at Google Brain.\\r\\n‡Work performed while at Google Research.\\r\\n31st Conference on Neural Information Processing Systems (NIPS 2017), Long Beach, CA, USA.\\r\\narXiv:1706.03762v7 [cs.CL] 2 Aug 2023\\n', metadata={'source': '/content/attention is all you need.pdf', 'page': 0})"
            ]
          },
          "execution_count": 12,
          "metadata": {},
          "output_type": "execute_result"
        }
      ],
      "source": [
        "pdf[0] #first page"
      ]
    },
    {
      "cell_type": "code",
      "execution_count": 13,
      "metadata": {
        "colab": {
          "base_uri": "https://localhost:8080/"
        },
        "id": "IaL8jvsd0cEC",
        "outputId": "9b6a41d2-dec8-4522-8b41-490d8bcfa976"
      },
      "outputs": [
        {
          "data": {
            "text/plain": [
              "[Document(page_content='Provided proper attribution is provided, Google hereby grants permission to\\r\\nreproduce the tables and figures in this paper solely for use in journalistic or\\r\\nscholarly works.\\r\\nAttention Is All You Need\\r\\nAshish Vaswani∗\\r\\nGoogle Brain\\r\\navaswani@google.com\\r\\nNoam Shazeer∗\\r\\nGoogle Brain\\r\\nnoam@google.com\\r\\nNiki Parmar∗\\r\\nGoogle Research\\r\\nnikip@google.com\\r\\nJakob Uszkoreit∗\\r\\nGoogle Research\\r\\nusz@google.com\\r\\nLlion Jones∗\\r\\nGoogle Research\\r\\nllion@google.com\\r\\nAidan N. Gomez∗ †\\r\\nUniversity of Toronto\\r\\naidan@cs.toronto.edu\\r\\nŁukasz Kaiser∗\\r\\nGoogle Brain\\r\\nlukaszkaiser@google.com\\r\\nIllia Polosukhin∗ ‡\\r\\nillia.polosukhin@gmail.com\\r\\nAbstract\\r\\nThe dominant sequence transduction models are based on complex recurrent or\\r\\nconvolutional neural networks that include an encoder and a decoder. The best\\r\\nperforming models also connect the encoder and decoder through an attention\\r\\nmechanism. We propose a new simple network architecture, the Transformer,\\r\\nbased solely on attention mechanisms, dispensing with recurrence and convolutions\\r\\nentirely. Experiments on two machine translation tasks show these models to\\r\\nbe superior in quality while being more parallelizable and requiring significantly\\r\\nless time to train. Our model achieves 28.4 BLEU on the WMT 2014 English\\x02to-German translation task, improving over the existing best results, including\\r\\nensembles, by over 2 BLEU. On the WMT 2014 English-to-French translation task,\\r\\nour model establishes a new single-model state-of-the-art BLEU score of 41.8 after\\r\\ntraining for 3.5 days on eight GPUs, a small fraction of the training costs of the\\r\\nbest models from the literature. We show that the Transformer generalizes well to\\r\\nother tasks by applying it successfully to English constituency parsing both with\\r\\nlarge and limited training data.\\r\\n∗Equal contribution. Listing order is random. Jakob proposed replacing RNNs with self-attention and started\\r\\nthe effort to evaluate this idea. Ashish, with Illia, designed and implemented the first Transformer models and\\r\\nhas been crucially involved in every aspect of this work. Noam proposed scaled dot-product attention, multi-head\\r\\nattention and the parameter-free position representation and became the other person involved in nearly every\\r\\ndetail. Niki designed, implemented, tuned and evaluated countless model variants in our original codebase and\\r\\ntensor2tensor. Llion also experimented with novel model variants, was responsible for our initial codebase, and\\r\\nefficient inference and visualizations. Lukasz and Aidan spent countless long days designing various parts of and\\r\\nimplementing tensor2tensor, replacing our earlier codebase, greatly improving results and massively accelerating\\r\\nour research.\\r\\n†Work performed while at Google Brain.\\r\\n‡Work performed while at Google Research.\\r\\n31st Conference on Neural Information Processing Systems (NIPS 2017), Long Beach, CA, USA.\\r\\narXiv:1706.03762v7 [cs.CL] 2 Aug 2023\\n', metadata={'source': '/content/attention is all you need.pdf', 'page': 0}),\n",
              " Document(page_content='1 Introduction\\r\\nRecurrent neural networks, long short-term memory [13] and gated recurrent [7] neural networks\\r\\nin particular, have been firmly established as state of the art approaches in sequence modeling and\\r\\ntransduction problems such as language modeling and machine translation [35, 2, 5]. Numerous\\r\\nefforts have since continued to push the boundaries of recurrent language models and encoder-decoder\\r\\narchitectures [38, 24, 15].\\r\\nRecurrent models typically factor computation along the symbol positions of the input and output\\r\\nsequences. Aligning the positions to steps in computation time, they generate a sequence of hidden\\r\\nstates ht, as a function of the previous hidden state ht−1 and the input for position t. This inherently\\r\\nsequential nature precludes parallelization within training examples, which becomes critical at longer\\r\\nsequence lengths, as memory constraints limit batching across examples. Recent work has achieved\\r\\nsignificant improvements in computational efficiency through factorization tricks [21] and conditional\\r\\ncomputation [32], while also improving model performance in case of the latter. The fundamental\\r\\nconstraint of sequential computation, however, remains.\\r\\nAttention mechanisms have become an integral part of compelling sequence modeling and transduc\\x02tion models in various tasks, allowing modeling of dependencies without regard to their distance in\\r\\nthe input or output sequences [2, 19]. In all but a few cases [27], however, such attention mechanisms\\r\\nare used in conjunction with a recurrent network.\\r\\nIn this work we propose the Transformer, a model architecture eschewing recurrence and instead\\r\\nrelying entirely on an attention mechanism to draw global dependencies between input and output.\\r\\nThe Transformer allows for significantly more parallelization and can reach a new state of the art in\\r\\ntranslation quality after being trained for as little as twelve hours on eight P100 GPUs.\\r\\n2 Background\\r\\nThe goal of reducing sequential computation also forms the foundation of the Extended Neural GPU\\r\\n[16], ByteNet [18] and ConvS2S [9], all of which use convolutional neural networks as basic building\\r\\nblock, computing hidden representations in parallel for all input and output positions. In these models,\\r\\nthe number of operations required to relate signals from two arbitrary input or output positions grows\\r\\nin the distance between positions, linearly for ConvS2S and logarithmically for ByteNet. This makes\\r\\nit more difficult to learn dependencies between distant positions [12]. In the Transformer this is\\r\\nreduced to a constant number of operations, albeit at the cost of reduced effective resolution due\\r\\nto averaging attention-weighted positions, an effect we counteract with Multi-Head Attention as\\r\\ndescribed in section 3.2.\\r\\nSelf-attention, sometimes called intra-attention is an attention mechanism relating different positions\\r\\nof a single sequence in order to compute a representation of the sequence. Self-attention has been\\r\\nused successfully in a variety of tasks including reading comprehension, abstractive summarization,\\r\\ntextual entailment and learning task-independent sentence representations [4, 27, 28, 22].\\r\\nEnd-to-end memory networks are based on a recurrent attention mechanism instead of sequence\\x02aligned recurrence and have been shown to perform well on simple-language question answering and\\r\\nlanguage modeling tasks [34].\\r\\nTo the best of our knowledge, however, the Transformer is the first transduction model relying\\r\\nentirely on self-attention to compute representations of its input and output without using sequence\\x02aligned RNNs or convolution. In the following sections, we will describe the Transformer, motivate\\r\\nself-attention and discuss its advantages over models such as [17, 18] and [9].\\r\\n3 Model Architecture\\r\\nMost competitive neural sequence transduction models have an encoder-decoder structure [5, 2, 35].\\r\\nHere, the encoder maps an input sequence of symbol representations (x1, ..., xn) to a sequence\\r\\nof continuous representations z = (z1, ..., zn). Given z, the decoder then generates an output\\r\\nsequence (y1, ..., ym) of symbols one element at a time. At each step the model is auto-regressive\\r\\n[10], consuming the previously generated symbols as additional input when generating the next.\\r\\n2\\n', metadata={'source': '/content/attention is all you need.pdf', 'page': 1}),\n",
              " Document(page_content='Figure 1: The Transformer - model architecture.\\r\\nThe Transformer follows this overall architecture using stacked self-attention and point-wise, fully\\r\\nconnected layers for both the encoder and decoder, shown in the left and right halves of Figure 1,\\r\\nrespectively.\\r\\n3.1 Encoder and Decoder Stacks\\r\\nEncoder: The encoder is composed of a stack of N = 6 identical layers. Each layer has two\\r\\nsub-layers. The first is a multi-head self-attention mechanism, and the second is a simple, position\\x02wise fully connected feed-forward network. We employ a residual connection [11] around each of\\r\\nthe two sub-layers, followed by layer normalization [1]. That is, the output of each sub-layer is\\r\\nLayerNorm(x + Sublayer(x)), where Sublayer(x) is the function implemented by the sub-layer\\r\\nitself. To facilitate these residual connections, all sub-layers in the model, as well as the embedding\\r\\nlayers, produce outputs of dimension dmodel = 512.\\r\\nDecoder: The decoder is also composed of a stack of N = 6 identical layers. In addition to the two\\r\\nsub-layers in each encoder layer, the decoder inserts a third sub-layer, which performs multi-head\\r\\nattention over the output of the encoder stack. Similar to the encoder, we employ residual connections\\r\\naround each of the sub-layers, followed by layer normalization. We also modify the self-attention\\r\\nsub-layer in the decoder stack to prevent positions from attending to subsequent positions. This\\r\\nmasking, combined with fact that the output embeddings are offset by one position, ensures that the\\r\\npredictions for position i can depend only on the known outputs at positions less than i.\\r\\n3.2 Attention\\r\\nAn attention function can be described as mapping a query and a set of key-value pairs to an output,\\r\\nwhere the query, keys, values, and output are all vectors. The output is computed as a weighted sum\\r\\n3\\n', metadata={'source': '/content/attention is all you need.pdf', 'page': 2}),\n",
              " Document(page_content='Scaled Dot-Product Attention Multi-Head Attention\\r\\nFigure 2: (left) Scaled Dot-Product Attention. (right) Multi-Head Attention consists of several\\r\\nattention layers running in parallel.\\r\\nof the values, where the weight assigned to each value is computed by a compatibility function of the\\r\\nquery with the corresponding key.\\r\\n3.2.1 Scaled Dot-Product Attention\\r\\nWe call our particular attention \"Scaled Dot-Product Attention\" (Figure 2). The input consists of\\r\\nqueries and keys of dimension dk, and values of dimension dv. We compute the dot products of the\\r\\nquery with all keys, divide each by √dk, and apply a softmax function to obtain the weights on the\\r\\nvalues.\\r\\nIn practice, we compute the attention function on a set of queries simultaneously, packed together\\r\\ninto a matrix Q. The keys and values are also packed together into matrices K and V . We compute\\r\\nthe matrix of outputs as:\\r\\nAttention(Q, K, V ) = softmax(QKT\\r\\n√\\r\\ndk\\r\\n)V (1)\\r\\nThe two most commonly used attention functions are additive attention [2], and dot-product (multi\\x02plicative) attention. Dot-product attention is identical to our algorithm, except for the scaling factor\\r\\nof √\\r\\n1\\r\\ndk\\r\\n. Additive attention computes the compatibility function using a feed-forward network with\\r\\na single hidden layer. While the two are similar in theoretical complexity, dot-product attention is\\r\\nmuch faster and more space-efficient in practice, since it can be implemented using highly optimized\\r\\nmatrix multiplication code.\\r\\nWhile for small values of dk the two mechanisms perform similarly, additive attention outperforms\\r\\ndot product attention without scaling for larger values of dk [3]. We suspect that for large values of\\r\\ndk, the dot products grow large in magnitude, pushing the softmax function into regions where it has\\r\\nextremely small gradients 4. To counteract this effect, we scale the dot products by √\\r\\n1\\r\\ndk\\r\\n.\\r\\n3.2.2 Multi-Head Attention\\r\\nInstead of performing a single attention function with dmodel-dimensional keys, values and queries,\\r\\nwe found it beneficial to linearly project the queries, keys and values h times with different, learned\\r\\nlinear projections to dk, dk and dv dimensions, respectively. On each of these projected versions of\\r\\nqueries, keys and values we then perform the attention function in parallel, yielding dv-dimensional\\r\\n4To illustrate why the dot products get large, assume that the components of q and k are independent random\\r\\nvariables with mean 0 and variance 1. Then their dot product, q · k =\\r\\nPdk\\r\\ni=1 qiki, has mean 0 and variance dk.\\r\\n4\\n', metadata={'source': '/content/attention is all you need.pdf', 'page': 3}),\n",
              " Document(page_content='output values. These are concatenated and once again projected, resulting in the final values, as\\r\\ndepicted in Figure 2.\\r\\nMulti-head attention allows the model to jointly attend to information from different representation\\r\\nsubspaces at different positions. With a single attention head, averaging inhibits this.\\r\\nMultiHead(Q, K, V ) = Concat(head1, ..., headh)WO\\r\\nwhere headi = Attention(QWQ\\r\\ni\\r\\n, KW K\\r\\ni\\r\\n, V WV\\r\\ni\\r\\n)\\r\\nWhere the projections are parameter matrices W\\r\\nQ\\r\\ni ∈ R\\r\\ndmodel×dk , W K\\r\\ni ∈ R\\r\\ndmodel×dk , WV\\r\\ni ∈ R\\r\\ndmodel×dv\\r\\nand WO ∈ R\\r\\nhdv×dmodel\\r\\n.\\r\\nIn this work we employ h = 8 parallel attention layers, or heads. For each of these we use\\r\\ndk = dv = dmodel/h = 64. Due to the reduced dimension of each head, the total computational cost\\r\\nis similar to that of single-head attention with full dimensionality.\\r\\n3.2.3 Applications of Attention in our Model\\r\\nThe Transformer uses multi-head attention in three different ways:\\r\\n• In \"encoder-decoder attention\" layers, the queries come from the previous decoder layer,\\r\\nand the memory keys and values come from the output of the encoder. This allows every\\r\\nposition in the decoder to attend over all positions in the input sequence. This mimics the\\r\\ntypical encoder-decoder attention mechanisms in sequence-to-sequence models such as\\r\\n[38, 2, 9].\\r\\n• The encoder contains self-attention layers. In a self-attention layer all of the keys, values\\r\\nand queries come from the same place, in this case, the output of the previous layer in the\\r\\nencoder. Each position in the encoder can attend to all positions in the previous layer of the\\r\\nencoder.\\r\\n• Similarly, self-attention layers in the decoder allow each position in the decoder to attend to\\r\\nall positions in the decoder up to and including that position. We need to prevent leftward\\r\\ninformation flow in the decoder to preserve the auto-regressive property. We implement this\\r\\ninside of scaled dot-product attention by masking out (setting to −∞) all values in the input\\r\\nof the softmax which correspond to illegal connections. See Figure 2.\\r\\n3.3 Position-wise Feed-Forward Networks\\r\\nIn addition to attention sub-layers, each of the layers in our encoder and decoder contains a fully\\r\\nconnected feed-forward network, which is applied to each position separately and identically. This\\r\\nconsists of two linear transformations with a ReLU activation in between.\\r\\nFFN(x) = max(0, xW1 + b1)W2 + b2 (2)\\r\\nWhile the linear transformations are the same across different positions, they use different parameters\\r\\nfrom layer to layer. Another way of describing this is as two convolutions with kernel size 1.\\r\\nThe dimensionality of input and output is dmodel = 512, and the inner-layer has dimensionality\\r\\ndf f = 2048.\\r\\n3.4 Embeddings and Softmax\\r\\nSimilarly to other sequence transduction models, we use learned embeddings to convert the input\\r\\ntokens and output tokens to vectors of dimension dmodel. We also use the usual learned linear transfor\\x02mation and softmax function to convert the decoder output to predicted next-token probabilities. In\\r\\nour model, we share the same weight matrix between the two embedding layers and the pre-softmax\\r\\nlinear transformation, similar to [30]. In the embedding layers, we multiply those weights by √dmodel.\\r\\n5\\n', metadata={'source': '/content/attention is all you need.pdf', 'page': 4})]"
            ]
          },
          "execution_count": 13,
          "metadata": {},
          "output_type": "execute_result"
        }
      ],
      "source": [
        "pdf[0:5] # first five page"
      ]
    },
    {
      "cell_type": "markdown",
      "metadata": {
        "id": "OC-BD9B1ew99"
      },
      "source": [
        "## **3 types of Summarize Chains**\n",
        "\n",
        "![image.png](data:image/png;base64,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)\n",
        "\n",
        "### **1. Summarizing with the 'stuff' Chain**\n",
        "\n",
        "Stuffing is the simplest method, whereby you simply stuff all the related data into the prompt as context to pass to the language model. This is implemented in LangChain as the StuffDocumentsChain.\n",
        "\n",
        "Pros: Only makes a single call to the LLM. When generating text, the LLM has access to all the data at once.\n",
        "\n",
        "Cons: Most LLMs have a context length, and for large documents (or many documents) this will not work as it will result in a prompt larger than the context length.\n",
        "\n",
        "The main downside of this method is that it only works one smaller pieces of data. Once you are working with many pieces of data, this approach is no longer feasible. The next two approaches are designed to help deal with that.*"
      ]
    },
    {
      "cell_type": "code",
      "execution_count": 14,
      "metadata": {
        "id": "lgesD0jrvDyG"
      },
      "outputs": [],
      "source": [
        "from langchain_openai import ChatOpenAI\n",
        "from langchain.chains.summarize import load_summarize_chain\n",
        "\n",
        "llm = ChatOpenAI(temperature=0, model_name='gpt-3.5-turbo-0125',max_tokens=1024)"
      ]
    },
    {
      "cell_type": "code",
      "execution_count": 15,
      "metadata": {
        "id": "9V5jB35p0Xjx"
      },
      "outputs": [],
      "source": [
        "chain = load_summarize_chain(\n",
        "    llm,\n",
        "    chain_type='stuff',\n",
        "    verbose=False\n",
        ")\n",
        "output_summary = chain.invoke(pdf[0:5])['output_text']"
      ]
    },
    {
      "cell_type": "code",
      "execution_count": 16,
      "metadata": {
        "colab": {
          "base_uri": "https://localhost:8080/",
          "height": 105
        },
        "id": "UgppTSdu5gd7",
        "outputId": "85598490-ebae-4c91-8739-50963f1ca98a"
      },
      "outputs": [
        {
          "data": {
            "application/vnd.google.colaboratory.intrinsic+json": {
              "type": "string"
            },
            "text/plain": [
              "'The paper \"Attention Is All You Need\" introduces a new model architecture called the Transformer, which relies solely on attention mechanisms and eliminates the need for recurrent or convolutional neural networks. The Transformer model achieves superior results in machine translation tasks, is more parallelizable, and requires less training time compared to existing models. The paper describes the architecture of the Transformer, including the encoder and decoder stacks, attention mechanisms, and position-wise feed-forward networks. The model uses multi-head attention to allow for joint attention to different representation subspaces at different positions. The paper also discusses the applications of attention in the model, such as encoder-decoder attention and self-attention layers. Overall, the Transformer model represents a significant advancement in sequence transduction models.'"
            ]
          },
          "execution_count": 16,
          "metadata": {},
          "output_type": "execute_result"
        }
      ],
      "source": [
        "output_summary"
      ]
    },
    {
      "cell_type": "code",
      "execution_count": 17,
      "metadata": {
        "colab": {
          "base_uri": "https://localhost:8080/"
        },
        "id": "8X_4w1Yz54lg",
        "outputId": "3bc55aac-824b-4dea-825c-167f9d49ed72"
      },
      "outputs": [
        {
          "name": "stdout",
          "output_type": "stream",
          "text": [
            "The paper \"Attention Is All You Need\" introduces a new model architecture called the Transformer,\n",
            "which relies solely on attention mechanisms and eliminates the need for recurrent or convolutional\n",
            "neural networks. The Transformer model achieves superior results in machine translation tasks, is\n",
            "more parallelizable, and requires less training time compared to existing models. The paper\n",
            "describes the architecture of the Transformer, including the encoder and decoder stacks, attention\n",
            "mechanisms, and position-wise feed-forward networks. The model uses multi-head attention to allow\n",
            "for joint attention to different representation subspaces at different positions. The paper also\n",
            "discusses the applications of attention in the model, such as encoder-decoder attention and self-\n",
            "attention layers. Overall, the Transformer model represents a significant advancement in sequence\n",
            "transduction models.\n"
          ]
        }
      ],
      "source": [
        "import textwrap\n",
        "\n",
        "wrapped_text=textwrap.fill(output_summary, width=100)\n",
        "print(wrapped_text)"
      ]
    },
    {
      "cell_type": "code",
      "execution_count": 18,
      "metadata": {
        "colab": {
          "base_uri": "https://localhost:8080/",
          "height": 35
        },
        "id": "XP4pAn_CWvDU",
        "outputId": "e7f66de1-c356-4779-bcfa-e35bae342bbf"
      },
      "outputs": [
        {
          "data": {
            "application/vnd.google.colaboratory.intrinsic+json": {
              "type": "string"
            },
            "text/plain": [
              "'Write a concise summary of the following:\\n\\n\\n\"{text}\"\\n\\n\\nCONCISE SUMMARY:'"
            ]
          },
          "execution_count": 18,
          "metadata": {},
          "output_type": "execute_result"
        }
      ],
      "source": [
        "chain.llm_chain.prompt.template"
      ]
    },
    {
      "cell_type": "code",
      "execution_count": 19,
      "metadata": {
        "id": "bbRRDq6mojdt"
      },
      "outputs": [],
      "source": [
        "chain.llm_chain.prompt.template=\"\"\"Write a summary in 1000 tokens of the following:\\n\\n\\n\"{text}\"\\n\\n\\nCONCISE SUMMARY:\"\"\""
      ]
    },
    {
      "cell_type": "code",
      "execution_count": 20,
      "metadata": {
        "colab": {
          "base_uri": "https://localhost:8080/",
          "height": 122
        },
        "id": "yjUKLdGoojks",
        "outputId": "8778541e-0291-4cbb-9ee1-af6ab0f2d4dd"
      },
      "outputs": [
        {
          "data": {
            "application/vnd.google.colaboratory.intrinsic+json": {
              "type": "string"
            },
            "text/plain": [
              "'The paper \"Attention Is All You Need\" by Ashish Vaswani and colleagues introduces the Transformer, a novel neural network architecture that relies entirely on an attention mechanism, eliminating the need for recurrent layers. This model is designed to enhance parallelization, reduce training times, and improve performance in sequence transduction tasks like machine translation and parsing.\\n\\nTraditional sequence transduction models, such as those using recurrent neural networks (RNNs) or convolutional layers, process data sequentially, which limits parallel computing and increases training duration. The Transformer addresses these issues by using self-attention layers that process data in parallel, allowing it to learn dependencies without considering the distance between input and output positions.\\n\\nThe architecture of the Transformer consists of an encoder and a decoder, each made up of multiple layers. The encoder uses self-attention and point-wise, fully connected layers, while the decoder also includes a multi-head attention mechanism that focuses on the encoder\\'s output. This setup enables the model to handle each position of the encoder independently and simultaneously, significantly speeding up the training process.\\n\\nThe Transformer introduces several key innovations:\\n1. **Multi-Head Attention**: This feature allows the model to focus on different parts of the sequence, enhancing its ability to learn complex dependencies.\\n2. **Position-wise Feed-Forward Networks**: Each layer in the encoder and decoder includes a feed-forward network applied independently to each position, allowing more flexibility in the model.\\n3. **Scaled Dot-Product Attention**: This simplifies the calculation of attention weights, improving efficiency and performance.\\n\\nThe paper demonstrates the effectiveness of the Transformer through experiments on English-to-German and English-to-French translation tasks, where it achieved state-of-the-art results with significantly less training time compared to previous models. The Transformer also generalizes well to other tasks like English constituency parsing, showing its versatility and robustness.\\n\\nOverall, the Transformer represents a significant advancement in neural network architecture for sequence modeling, offering improvements in speed, efficiency, and performance across various natural language processing tasks.'"
            ]
          },
          "execution_count": 20,
          "metadata": {},
          "output_type": "execute_result"
        }
      ],
      "source": [
        "llm = ChatOpenAI(temperature=0, model_name='gpt-4-turbo-2024-04-09', max_tokens=1024)\n",
        "\n",
        "chain = load_summarize_chain(\n",
        "    llm,\n",
        "    chain_type='stuff',\n",
        "    #prompt=prompt,\n",
        "    verbose=False\n",
        ")\n",
        "output_summary = chain.invoke(pdf[0:5])['output_text']\n",
        "output_summary"
      ]
    },
    {
      "cell_type": "code",
      "execution_count": 21,
      "metadata": {
        "colab": {
          "base_uri": "https://localhost:8080/"
        },
        "id": "RS2LWMYGojq6",
        "outputId": "ead185ce-f0a6-4d22-abd4-e20a63356403"
      },
      "outputs": [
        {
          "name": "stdout",
          "output_type": "stream",
          "text": [
            "The paper \"Attention Is All You Need\" by Ashish Vaswani and colleagues introduces the Transformer, a\n",
            "novel neural network architecture that relies entirely on an attention mechanism, eliminating the\n",
            "need for recurrent layers. This model is designed to enhance parallelization, reduce training times,\n",
            "and improve performance in sequence transduction tasks like machine translation and parsing.\n",
            "Traditional sequence transduction models, such as those using recurrent neural networks (RNNs) or\n",
            "convolutional layers, process data sequentially, which limits parallel computing and increases\n",
            "training duration. The Transformer addresses these issues by using self-attention layers that\n",
            "process data in parallel, allowing it to learn dependencies without considering the distance between\n",
            "input and output positions.  The architecture of the Transformer consists of an encoder and a\n",
            "decoder, each made up of multiple layers. The encoder uses self-attention and point-wise, fully\n",
            "connected layers, while the decoder also includes a multi-head attention mechanism that focuses on\n",
            "the encoder's output. This setup enables the model to handle each position of the encoder\n",
            "independently and simultaneously, significantly speeding up the training process.  The Transformer\n",
            "introduces several key innovations: 1. **Multi-Head Attention**: This feature allows the model to\n",
            "focus on different parts of the sequence, enhancing its ability to learn complex dependencies. 2.\n",
            "**Position-wise Feed-Forward Networks**: Each layer in the encoder and decoder includes a feed-\n",
            "forward network applied independently to each position, allowing more flexibility in the model. 3.\n",
            "**Scaled Dot-Product Attention**: This simplifies the calculation of attention weights, improving\n",
            "efficiency and performance.  The paper demonstrates the effectiveness of the Transformer through\n",
            "experiments on English-to-German and English-to-French translation tasks, where it achieved state-\n",
            "of-the-art results with significantly less training time compared to previous models. The\n",
            "Transformer also generalizes well to other tasks like English constituency parsing, showing its\n",
            "versatility and robustness.  Overall, the Transformer represents a significant advancement in neural\n",
            "network architecture for sequence modeling, offering improvements in speed, efficiency, and\n",
            "performance across various natural language processing tasks.\n"
          ]
        }
      ],
      "source": [
        "wrapped_text=textwrap.fill(output_summary, width=100)\n",
        "print(wrapped_text)"
      ]
    },
    {
      "cell_type": "code",
      "execution_count": 22,
      "metadata": {
        "id": "UI_Zq7PJojxU"
      },
      "outputs": [],
      "source": [
        "chain.llm_chain.prompt.template=\"\"\"Write a concise summary of the following:\\n\\n\\n\"{text}\"\\n\\n\\nCONCISE SUMMARY:\"\"\""
      ]
    },
    {
      "cell_type": "markdown",
      "metadata": {
        "id": "1zr-AO5qlJNZ"
      },
      "source": [
        "### **2. Summarizing with the 'Map Reduce' Chain**\n",
        "This method involves **an initial prompt on each chunk of data ***\n",
        "( for summarization tasks, this could be a summary of that chunk; for question-answering tasks, it could be an answer based solely on that chunk). **Then a different prompt is run to combine all the initial outputs.** This is implemented in the LangChain as the MapReduceDocumentsChain.\n",
        "\n",
        "**Pros:** Can scale to larger documents (and more documents) than StuffDocumentsChain. The calls to the LLM on individual documents are independent and can therefore be parallelized.\n",
        "\n",
        "**Cons:** Requires many more calls to the LLM than StuffDocumentsChain. Loses some information during the final combining call."
      ]
    },
    {
      "cell_type": "code",
      "execution_count": 23,
      "metadata": {
        "id": "lFYz2IztO2nE"
      },
      "outputs": [],
      "source": [
        "from langchain.chains.summarize import load_summarize_chain\n",
        "import textwrap\n",
        "\n",
        "llm = ChatOpenAI(temperature=0, model_name='gpt-3.5-turbo-0125',max_tokens=1024)"
      ]
    },
    {
      "cell_type": "code",
      "execution_count": 24,
      "metadata": {
        "id": "uNiaUie9_RnS"
      },
      "outputs": [],
      "source": [
        "from langchain.text_splitter import RecursiveCharacterTextSplitter, CharacterTextSplitter\n",
        "\n",
        "text_splitter = RecursiveCharacterTextSplitter(chunk_size=10000, chunk_overlap=0)\n",
        "chunks = text_splitter.split_documents(pdf)"
      ]
    },
    {
      "cell_type": "code",
      "execution_count": 25,
      "metadata": {
        "colab": {
          "base_uri": "https://localhost:8080/"
        },
        "id": "MzjQDFuVAj1T",
        "outputId": "ac85f795-b855-4ceb-a06a-483ef8937d26"
      },
      "outputs": [
        {
          "data": {
            "text/plain": [
              "15"
            ]
          },
          "execution_count": 25,
          "metadata": {},
          "output_type": "execute_result"
        }
      ],
      "source": [
        "len(chunks)"
      ]
    },
    {
      "cell_type": "code",
      "execution_count": 26,
      "metadata": {
        "colab": {
          "base_uri": "https://localhost:8080/"
        },
        "id": "0XS-DNcDzlo0",
        "outputId": "98974555-4b2f-4337-8a03-1e302fc970b1"
      },
      "outputs": [
        {
          "data": {
            "text/plain": [
              "Document(page_content='Provided proper attribution is provided, Google hereby grants permission to\\r\\nreproduce the tables and figures in this paper solely for use in journalistic or\\r\\nscholarly works.\\r\\nAttention Is All You Need\\r\\nAshish Vaswani∗\\r\\nGoogle Brain\\r\\navaswani@google.com\\r\\nNoam Shazeer∗\\r\\nGoogle Brain\\r\\nnoam@google.com\\r\\nNiki Parmar∗\\r\\nGoogle Research\\r\\nnikip@google.com\\r\\nJakob Uszkoreit∗\\r\\nGoogle Research\\r\\nusz@google.com\\r\\nLlion Jones∗\\r\\nGoogle Research\\r\\nllion@google.com\\r\\nAidan N. Gomez∗ †\\r\\nUniversity of Toronto\\r\\naidan@cs.toronto.edu\\r\\nŁukasz Kaiser∗\\r\\nGoogle Brain\\r\\nlukaszkaiser@google.com\\r\\nIllia Polosukhin∗ ‡\\r\\nillia.polosukhin@gmail.com\\r\\nAbstract\\r\\nThe dominant sequence transduction models are based on complex recurrent or\\r\\nconvolutional neural networks that include an encoder and a decoder. The best\\r\\nperforming models also connect the encoder and decoder through an attention\\r\\nmechanism. We propose a new simple network architecture, the Transformer,\\r\\nbased solely on attention mechanisms, dispensing with recurrence and convolutions\\r\\nentirely. Experiments on two machine translation tasks show these models to\\r\\nbe superior in quality while being more parallelizable and requiring significantly\\r\\nless time to train. Our model achieves 28.4 BLEU on the WMT 2014 English\\x02to-German translation task, improving over the existing best results, including\\r\\nensembles, by over 2 BLEU. On the WMT 2014 English-to-French translation task,\\r\\nour model establishes a new single-model state-of-the-art BLEU score of 41.8 after\\r\\ntraining for 3.5 days on eight GPUs, a small fraction of the training costs of the\\r\\nbest models from the literature. We show that the Transformer generalizes well to\\r\\nother tasks by applying it successfully to English constituency parsing both with\\r\\nlarge and limited training data.\\r\\n∗Equal contribution. Listing order is random. Jakob proposed replacing RNNs with self-attention and started\\r\\nthe effort to evaluate this idea. Ashish, with Illia, designed and implemented the first Transformer models and\\r\\nhas been crucially involved in every aspect of this work. Noam proposed scaled dot-product attention, multi-head\\r\\nattention and the parameter-free position representation and became the other person involved in nearly every\\r\\ndetail. Niki designed, implemented, tuned and evaluated countless model variants in our original codebase and\\r\\ntensor2tensor. Llion also experimented with novel model variants, was responsible for our initial codebase, and\\r\\nefficient inference and visualizations. Lukasz and Aidan spent countless long days designing various parts of and\\r\\nimplementing tensor2tensor, replacing our earlier codebase, greatly improving results and massively accelerating\\r\\nour research.\\r\\n†Work performed while at Google Brain.\\r\\n‡Work performed while at Google Research.\\r\\n31st Conference on Neural Information Processing Systems (NIPS 2017), Long Beach, CA, USA.\\r\\narXiv:1706.03762v7 [cs.CL] 2 Aug 2023', metadata={'source': '/content/attention is all you need.pdf', 'page': 0})"
            ]
          },
          "execution_count": 26,
          "metadata": {},
          "output_type": "execute_result"
        }
      ],
      "source": [
        "chunks[0]"
      ]
    },
    {
      "cell_type": "code",
      "execution_count": 27,
      "metadata": {
        "colab": {
          "base_uri": "https://localhost:8080/"
        },
        "id": "h4nRP8oGO2qf",
        "outputId": "bb35bf36-36f2-4d48-dc1d-8641a4361a10"
      },
      "outputs": [
        {
          "name": "stdout",
          "output_type": "stream",
          "text": [
            "The paper \"Attention Is All You Need\" introduces the Transformer model, which utilizes attention\n",
            "mechanisms for sequence transduction tasks, outperforming existing models in machine translation\n",
            "with faster training and better results. The model architecture includes stacked self-attention and\n",
            "fully connected layers in both the encoder and decoder, with applications of Scaled Dot-Product\n",
            "Attention and Multi-Head Attention. The study explores variations of the Transformer model for\n",
            "translation and parsing tasks, showing strong performance and potential for future applications. The\n",
            "paper also discusses the impact of American laws on voting processes and includes figures\n",
            "illustrating attention heads in the encoder self-attention layer.\n"
          ]
        }
      ],
      "source": [
        "chain = load_summarize_chain(llm,\n",
        "                             chain_type=\"map_reduce\")\n",
        "\n",
        "\n",
        "output_summary = chain.invoke(chunks)[\"output_text\"]\n",
        "wrapped_text = textwrap.fill(output_summary, width=100)\n",
        "print(wrapped_text)"
      ]
    },
    {
      "cell_type": "code",
      "execution_count": 28,
      "metadata": {
        "colab": {
          "base_uri": "https://localhost:8080/"
        },
        "id": "knYiIzbb09XE",
        "outputId": "b204c071-701f-4dd4-c75b-5ac83409e41e"
      },
      "outputs": [
        {
          "data": {
            "text/plain": [
              "MapReduceDocumentsChain(llm_chain=LLMChain(prompt=PromptTemplate(input_variables=['text'], template='Write a concise summary of the following:\\n\\n\\n\"{text}\"\\n\\n\\nCONCISE SUMMARY:'), llm=ChatOpenAI(client=<openai.resources.chat.completions.Completions object at 0x7ff6d21608e0>, async_client=<openai.resources.chat.completions.AsyncCompletions object at 0x7ff6d2146500>, model_name='gpt-3.5-turbo-0125', temperature=0.0, openai_api_key=SecretStr('**********'), openai_proxy='', max_tokens=1024)), reduce_documents_chain=ReduceDocumentsChain(combine_documents_chain=StuffDocumentsChain(llm_chain=LLMChain(prompt=PromptTemplate(input_variables=['text'], template='Write a concise summary of the following:\\n\\n\\n\"{text}\"\\n\\n\\nCONCISE SUMMARY:'), llm=ChatOpenAI(client=<openai.resources.chat.completions.Completions object at 0x7ff6d21608e0>, async_client=<openai.resources.chat.completions.AsyncCompletions object at 0x7ff6d2146500>, model_name='gpt-3.5-turbo-0125', temperature=0.0, openai_api_key=SecretStr('**********'), openai_proxy='', max_tokens=1024)), document_variable_name='text')), document_variable_name='text')"
            ]
          },
          "execution_count": 28,
          "metadata": {},
          "output_type": "execute_result"
        }
      ],
      "source": [
        "chain"
      ]
    },
    {
      "cell_type": "code",
      "execution_count": 29,
      "metadata": {
        "colab": {
          "base_uri": "https://localhost:8080/",
          "height": 35
        },
        "id": "k0OK53Q3fReD",
        "outputId": "766948bd-aef6-452f-b37e-a78b7531adc8"
      },
      "outputs": [
        {
          "data": {
            "application/vnd.google.colaboratory.intrinsic+json": {
              "type": "string"
            },
            "text/plain": [
              "'Write a concise summary of the following:\\n\\n\\n\"{text}\"\\n\\n\\nCONCISE SUMMARY:'"
            ]
          },
          "execution_count": 29,
          "metadata": {},
          "output_type": "execute_result"
        }
      ],
      "source": [
        "# for summarizing each part\n",
        "chain.llm_chain.prompt.template"
      ]
    },
    {
      "cell_type": "code",
      "execution_count": 30,
      "metadata": {
        "colab": {
          "base_uri": "https://localhost:8080/",
          "height": 35
        },
        "id": "L2JttqnWpR0H",
        "outputId": "8bdc5381-91e0-4338-cb57-3e85341178d4"
      },
      "outputs": [
        {
          "data": {
            "application/vnd.google.colaboratory.intrinsic+json": {
              "type": "string"
            },
            "text/plain": [
              "'Write a concise summary of the following:\\n\\n\\n\"{text}\"\\n\\n\\nCONCISE SUMMARY:'"
            ]
          },
          "execution_count": 30,
          "metadata": {},
          "output_type": "execute_result"
        }
      ],
      "source": [
        "# for combining the parts\n",
        "chain.combine_document_chain.llm_chain.prompt.template"
      ]
    },
    {
      "cell_type": "markdown",
      "metadata": {
        "id": "2xD9snh1lqKX"
      },
      "source": [
        "### **Splitting and summarizing in a single chain**"
      ]
    },
    {
      "cell_type": "code",
      "execution_count": 31,
      "metadata": {
        "id": "egf3rSK3v6ST"
      },
      "outputs": [],
      "source": [
        "combined_document= \" \".join([i.page_content for i in pdf])"
      ]
    },
    {
      "cell_type": "code",
      "execution_count": 32,
      "metadata": {
        "colab": {
          "base_uri": "https://localhost:8080/",
          "height": 35
        },
        "id": "TuYc-Uc8w_n6",
        "outputId": "f8e3cd28-32c8-4369-f393-8890d89b8a15"
      },
      "outputs": [
        {
          "data": {
            "application/vnd.google.colaboratory.intrinsic+json": {
              "type": "string"
            },
            "text/plain": [
              "'Provided proper attribution is provided, Google hereby grants permission to\\r\\nreproduce the tables an'"
            ]
          },
          "execution_count": 32,
          "metadata": {},
          "output_type": "execute_result"
        }
      ],
      "source": [
        "combined_document[:100]"
      ]
    },
    {
      "cell_type": "code",
      "execution_count": 33,
      "metadata": {
        "colab": {
          "base_uri": "https://localhost:8080/",
          "height": 105
        },
        "id": "6JBMiYU_kgS1",
        "outputId": "f572eb87-760d-4786-d42d-285c57ac4031"
      },
      "outputs": [
        {
          "data": {
            "application/vnd.google.colaboratory.intrinsic+json": {
              "type": "string"
            },
            "text/plain": [
              "'Google grants permission to reproduce tables and figures from the paper \"Attention Is All You Need,\" which introduces the Transformer model based on attention mechanisms for machine translation tasks. The model eliminates the need for recurrent or convolutional neural networks, allowing for faster training and more parallelization. The paper discusses the model architecture, attention mechanisms, training regime, and success in surpassing previous models. It also explores the potential of attention-based models for various tasks beyond text and the researchers\\' plans to extend the model to handle inputs like images, audio, and video. The study emphasizes the importance of justice in the application of the law and provides references for further reading.'"
            ]
          },
          "execution_count": 33,
          "metadata": {},
          "output_type": "execute_result"
        }
      ],
      "source": [
        "from langchain.chains import AnalyzeDocumentChain\n",
        "\n",
        "summarize_document_chain = AnalyzeDocumentChain(\n",
        "                                                combine_docs_chain=chain,\n",
        "                                                text_splitter=text_splitter\n",
        ")\n",
        "summarize_text = summarize_document_chain.invoke(combined_document)\n",
        "summarize_text[\"output_text\"]"
      ]
    },
    {
      "cell_type": "code",
      "execution_count": 34,
      "metadata": {
        "colab": {
          "base_uri": "https://localhost:8080/"
        },
        "id": "wxpy0r_2lVQN",
        "outputId": "e965c299-1fed-49c3-dbc4-598300a91f04"
      },
      "outputs": [
        {
          "name": "stdout",
          "output_type": "stream",
          "text": [
            "Google grants permission to reproduce tables and figures from the paper \"Attention Is All You Need,\"\n",
            "which introduces the Transformer model based on attention mechanisms for machine translation tasks.\n",
            "The model eliminates the need for recurrent or convolutional neural networks, allowing for faster\n",
            "training and more parallelization. The paper discusses the model architecture, attention mechanisms,\n",
            "training regime, and success in surpassing previous models. It also explores the potential of\n",
            "attention-based models for various tasks beyond text and the researchers' plans to extend the model\n",
            "to handle inputs like images, audio, and video. The study emphasizes the importance of justice in\n",
            "the application of the law and provides references for further reading.\n"
          ]
        }
      ],
      "source": [
        "wrapped_text = textwrap.fill(summarize_text[\"output_text\"], width=100)\n",
        "print(wrapped_text)"
      ]
    },
    {
      "cell_type": "code",
      "execution_count": 35,
      "metadata": {
        "colab": {
          "base_uri": "https://localhost:8080/",
          "height": 35
        },
        "id": "r9PnGg83zB1w",
        "outputId": "0b3b24c5-7c28-42d6-aa55-b2168a3ebc33"
      },
      "outputs": [
        {
          "data": {
            "application/vnd.google.colaboratory.intrinsic+json": {
              "type": "string"
            },
            "text/plain": [
              "'Write a concise summary of the following:\\n\\n\\n\"{text}\"\\n\\n\\nCONCISE SUMMARY:'"
            ]
          },
          "execution_count": 35,
          "metadata": {},
          "output_type": "execute_result"
        }
      ],
      "source": [
        "#prompt for every chunk\n",
        "summarize_document_chain.combine_docs_chain.llm_chain.prompt.template"
      ]
    },
    {
      "cell_type": "code",
      "execution_count": 36,
      "metadata": {
        "colab": {
          "base_uri": "https://localhost:8080/",
          "height": 35
        },
        "id": "H8HwuBhtzobY",
        "outputId": "0eb0fe1e-3dda-470e-b9ed-60234985bedb"
      },
      "outputs": [
        {
          "data": {
            "application/vnd.google.colaboratory.intrinsic+json": {
              "type": "string"
            },
            "text/plain": [
              "'Write a concise summary of the following:\\n\\n\\n\"{text}\"\\n\\n\\nCONCISE SUMMARY:'"
            ]
          },
          "execution_count": 36,
          "metadata": {},
          "output_type": "execute_result"
        }
      ],
      "source": [
        "#prompt for combined summaries\n",
        "summarize_document_chain.combine_docs_chain.reduce_documents_chain.combine_documents_chain.llm_chain.prompt.template"
      ]
    },
    {
      "cell_type": "markdown",
      "metadata": {
        "id": "Ci0K6XOEBoSs"
      },
      "source": [
        "### **Map Reduce With Custom Prompts**"
      ]
    },
    {
      "cell_type": "code",
      "execution_count": 37,
      "metadata": {
        "colab": {
          "base_uri": "https://localhost:8080/"
        },
        "id": "2UzxpAua1XVC",
        "outputId": "16b96b45-85ec-4919-9a86-9b36e8e814d0"
      },
      "outputs": [
        {
          "data": {
            "text/plain": [
              "MapReduceDocumentsChain(llm_chain=LLMChain(prompt=PromptTemplate(input_variables=['text'], template='Write a concise summary of the following:\\n\\n\\n\"{text}\"\\n\\n\\nCONCISE SUMMARY:'), llm=ChatOpenAI(client=<openai.resources.chat.completions.Completions object at 0x7ff6d21608e0>, async_client=<openai.resources.chat.completions.AsyncCompletions object at 0x7ff6d2146500>, model_name='gpt-3.5-turbo-0125', temperature=0.0, openai_api_key=SecretStr('**********'), openai_proxy='', max_tokens=1024)), reduce_documents_chain=ReduceDocumentsChain(combine_documents_chain=StuffDocumentsChain(llm_chain=LLMChain(prompt=PromptTemplate(input_variables=['text'], template='Write a concise summary of the following:\\n\\n\\n\"{text}\"\\n\\n\\nCONCISE SUMMARY:'), llm=ChatOpenAI(client=<openai.resources.chat.completions.Completions object at 0x7ff6d21608e0>, async_client=<openai.resources.chat.completions.AsyncCompletions object at 0x7ff6d2146500>, model_name='gpt-3.5-turbo-0125', temperature=0.0, openai_api_key=SecretStr('**********'), openai_proxy='', max_tokens=1024)), document_variable_name='text')), document_variable_name='text')"
            ]
          },
          "execution_count": 37,
          "metadata": {},
          "output_type": "execute_result"
        }
      ],
      "source": [
        "chain = load_summarize_chain(\n",
        "    llm=llm,\n",
        "    chain_type='map_reduce'\n",
        ")\n",
        "chain"
      ]
    },
    {
      "cell_type": "code",
      "execution_count": 38,
      "metadata": {
        "colab": {
          "base_uri": "https://localhost:8080/",
          "height": 35
        },
        "id": "AG5rShNPy17U",
        "outputId": "c9e35844-9274-4116-fce3-63e663d453c0"
      },
      "outputs": [
        {
          "data": {
            "application/vnd.google.colaboratory.intrinsic+json": {
              "type": "string"
            },
            "text/plain": [
              "'Write a concise summary of the following:\\n\\n\\n\"{text}\"\\n\\n\\nCONCISE SUMMARY:'"
            ]
          },
          "execution_count": 38,
          "metadata": {},
          "output_type": "execute_result"
        }
      ],
      "source": [
        "# prompt for every chunk\n",
        "chain.llm_chain.prompt.template"
      ]
    },
    {
      "cell_type": "code",
      "execution_count": 39,
      "metadata": {
        "colab": {
          "base_uri": "https://localhost:8080/",
          "height": 35
        },
        "id": "yz5UnXIh1f3A",
        "outputId": "a04e5bb5-c722-48c9-8c59-98fa03dbc009"
      },
      "outputs": [
        {
          "data": {
            "application/vnd.google.colaboratory.intrinsic+json": {
              "type": "string"
            },
            "text/plain": [
              "'Write a concise summary of the following:\\n\\n\\n\"{text}\"\\n\\n\\nCONCISE SUMMARY:'"
            ]
          },
          "execution_count": 39,
          "metadata": {},
          "output_type": "execute_result"
        }
      ],
      "source": [
        "# prompt for combined summaries\n",
        "chain.reduce_documents_chain.combine_documents_chain.llm_chain.prompt.template"
      ]
    },
    {
      "cell_type": "code",
      "execution_count": 40,
      "metadata": {
        "id": "hj7LgoPWFnFV"
      },
      "outputs": [],
      "source": [
        "# prompt for every chunk\n",
        "from langchain import PromptTemplate\n",
        "\n",
        "chunks_prompt=\"\"\"\n",
        "Please summarize the below text:\n",
        "text:'{text}'\n",
        "summary:\n",
        "\"\"\"\n",
        "map_prompt_template=PromptTemplate(input_variables=['text'],\n",
        "                                   template=chunks_prompt)"
      ]
    },
    {
      "cell_type": "code",
      "execution_count": 41,
      "metadata": {
        "id": "e582B4THFnNd"
      },
      "outputs": [],
      "source": [
        "# prompt for combined summaries\n",
        "final_combine_prompt='''\n",
        "Provide a final summary of the entire text with important points.\n",
        "Add a Generic  Title,\n",
        "Start the precise summary with an introduction and provide the\n",
        "summary in number points for the text.\n",
        "text: '{text}'\n",
        "summary:\n",
        "'''\n",
        "final_combine_prompt_template=PromptTemplate(input_variables=['text'],\n",
        "                                             template=final_combine_prompt)"
      ]
    },
    {
      "cell_type": "code",
      "execution_count": 42,
      "metadata": {
        "colab": {
          "base_uri": "https://localhost:8080/"
        },
        "id": "Oe-w0f9L0ygJ",
        "outputId": "70223fe5-e445-4a62-9911-e766574c375a"
      },
      "outputs": [
        {
          "data": {
            "text/plain": [
              "MapReduceDocumentsChain(llm_chain=LLMChain(prompt=PromptTemplate(input_variables=['text'], template=\"\\nPlease summarize the below text:\\ntext:'{text}'\\nsummary:\\n\"), llm=ChatOpenAI(client=<openai.resources.chat.completions.Completions object at 0x7ff6d21608e0>, async_client=<openai.resources.chat.completions.AsyncCompletions object at 0x7ff6d2146500>, model_name='gpt-3.5-turbo-0125', temperature=0.0, openai_api_key=SecretStr('**********'), openai_proxy='', max_tokens=1024)), reduce_documents_chain=ReduceDocumentsChain(combine_documents_chain=StuffDocumentsChain(llm_chain=LLMChain(prompt=PromptTemplate(input_variables=['text'], template=\"\\nProvide a final summary of the entire text with important points.\\nAdd a Generic  Title,\\nStart the precise summary with an introduction and provide the\\nsummary in number points for the text.\\ntext: '{text}'\\nsummary:\\n\"), llm=ChatOpenAI(client=<openai.resources.chat.completions.Completions object at 0x7ff6d21608e0>, async_client=<openai.resources.chat.completions.AsyncCompletions object at 0x7ff6d2146500>, model_name='gpt-3.5-turbo-0125', temperature=0.0, openai_api_key=SecretStr('**********'), openai_proxy='', max_tokens=1024)), document_variable_name='text')), document_variable_name='text')"
            ]
          },
          "execution_count": 42,
          "metadata": {},
          "output_type": "execute_result"
        }
      ],
      "source": [
        "chain = load_summarize_chain(\n",
        "                            llm=llm,\n",
        "                            chain_type='map_reduce',\n",
        "                            map_prompt=map_prompt_template,\n",
        "                            combine_prompt=final_combine_prompt_template\n",
        ")\n",
        "chain"
      ]
    },
    {
      "cell_type": "code",
      "execution_count": 43,
      "metadata": {
        "colab": {
          "base_uri": "https://localhost:8080/"
        },
        "id": "1KDVZvMpSQpt",
        "outputId": "d7303d6c-63c4-46ed-ba7a-e82ec9c99c73"
      },
      "outputs": [
        {
          "name": "stdout",
          "output_type": "stream",
          "text": [
            "Title: Exploring the Transformer Model Architecture in Machine Translation Tasks\n",
            "\n",
            "1. The Transformer model architecture, based on attention mechanisms, outperforms existing models in machine\n",
            "translation tasks, achieving high BLEU scores on English-to-German and English-to-French translations with faster training times and better parallelizability.\n",
            "2. The model relies entirely on attention\n",
            "mechanisms to draw global dependencies between input and output, allowing for more parallelization and state-of-the-art translation quality results.\n",
            "3. The Transformer model consists of stacked self-\n",
            "attention and fully connected layers in both the encoder and decoder, with multi-head attention and feed-forward networks.\n",
            "4. Scaled Dot-Product Attention and Multi-Head Attention are discussed in the\n",
            "context of neural networks, with the Transformer model utilizing multi-head attention for joint attention to different representation subspaces.\n",
            "5. The text compares self-attention layers to recurrent\n",
            "and convolutional layers, highlighting the advantages of self-attention in terms of computational efficiency and path length for learning long-range dependencies in sequence transduction tasks.\n",
            "6.\n",
            "Variations on the Transformer architecture for English-to-German translation are explored, with results showing that bigger models and dropout help improve performance, while reducing attention key\n",
            "size negatively impacts model quality.\n",
            "7. The Transformer model achieves state-of-the-art results in English constituency parsing tasks, outperforming previous models in various settings.\n",
            "8. The text\n",
            "provides references to research papers on deep learning, neural networks, machine translation, and optimization techniques, as well as computational linguistics topics such as parsing, attention\n",
            "models, and language models.\n",
            "9. The importance of just application of laws and the involvement of attention heads in anaphora resolution in neural networks are also discussed in the text.\n"
          ]
        }
      ],
      "source": [
        "output_summary = chain.invoke(chunks)[\"output_text\"]\n",
        "wrapped_text = textwrap.fill(output_summary, replace_whitespace=False, width=200)\n",
        "print(wrapped_text)"
      ]
    },
    {
      "cell_type": "markdown",
      "metadata": {
        "id": "caaAmomfPv9j"
      },
      "source": [
        "### With the 'refine' CombineDocument Chain"
      ]
    },
    {
      "cell_type": "markdown",
      "metadata": {
        "id": "39P6zjy9lT5X"
      },
      "source": [
        "### **2. Summarizing with the 'Refine' Chain**\n",
        "\n",
        "This method involves **an initial prompt on the first chunk of data, generating some output. For the remaining documents, that output is passed in, along with the next document**, asking the LLM to refine the output based on the new document.\n",
        "\n",
        "**Pros:** Can pull in more relevant context, and may be less lossy than MapReduceDocumentsChain.\n",
        "\n",
        "**Cons:** Requires many more calls to the LLM than StuffDocumentsChain. The calls are also NOT independent, meaning they cannot be paralleled like MapReduceDocumentsChain. There is also some potential dependencies on the ordering of the documents."
      ]
    },
    {
      "cell_type": "code",
      "execution_count": 44,
      "metadata": {
        "id": "7Ji2D8Q0P2gh"
      },
      "outputs": [],
      "source": [
        "chain = load_summarize_chain(llm,\n",
        "                             chain_type=\"refine\")\n",
        "\n",
        "output_summary = chain.invoke(chunks)[\"output_text\"]"
      ]
    },
    {
      "cell_type": "code",
      "execution_count": 45,
      "metadata": {
        "colab": {
          "base_uri": "https://localhost:8080/"
        },
        "id": "aSvnN1d363P_",
        "outputId": "376c60fb-b568-4332-ff36-f9a98f25ffbf"
      },
      "outputs": [
        {
          "data": {
            "text/plain": [
              "RefineDocumentsChain(initial_llm_chain=LLMChain(prompt=PromptTemplate(input_variables=['text'], template='Write a concise summary of the following:\\n\\n\\n\"{text}\"\\n\\n\\nCONCISE SUMMARY:'), llm=ChatOpenAI(client=<openai.resources.chat.completions.Completions object at 0x7ff6d21608e0>, async_client=<openai.resources.chat.completions.AsyncCompletions object at 0x7ff6d2146500>, model_name='gpt-3.5-turbo-0125', temperature=0.0, openai_api_key=SecretStr('**********'), openai_proxy='', max_tokens=1024)), refine_llm_chain=LLMChain(prompt=PromptTemplate(input_variables=['existing_answer', 'text'], template=\"Your job is to produce a final summary.\\nWe have provided an existing summary up to a certain point: {existing_answer}\\nWe have the opportunity to refine the existing summary (only if needed) with some more context below.\\n------------\\n{text}\\n------------\\nGiven the new context, refine the original summary.\\nIf the context isn't useful, return the original summary.\"), llm=ChatOpenAI(client=<openai.resources.chat.completions.Completions object at 0x7ff6d21608e0>, async_client=<openai.resources.chat.completions.AsyncCompletions object at 0x7ff6d2146500>, model_name='gpt-3.5-turbo-0125', temperature=0.0, openai_api_key=SecretStr('**********'), openai_proxy='', max_tokens=1024)), document_variable_name='text', initial_response_name='existing_answer')"
            ]
          },
          "execution_count": 45,
          "metadata": {},
          "output_type": "execute_result"
        }
      ],
      "source": [
        "chain"
      ]
    },
    {
      "cell_type": "code",
      "execution_count": 46,
      "metadata": {
        "colab": {
          "base_uri": "https://localhost:8080/"
        },
        "id": "TcqQYt7QjOy-",
        "outputId": "d30ee3cb-74c9-4e03-bddc-cee25238147b"
      },
      "outputs": [
        {
          "name": "stdout",
          "output_type": "stream",
          "text": [
            "The existing summary provides a detailed overview of the paper \"Attention Is All You Need\" and the\n",
            "introduction of the Transformer model. The paper introduces the Transformer, a network architecture\n",
            "that utilizes an attention mechanism for sequence transduction tasks, surpassing existing models in\n",
            "machine translation. The Transformer allows for increased parallelization and achieves state-of-the-\n",
            "art results with reduced training time. The authors highlight the contributions of each team member\n",
            "in developing the model, which consists of stacked self-attention and point-wise, fully connected\n",
            "layers for both the encoder and decoder. The attention function in the model maps queries and key-\n",
            "value pairs to an output through a weighted sum. Additionally, the paper introduces Scaled Dot-\n",
            "Product Attention and Multi-Head Attention mechanisms, enhancing the efficiency and performance of\n",
            "the model by linearly projecting queries, keys, and values multiple times before performing the\n",
            "attention function in parallel. The attention visualizations provided in the new context demonstrate\n",
            "how the attention mechanism follows long-distance dependencies in the encoder self-attention,\n",
            "showcasing the model's effectiveness in capturing complex relationships within sequences.\n"
          ]
        }
      ],
      "source": [
        "wrapped_text = textwrap.fill(output_summary, width=100)\n",
        "print(wrapped_text)"
      ]
    },
    {
      "cell_type": "markdown",
      "metadata": {
        "id": "8VFku4quXXzl"
      },
      "source": [
        "END OF THE PROJECT"
      ]
    }
  ],
  "metadata": {
    "colab": {
      "provenance": []
    },
    "kernelspec": {
      "display_name": "Python 3",
      "name": "python3"
    },
    "language_info": {
      "name": "python"
    }
  },
  "nbformat": 4,
  "nbformat_minor": 0
}
