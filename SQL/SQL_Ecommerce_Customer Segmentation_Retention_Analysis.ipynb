{
    "cells": [
        {
            "attachments": {},
            "cell_type": "markdown",
            "metadata": {
                "azdata_cell_guid": "188edda9-11b2-4609-a25c-bf19f9ba6266"
            },
            "source": [
                "# E-Commerce Project"
            ]
        },
        {
            "cell_type": "code",
            "execution_count": null,
            "metadata": {
                "azdata_cell_guid": "7837f1b1-0f35-4e17-ba1c-657c720fb8a5",
                "language": ""
            },
            "outputs": [],
            "source": [
                "Alter table orders_dimen alter column order_date date\n",
                "\n",
                "Alter table shipping_dimen alter column Ship_date date"
            ]
        },
        {
            "attachments": {},
            "cell_type": "markdown",
            "metadata": {
                "azdata_cell_guid": "b73dad41-9125-47ca-8c99-978a6b268326"
            },
            "source": [
                "### 1. Join all the tables and create a new table called combined\\_table. (market\\_fact, cust\\_dimen, orders\\_dimen, prod\\_dimen, shipping\\_dimen)_"
            ]
        },
        {
            "cell_type": "code",
            "execution_count": 3,
            "metadata": {
                "azdata_cell_guid": "270f9af0-a348-4b2e-92c2-4a97a7d64004",
                "language": "sql"
            },
            "outputs": [
                {
                    "ename": "",
                    "evalue": "Msg 208, Level 16, State 1, Line 1\r\nInvalid object name 'market_fact'.",
                    "output_type": "error",
                    "traceback": []
                },
                {
                    "data": {
                        "text/html": [
                            "Total execution time: 00:00:00.001"
                        ]
                    },
                    "metadata": {},
                    "output_type": "display_data"
                }
            ],
            "source": [
                "SELECT *\n",
                "INTO\n",
                "combined_table\n",
                "FROM\n",
                "(\n",
                "SELECT \n",
                "mf.Ord_ID, cd.Cust_ID, mf.Prod_ID, sd.Ship_ID, od.Order_Date, sd.Ship_Date, cd.Customer_Name, cd.Province, cd.Region, cd.Customer_Segment, \n",
                "mf.Sales, mf.Discount, mf.Order_Quantity, mf.Product_Base_Margin, od.Order_Priority,\n",
                "pd.Product_Category, pd.Product_Sub_Category, sd.Ship_Mode\n",
                "FROM market_fact mf\n",
                "INNER JOIN cust_dimen cd ON mf.Cust_ID = cd.Cust_ID\n",
                "INNER JOIN orders_dimen od ON od.Ord_ID = mf.Ord_ID\n",
                "INNER JOIN prod_dimen pd ON pd.Prod_ID = mf.Prod_ID\n",
                "INNER JOIN shipping_dimen sd ON sd.Ship_ID = mf.Ship_ID\n",
                ") A;\n"
            ]
        },
        {
            "cell_type": "code",
            "execution_count": null,
            "metadata": {
                "azdata_cell_guid": "d78c621b-0166-44aa-916c-eeff90b83607",
                "language": "sql"
            },
            "outputs": [],
            "source": [
                "select * from combined_table"
            ]
        },
        {
            "attachments": {},
            "cell_type": "markdown",
            "metadata": {
                "azdata_cell_guid": "24ddf296-067a-4ab9-9e4a-8d5f438ea11e"
            },
            "source": [
                "### 2. Find the top 3 customers who have the maximum count of orders\n"
            ]
        },
        {
            "cell_type": "code",
            "execution_count": 6,
            "metadata": {
                "azdata_cell_guid": "c4e275e3-245c-403f-83de-2156ad1dc1b3",
                "language": "sql"
            },
            "outputs": [
                {
                    "ename": "",
                    "evalue": "Msg 208, Level 16, State 1, Line 1\r\nInvalid object name 'combined_table'.",
                    "output_type": "error",
                    "traceback": []
                },
                {
                    "data": {
                        "text/html": [
                            "Total execution time: 00:00:00"
                        ]
                    },
                    "metadata": {},
                    "output_type": "display_data"
                }
            ],
            "source": [
                "SELECT\tTOP(3)Cust_ID, COUNT (Ord_ID) count_of_orders\n",
                "FROM\tcombined_table\n",
                "GROUP BY Cust_ID\n",
                "ORDER BY count_of_orders desc"
            ]
        },
        {
            "attachments": {},
            "cell_type": "markdown",
            "metadata": {
                "azdata_cell_guid": "e694018a-8366-4516-acce-86a1104fa9a8",
                "language": "sql"
            },
            "source": [
                "### 3. Create a new column at combined_table as DaysTakenForShipping that contains the date difference of Order_Date and Ship_Date \"ALTER TABLE\", \"UPDATE\" etc"
            ]
        },
        {
            "cell_type": "code",
            "execution_count": null,
            "metadata": {
                "azdata_cell_guid": "3bafe709-96ae-417f-892d-a64960794cb5",
                "language": "sql"
            },
            "outputs": [],
            "source": [
                "ALTER TABLE combined_table ADD DaysTakenForShipping INT"
            ]
        },
        {
            "cell_type": "code",
            "execution_count": null,
            "metadata": {
                "azdata_cell_guid": "462528ce-36d0-4066-a400-2ad71ea910af",
                "language": "sql"
            },
            "outputs": [],
            "source": [
                "UPDATE combined_table \n",
                "SET DaysTakenForShipping = DATEDIFF(DAY, Order_date, Ship_date)\n"
            ]
        },
        {
            "cell_type": "code",
            "execution_count": null,
            "metadata": {
                "azdata_cell_guid": "b8f2f092-3b72-400d-9409-aac964f08c7d",
                "language": "sql"
            },
            "outputs": [],
            "source": [
                "select * from combined_table"
            ]
        },
        {
            "attachments": {},
            "cell_type": "markdown",
            "metadata": {
                "azdata_cell_guid": "cf14ed58-6d25-49c3-bb4b-7673b3280be7",
                "language": "sql"
            },
            "source": [
                "### 4. Find the customer whose order took the maximum time to get shipping. Use \"MAX\" or \"TOP\""
            ]
        },
        {
            "cell_type": "code",
            "execution_count": null,
            "metadata": {
                "azdata_cell_guid": "9e7022f4-8489-49cc-b04b-73473a0c642e",
                "language": "sql"
            },
            "outputs": [],
            "source": [
                "SELECT\tCust_ID, Customer_Name, Order_Date, Ship_Date, DaysTakenForShipping\n",
                "FROM\tcombined_table\n",
                "WHERE\tDaysTakenForShipping =(\n",
                "\t\t\t\t\t\t\t\tSELECT\tMAX(DaysTakenForShipping)\n",
                "\t\t\t\t\t\t\t\tFROM combined_table\n",
                "\t\t\t\t\t\t\t\t)"
            ]
        },
        {
            "cell_type": "code",
            "execution_count": null,
            "metadata": {
                "azdata_cell_guid": "2f381e2f-10d9-4883-938c-a78573e33222",
                "language": "sql"
            },
            "outputs": [],
            "source": [
                "SELECT top 1 Customer_Name,Cust_ID,DaysTakenForShipping\n",
                "FROM combined_table\n",
                "order by DaysTakenForShipping desc"
            ]
        },
        {
            "attachments": {},
            "cell_type": "markdown",
            "metadata": {
                "azdata_cell_guid": "4e0c3caa-47ee-495e-b6d0-11197513adbb",
                "language": "sql"
            },
            "source": [
                "### 5. Count the total number of unique customers in January and how many of them came back every month over the entire year in 2011. You can use such date functions and subqueries"
            ]
        },
        {
            "cell_type": "code",
            "execution_count": null,
            "metadata": {
                "azdata_cell_guid": "f8c1cd26-c1a9-4478-b9d8-8f3284a18d1a",
                "language": "sql"
            },
            "outputs": [],
            "source": [
                "SELECT MONTH(order_date) [MONTH], COUNT(DISTINCT Cust_ID) MONTHLY_NUM_OF_CUST\n",
                "FROM\tCombined_table A\n",
                "WHERE\n",
                "EXISTS\n",
                "(\n",
                "SELECT  Cust_ID\n",
                "FROM\tcombined_table B\n",
                "WHERE\tYEAR(Order_Date) = 2011\n",
                "AND\t\tMONTH (Order_Date) = 1\n",
                "AND\t\tA.Cust_ID = B.Cust_ID\n",
                ")\n",
                "AND\tYEAR (Order_Date) = 2011\n",
                "GROUP BY\n",
                "MONTH(order_date)\n"
            ]
        },
        {
            "attachments": {},
            "cell_type": "markdown",
            "metadata": {
                "azdata_cell_guid": "18a953c2-65e2-40b6-9c09-8e6c1edeb376",
                "language": "sql"
            },
            "source": [
                "### 6. Write a query to return for each user the time elapsed between the first purchasing and the third purchasing, in ascending order by Customer ID. Use \"MIN\" with Window Functions"
            ]
        },
        {
            "cell_type": "code",
            "execution_count": null,
            "metadata": {
                "azdata_cell_guid": "28e6cdd6-d060-4556-b119-18e2158ecd64",
                "language": "sql"
            },
            "outputs": [],
            "source": [
                "SELECT DISTINCT \n",
                "\t\tCust_ID,\n",
                "\t\torder_date,\n",
                "\t\tdense_number,\n",
                "\t\tFIRST_ORDER_DATE,\n",
                "\t\tDATEDIFF(day, FIRST_ORDER_DATE, order_date) DAYS_ELAPSED\n",
                "FROM\t\n",
                "\t\t(\n",
                "\t\tSELECT\tCust_ID, Ord_ID, order_DATE,\n",
                "\t\t\t\tMIN (Order_Date) OVER (PARTITION BY Cust_ID) FIRST_ORDER_DATE,\n",
                "\t\t\t\tDENSE_RANK () OVER (PARTITION BY Cust_ID ORDER BY Order_date, Ord_ID) dense_number\n",
                "\t\tFROM\tcombined_table\n",
                "\t\t) A\n",
                "WHERE\tdense_number = 3"
            ]
        },
        {
            "attachments": {},
            "cell_type": "markdown",
            "metadata": {
                "azdata_cell_guid": "21fdeb5d-42a3-4654-839e-60da286fc428",
                "language": "sql"
            },
            "source": [
                "### 7. Write a query that returns customers who purchased both product 11 and product 14,&nbsp as well as the ratio of these products to the total number of products purchased by the customer. Use CASE Expression, CTE, CAST AND such Aggregate Functions"
            ]
        },
        {
            "cell_type": "code",
            "execution_count": null,
            "metadata": {
                "azdata_cell_guid": "32390f72-1197-4358-9966-0c3c76640a42",
                "language": "sql"
            },
            "outputs": [],
            "source": [
                "SELECT *\n",
                "FROM combined_table\n",
                "\n",
                "WITH T1 AS\n",
                "(\n",
                "SELECT\tCust_ID,\n",
                "\t\tSUM (CASE WHEN Prod_ID = 'Prod_11' THEN Order_Quantity ELSE 0 END) P11,\n",
                "\t\tSUM (CASE WHEN Prod_ID = 'Prod_14' THEN Order_Quantity ELSE 0 END) P14,\n",
                "\t\tSUM (Order_Quantity) TOTAL_PROD\n",
                "FROM\tcombined_table\n",
                "GROUP BY Cust_ID\n",
                "HAVING\n",
                "\t\tSUM (CASE WHEN Prod_ID = 'Prod_11' THEN Order_Quantity ELSE 0 END) >= 1 AND\n",
                "\t\tSUM (CASE WHEN Prod_ID = 'Prod_14' THEN Order_Quantity ELSE 0 END) >= 1\n",
                ")\n",
                "SELECT\tCust_ID, P11, P14, TOTAL_PROD,\n",
                "\t\tCAST (1.0*P11/TOTAL_PROD AS NUMERIC (3,2)) AS RATIO_P11,\n",
                "\t\tCAST (1.0*P14/TOTAL_PROD AS NUMERIC (3,2)) AS RATIO_P14\n",
                "FROM T1"
            ]
        },
        {
            "attachments": {},
            "cell_type": "markdown",
            "metadata": {
                "azdata_cell_guid": "8f61caff-76c7-4b91-a8d5-938f5afa1b0c",
                "language": "sql"
            },
            "source": [
                "## CUSTOMER SEGMENTATION"
            ]
        },
        {
            "attachments": {},
            "cell_type": "markdown",
            "metadata": {
                "azdata_cell_guid": "dd2471fd-d77a-4a7c-b325-1b47658f16ce"
            },
            "source": [
                "### 8. Create a view that keeps visit logs of customers on a monthly basis. (For each log, three field is kept: Cust_ID, Year, Month). Use such date functions. Don't forget to call up columns you might need later."
            ]
        },
        {
            "cell_type": "code",
            "execution_count": null,
            "metadata": {
                "azdata_cell_guid": "4fb522f4-2f4a-40e4-87ce-9a477ecd850d",
                "language": "sql"
            },
            "outputs": [],
            "source": [
                "SELECT Cust_ID, YEAR(Order_Date) ORD_YEAR, MONTH(Order_Date) ORD_MONTH\n",
                "FROM\tcombined_table\n",
                "\n",
                "ORDER BY 1,2,3"
            ]
        },
        {
            "attachments": {},
            "cell_type": "markdown",
            "metadata": {
                "azdata_cell_guid": "ac9ea386-f971-496e-b2dc-3b01601f92d8",
                "language": "sql"
            },
            "source": [
                "### 9. Create a view that keeps the number of monthly visits by users. (Separately for all months from the business beginning). Don't forget to call up columns you might need later."
            ]
        },
        {
            "cell_type": "code",
            "execution_count": null,
            "metadata": {
                "azdata_cell_guid": "f2ef680f-cf9e-473e-87c9-352eaf527f86",
                "language": "sql"
            },
            "outputs": [],
            "source": [
                "CREATE or alter VIEW CNT_CUSTOMER_LOGS AS\n",
                "SELECT DISTINCT Cust_ID, YEAR(Order_Date) ORD_YEAR, MONTH(Order_Date) ord_month, \n",
                "COUNT (*) OVER (PARTITION BY Cust_ID, YEAR(Order_Date) , MONTH(Order_Date)) cnt_log\n",
                "FROM\tcombined_table"
            ]
        },
        {
            "attachments": {},
            "cell_type": "markdown",
            "metadata": {
                "azdata_cell_guid": "71d361d8-9e4b-4513-8357-b3cf24038ee7",
                "language": "sql"
            },
            "source": [
                "### 10. For each visit of customers, create the next month of the visit as a separate column. \n",
                "We can number the months with \"DENSE_RANK\" function\n",
                "<br>Then create a new column for each month showing the next month using the numbering you have made. (use \"LEAD\" function.)\n",
                "<br>Don't forget to call up columns you might need later"
            ]
        },
        {
            "cell_type": "code",
            "execution_count": null,
            "metadata": {
                "azdata_cell_guid": "b3283420-8194-412f-85f4-85ed527e3da8",
                "language": "sql"
            },
            "outputs": [],
            "source": [
                "SELECT * FROM CNT_CUSTOMER_LOGS"
            ]
        },
        {
            "attachments": {},
            "cell_type": "markdown",
            "metadata": {
                "azdata_cell_guid": "e937297b-0dfc-4118-a76b-850cc6e8e2d4",
                "language": "sql"
            },
            "source": [
                "### 11. Calculate the monthly time gap between two consecutive visits by each customer.\n",
                "\n",
                "Don't forget to call up columns you might need later"
            ]
        },
        {
            "cell_type": "code",
            "execution_count": null,
            "metadata": {
                "azdata_cell_guid": "b42dc0ea-6ea8-40fe-9c7c-2a9809ea3330",
                "language": "sql"
            },
            "outputs": [],
            "source": [
                "CREATE or alter VIEW VISITS AS \n",
                "SELECT *, LEAD(current_month, 1) OVER (PARTITION BY Cust_ID ORDER BY CURRENT_MONTH) Next_Visit_Month\n",
                "FROM\n",
                "(\n",
                "SELECT *, DENSE_RANK() OVER (ORDER BY ord_year, ord_month) current_month\n",
                "FROM\tCNT_CUSTOMER_LOGS \n",
                ") A"
            ]
        },
        {
            "cell_type": "code",
            "execution_count": null,
            "metadata": {
                "azdata_cell_guid": "b11f8211-9839-4f0f-aa01-301ef10a8720",
                "language": "sql"
            },
            "outputs": [],
            "source": [
                "SELECT * FROM VISITS"
            ]
        },
        {
            "cell_type": "code",
            "execution_count": null,
            "metadata": {
                "azdata_cell_guid": "e5e30c2e-2ac1-457a-8abe-5b5b68c9a732",
                "language": "sql"
            },
            "outputs": [],
            "source": [
                "CREATE or alter VIEW TIME_GAPS AS"
            ]
        },
        {
            "cell_type": "code",
            "execution_count": null,
            "metadata": {
                "azdata_cell_guid": "a82e95a5-d5a1-44aa-97fa-4bd56d5aa96c",
                "language": "sql"
            },
            "outputs": [],
            "source": [
                "SELECT *,  Next_Visit_Month - current_month as time_gaps\n",
                "FROM VISITS"
            ]
        },
        {
            "attachments": {},
            "cell_type": "markdown",
            "metadata": {
                "azdata_cell_guid": "d6879ae3-ca5e-4dcc-bfe4-0bdf255ca5e3",
                "language": "sql"
            },
            "source": [
                "### 12. Categorise customers using time gaps. Choose the most fitted labeling model for you\n",
                "\n",
                "For example:\n",
                "<br>Labeled as churn if the customer hasn't made another purchase in the months since they made their first purchase.\n",
                "<br>Labeled as regular if the customer has made a purchase every month. etc."
            ]
        },
        {
            "cell_type": "code",
            "execution_count": null,
            "metadata": {
                "azdata_cell_guid": "8bb52e10-5045-4cbe-94d6-fc07ca6d4cde",
                "language": "sql"
            },
            "outputs": [],
            "source": [
                "WITH T1 AS\n",
                "(\n",
                "SELECT Cust_ID, AVG(time_gaps) avg_time_gap\n",
                "FROM TIME_GAPS\n",
                "GROUP BY Cust_ID\n",
                ") \n",
                "SELECT Cust_ID,\n",
                "\t\tCASE WHEN avg_time_gap IS NULL THEN 'CHURN'\n",
                "\t\t\t\tWHEN avg_time_gap = 1 THEN 'REGULAR'\n",
                "\t\t\t\tWHEN avg_time_gap > 1 THEN 'IRREGULAR'\n",
                "\t\t\t\tELSE 'UNKNOWN'\n",
                "\t\tEND AS cust_segment\n",
                "FROM\tT1"
            ]
        },
        {
            "attachments": {},
            "cell_type": "markdown",
            "metadata": {
                "azdata_cell_guid": "3d7238ad-a8dd-4bcf-86a0-068b72b1bde9",
                "language": "sql"
            },
            "source": [
                "## MONTH-WISE RETENTION RATE"
            ]
        },
        {
            "attachments": {},
            "cell_type": "markdown",
            "metadata": {
                "azdata_cell_guid": "c15b8421-853a-4589-a411-9111692379bc",
                "language": "sql"
            },
            "source": [
                "### 13. Find month-by-month customer retention rate since the start of the business\n",
                "How many customers from the previous month?\n",
                "<br>Since we are interested in customers from the previous month for each month, when we make time_gap=1, it will bring the consecutive months.\n",
                "<br>In this way, when I count the customers for each month, it will calculate the number of customers from the previous month."
            ]
        },
        {
            "cell_type": "code",
            "execution_count": null,
            "metadata": {
                "azdata_cell_guid": "1c0b9c72-42e7-41cf-9de3-149a84a18bfe",
                "language": "sql"
            },
            "outputs": [],
            "source": [
                "CREATE or alter VIEW CNT_RETAINED_CUST AS\n",
                "SELECT *, COUNT(Cust_ID) OVER (PARTITION BY current_month) CNT_RETAINED_CUST\n",
                "FROM TIME_GAPS\n",
                "WHERE time_gaps = 1"
            ]
        },
        {
            "cell_type": "code",
            "execution_count": null,
            "metadata": {
                "azdata_cell_guid": "8e057f4e-d543-4019-aeca-05f7cb45f923",
                "language": "sql"
            },
            "outputs": [],
            "source": [
                "SELECT * FROM CNT_RETAINED_CUST"
            ]
        },
        {
            "attachments": {},
            "cell_type": "markdown",
            "metadata": {
                "azdata_cell_guid": "36e2ba39-ef2b-4014-a06d-c6121a7843b6",
                "language": "sql"
            },
            "source": [
                "Now I will calculate the number of customers for all the months and then I will compare it with the above."
            ]
        },
        {
            "cell_type": "code",
            "execution_count": null,
            "metadata": {
                "azdata_cell_guid": "46840298-8acd-4d60-86d3-c18b86a4bc76",
                "language": "sql"
            },
            "outputs": [],
            "source": [
                "CREATE or alter VIEW CNT_TOTAL_CUST AS\n",
                "SELECT *, COUNT (Cust_ID) OVER (PARTITION BY current_month) CNT_TOTAL_CUST\n",
                "FROM TIME_GAPS"
            ]
        },
        {
            "attachments": {},
            "cell_type": "markdown",
            "metadata": {
                "azdata_cell_guid": "50cb5f2e-c3e3-40ba-9ba7-aea3ff7f19ef",
                "language": "sql"
            },
            "source": [
                "### 14. Calculate the month-wise retention rate\n",
                "\n",
                "Basic formula: Month-Wise Retention Rate = 1.0 * Number of Customers Retained in The Current Month / Total Number of Customers in the Current Month\n",
                "<br>It is easier to divide the operations into parts rather than in a single ad-hoc query. It is recommended to use View.\n",
                "<br>You can also use CTE or Subquery if you want.\n",
                "<br>You should pay attention to the join type and join columns between your views or tables."
            ]
        },
        {
            "cell_type": "code",
            "execution_count": null,
            "metadata": {
                "azdata_cell_guid": "692024b6-4d18-470e-9ef0-bef81d993ae8",
                "language": "sql"
            },
            "outputs": [],
            "source": [
                "SELECT\t DISTINCT A.current_month, A.CNT_RETAINED_CUST, B.CNT_TOTAL_CUST\n",
                "FROM\tCNT_RETAINED_CUST A, CNT_TOTAL_CUST B\n",
                "WHERE\tB.current_month = A. current_month\n",
                "ORDER BY 1"
            ]
        },
        {
            "cell_type": "code",
            "execution_count": null,
            "metadata": {
                "azdata_cell_guid": "e656c1f0-612a-4489-bd89-602ab85d2db1",
                "language": "sql"
            },
            "outputs": [],
            "source": [
                "WITH T1 AS\n",
                "(\n",
                "SELECT\t A.CURRENT_MONTH, A.CNT_RETAINED_CUST, B.CNT_TOTAL_CUST\n",
                "FROM\tCNT_RETAINED_CUST A, CNT_TOTAL_CUST B\n",
                "WHERE\tB.CURRENT_MONTH = A. CURRENT_MONTH\n",
                ") \n",
                "SELECT DISTINCT CURRENT_MONTH, CAST (1.0* CNT_RETAINED_CUST/CNT_TOTAL_CUST AS NUMERIC (3,2)) AS  MONTH_WISE_RETENTION_RATE\n",
                "FROM T1\n",
                "ORDER BY 1"
            ]
        },
        {
            "cell_type": "markdown",
            "metadata": {},
            "source": [
                "END OF THE PROJECT"
            ]
        }
    ],
    "metadata": {
        "kernelspec": {
            "display_name": "SQL",
            "language": "sql",
            "name": "SQL"
        },
        "language_info": {
            "name": "sql",
            "version": ""
        }
    },
    "nbformat": 4,
    "nbformat_minor": 2
}
