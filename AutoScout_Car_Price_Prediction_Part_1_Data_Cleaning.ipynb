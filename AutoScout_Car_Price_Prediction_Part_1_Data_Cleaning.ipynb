{
 "cells": [
  {
   "cell_type": "markdown",
   "metadata": {},
   "source": [
    "# AutoScout Car Price Prediction Exploratory Data Analysis (EDA) Project\n",
    "\n",
    "\n",
    "<p>AutoScout</b> data used in this project scraped from the Website of an online car trading company in 2022, and contains many features of 13 different car makes including 594 models. In this project, you will have the opportunity to apply many commonly used algorithms for Data Cleaning and Exploratory Data Analysis by using a variety of Python libraries, such as Numpy, Pandas, Matplotlib, Seaborn, Scipy and then you will get a clean dataset for your analysis and predictive modelling in Machine Learning Path. So you will have the chance to use all the skills you have already learned in the Data Analysis and Visualization courses.</p>\n",
    "\n",
    "<p dir=\"ltr\">In this context, the project consists of 3 parts in general:</p>\n",
    "\n",
    "<ol>\n",
    "    <li> 'Data Cleaning'. It deals with Incorrect Headers, Incorrect Format, Anomalies, and Dropping useless columns.</li>\n",
    "    <li> 'Filling Data', in other words 'Imputation'. It deals with Missing Values. Categorical to numeric transformation, Encoding, is done as well.</li>\n",
    "    <li> 'Handling Outliers of Data' via Visualization libraries. So, some insights will be extracted.</li>\n",
    "</ol>\n",
    "\n"
   ]
  },
  {
   "cell_type": "markdown",
   "metadata": {
    "id": "vvgJ5KWTs1MB"
   },
   "source": [
    "# PART- 1 ( Data Cleaning )"
   ]
  },
  {
   "cell_type": "code",
   "execution_count": 5,
   "metadata": {},
   "outputs": [
    {
     "name": "stdout",
     "output_type": "stream",
     "text": [
      "Collecting skimpy\n",
      "  Using cached skimpy-0.0.14-py3-none-any.whl.metadata (28 kB)\n",
      "Requirement already satisfied: Pygments<3.0.0,>=2.10.0 in c:\\users\\serda\\appdata\\roaming\\python\\python311\\site-packages (from skimpy) (2.16.1)\n",
      "Collecting click<9.0.0,>=8.1.6 (from skimpy)\n",
      "  Using cached click-8.1.7-py3-none-any.whl.metadata (3.0 kB)\n",
      "Requirement already satisfied: ipykernel<7.0.0,>=6.7.0 in c:\\users\\serda\\appdata\\roaming\\python\\python311\\site-packages (from skimpy) (6.25.1)\n",
      "Requirement already satisfied: numpy<2.0.0,>=1.22.2 in c:\\users\\serda\\anaconda3\\envs\\da\\lib\\site-packages (from skimpy) (1.26.0)\n",
      "Requirement already satisfied: pandas<3.0.0,>=2.0.3 in c:\\users\\serda\\anaconda3\\envs\\da\\lib\\site-packages (from skimpy) (2.1.1)\n",
      "Collecting polars<0.21,>=0.19 (from skimpy)\n",
      "  Using cached polars-0.20.19-cp38-abi3-win_amd64.whl.metadata (14 kB)\n",
      "Collecting pyarrow<16,>=13 (from skimpy)\n",
      "  Using cached pyarrow-15.0.2-cp311-cp311-win_amd64.whl.metadata (3.1 kB)\n",
      "Collecting quartodoc<0.8.0,>=0.7.2 (from skimpy)\n",
      "  Using cached quartodoc-0.7.2-py3-none-any.whl.metadata (7.1 kB)\n",
      "Collecting rich<14.0,>=10.9 (from skimpy)\n",
      "  Using cached rich-13.7.1-py3-none-any.whl.metadata (18 kB)\n",
      "Collecting typeguard==4.1.5 (from skimpy)\n",
      "  Using cached typeguard-4.1.5-py3-none-any.whl.metadata (3.7 kB)\n",
      "Requirement already satisfied: typing-extensions>=4.7.0 in c:\\users\\serda\\anaconda3\\envs\\da\\lib\\site-packages (from typeguard==4.1.5->skimpy) (4.9.0)\n",
      "Requirement already satisfied: colorama in c:\\users\\serda\\appdata\\roaming\\python\\python311\\site-packages (from click<9.0.0,>=8.1.6->skimpy) (0.4.6)\n",
      "Requirement already satisfied: comm>=0.1.1 in c:\\users\\serda\\appdata\\roaming\\python\\python311\\site-packages (from ipykernel<7.0.0,>=6.7.0->skimpy) (0.1.4)\n",
      "Requirement already satisfied: debugpy>=1.6.5 in c:\\users\\serda\\appdata\\roaming\\python\\python311\\site-packages (from ipykernel<7.0.0,>=6.7.0->skimpy) (1.6.7.post1)\n",
      "Requirement already satisfied: ipython>=7.23.1 in c:\\users\\serda\\appdata\\roaming\\python\\python311\\site-packages (from ipykernel<7.0.0,>=6.7.0->skimpy) (8.14.0)\n",
      "Requirement already satisfied: jupyter-client>=6.1.12 in c:\\users\\serda\\appdata\\roaming\\python\\python311\\site-packages (from ipykernel<7.0.0,>=6.7.0->skimpy) (8.3.0)\n",
      "Requirement already satisfied: jupyter-core!=5.0.*,>=4.12 in c:\\users\\serda\\appdata\\roaming\\python\\python311\\site-packages (from ipykernel<7.0.0,>=6.7.0->skimpy) (5.3.1)\n",
      "Requirement already satisfied: matplotlib-inline>=0.1 in c:\\users\\serda\\appdata\\roaming\\python\\python311\\site-packages (from ipykernel<7.0.0,>=6.7.0->skimpy) (0.1.6)\n",
      "Requirement already satisfied: nest-asyncio in c:\\users\\serda\\appdata\\roaming\\python\\python311\\site-packages (from ipykernel<7.0.0,>=6.7.0->skimpy) (1.5.7)\n",
      "Requirement already satisfied: packaging in c:\\users\\serda\\appdata\\roaming\\python\\python311\\site-packages (from ipykernel<7.0.0,>=6.7.0->skimpy) (23.1)\n",
      "Requirement already satisfied: psutil in c:\\users\\serda\\appdata\\roaming\\python\\python311\\site-packages (from ipykernel<7.0.0,>=6.7.0->skimpy) (5.9.5)\n",
      "Requirement already satisfied: pyzmq>=20 in c:\\users\\serda\\appdata\\roaming\\python\\python311\\site-packages (from ipykernel<7.0.0,>=6.7.0->skimpy) (25.1.1)\n",
      "Requirement already satisfied: tornado>=6.1 in c:\\users\\serda\\appdata\\roaming\\python\\python311\\site-packages (from ipykernel<7.0.0,>=6.7.0->skimpy) (6.3.3)\n",
      "Requirement already satisfied: traitlets>=5.4.0 in c:\\users\\serda\\appdata\\roaming\\python\\python311\\site-packages (from ipykernel<7.0.0,>=6.7.0->skimpy) (5.9.0)\n",
      "Requirement already satisfied: python-dateutil>=2.8.2 in c:\\users\\serda\\appdata\\roaming\\python\\python311\\site-packages (from pandas<3.0.0,>=2.0.3->skimpy) (2.8.2)\n",
      "Requirement already satisfied: pytz>=2020.1 in c:\\users\\serda\\anaconda3\\envs\\da\\lib\\site-packages (from pandas<3.0.0,>=2.0.3->skimpy) (2023.3.post1)\n",
      "Requirement already satisfied: tzdata>=2022.1 in c:\\users\\serda\\anaconda3\\envs\\da\\lib\\site-packages (from pandas<3.0.0,>=2.0.3->skimpy) (2023.3)\n",
      "Collecting griffe>=0.33 (from quartodoc<0.8.0,>=0.7.2->skimpy)\n",
      "  Using cached griffe-0.42.1-py3-none-any.whl.metadata (6.2 kB)\n",
      "Collecting sphobjinv>=2.3.1 (from quartodoc<0.8.0,>=0.7.2->skimpy)\n",
      "  Using cached sphobjinv-2.3.1-py3-none-any.whl.metadata (10 kB)\n",
      "Collecting tabulate>=0.9.0 (from quartodoc<0.8.0,>=0.7.2->skimpy)\n",
      "  Using cached tabulate-0.9.0-py3-none-any.whl.metadata (34 kB)\n",
      "Collecting importlib-metadata>=5.1.0 (from quartodoc<0.8.0,>=0.7.2->skimpy)\n",
      "  Using cached importlib_metadata-7.1.0-py3-none-any.whl.metadata (4.7 kB)\n",
      "Collecting importlib-resources>=5.10.2 (from quartodoc<0.8.0,>=0.7.2->skimpy)\n",
      "  Using cached importlib_resources-6.4.0-py3-none-any.whl.metadata (3.9 kB)\n",
      "Collecting pydantic (from quartodoc<0.8.0,>=0.7.2->skimpy)\n",
      "  Using cached pydantic-2.6.4-py3-none-any.whl.metadata (85 kB)\n",
      "Requirement already satisfied: pyyaml in c:\\users\\serda\\anaconda3\\envs\\da\\lib\\site-packages (from quartodoc<0.8.0,>=0.7.2->skimpy) (6.0.1)\n",
      "Collecting watchdog>=3.0.0 (from quartodoc<0.8.0,>=0.7.2->skimpy)\n",
      "  Using cached watchdog-4.0.0-py3-none-win_amd64.whl.metadata (37 kB)\n",
      "Collecting plum-dispatch>2.0.0 (from quartodoc<0.8.0,>=0.7.2->skimpy)\n",
      "  Using cached plum_dispatch-2.3.3-py3-none-any.whl.metadata (4.4 kB)\n",
      "Collecting markdown-it-py>=2.2.0 (from rich<14.0,>=10.9->skimpy)\n",
      "  Using cached markdown_it_py-3.0.0-py3-none-any.whl.metadata (6.9 kB)\n",
      "Collecting zipp>=0.5 (from importlib-metadata>=5.1.0->quartodoc<0.8.0,>=0.7.2->skimpy)\n",
      "  Using cached zipp-3.18.1-py3-none-any.whl.metadata (3.5 kB)\n",
      "Requirement already satisfied: backcall in c:\\users\\serda\\appdata\\roaming\\python\\python311\\site-packages (from ipython>=7.23.1->ipykernel<7.0.0,>=6.7.0->skimpy) (0.2.0)\n",
      "Requirement already satisfied: decorator in c:\\users\\serda\\appdata\\roaming\\python\\python311\\site-packages (from ipython>=7.23.1->ipykernel<7.0.0,>=6.7.0->skimpy) (5.1.1)\n",
      "Requirement already satisfied: jedi>=0.16 in c:\\users\\serda\\appdata\\roaming\\python\\python311\\site-packages (from ipython>=7.23.1->ipykernel<7.0.0,>=6.7.0->skimpy) (0.19.0)\n",
      "Requirement already satisfied: pickleshare in c:\\users\\serda\\appdata\\roaming\\python\\python311\\site-packages (from ipython>=7.23.1->ipykernel<7.0.0,>=6.7.0->skimpy) (0.7.5)\n",
      "Requirement already satisfied: prompt-toolkit!=3.0.37,<3.1.0,>=3.0.30 in c:\\users\\serda\\appdata\\roaming\\python\\python311\\site-packages (from ipython>=7.23.1->ipykernel<7.0.0,>=6.7.0->skimpy) (3.0.39)\n",
      "Requirement already satisfied: stack-data in c:\\users\\serda\\appdata\\roaming\\python\\python311\\site-packages (from ipython>=7.23.1->ipykernel<7.0.0,>=6.7.0->skimpy) (0.6.2)\n",
      "Requirement already satisfied: platformdirs>=2.5 in c:\\users\\serda\\appdata\\roaming\\python\\python311\\site-packages (from jupyter-core!=5.0.*,>=4.12->ipykernel<7.0.0,>=6.7.0->skimpy) (3.10.0)\n",
      "Requirement already satisfied: pywin32>=300 in c:\\users\\serda\\appdata\\roaming\\python\\python311\\site-packages (from jupyter-core!=5.0.*,>=4.12->ipykernel<7.0.0,>=6.7.0->skimpy) (306)\n",
      "Collecting mdurl~=0.1 (from markdown-it-py>=2.2.0->rich<14.0,>=10.9->skimpy)\n",
      "  Using cached mdurl-0.1.2-py3-none-any.whl.metadata (1.6 kB)\n",
      "Collecting beartype>=0.16.2 (from plum-dispatch>2.0.0->quartodoc<0.8.0,>=0.7.2->skimpy)\n",
      "  Using cached beartype-0.18.2-py3-none-any.whl.metadata (30 kB)\n",
      "Requirement already satisfied: six>=1.5 in c:\\users\\serda\\appdata\\roaming\\python\\python311\\site-packages (from python-dateutil>=2.8.2->pandas<3.0.0,>=2.0.3->skimpy) (1.16.0)\n",
      "Requirement already satisfied: attrs>=19.2 in c:\\users\\serda\\anaconda3\\envs\\da\\lib\\site-packages (from sphobjinv>=2.3.1->quartodoc<0.8.0,>=0.7.2->skimpy) (23.1.0)\n",
      "Requirement already satisfied: certifi in c:\\users\\serda\\anaconda3\\envs\\da\\lib\\site-packages (from sphobjinv>=2.3.1->quartodoc<0.8.0,>=0.7.2->skimpy) (2024.2.2)\n",
      "Requirement already satisfied: jsonschema>=3.0 in c:\\users\\serda\\anaconda3\\envs\\da\\lib\\site-packages (from sphobjinv>=2.3.1->quartodoc<0.8.0,>=0.7.2->skimpy) (4.19.2)\n",
      "Collecting annotated-types>=0.4.0 (from pydantic->quartodoc<0.8.0,>=0.7.2->skimpy)\n",
      "  Using cached annotated_types-0.6.0-py3-none-any.whl.metadata (12 kB)\n",
      "Collecting pydantic-core==2.16.3 (from pydantic->quartodoc<0.8.0,>=0.7.2->skimpy)\n",
      "  Using cached pydantic_core-2.16.3-cp311-none-win_amd64.whl.metadata (6.6 kB)\n",
      "Requirement already satisfied: parso<0.9.0,>=0.8.3 in c:\\users\\serda\\appdata\\roaming\\python\\python311\\site-packages (from jedi>=0.16->ipython>=7.23.1->ipykernel<7.0.0,>=6.7.0->skimpy) (0.8.3)\n",
      "Requirement already satisfied: jsonschema-specifications>=2023.03.6 in c:\\users\\serda\\anaconda3\\envs\\da\\lib\\site-packages (from jsonschema>=3.0->sphobjinv>=2.3.1->quartodoc<0.8.0,>=0.7.2->skimpy) (2023.7.1)\n",
      "Requirement already satisfied: referencing>=0.28.4 in c:\\users\\serda\\anaconda3\\envs\\da\\lib\\site-packages (from jsonschema>=3.0->sphobjinv>=2.3.1->quartodoc<0.8.0,>=0.7.2->skimpy) (0.30.2)\n",
      "Requirement already satisfied: rpds-py>=0.7.1 in c:\\users\\serda\\anaconda3\\envs\\da\\lib\\site-packages (from jsonschema>=3.0->sphobjinv>=2.3.1->quartodoc<0.8.0,>=0.7.2->skimpy) (0.10.6)\n",
      "Requirement already satisfied: wcwidth in c:\\users\\serda\\appdata\\roaming\\python\\python311\\site-packages (from prompt-toolkit!=3.0.37,<3.1.0,>=3.0.30->ipython>=7.23.1->ipykernel<7.0.0,>=6.7.0->skimpy) (0.2.6)\n",
      "Requirement already satisfied: executing>=1.2.0 in c:\\users\\serda\\appdata\\roaming\\python\\python311\\site-packages (from stack-data->ipython>=7.23.1->ipykernel<7.0.0,>=6.7.0->skimpy) (1.2.0)\n",
      "Requirement already satisfied: asttokens>=2.1.0 in c:\\users\\serda\\appdata\\roaming\\python\\python311\\site-packages (from stack-data->ipython>=7.23.1->ipykernel<7.0.0,>=6.7.0->skimpy) (2.2.1)\n",
      "Requirement already satisfied: pure-eval in c:\\users\\serda\\appdata\\roaming\\python\\python311\\site-packages (from stack-data->ipython>=7.23.1->ipykernel<7.0.0,>=6.7.0->skimpy) (0.2.2)\n",
      "Using cached skimpy-0.0.14-py3-none-any.whl (16 kB)\n",
      "Using cached typeguard-4.1.5-py3-none-any.whl (34 kB)\n",
      "Using cached click-8.1.7-py3-none-any.whl (97 kB)\n",
      "Using cached polars-0.20.19-cp38-abi3-win_amd64.whl (26.2 MB)\n",
      "Using cached pyarrow-15.0.2-cp311-cp311-win_amd64.whl (24.8 MB)\n",
      "Using cached quartodoc-0.7.2-py3-none-any.whl (77 kB)\n",
      "Using cached rich-13.7.1-py3-none-any.whl (240 kB)\n",
      "Using cached griffe-0.42.1-py3-none-any.whl (118 kB)\n",
      "Using cached importlib_metadata-7.1.0-py3-none-any.whl (24 kB)\n",
      "Using cached importlib_resources-6.4.0-py3-none-any.whl (38 kB)\n",
      "Using cached markdown_it_py-3.0.0-py3-none-any.whl (87 kB)\n",
      "Using cached plum_dispatch-2.3.3-py3-none-any.whl (37 kB)\n",
      "Using cached sphobjinv-2.3.1-py3-none-any.whl (51 kB)\n",
      "Using cached tabulate-0.9.0-py3-none-any.whl (35 kB)\n",
      "Using cached watchdog-4.0.0-py3-none-win_amd64.whl (82 kB)\n",
      "Using cached pydantic-2.6.4-py3-none-any.whl (394 kB)\n",
      "Using cached pydantic_core-2.16.3-cp311-none-win_amd64.whl (1.9 MB)\n",
      "Using cached annotated_types-0.6.0-py3-none-any.whl (12 kB)\n",
      "Using cached beartype-0.18.2-py3-none-any.whl (903 kB)\n",
      "Using cached mdurl-0.1.2-py3-none-any.whl (10.0 kB)\n",
      "Using cached zipp-3.18.1-py3-none-any.whl (8.2 kB)\n",
      "Installing collected packages: zipp, watchdog, typeguard, tabulate, pydantic-core, pyarrow, polars, mdurl, importlib-resources, griffe, click, beartype, annotated-types, pydantic, markdown-it-py, importlib-metadata, rich, sphobjinv, plum-dispatch, quartodoc, skimpy\n",
      "Successfully installed annotated-types-0.6.0 beartype-0.18.2 click-8.1.7 griffe-0.42.1 importlib-metadata-7.1.0 importlib-resources-6.4.0 markdown-it-py-3.0.0 mdurl-0.1.2 plum-dispatch-2.3.3 polars-0.20.19 pyarrow-15.0.2 pydantic-2.6.4 pydantic-core-2.16.3 quartodoc-0.7.2 rich-13.7.1 skimpy-0.0.14 sphobjinv-2.3.1 tabulate-0.9.0 typeguard-4.1.5 watchdog-4.0.0 zipp-3.18.1\n",
      "Note: you may need to restart the kernel to use updated packages.\n"
     ]
    },
    {
     "name": "stderr",
     "output_type": "stream",
     "text": [
      "  WARNING: The script watchmedo.exe is installed in 'c:\\Users\\serda\\anaconda3\\envs\\DA\\Scripts' which is not on PATH.\n",
      "  Consider adding this directory to PATH or, if you prefer to suppress this warning, use --no-warn-script-location.\n",
      "  WARNING: The script tabulate.exe is installed in 'c:\\Users\\serda\\anaconda3\\envs\\DA\\Scripts' which is not on PATH.\n",
      "  Consider adding this directory to PATH or, if you prefer to suppress this warning, use --no-warn-script-location.\n",
      "  WARNING: The script griffe.exe is installed in 'c:\\Users\\serda\\anaconda3\\envs\\DA\\Scripts' which is not on PATH.\n",
      "  Consider adding this directory to PATH or, if you prefer to suppress this warning, use --no-warn-script-location.\n",
      "  WARNING: The script markdown-it.exe is installed in 'c:\\Users\\serda\\anaconda3\\envs\\DA\\Scripts' which is not on PATH.\n",
      "  Consider adding this directory to PATH or, if you prefer to suppress this warning, use --no-warn-script-location.\n",
      "  WARNING: The script sphobjinv.exe is installed in 'c:\\Users\\serda\\anaconda3\\envs\\DA\\Scripts' which is not on PATH.\n",
      "  Consider adding this directory to PATH or, if you prefer to suppress this warning, use --no-warn-script-location.\n",
      "  WARNING: The script quartodoc.exe is installed in 'c:\\Users\\serda\\anaconda3\\envs\\DA\\Scripts' which is not on PATH.\n",
      "  Consider adding this directory to PATH or, if you prefer to suppress this warning, use --no-warn-script-location.\n",
      "  WARNING: The script skimpy.exe is installed in 'c:\\Users\\serda\\anaconda3\\envs\\DA\\Scripts' which is not on PATH.\n",
      "  Consider adding this directory to PATH or, if you prefer to suppress this warning, use --no-warn-script-location.\n"
     ]
    }
   ],
   "source": [
    "pip install skimpy"
   ]
  },
  {
   "cell_type": "markdown",
   "metadata": {},
   "source": [
    "## Importing necessary Libraries"
   ]
  },
  {
   "cell_type": "code",
   "execution_count": 7,
   "metadata": {
    "id": "Y13_gId7s1MC"
   },
   "outputs": [],
   "source": [
    "import numpy as np\n",
    "import pandas as pd\n",
    "import seaborn as sns \n",
    "import matplotlib.pyplot as plt\n",
    "import re\n",
    "from skimpy import clean_columns\n",
    "\n",
    "import warnings\n",
    "warnings.filterwarnings(\"ignore\")\n",
    "warnings.warn(\"this will not show\")\n",
    "\n",
    "%matplotlib inline\n",
    "# %matplotlib notebook\n",
    "\n",
    "plt.rcParams[\"figure.figsize\"] = (10,6)\n",
    "# plt.rcParams['figure.dpi'] = 100\n",
    "\n",
    "sns.set_style(\"whitegrid\")\n",
    "pd.set_option('display.float_format', lambda x: '%.2f' % x)\n",
    "\n",
    "#pd.options.display.max_rows = 100\n",
    "#pd.options.display.max_columns = 100"
   ]
  },
  {
   "cell_type": "markdown",
   "metadata": {},
   "source": [
    "## Reading the json file into a df"
   ]
  },
  {
   "cell_type": "code",
   "execution_count": 8,
   "metadata": {},
   "outputs": [],
   "source": [
    "df0=pd.read_json('as24_cars.json')"
   ]
  },
  {
   "cell_type": "markdown",
   "metadata": {},
   "source": [
    "## Making a working copy of the raw df (df0)"
   ]
  },
  {
   "cell_type": "code",
   "execution_count": 9,
   "metadata": {},
   "outputs": [],
   "source": [
    "df=df0.copy()"
   ]
  },
  {
   "cell_type": "markdown",
   "metadata": {},
   "source": [
    "## Getting the first impressions"
   ]
  },
  {
   "cell_type": "code",
   "execution_count": 10,
   "metadata": {},
   "outputs": [
    {
     "data": {
      "text/plain": [
       "(29480, 58)"
      ]
     },
     "execution_count": 10,
     "metadata": {},
     "output_type": "execute_result"
    }
   ],
   "source": [
    "df.shape"
   ]
  },
  {
   "cell_type": "code",
   "execution_count": 11,
   "metadata": {
    "scrolled": true
   },
   "outputs": [
    {
     "data": {
      "text/html": [
       "<div>\n",
       "<style scoped>\n",
       "    .dataframe tbody tr th:only-of-type {\n",
       "        vertical-align: middle;\n",
       "    }\n",
       "\n",
       "    .dataframe tbody tr th {\n",
       "        vertical-align: top;\n",
       "    }\n",
       "\n",
       "    .dataframe thead th {\n",
       "        text-align: right;\n",
       "    }\n",
       "</style>\n",
       "<table border=\"1\" class=\"dataframe\">\n",
       "  <thead>\n",
       "    <tr style=\"text-align: right;\">\n",
       "      <th></th>\n",
       "      <th>0</th>\n",
       "      <th>1</th>\n",
       "      <th>2</th>\n",
       "      <th>3</th>\n",
       "      <th>4</th>\n",
       "    </tr>\n",
       "  </thead>\n",
       "  <tbody>\n",
       "    <tr>\n",
       "      <th>make_model</th>\n",
       "      <td>Mercedes-Benz A 160</td>\n",
       "      <td>Mercedes-Benz EQE 350</td>\n",
       "      <td>Mercedes-Benz A 45 AMG</td>\n",
       "      <td>Mercedes-Benz A 35 AMG</td>\n",
       "      <td>Mercedes-Benz A 45 AMG</td>\n",
       "    </tr>\n",
       "    <tr>\n",
       "      <th>short_description</th>\n",
       "      <td>CDi</td>\n",
       "      <td>350+</td>\n",
       "      <td>S 4Matic+ 8G-DCT</td>\n",
       "      <td>4Matic+ 7G-DCT</td>\n",
       "      <td>200CDI BE Line 4M 7G-DCT</td>\n",
       "    </tr>\n",
       "    <tr>\n",
       "      <th>make</th>\n",
       "      <td>\\nMercedes-Benz\\n</td>\n",
       "      <td>\\nMercedes-Benz\\n</td>\n",
       "      <td>\\nMercedes-Benz\\n</td>\n",
       "      <td>\\nMercedes-Benz\\n</td>\n",
       "      <td>\\nMercedes-Benz\\n</td>\n",
       "    </tr>\n",
       "    <tr>\n",
       "      <th>model</th>\n",
       "      <td>[\\n, A 160 ,\\n]</td>\n",
       "      <td>[\\n, EQE 350 ,\\n]</td>\n",
       "      <td>[\\n, A 45 AMG ,\\n]</td>\n",
       "      <td>[\\n, A 35 AMG ,\\n]</td>\n",
       "      <td>[\\n, A 45 AMG ,\\n]</td>\n",
       "    </tr>\n",
       "    <tr>\n",
       "      <th>location</th>\n",
       "      <td>P.I. EL PALMAR C/FORJA 6,  11500 PUERTO DE SAN...</td>\n",
       "      <td>APARTADO DE CORREOS 1032,  26140 LOGROÑO, ES</td>\n",
       "      <td>PORT. TARRACO, MOLL DE LLEVANT, Nº 5, LOC. 6-8...</td>\n",
       "      <td>Carrer de Provença, 31 Local,  8029 BARCELONA, ES</td>\n",
       "      <td>CARRIL ARAGONES 4,  30007 CASILLAS, ES</td>\n",
       "    </tr>\n",
       "    <tr>\n",
       "      <th>price</th>\n",
       "      <td>€ 16,950.-</td>\n",
       "      <td>€ 80,900.-</td>\n",
       "      <td>€ 69,900.-</td>\n",
       "      <td>€ 46,990.-</td>\n",
       "      <td>€ 16,800.-</td>\n",
       "    </tr>\n",
       "    <tr>\n",
       "      <th>Body type</th>\n",
       "      <td>[\\n, Compact, \\n]</td>\n",
       "      <td>[\\n, Compact, \\n]</td>\n",
       "      <td>[\\n, Compact, \\n]</td>\n",
       "      <td>[\\n, Compact, \\n]</td>\n",
       "      <td>[\\n, Compact, \\n]</td>\n",
       "    </tr>\n",
       "    <tr>\n",
       "      <th>Type</th>\n",
       "      <td>[\\n, Used, \\n]</td>\n",
       "      <td>[\\n, Pre-registered, \\n]</td>\n",
       "      <td>[\\n, Used, \\n]</td>\n",
       "      <td>[\\n, Used, \\n]</td>\n",
       "      <td>[\\n, Used, \\n]</td>\n",
       "    </tr>\n",
       "    <tr>\n",
       "      <th>Doors</th>\n",
       "      <td>[\\n, 5, \\n]</td>\n",
       "      <td>[\\n, 4, \\n]</td>\n",
       "      <td>[\\n, 5, \\n]</td>\n",
       "      <td>[\\n, 5, \\n]</td>\n",
       "      <td>[\\n, 5, \\n]</td>\n",
       "    </tr>\n",
       "    <tr>\n",
       "      <th>Country version</th>\n",
       "      <td>[\\n, Spain, \\n]</td>\n",
       "      <td>[\\n, Spain, \\n]</td>\n",
       "      <td>[\\n, Spain, \\n]</td>\n",
       "      <td>[\\n, Spain, \\n]</td>\n",
       "      <td>[\\n, Spain, \\n]</td>\n",
       "    </tr>\n",
       "    <tr>\n",
       "      <th>Offer number</th>\n",
       "      <td>[\\n, 7468157, \\n]</td>\n",
       "      <td>[\\n, 7054863, \\n]</td>\n",
       "      <td>[\\n, 7410454, \\n]</td>\n",
       "      <td>[\\n, 7464503, \\n]</td>\n",
       "      <td>[\\n, 7127931, \\n]</td>\n",
       "    </tr>\n",
       "    <tr>\n",
       "      <th>Warranty</th>\n",
       "      <td>[\\n, 24 months, \\n]</td>\n",
       "      <td>[\\n, 24 months, \\n]</td>\n",
       "      <td>[\\n, 12 months, \\n]</td>\n",
       "      <td>[\\n, 12 months, \\n]</td>\n",
       "      <td>[\\n, 12 months, \\n]</td>\n",
       "    </tr>\n",
       "    <tr>\n",
       "      <th>Mileage</th>\n",
       "      <td>120,200 km</td>\n",
       "      <td>5,000 km</td>\n",
       "      <td>18,900 km</td>\n",
       "      <td>18,995 km</td>\n",
       "      <td>197,000 km</td>\n",
       "    </tr>\n",
       "    <tr>\n",
       "      <th>First registration</th>\n",
       "      <td>06/2016</td>\n",
       "      <td>06/2022</td>\n",
       "      <td>07/2020</td>\n",
       "      <td>01/2020</td>\n",
       "      <td>09/2015</td>\n",
       "    </tr>\n",
       "    <tr>\n",
       "      <th>Gearbox</th>\n",
       "      <td>[\\nManual\\n]</td>\n",
       "      <td>[\\nAutomatic\\n]</td>\n",
       "      <td>[\\nAutomatic\\n]</td>\n",
       "      <td>[\\nAutomatic\\n]</td>\n",
       "      <td>[\\nAutomatic\\n]</td>\n",
       "    </tr>\n",
       "    <tr>\n",
       "      <th>Fuel type</th>\n",
       "      <td>Diesel</td>\n",
       "      <td>Electric</td>\n",
       "      <td>Gasoline</td>\n",
       "      <td>Gasoline</td>\n",
       "      <td>Diesel</td>\n",
       "    </tr>\n",
       "    <tr>\n",
       "      <th>Colour</th>\n",
       "      <td>Black</td>\n",
       "      <td>NaN</td>\n",
       "      <td>Grey</td>\n",
       "      <td>Yellow</td>\n",
       "      <td>White</td>\n",
       "    </tr>\n",
       "    <tr>\n",
       "      <th>Paint</th>\n",
       "      <td>Metallic</td>\n",
       "      <td>NaN</td>\n",
       "      <td>NaN</td>\n",
       "      <td>NaN</td>\n",
       "      <td>Metallic</td>\n",
       "    </tr>\n",
       "    <tr>\n",
       "      <th>desc</th>\n",
       "      <td>[ , Precio al contado: 16950 euros,  ,  , Vehí...</td>\n",
       "      <td>[ , Precio al contado: 88900 euros,  , AUTO OJ...</td>\n",
       "      <td>[Gris MANUFAKTUR mountaingrau magno,  , Linea/...</td>\n",
       "      <td>[ , Precio al contado: 48990 euros,  ,  , BONI...</td>\n",
       "      <td>[ , Precio al contado: 17400 euros,  , Vehícul...</td>\n",
       "    </tr>\n",
       "    <tr>\n",
       "      <th>seller</th>\n",
       "      <td>Dealer</td>\n",
       "      <td>Dealer</td>\n",
       "      <td>Dealer</td>\n",
       "      <td>Dealer</td>\n",
       "      <td>Dealer</td>\n",
       "    </tr>\n",
       "    <tr>\n",
       "      <th>Seats</th>\n",
       "      <td>NaN</td>\n",
       "      <td>[\\n, 5, \\n]</td>\n",
       "      <td>[\\n, 5, \\n]</td>\n",
       "      <td>[\\n, 5, \\n]</td>\n",
       "      <td>[\\n, 5, \\n]</td>\n",
       "    </tr>\n",
       "    <tr>\n",
       "      <th>Power</th>\n",
       "      <td>NaN</td>\n",
       "      <td>[\\n215 kW (292 hp)\\n]</td>\n",
       "      <td>[\\n310 kW (421 hp)\\n]</td>\n",
       "      <td>[\\n225 kW (306 hp)\\n]</td>\n",
       "      <td>[\\n100 kW (136 hp)\\n]</td>\n",
       "    </tr>\n",
       "    <tr>\n",
       "      <th>Engine size</th>\n",
       "      <td>NaN</td>\n",
       "      <td>[\\n1 cc\\n]</td>\n",
       "      <td>[\\n1,991 cc\\n]</td>\n",
       "      <td>[\\n1,991 cc\\n]</td>\n",
       "      <td>[\\n2,143 cc\\n]</td>\n",
       "    </tr>\n",
       "    <tr>\n",
       "      <th>Gears</th>\n",
       "      <td>NaN</td>\n",
       "      <td>[\\n9\\n]</td>\n",
       "      <td>[\\n8\\n]</td>\n",
       "      <td>[\\n7\\n]</td>\n",
       "      <td>[\\n7\\n]</td>\n",
       "    </tr>\n",
       "    <tr>\n",
       "      <th>CO₂-emissions</th>\n",
       "      <td>NaN</td>\n",
       "      <td>0 g/km (comb.)</td>\n",
       "      <td>NaN</td>\n",
       "      <td>NaN</td>\n",
       "      <td>NaN</td>\n",
       "    </tr>\n",
       "    <tr>\n",
       "      <th>Manufacturer colour</th>\n",
       "      <td>NaN</td>\n",
       "      <td>Negro Obsidiana</td>\n",
       "      <td>Mountaingrau magno</td>\n",
       "      <td>Amarillo Sol</td>\n",
       "      <td>NaN</td>\n",
       "    </tr>\n",
       "    <tr>\n",
       "      <th>Drivetrain</th>\n",
       "      <td>NaN</td>\n",
       "      <td>NaN</td>\n",
       "      <td>[\\n, 4WD, \\n]</td>\n",
       "      <td>[\\n, 4WD, \\n]</td>\n",
       "      <td>[\\n, 4WD, \\n]</td>\n",
       "    </tr>\n",
       "    <tr>\n",
       "      <th>Cylinders</th>\n",
       "      <td>NaN</td>\n",
       "      <td>NaN</td>\n",
       "      <td>[\\n4\\n]</td>\n",
       "      <td>[\\n4\\n]</td>\n",
       "      <td>[\\n4\\n]</td>\n",
       "    </tr>\n",
       "    <tr>\n",
       "      <th>Fuel consumption</th>\n",
       "      <td>NaN</td>\n",
       "      <td>NaN</td>\n",
       "      <td>[[8.4 l/100 km (comb.)], [10.9 l/100 km (city)...</td>\n",
       "      <td>[[7.3 l/100 km (comb.)], [9.3 l/100 km (city)]...</td>\n",
       "      <td>[[4.9 l/100 km (comb.)], [5.7 l/100 km (city)]...</td>\n",
       "    </tr>\n",
       "    <tr>\n",
       "      <th>\\nComfort &amp; Convenience\\n</th>\n",
       "      <td>NaN</td>\n",
       "      <td>NaN</td>\n",
       "      <td>NaN</td>\n",
       "      <td>[Air conditioning, Automatic climate control, ...</td>\n",
       "      <td>[Air conditioning, Electrical side mirrors, Mu...</td>\n",
       "    </tr>\n",
       "    <tr>\n",
       "      <th>\\nEntertainment &amp; Media\\n</th>\n",
       "      <td>NaN</td>\n",
       "      <td>NaN</td>\n",
       "      <td>NaN</td>\n",
       "      <td>[USB]</td>\n",
       "      <td>[Bluetooth, CD player, MP3, USB]</td>\n",
       "    </tr>\n",
       "    <tr>\n",
       "      <th>\\nSafety &amp; Security\\n</th>\n",
       "      <td>NaN</td>\n",
       "      <td>NaN</td>\n",
       "      <td>NaN</td>\n",
       "      <td>[ABS, Central door lock, Driver-side airbag, E...</td>\n",
       "      <td>[ABS, Central door lock, Driver-side airbag, E...</td>\n",
       "    </tr>\n",
       "    <tr>\n",
       "      <th>\\nExtras\\n</th>\n",
       "      <td>NaN</td>\n",
       "      <td>NaN</td>\n",
       "      <td>NaN</td>\n",
       "      <td>[Sport seats]</td>\n",
       "      <td>NaN</td>\n",
       "    </tr>\n",
       "    <tr>\n",
       "      <th>Empty weight</th>\n",
       "      <td>NaN</td>\n",
       "      <td>NaN</td>\n",
       "      <td>NaN</td>\n",
       "      <td>NaN</td>\n",
       "      <td>[\\n1,545 kg\\n]</td>\n",
       "    </tr>\n",
       "    <tr>\n",
       "      <th>Model code</th>\n",
       "      <td>NaN</td>\n",
       "      <td>NaN</td>\n",
       "      <td>NaN</td>\n",
       "      <td>NaN</td>\n",
       "      <td>NaN</td>\n",
       "    </tr>\n",
       "    <tr>\n",
       "      <th>General inspection</th>\n",
       "      <td>NaN</td>\n",
       "      <td>NaN</td>\n",
       "      <td>NaN</td>\n",
       "      <td>NaN</td>\n",
       "      <td>NaN</td>\n",
       "    </tr>\n",
       "    <tr>\n",
       "      <th>Last service</th>\n",
       "      <td>NaN</td>\n",
       "      <td>NaN</td>\n",
       "      <td>NaN</td>\n",
       "      <td>NaN</td>\n",
       "      <td>NaN</td>\n",
       "    </tr>\n",
       "    <tr>\n",
       "      <th>Full service history</th>\n",
       "      <td>NaN</td>\n",
       "      <td>NaN</td>\n",
       "      <td>NaN</td>\n",
       "      <td>NaN</td>\n",
       "      <td>NaN</td>\n",
       "    </tr>\n",
       "    <tr>\n",
       "      <th>Non-smoker vehicle</th>\n",
       "      <td>NaN</td>\n",
       "      <td>NaN</td>\n",
       "      <td>NaN</td>\n",
       "      <td>NaN</td>\n",
       "      <td>NaN</td>\n",
       "    </tr>\n",
       "    <tr>\n",
       "      <th>Emission class</th>\n",
       "      <td>NaN</td>\n",
       "      <td>NaN</td>\n",
       "      <td>NaN</td>\n",
       "      <td>NaN</td>\n",
       "      <td>NaN</td>\n",
       "    </tr>\n",
       "    <tr>\n",
       "      <th>Emissions sticker</th>\n",
       "      <td>NaN</td>\n",
       "      <td>NaN</td>\n",
       "      <td>NaN</td>\n",
       "      <td>NaN</td>\n",
       "      <td>NaN</td>\n",
       "    </tr>\n",
       "    <tr>\n",
       "      <th>Upholstery colour</th>\n",
       "      <td>NaN</td>\n",
       "      <td>NaN</td>\n",
       "      <td>NaN</td>\n",
       "      <td>NaN</td>\n",
       "      <td>NaN</td>\n",
       "    </tr>\n",
       "    <tr>\n",
       "      <th>Upholstery</th>\n",
       "      <td>NaN</td>\n",
       "      <td>NaN</td>\n",
       "      <td>NaN</td>\n",
       "      <td>NaN</td>\n",
       "      <td>NaN</td>\n",
       "    </tr>\n",
       "    <tr>\n",
       "      <th>Production date</th>\n",
       "      <td>NaN</td>\n",
       "      <td>NaN</td>\n",
       "      <td>NaN</td>\n",
       "      <td>NaN</td>\n",
       "      <td>NaN</td>\n",
       "    </tr>\n",
       "    <tr>\n",
       "      <th>Previous owner</th>\n",
       "      <td>NaN</td>\n",
       "      <td>NaN</td>\n",
       "      <td>NaN</td>\n",
       "      <td>NaN</td>\n",
       "      <td>NaN</td>\n",
       "    </tr>\n",
       "    <tr>\n",
       "      <th>Other fuel types</th>\n",
       "      <td>NaN</td>\n",
       "      <td>NaN</td>\n",
       "      <td>NaN</td>\n",
       "      <td>NaN</td>\n",
       "      <td>NaN</td>\n",
       "    </tr>\n",
       "    <tr>\n",
       "      <th>Power consumption</th>\n",
       "      <td>NaN</td>\n",
       "      <td>NaN</td>\n",
       "      <td>NaN</td>\n",
       "      <td>NaN</td>\n",
       "      <td>NaN</td>\n",
       "    </tr>\n",
       "    <tr>\n",
       "      <th>Energy efficiency class</th>\n",
       "      <td>NaN</td>\n",
       "      <td>NaN</td>\n",
       "      <td>NaN</td>\n",
       "      <td>NaN</td>\n",
       "      <td>NaN</td>\n",
       "    </tr>\n",
       "    <tr>\n",
       "      <th>CO₂-efficiency</th>\n",
       "      <td>NaN</td>\n",
       "      <td>NaN</td>\n",
       "      <td>NaN</td>\n",
       "      <td>NaN</td>\n",
       "      <td>NaN</td>\n",
       "    </tr>\n",
       "    <tr>\n",
       "      <th>Fuel consumption (WLTP)</th>\n",
       "      <td>NaN</td>\n",
       "      <td>NaN</td>\n",
       "      <td>NaN</td>\n",
       "      <td>NaN</td>\n",
       "      <td>NaN</td>\n",
       "    </tr>\n",
       "    <tr>\n",
       "      <th>CO₂-emissions (WLTP)</th>\n",
       "      <td>NaN</td>\n",
       "      <td>NaN</td>\n",
       "      <td>NaN</td>\n",
       "      <td>NaN</td>\n",
       "      <td>NaN</td>\n",
       "    </tr>\n",
       "    <tr>\n",
       "      <th>Available from</th>\n",
       "      <td>NaN</td>\n",
       "      <td>NaN</td>\n",
       "      <td>NaN</td>\n",
       "      <td>NaN</td>\n",
       "      <td>NaN</td>\n",
       "    </tr>\n",
       "    <tr>\n",
       "      <th>Taxi or rental car</th>\n",
       "      <td>NaN</td>\n",
       "      <td>NaN</td>\n",
       "      <td>NaN</td>\n",
       "      <td>NaN</td>\n",
       "      <td>NaN</td>\n",
       "    </tr>\n",
       "    <tr>\n",
       "      <th>Availability</th>\n",
       "      <td>NaN</td>\n",
       "      <td>NaN</td>\n",
       "      <td>NaN</td>\n",
       "      <td>NaN</td>\n",
       "      <td>NaN</td>\n",
       "    </tr>\n",
       "    <tr>\n",
       "      <th>Last timing belt change</th>\n",
       "      <td>NaN</td>\n",
       "      <td>NaN</td>\n",
       "      <td>NaN</td>\n",
       "      <td>NaN</td>\n",
       "      <td>NaN</td>\n",
       "    </tr>\n",
       "    <tr>\n",
       "      <th>Electric Range (WLTP)</th>\n",
       "      <td>NaN</td>\n",
       "      <td>NaN</td>\n",
       "      <td>NaN</td>\n",
       "      <td>NaN</td>\n",
       "      <td>NaN</td>\n",
       "    </tr>\n",
       "    <tr>\n",
       "      <th>Power consumption (WLTP)</th>\n",
       "      <td>NaN</td>\n",
       "      <td>NaN</td>\n",
       "      <td>NaN</td>\n",
       "      <td>NaN</td>\n",
       "      <td>NaN</td>\n",
       "    </tr>\n",
       "    <tr>\n",
       "      <th>Battery Ownership</th>\n",
       "      <td>NaN</td>\n",
       "      <td>NaN</td>\n",
       "      <td>NaN</td>\n",
       "      <td>NaN</td>\n",
       "      <td>NaN</td>\n",
       "    </tr>\n",
       "  </tbody>\n",
       "</table>\n",
       "</div>"
      ],
      "text/plain": [
       "                                                                           0  \\\n",
       "make_model                                               Mercedes-Benz A 160   \n",
       "short_description                                                        CDi   \n",
       "make                                                       \\nMercedes-Benz\\n   \n",
       "model                                                        [\\n, A 160 ,\\n]   \n",
       "location                   P.I. EL PALMAR C/FORJA 6,  11500 PUERTO DE SAN...   \n",
       "price                                                             € 16,950.-   \n",
       "Body type                                                  [\\n, Compact, \\n]   \n",
       "Type                                                          [\\n, Used, \\n]   \n",
       "Doors                                                            [\\n, 5, \\n]   \n",
       "Country version                                              [\\n, Spain, \\n]   \n",
       "Offer number                                               [\\n, 7468157, \\n]   \n",
       "Warranty                                                 [\\n, 24 months, \\n]   \n",
       "Mileage                                                           120,200 km   \n",
       "First registration                                                   06/2016   \n",
       "Gearbox                                                         [\\nManual\\n]   \n",
       "Fuel type                                                             Diesel   \n",
       "Colour                                                                 Black   \n",
       "Paint                                                               Metallic   \n",
       "desc                       [ , Precio al contado: 16950 euros,  ,  , Vehí...   \n",
       "seller                                                                Dealer   \n",
       "Seats                                                                    NaN   \n",
       "Power                                                                    NaN   \n",
       "Engine size                                                              NaN   \n",
       "Gears                                                                    NaN   \n",
       "CO₂-emissions                                                            NaN   \n",
       "Manufacturer colour                                                      NaN   \n",
       "Drivetrain                                                               NaN   \n",
       "Cylinders                                                                NaN   \n",
       "Fuel consumption                                                         NaN   \n",
       "\\nComfort & Convenience\\n                                                NaN   \n",
       "\\nEntertainment & Media\\n                                                NaN   \n",
       "\\nSafety & Security\\n                                                    NaN   \n",
       "\\nExtras\\n                                                               NaN   \n",
       "Empty weight                                                             NaN   \n",
       "Model code                                                               NaN   \n",
       "General inspection                                                       NaN   \n",
       "Last service                                                             NaN   \n",
       "Full service history                                                     NaN   \n",
       "Non-smoker vehicle                                                       NaN   \n",
       "Emission class                                                           NaN   \n",
       "Emissions sticker                                                        NaN   \n",
       "Upholstery colour                                                        NaN   \n",
       "Upholstery                                                               NaN   \n",
       "Production date                                                          NaN   \n",
       "Previous owner                                                           NaN   \n",
       "Other fuel types                                                         NaN   \n",
       "Power consumption                                                        NaN   \n",
       "Energy efficiency class                                                  NaN   \n",
       "CO₂-efficiency                                                           NaN   \n",
       "Fuel consumption (WLTP)                                                  NaN   \n",
       "CO₂-emissions (WLTP)                                                     NaN   \n",
       "Available from                                                           NaN   \n",
       "Taxi or rental car                                                       NaN   \n",
       "Availability                                                             NaN   \n",
       "Last timing belt change                                                  NaN   \n",
       "Electric Range (WLTP)                                                    NaN   \n",
       "Power consumption (WLTP)                                                 NaN   \n",
       "Battery Ownership                                                        NaN   \n",
       "\n",
       "                                                                           1  \\\n",
       "make_model                                             Mercedes-Benz EQE 350   \n",
       "short_description                                                       350+   \n",
       "make                                                       \\nMercedes-Benz\\n   \n",
       "model                                                      [\\n, EQE 350 ,\\n]   \n",
       "location                        APARTADO DE CORREOS 1032,  26140 LOGROÑO, ES   \n",
       "price                                                             € 80,900.-   \n",
       "Body type                                                  [\\n, Compact, \\n]   \n",
       "Type                                                [\\n, Pre-registered, \\n]   \n",
       "Doors                                                            [\\n, 4, \\n]   \n",
       "Country version                                              [\\n, Spain, \\n]   \n",
       "Offer number                                               [\\n, 7054863, \\n]   \n",
       "Warranty                                                 [\\n, 24 months, \\n]   \n",
       "Mileage                                                             5,000 km   \n",
       "First registration                                                   06/2022   \n",
       "Gearbox                                                      [\\nAutomatic\\n]   \n",
       "Fuel type                                                           Electric   \n",
       "Colour                                                                   NaN   \n",
       "Paint                                                                    NaN   \n",
       "desc                       [ , Precio al contado: 88900 euros,  , AUTO OJ...   \n",
       "seller                                                                Dealer   \n",
       "Seats                                                            [\\n, 5, \\n]   \n",
       "Power                                                  [\\n215 kW (292 hp)\\n]   \n",
       "Engine size                                                       [\\n1 cc\\n]   \n",
       "Gears                                                                [\\n9\\n]   \n",
       "CO₂-emissions                                                 0 g/km (comb.)   \n",
       "Manufacturer colour                                          Negro Obsidiana   \n",
       "Drivetrain                                                               NaN   \n",
       "Cylinders                                                                NaN   \n",
       "Fuel consumption                                                         NaN   \n",
       "\\nComfort & Convenience\\n                                                NaN   \n",
       "\\nEntertainment & Media\\n                                                NaN   \n",
       "\\nSafety & Security\\n                                                    NaN   \n",
       "\\nExtras\\n                                                               NaN   \n",
       "Empty weight                                                             NaN   \n",
       "Model code                                                               NaN   \n",
       "General inspection                                                       NaN   \n",
       "Last service                                                             NaN   \n",
       "Full service history                                                     NaN   \n",
       "Non-smoker vehicle                                                       NaN   \n",
       "Emission class                                                           NaN   \n",
       "Emissions sticker                                                        NaN   \n",
       "Upholstery colour                                                        NaN   \n",
       "Upholstery                                                               NaN   \n",
       "Production date                                                          NaN   \n",
       "Previous owner                                                           NaN   \n",
       "Other fuel types                                                         NaN   \n",
       "Power consumption                                                        NaN   \n",
       "Energy efficiency class                                                  NaN   \n",
       "CO₂-efficiency                                                           NaN   \n",
       "Fuel consumption (WLTP)                                                  NaN   \n",
       "CO₂-emissions (WLTP)                                                     NaN   \n",
       "Available from                                                           NaN   \n",
       "Taxi or rental car                                                       NaN   \n",
       "Availability                                                             NaN   \n",
       "Last timing belt change                                                  NaN   \n",
       "Electric Range (WLTP)                                                    NaN   \n",
       "Power consumption (WLTP)                                                 NaN   \n",
       "Battery Ownership                                                        NaN   \n",
       "\n",
       "                                                                           2  \\\n",
       "make_model                                            Mercedes-Benz A 45 AMG   \n",
       "short_description                                           S 4Matic+ 8G-DCT   \n",
       "make                                                       \\nMercedes-Benz\\n   \n",
       "model                                                     [\\n, A 45 AMG ,\\n]   \n",
       "location                   PORT. TARRACO, MOLL DE LLEVANT, Nº 5, LOC. 6-8...   \n",
       "price                                                             € 69,900.-   \n",
       "Body type                                                  [\\n, Compact, \\n]   \n",
       "Type                                                          [\\n, Used, \\n]   \n",
       "Doors                                                            [\\n, 5, \\n]   \n",
       "Country version                                              [\\n, Spain, \\n]   \n",
       "Offer number                                               [\\n, 7410454, \\n]   \n",
       "Warranty                                                 [\\n, 12 months, \\n]   \n",
       "Mileage                                                            18,900 km   \n",
       "First registration                                                   07/2020   \n",
       "Gearbox                                                      [\\nAutomatic\\n]   \n",
       "Fuel type                                                           Gasoline   \n",
       "Colour                                                                  Grey   \n",
       "Paint                                                                    NaN   \n",
       "desc                       [Gris MANUFAKTUR mountaingrau magno,  , Linea/...   \n",
       "seller                                                                Dealer   \n",
       "Seats                                                            [\\n, 5, \\n]   \n",
       "Power                                                  [\\n310 kW (421 hp)\\n]   \n",
       "Engine size                                                   [\\n1,991 cc\\n]   \n",
       "Gears                                                                [\\n8\\n]   \n",
       "CO₂-emissions                                                            NaN   \n",
       "Manufacturer colour                                       Mountaingrau magno   \n",
       "Drivetrain                                                     [\\n, 4WD, \\n]   \n",
       "Cylinders                                                            [\\n4\\n]   \n",
       "Fuel consumption           [[8.4 l/100 km (comb.)], [10.9 l/100 km (city)...   \n",
       "\\nComfort & Convenience\\n                                                NaN   \n",
       "\\nEntertainment & Media\\n                                                NaN   \n",
       "\\nSafety & Security\\n                                                    NaN   \n",
       "\\nExtras\\n                                                               NaN   \n",
       "Empty weight                                                             NaN   \n",
       "Model code                                                               NaN   \n",
       "General inspection                                                       NaN   \n",
       "Last service                                                             NaN   \n",
       "Full service history                                                     NaN   \n",
       "Non-smoker vehicle                                                       NaN   \n",
       "Emission class                                                           NaN   \n",
       "Emissions sticker                                                        NaN   \n",
       "Upholstery colour                                                        NaN   \n",
       "Upholstery                                                               NaN   \n",
       "Production date                                                          NaN   \n",
       "Previous owner                                                           NaN   \n",
       "Other fuel types                                                         NaN   \n",
       "Power consumption                                                        NaN   \n",
       "Energy efficiency class                                                  NaN   \n",
       "CO₂-efficiency                                                           NaN   \n",
       "Fuel consumption (WLTP)                                                  NaN   \n",
       "CO₂-emissions (WLTP)                                                     NaN   \n",
       "Available from                                                           NaN   \n",
       "Taxi or rental car                                                       NaN   \n",
       "Availability                                                             NaN   \n",
       "Last timing belt change                                                  NaN   \n",
       "Electric Range (WLTP)                                                    NaN   \n",
       "Power consumption (WLTP)                                                 NaN   \n",
       "Battery Ownership                                                        NaN   \n",
       "\n",
       "                                                                           3  \\\n",
       "make_model                                            Mercedes-Benz A 35 AMG   \n",
       "short_description                                             4Matic+ 7G-DCT   \n",
       "make                                                       \\nMercedes-Benz\\n   \n",
       "model                                                     [\\n, A 35 AMG ,\\n]   \n",
       "location                   Carrer de Provença, 31 Local,  8029 BARCELONA, ES   \n",
       "price                                                             € 46,990.-   \n",
       "Body type                                                  [\\n, Compact, \\n]   \n",
       "Type                                                          [\\n, Used, \\n]   \n",
       "Doors                                                            [\\n, 5, \\n]   \n",
       "Country version                                              [\\n, Spain, \\n]   \n",
       "Offer number                                               [\\n, 7464503, \\n]   \n",
       "Warranty                                                 [\\n, 12 months, \\n]   \n",
       "Mileage                                                            18,995 km   \n",
       "First registration                                                   01/2020   \n",
       "Gearbox                                                      [\\nAutomatic\\n]   \n",
       "Fuel type                                                           Gasoline   \n",
       "Colour                                                                Yellow   \n",
       "Paint                                                                    NaN   \n",
       "desc                       [ , Precio al contado: 48990 euros,  ,  , BONI...   \n",
       "seller                                                                Dealer   \n",
       "Seats                                                            [\\n, 5, \\n]   \n",
       "Power                                                  [\\n225 kW (306 hp)\\n]   \n",
       "Engine size                                                   [\\n1,991 cc\\n]   \n",
       "Gears                                                                [\\n7\\n]   \n",
       "CO₂-emissions                                                            NaN   \n",
       "Manufacturer colour                                             Amarillo Sol   \n",
       "Drivetrain                                                     [\\n, 4WD, \\n]   \n",
       "Cylinders                                                            [\\n4\\n]   \n",
       "Fuel consumption           [[7.3 l/100 km (comb.)], [9.3 l/100 km (city)]...   \n",
       "\\nComfort & Convenience\\n  [Air conditioning, Automatic climate control, ...   \n",
       "\\nEntertainment & Media\\n                                              [USB]   \n",
       "\\nSafety & Security\\n      [ABS, Central door lock, Driver-side airbag, E...   \n",
       "\\nExtras\\n                                                     [Sport seats]   \n",
       "Empty weight                                                             NaN   \n",
       "Model code                                                               NaN   \n",
       "General inspection                                                       NaN   \n",
       "Last service                                                             NaN   \n",
       "Full service history                                                     NaN   \n",
       "Non-smoker vehicle                                                       NaN   \n",
       "Emission class                                                           NaN   \n",
       "Emissions sticker                                                        NaN   \n",
       "Upholstery colour                                                        NaN   \n",
       "Upholstery                                                               NaN   \n",
       "Production date                                                          NaN   \n",
       "Previous owner                                                           NaN   \n",
       "Other fuel types                                                         NaN   \n",
       "Power consumption                                                        NaN   \n",
       "Energy efficiency class                                                  NaN   \n",
       "CO₂-efficiency                                                           NaN   \n",
       "Fuel consumption (WLTP)                                                  NaN   \n",
       "CO₂-emissions (WLTP)                                                     NaN   \n",
       "Available from                                                           NaN   \n",
       "Taxi or rental car                                                       NaN   \n",
       "Availability                                                             NaN   \n",
       "Last timing belt change                                                  NaN   \n",
       "Electric Range (WLTP)                                                    NaN   \n",
       "Power consumption (WLTP)                                                 NaN   \n",
       "Battery Ownership                                                        NaN   \n",
       "\n",
       "                                                                           4  \n",
       "make_model                                            Mercedes-Benz A 45 AMG  \n",
       "short_description                                   200CDI BE Line 4M 7G-DCT  \n",
       "make                                                       \\nMercedes-Benz\\n  \n",
       "model                                                     [\\n, A 45 AMG ,\\n]  \n",
       "location                              CARRIL ARAGONES 4,  30007 CASILLAS, ES  \n",
       "price                                                             € 16,800.-  \n",
       "Body type                                                  [\\n, Compact, \\n]  \n",
       "Type                                                          [\\n, Used, \\n]  \n",
       "Doors                                                            [\\n, 5, \\n]  \n",
       "Country version                                              [\\n, Spain, \\n]  \n",
       "Offer number                                               [\\n, 7127931, \\n]  \n",
       "Warranty                                                 [\\n, 12 months, \\n]  \n",
       "Mileage                                                           197,000 km  \n",
       "First registration                                                   09/2015  \n",
       "Gearbox                                                      [\\nAutomatic\\n]  \n",
       "Fuel type                                                             Diesel  \n",
       "Colour                                                                 White  \n",
       "Paint                                                               Metallic  \n",
       "desc                       [ , Precio al contado: 17400 euros,  , Vehícul...  \n",
       "seller                                                                Dealer  \n",
       "Seats                                                            [\\n, 5, \\n]  \n",
       "Power                                                  [\\n100 kW (136 hp)\\n]  \n",
       "Engine size                                                   [\\n2,143 cc\\n]  \n",
       "Gears                                                                [\\n7\\n]  \n",
       "CO₂-emissions                                                            NaN  \n",
       "Manufacturer colour                                                      NaN  \n",
       "Drivetrain                                                     [\\n, 4WD, \\n]  \n",
       "Cylinders                                                            [\\n4\\n]  \n",
       "Fuel consumption           [[4.9 l/100 km (comb.)], [5.7 l/100 km (city)]...  \n",
       "\\nComfort & Convenience\\n  [Air conditioning, Electrical side mirrors, Mu...  \n",
       "\\nEntertainment & Media\\n                   [Bluetooth, CD player, MP3, USB]  \n",
       "\\nSafety & Security\\n      [ABS, Central door lock, Driver-side airbag, E...  \n",
       "\\nExtras\\n                                                               NaN  \n",
       "Empty weight                                                  [\\n1,545 kg\\n]  \n",
       "Model code                                                               NaN  \n",
       "General inspection                                                       NaN  \n",
       "Last service                                                             NaN  \n",
       "Full service history                                                     NaN  \n",
       "Non-smoker vehicle                                                       NaN  \n",
       "Emission class                                                           NaN  \n",
       "Emissions sticker                                                        NaN  \n",
       "Upholstery colour                                                        NaN  \n",
       "Upholstery                                                               NaN  \n",
       "Production date                                                          NaN  \n",
       "Previous owner                                                           NaN  \n",
       "Other fuel types                                                         NaN  \n",
       "Power consumption                                                        NaN  \n",
       "Energy efficiency class                                                  NaN  \n",
       "CO₂-efficiency                                                           NaN  \n",
       "Fuel consumption (WLTP)                                                  NaN  \n",
       "CO₂-emissions (WLTP)                                                     NaN  \n",
       "Available from                                                           NaN  \n",
       "Taxi or rental car                                                       NaN  \n",
       "Availability                                                             NaN  \n",
       "Last timing belt change                                                  NaN  \n",
       "Electric Range (WLTP)                                                    NaN  \n",
       "Power consumption (WLTP)                                                 NaN  \n",
       "Battery Ownership                                                        NaN  "
      ]
     },
     "execution_count": 11,
     "metadata": {},
     "output_type": "execute_result"
    }
   ],
   "source": [
    "df.head().T"
   ]
  },
  {
   "cell_type": "code",
   "execution_count": 12,
   "metadata": {},
   "outputs": [
    {
     "data": {
      "text/html": [
       "<div>\n",
       "<style scoped>\n",
       "    .dataframe tbody tr th:only-of-type {\n",
       "        vertical-align: middle;\n",
       "    }\n",
       "\n",
       "    .dataframe tbody tr th {\n",
       "        vertical-align: top;\n",
       "    }\n",
       "\n",
       "    .dataframe thead th {\n",
       "        text-align: right;\n",
       "    }\n",
       "</style>\n",
       "<table border=\"1\" class=\"dataframe\">\n",
       "  <thead>\n",
       "    <tr style=\"text-align: right;\">\n",
       "      <th></th>\n",
       "      <th>13848</th>\n",
       "      <th>2091</th>\n",
       "      <th>8764</th>\n",
       "      <th>14011</th>\n",
       "      <th>16873</th>\n",
       "    </tr>\n",
       "  </thead>\n",
       "  <tbody>\n",
       "    <tr>\n",
       "      <th>make_model</th>\n",
       "      <td>Skoda Citigo</td>\n",
       "      <td>Mercedes-Benz S 500</td>\n",
       "      <td>Peugeot 2008</td>\n",
       "      <td>Skoda Felicia</td>\n",
       "      <td>Dacia Sandero</td>\n",
       "    </tr>\n",
       "    <tr>\n",
       "      <th>short_description</th>\n",
       "      <td>1.0 Style Klima Sitzheizung Einparkhilfe</td>\n",
       "      <td>4M L AMG PANO BURM TV HUD 360° MASSAGE</td>\n",
       "      <td>1.2PureTech GT-Line S&amp;S Carplay/PDC/Camera ***...</td>\n",
       "      <td>1.9D GLX</td>\n",
       "      <td>SL Aniversario TCe 1.0 74kW (100CV)</td>\n",
       "    </tr>\n",
       "    <tr>\n",
       "      <th>make</th>\n",
       "      <td>\\nSkoda\\n</td>\n",
       "      <td>\\nMercedes-Benz\\n</td>\n",
       "      <td>\\nPeugeot\\n</td>\n",
       "      <td>\\nSkoda\\n</td>\n",
       "      <td>\\nDacia\\n</td>\n",
       "    </tr>\n",
       "    <tr>\n",
       "      <th>model</th>\n",
       "      <td>[\\n, Citigo ,\\n]</td>\n",
       "      <td>[\\n, S 500 ,\\n]</td>\n",
       "      <td>[\\n, 2008 ,\\n]</td>\n",
       "      <td>[\\n, Felicia ,\\n]</td>\n",
       "      <td>[\\n, Sandero ,\\n]</td>\n",
       "    </tr>\n",
       "    <tr>\n",
       "      <th>location</th>\n",
       "      <td>Ludwigsluster Chaussee 1A,  19061 Schwerin, DE</td>\n",
       "      <td>Bismarckstr. 26,  10625 Berlin, DE</td>\n",
       "      <td>Emiel Clauslaan 88,  9800 Deinze, BE</td>\n",
       "      <td>Carretera vieja de Santiago, N360,  27004 LUGO...</td>\n",
       "      <td>Gernika Kalea, 48,  48960 Galdakano, ES</td>\n",
       "    </tr>\n",
       "    <tr>\n",
       "      <th>price</th>\n",
       "      <td>€ 12,990.-</td>\n",
       "      <td>€ 130,900.-</td>\n",
       "      <td>€ 25,950.-</td>\n",
       "      <td>€ 2,500.-</td>\n",
       "      <td>€ 13,990.-</td>\n",
       "    </tr>\n",
       "    <tr>\n",
       "      <th>Body type</th>\n",
       "      <td>[\\n, Compact, \\n]</td>\n",
       "      <td>[\\n, Sedan, \\n]</td>\n",
       "      <td>[\\n, Off-Road/Pick-up, \\n]</td>\n",
       "      <td>[\\n, Compact, \\n]</td>\n",
       "      <td>[\\n, Sedan, \\n]</td>\n",
       "    </tr>\n",
       "    <tr>\n",
       "      <th>Type</th>\n",
       "      <td>[\\n, Used, \\n]</td>\n",
       "      <td>[\\n, Used, \\n]</td>\n",
       "      <td>[\\n, Used, \\n]</td>\n",
       "      <td>[\\n, Used, \\n]</td>\n",
       "      <td>[\\n, Used, \\n]</td>\n",
       "    </tr>\n",
       "    <tr>\n",
       "      <th>Doors</th>\n",
       "      <td>[\\n, 5, \\n]</td>\n",
       "      <td>[\\n, 4, \\n]</td>\n",
       "      <td>[\\n, 5, \\n]</td>\n",
       "      <td>[\\n, 5, \\n]</td>\n",
       "      <td>[\\n, 5, \\n]</td>\n",
       "    </tr>\n",
       "    <tr>\n",
       "      <th>Country version</th>\n",
       "      <td>[\\n, Germany, \\n]</td>\n",
       "      <td>NaN</td>\n",
       "      <td>NaN</td>\n",
       "      <td>[\\n, Spain, \\n]</td>\n",
       "      <td>[\\n, Spain, \\n]</td>\n",
       "    </tr>\n",
       "    <tr>\n",
       "      <th>Offer number</th>\n",
       "      <td>[\\n, 0092C, \\n]</td>\n",
       "      <td>[\\n, 106, \\n]</td>\n",
       "      <td>[\\n, 18390, \\n]</td>\n",
       "      <td>[\\n, 7467051, \\n]</td>\n",
       "      <td>[\\n, 7474116, \\n]</td>\n",
       "    </tr>\n",
       "    <tr>\n",
       "      <th>Warranty</th>\n",
       "      <td>[\\n, Yes, \\n]</td>\n",
       "      <td>NaN</td>\n",
       "      <td>[\\n, 24 months, \\n]</td>\n",
       "      <td>[\\n, 12 months, \\n]</td>\n",
       "      <td>[\\n, 12 months, \\n]</td>\n",
       "    </tr>\n",
       "    <tr>\n",
       "      <th>Mileage</th>\n",
       "      <td>25,585 km</td>\n",
       "      <td>55,400 km</td>\n",
       "      <td>4,664 km</td>\n",
       "      <td>202,974 km</td>\n",
       "      <td>3,750 km</td>\n",
       "    </tr>\n",
       "    <tr>\n",
       "      <th>First registration</th>\n",
       "      <td>08/2019</td>\n",
       "      <td>11/2020</td>\n",
       "      <td>09/2020</td>\n",
       "      <td>06/1999</td>\n",
       "      <td>12/2020</td>\n",
       "    </tr>\n",
       "    <tr>\n",
       "      <th>Gearbox</th>\n",
       "      <td>[\\nManual\\n]</td>\n",
       "      <td>[\\nAutomatic\\n]</td>\n",
       "      <td>[\\nManual\\n]</td>\n",
       "      <td>[\\nManual\\n]</td>\n",
       "      <td>[\\nManual\\n]</td>\n",
       "    </tr>\n",
       "    <tr>\n",
       "      <th>Fuel type</th>\n",
       "      <td>Regular/Benzine 91</td>\n",
       "      <td>Regular/Benzine 91</td>\n",
       "      <td>Gasoline</td>\n",
       "      <td>Diesel</td>\n",
       "      <td>Gasoline</td>\n",
       "    </tr>\n",
       "    <tr>\n",
       "      <th>Colour</th>\n",
       "      <td>Blue</td>\n",
       "      <td>Black</td>\n",
       "      <td>Black</td>\n",
       "      <td>Blue</td>\n",
       "      <td>Grey</td>\n",
       "    </tr>\n",
       "    <tr>\n",
       "      <th>Paint</th>\n",
       "      <td>Metallic</td>\n",
       "      <td>Metallic</td>\n",
       "      <td>Metallic</td>\n",
       "      <td>Metallic</td>\n",
       "      <td>NaN</td>\n",
       "    </tr>\n",
       "    <tr>\n",
       "      <th>desc</th>\n",
       "      <td>[Komfort, Klima,  , Zentralverriegelung m. FB,...</td>\n",
       "      <td>[Allgemeines, Deutsches Fahrzeug, aus erster H...</td>\n",
       "      <td>[Neerklapbare achterbank, Spraakbediening, vel...</td>\n",
       "      <td>[SKODA FELICIA 1.9D SX. Pequeño utiliario muy ...</td>\n",
       "      <td>[ , Precio al contado: 15990 euros,  , Para co...</td>\n",
       "    </tr>\n",
       "    <tr>\n",
       "      <th>seller</th>\n",
       "      <td>Dealer</td>\n",
       "      <td>Dealer</td>\n",
       "      <td>Dealer</td>\n",
       "      <td>Dealer</td>\n",
       "      <td>Dealer</td>\n",
       "    </tr>\n",
       "    <tr>\n",
       "      <th>Seats</th>\n",
       "      <td>[\\n, 4, \\n]</td>\n",
       "      <td>[\\n, 5, \\n]</td>\n",
       "      <td>NaN</td>\n",
       "      <td>[\\n, 5, \\n]</td>\n",
       "      <td>NaN</td>\n",
       "    </tr>\n",
       "    <tr>\n",
       "      <th>Power</th>\n",
       "      <td>[\\n55 kW (75 hp)\\n]</td>\n",
       "      <td>[\\n320 kW (435 hp)\\n]</td>\n",
       "      <td>[\\n96 kW (131 hp)\\n]</td>\n",
       "      <td>[\\n47 kW (64 hp)\\n]</td>\n",
       "      <td>[\\n74 kW (101 hp)\\n]</td>\n",
       "    </tr>\n",
       "    <tr>\n",
       "      <th>Engine size</th>\n",
       "      <td>[\\n999 cc\\n]</td>\n",
       "      <td>[\\n2,999 cc\\n]</td>\n",
       "      <td>[\\n1,199 cc\\n]</td>\n",
       "      <td>[\\n1,896 cc\\n]</td>\n",
       "      <td>[\\n1,000 cc\\n]</td>\n",
       "    </tr>\n",
       "    <tr>\n",
       "      <th>Gears</th>\n",
       "      <td>NaN</td>\n",
       "      <td>[\\n9\\n]</td>\n",
       "      <td>[\\n6\\n]</td>\n",
       "      <td>[\\n5\\n]</td>\n",
       "      <td>NaN</td>\n",
       "    </tr>\n",
       "    <tr>\n",
       "      <th>CO₂-emissions</th>\n",
       "      <td>0 g/km (comb.)</td>\n",
       "      <td>179 g/km (comb.)</td>\n",
       "      <td>103 g/km (comb.)</td>\n",
       "      <td>NaN</td>\n",
       "      <td>NaN</td>\n",
       "    </tr>\n",
       "    <tr>\n",
       "      <th>Manufacturer colour</th>\n",
       "      <td>Crystal Blau Metallic</td>\n",
       "      <td>Obsidianschwarz</td>\n",
       "      <td>NaN</td>\n",
       "      <td>NaN</td>\n",
       "      <td>Gris</td>\n",
       "    </tr>\n",
       "    <tr>\n",
       "      <th>Drivetrain</th>\n",
       "      <td>NaN</td>\n",
       "      <td>[\\n, 4WD, \\n]</td>\n",
       "      <td>[\\n, Front, \\n]</td>\n",
       "      <td>[\\n, Front, \\n]</td>\n",
       "      <td>NaN</td>\n",
       "    </tr>\n",
       "    <tr>\n",
       "      <th>Cylinders</th>\n",
       "      <td>NaN</td>\n",
       "      <td>[\\n6\\n]</td>\n",
       "      <td>NaN</td>\n",
       "      <td>[\\n4\\n]</td>\n",
       "      <td>NaN</td>\n",
       "    </tr>\n",
       "    <tr>\n",
       "      <th>Fuel consumption</th>\n",
       "      <td>[[4.1 l/100 km (comb.)]]</td>\n",
       "      <td>[[7 l/100 km (comb.)], [11 l/100 km (city)], [...</td>\n",
       "      <td>NaN</td>\n",
       "      <td>[[6.1 l/100 km (comb.)], [6.3 l/100 km (city)]...</td>\n",
       "      <td>[[6 l/100 km (comb.)], [6.5 l/100 km (city)], ...</td>\n",
       "    </tr>\n",
       "    <tr>\n",
       "      <th>\\nComfort &amp; Convenience\\n</th>\n",
       "      <td>[Air conditioning, Electrical side mirrors, Hi...</td>\n",
       "      <td>[360° camera, Air conditioning, Air suspension...</td>\n",
       "      <td>[Air conditioning, Armrest, Automatic climate ...</td>\n",
       "      <td>[Tinted windows]</td>\n",
       "      <td>NaN</td>\n",
       "    </tr>\n",
       "    <tr>\n",
       "      <th>\\nEntertainment &amp; Media\\n</th>\n",
       "      <td>[CD player, MP3, On-board computer, Radio]</td>\n",
       "      <td>[Android Auto, Apple CarPlay, Bluetooth, Digit...</td>\n",
       "      <td>[Android Auto, Apple CarPlay, Bluetooth, Digit...</td>\n",
       "      <td>NaN</td>\n",
       "      <td>NaN</td>\n",
       "    </tr>\n",
       "    <tr>\n",
       "      <th>\\nSafety &amp; Security\\n</th>\n",
       "      <td>[ABS, Adaptive headlights, Central door lock, ...</td>\n",
       "      <td>[ABS, Adaptive Cruise Control, Adaptive headli...</td>\n",
       "      <td>[Blind spot monitor, Central door lock, Driver...</td>\n",
       "      <td>[Fog lights, Power steering]</td>\n",
       "      <td>NaN</td>\n",
       "    </tr>\n",
       "    <tr>\n",
       "      <th>\\nExtras\\n</th>\n",
       "      <td>[Alloy wheels, E10-enabled]</td>\n",
       "      <td>[Alloy wheels (19\"), Automatically dimming int...</td>\n",
       "      <td>[Alloy wheels, Ambient lighting, Automatically...</td>\n",
       "      <td>NaN</td>\n",
       "      <td>NaN</td>\n",
       "    </tr>\n",
       "    <tr>\n",
       "      <th>Empty weight</th>\n",
       "      <td>NaN</td>\n",
       "      <td>NaN</td>\n",
       "      <td>NaN</td>\n",
       "      <td>[\\n1,035 kg\\n]</td>\n",
       "      <td>NaN</td>\n",
       "    </tr>\n",
       "    <tr>\n",
       "      <th>Model code</th>\n",
       "      <td>NaN</td>\n",
       "      <td>[\\n, 0000/000, \\n]</td>\n",
       "      <td>NaN</td>\n",
       "      <td>NaN</td>\n",
       "      <td>NaN</td>\n",
       "    </tr>\n",
       "    <tr>\n",
       "      <th>General inspection</th>\n",
       "      <td>New</td>\n",
       "      <td>NaN</td>\n",
       "      <td>NaN</td>\n",
       "      <td>NaN</td>\n",
       "      <td>NaN</td>\n",
       "    </tr>\n",
       "    <tr>\n",
       "      <th>Last service</th>\n",
       "      <td>NaN</td>\n",
       "      <td>08/2021</td>\n",
       "      <td>NaN</td>\n",
       "      <td>NaN</td>\n",
       "      <td>NaN</td>\n",
       "    </tr>\n",
       "    <tr>\n",
       "      <th>Full service history</th>\n",
       "      <td>Yes</td>\n",
       "      <td>Yes</td>\n",
       "      <td>Yes</td>\n",
       "      <td>NaN</td>\n",
       "      <td>NaN</td>\n",
       "    </tr>\n",
       "    <tr>\n",
       "      <th>Non-smoker vehicle</th>\n",
       "      <td>Yes</td>\n",
       "      <td>Yes</td>\n",
       "      <td>Yes</td>\n",
       "      <td>NaN</td>\n",
       "      <td>NaN</td>\n",
       "    </tr>\n",
       "    <tr>\n",
       "      <th>Emission class</th>\n",
       "      <td>Euro 6d-TEMP</td>\n",
       "      <td>Euro 6</td>\n",
       "      <td>Euro 6</td>\n",
       "      <td>NaN</td>\n",
       "      <td>NaN</td>\n",
       "    </tr>\n",
       "    <tr>\n",
       "      <th>Emissions sticker</th>\n",
       "      <td>4 (Green)</td>\n",
       "      <td>4 (Green)</td>\n",
       "      <td>NaN</td>\n",
       "      <td>NaN</td>\n",
       "      <td>NaN</td>\n",
       "    </tr>\n",
       "    <tr>\n",
       "      <th>Upholstery colour</th>\n",
       "      <td>Black</td>\n",
       "      <td>NaN</td>\n",
       "      <td>Black</td>\n",
       "      <td>NaN</td>\n",
       "      <td>NaN</td>\n",
       "    </tr>\n",
       "    <tr>\n",
       "      <th>Upholstery</th>\n",
       "      <td>Cloth</td>\n",
       "      <td>Full leather</td>\n",
       "      <td>Full leather</td>\n",
       "      <td>NaN</td>\n",
       "      <td>NaN</td>\n",
       "    </tr>\n",
       "    <tr>\n",
       "      <th>Production date</th>\n",
       "      <td>NaN</td>\n",
       "      <td>NaN</td>\n",
       "      <td>NaN</td>\n",
       "      <td>NaN</td>\n",
       "      <td>NaN</td>\n",
       "    </tr>\n",
       "    <tr>\n",
       "      <th>Previous owner</th>\n",
       "      <td>NaN</td>\n",
       "      <td>[[55,400 km, 11/2020], 1]</td>\n",
       "      <td>[[4,664 km, 09/2020], 1]</td>\n",
       "      <td>NaN</td>\n",
       "      <td>NaN</td>\n",
       "    </tr>\n",
       "    <tr>\n",
       "      <th>Other fuel types</th>\n",
       "      <td>NaN</td>\n",
       "      <td>NaN</td>\n",
       "      <td>NaN</td>\n",
       "      <td>NaN</td>\n",
       "      <td>NaN</td>\n",
       "    </tr>\n",
       "    <tr>\n",
       "      <th>Power consumption</th>\n",
       "      <td>NaN</td>\n",
       "      <td>NaN</td>\n",
       "      <td>NaN</td>\n",
       "      <td>NaN</td>\n",
       "      <td>NaN</td>\n",
       "    </tr>\n",
       "    <tr>\n",
       "      <th>Energy efficiency class</th>\n",
       "      <td>NaN</td>\n",
       "      <td>NaN</td>\n",
       "      <td>NaN</td>\n",
       "      <td>NaN</td>\n",
       "      <td>NaN</td>\n",
       "    </tr>\n",
       "    <tr>\n",
       "      <th>CO₂-efficiency</th>\n",
       "      <td>NaN</td>\n",
       "      <td>NaN</td>\n",
       "      <td>NaN</td>\n",
       "      <td>NaN</td>\n",
       "      <td>NaN</td>\n",
       "    </tr>\n",
       "    <tr>\n",
       "      <th>Fuel consumption (WLTP)</th>\n",
       "      <td>NaN</td>\n",
       "      <td>NaN</td>\n",
       "      <td>NaN</td>\n",
       "      <td>NaN</td>\n",
       "      <td>NaN</td>\n",
       "    </tr>\n",
       "    <tr>\n",
       "      <th>CO₂-emissions (WLTP)</th>\n",
       "      <td>NaN</td>\n",
       "      <td>NaN</td>\n",
       "      <td>NaN</td>\n",
       "      <td>NaN</td>\n",
       "      <td>NaN</td>\n",
       "    </tr>\n",
       "    <tr>\n",
       "      <th>Available from</th>\n",
       "      <td>NaN</td>\n",
       "      <td>NaN</td>\n",
       "      <td>NaN</td>\n",
       "      <td>NaN</td>\n",
       "      <td>NaN</td>\n",
       "    </tr>\n",
       "    <tr>\n",
       "      <th>Taxi or rental car</th>\n",
       "      <td>NaN</td>\n",
       "      <td>NaN</td>\n",
       "      <td>NaN</td>\n",
       "      <td>NaN</td>\n",
       "      <td>NaN</td>\n",
       "    </tr>\n",
       "    <tr>\n",
       "      <th>Availability</th>\n",
       "      <td>NaN</td>\n",
       "      <td>NaN</td>\n",
       "      <td>NaN</td>\n",
       "      <td>NaN</td>\n",
       "      <td>NaN</td>\n",
       "    </tr>\n",
       "    <tr>\n",
       "      <th>Last timing belt change</th>\n",
       "      <td>NaN</td>\n",
       "      <td>NaN</td>\n",
       "      <td>NaN</td>\n",
       "      <td>NaN</td>\n",
       "      <td>NaN</td>\n",
       "    </tr>\n",
       "    <tr>\n",
       "      <th>Electric Range (WLTP)</th>\n",
       "      <td>NaN</td>\n",
       "      <td>NaN</td>\n",
       "      <td>NaN</td>\n",
       "      <td>NaN</td>\n",
       "      <td>NaN</td>\n",
       "    </tr>\n",
       "    <tr>\n",
       "      <th>Power consumption (WLTP)</th>\n",
       "      <td>NaN</td>\n",
       "      <td>NaN</td>\n",
       "      <td>NaN</td>\n",
       "      <td>NaN</td>\n",
       "      <td>NaN</td>\n",
       "    </tr>\n",
       "    <tr>\n",
       "      <th>Battery Ownership</th>\n",
       "      <td>NaN</td>\n",
       "      <td>NaN</td>\n",
       "      <td>NaN</td>\n",
       "      <td>NaN</td>\n",
       "      <td>NaN</td>\n",
       "    </tr>\n",
       "  </tbody>\n",
       "</table>\n",
       "</div>"
      ],
      "text/plain": [
       "                                                                       13848  \\\n",
       "make_model                                                      Skoda Citigo   \n",
       "short_description                   1.0 Style Klima Sitzheizung Einparkhilfe   \n",
       "make                                                               \\nSkoda\\n   \n",
       "model                                                       [\\n, Citigo ,\\n]   \n",
       "location                      Ludwigsluster Chaussee 1A,  19061 Schwerin, DE   \n",
       "price                                                             € 12,990.-   \n",
       "Body type                                                  [\\n, Compact, \\n]   \n",
       "Type                                                          [\\n, Used, \\n]   \n",
       "Doors                                                            [\\n, 5, \\n]   \n",
       "Country version                                            [\\n, Germany, \\n]   \n",
       "Offer number                                                 [\\n, 0092C, \\n]   \n",
       "Warranty                                                       [\\n, Yes, \\n]   \n",
       "Mileage                                                            25,585 km   \n",
       "First registration                                                   08/2019   \n",
       "Gearbox                                                         [\\nManual\\n]   \n",
       "Fuel type                                                 Regular/Benzine 91   \n",
       "Colour                                                                  Blue   \n",
       "Paint                                                               Metallic   \n",
       "desc                       [Komfort, Klima,  , Zentralverriegelung m. FB,...   \n",
       "seller                                                                Dealer   \n",
       "Seats                                                            [\\n, 4, \\n]   \n",
       "Power                                                    [\\n55 kW (75 hp)\\n]   \n",
       "Engine size                                                     [\\n999 cc\\n]   \n",
       "Gears                                                                    NaN   \n",
       "CO₂-emissions                                                 0 g/km (comb.)   \n",
       "Manufacturer colour                                    Crystal Blau Metallic   \n",
       "Drivetrain                                                               NaN   \n",
       "Cylinders                                                                NaN   \n",
       "Fuel consumption                                    [[4.1 l/100 km (comb.)]]   \n",
       "\\nComfort & Convenience\\n  [Air conditioning, Electrical side mirrors, Hi...   \n",
       "\\nEntertainment & Media\\n         [CD player, MP3, On-board computer, Radio]   \n",
       "\\nSafety & Security\\n      [ABS, Adaptive headlights, Central door lock, ...   \n",
       "\\nExtras\\n                                       [Alloy wheels, E10-enabled]   \n",
       "Empty weight                                                             NaN   \n",
       "Model code                                                               NaN   \n",
       "General inspection                                                       New   \n",
       "Last service                                                             NaN   \n",
       "Full service history                                                     Yes   \n",
       "Non-smoker vehicle                                                       Yes   \n",
       "Emission class                                                  Euro 6d-TEMP   \n",
       "Emissions sticker                                                  4 (Green)   \n",
       "Upholstery colour                                                      Black   \n",
       "Upholstery                                                             Cloth   \n",
       "Production date                                                          NaN   \n",
       "Previous owner                                                           NaN   \n",
       "Other fuel types                                                         NaN   \n",
       "Power consumption                                                        NaN   \n",
       "Energy efficiency class                                                  NaN   \n",
       "CO₂-efficiency                                                           NaN   \n",
       "Fuel consumption (WLTP)                                                  NaN   \n",
       "CO₂-emissions (WLTP)                                                     NaN   \n",
       "Available from                                                           NaN   \n",
       "Taxi or rental car                                                       NaN   \n",
       "Availability                                                             NaN   \n",
       "Last timing belt change                                                  NaN   \n",
       "Electric Range (WLTP)                                                    NaN   \n",
       "Power consumption (WLTP)                                                 NaN   \n",
       "Battery Ownership                                                        NaN   \n",
       "\n",
       "                                                                       2091   \\\n",
       "make_model                                               Mercedes-Benz S 500   \n",
       "short_description                     4M L AMG PANO BURM TV HUD 360° MASSAGE   \n",
       "make                                                       \\nMercedes-Benz\\n   \n",
       "model                                                        [\\n, S 500 ,\\n]   \n",
       "location                                  Bismarckstr. 26,  10625 Berlin, DE   \n",
       "price                                                            € 130,900.-   \n",
       "Body type                                                    [\\n, Sedan, \\n]   \n",
       "Type                                                          [\\n, Used, \\n]   \n",
       "Doors                                                            [\\n, 4, \\n]   \n",
       "Country version                                                          NaN   \n",
       "Offer number                                                   [\\n, 106, \\n]   \n",
       "Warranty                                                                 NaN   \n",
       "Mileage                                                            55,400 km   \n",
       "First registration                                                   11/2020   \n",
       "Gearbox                                                      [\\nAutomatic\\n]   \n",
       "Fuel type                                                 Regular/Benzine 91   \n",
       "Colour                                                                 Black   \n",
       "Paint                                                               Metallic   \n",
       "desc                       [Allgemeines, Deutsches Fahrzeug, aus erster H...   \n",
       "seller                                                                Dealer   \n",
       "Seats                                                            [\\n, 5, \\n]   \n",
       "Power                                                  [\\n320 kW (435 hp)\\n]   \n",
       "Engine size                                                   [\\n2,999 cc\\n]   \n",
       "Gears                                                                [\\n9\\n]   \n",
       "CO₂-emissions                                               179 g/km (comb.)   \n",
       "Manufacturer colour                                          Obsidianschwarz   \n",
       "Drivetrain                                                     [\\n, 4WD, \\n]   \n",
       "Cylinders                                                            [\\n6\\n]   \n",
       "Fuel consumption           [[7 l/100 km (comb.)], [11 l/100 km (city)], [...   \n",
       "\\nComfort & Convenience\\n  [360° camera, Air conditioning, Air suspension...   \n",
       "\\nEntertainment & Media\\n  [Android Auto, Apple CarPlay, Bluetooth, Digit...   \n",
       "\\nSafety & Security\\n      [ABS, Adaptive Cruise Control, Adaptive headli...   \n",
       "\\nExtras\\n                 [Alloy wheels (19\"), Automatically dimming int...   \n",
       "Empty weight                                                             NaN   \n",
       "Model code                                                [\\n, 0000/000, \\n]   \n",
       "General inspection                                                       NaN   \n",
       "Last service                                                         08/2021   \n",
       "Full service history                                                     Yes   \n",
       "Non-smoker vehicle                                                       Yes   \n",
       "Emission class                                                        Euro 6   \n",
       "Emissions sticker                                                  4 (Green)   \n",
       "Upholstery colour                                                        NaN   \n",
       "Upholstery                                                      Full leather   \n",
       "Production date                                                          NaN   \n",
       "Previous owner                                     [[55,400 km, 11/2020], 1]   \n",
       "Other fuel types                                                         NaN   \n",
       "Power consumption                                                        NaN   \n",
       "Energy efficiency class                                                  NaN   \n",
       "CO₂-efficiency                                                           NaN   \n",
       "Fuel consumption (WLTP)                                                  NaN   \n",
       "CO₂-emissions (WLTP)                                                     NaN   \n",
       "Available from                                                           NaN   \n",
       "Taxi or rental car                                                       NaN   \n",
       "Availability                                                             NaN   \n",
       "Last timing belt change                                                  NaN   \n",
       "Electric Range (WLTP)                                                    NaN   \n",
       "Power consumption (WLTP)                                                 NaN   \n",
       "Battery Ownership                                                        NaN   \n",
       "\n",
       "                                                                       8764   \\\n",
       "make_model                                                      Peugeot 2008   \n",
       "short_description          1.2PureTech GT-Line S&S Carplay/PDC/Camera ***...   \n",
       "make                                                             \\nPeugeot\\n   \n",
       "model                                                         [\\n, 2008 ,\\n]   \n",
       "location                                Emiel Clauslaan 88,  9800 Deinze, BE   \n",
       "price                                                             € 25,950.-   \n",
       "Body type                                         [\\n, Off-Road/Pick-up, \\n]   \n",
       "Type                                                          [\\n, Used, \\n]   \n",
       "Doors                                                            [\\n, 5, \\n]   \n",
       "Country version                                                          NaN   \n",
       "Offer number                                                 [\\n, 18390, \\n]   \n",
       "Warranty                                                 [\\n, 24 months, \\n]   \n",
       "Mileage                                                             4,664 km   \n",
       "First registration                                                   09/2020   \n",
       "Gearbox                                                         [\\nManual\\n]   \n",
       "Fuel type                                                           Gasoline   \n",
       "Colour                                                                 Black   \n",
       "Paint                                                               Metallic   \n",
       "desc                       [Neerklapbare achterbank, Spraakbediening, vel...   \n",
       "seller                                                                Dealer   \n",
       "Seats                                                                    NaN   \n",
       "Power                                                   [\\n96 kW (131 hp)\\n]   \n",
       "Engine size                                                   [\\n1,199 cc\\n]   \n",
       "Gears                                                                [\\n6\\n]   \n",
       "CO₂-emissions                                               103 g/km (comb.)   \n",
       "Manufacturer colour                                                      NaN   \n",
       "Drivetrain                                                   [\\n, Front, \\n]   \n",
       "Cylinders                                                                NaN   \n",
       "Fuel consumption                                                         NaN   \n",
       "\\nComfort & Convenience\\n  [Air conditioning, Armrest, Automatic climate ...   \n",
       "\\nEntertainment & Media\\n  [Android Auto, Apple CarPlay, Bluetooth, Digit...   \n",
       "\\nSafety & Security\\n      [Blind spot monitor, Central door lock, Driver...   \n",
       "\\nExtras\\n                 [Alloy wheels, Ambient lighting, Automatically...   \n",
       "Empty weight                                                             NaN   \n",
       "Model code                                                               NaN   \n",
       "General inspection                                                       NaN   \n",
       "Last service                                                             NaN   \n",
       "Full service history                                                     Yes   \n",
       "Non-smoker vehicle                                                       Yes   \n",
       "Emission class                                                        Euro 6   \n",
       "Emissions sticker                                                        NaN   \n",
       "Upholstery colour                                                      Black   \n",
       "Upholstery                                                      Full leather   \n",
       "Production date                                                          NaN   \n",
       "Previous owner                                      [[4,664 km, 09/2020], 1]   \n",
       "Other fuel types                                                         NaN   \n",
       "Power consumption                                                        NaN   \n",
       "Energy efficiency class                                                  NaN   \n",
       "CO₂-efficiency                                                           NaN   \n",
       "Fuel consumption (WLTP)                                                  NaN   \n",
       "CO₂-emissions (WLTP)                                                     NaN   \n",
       "Available from                                                           NaN   \n",
       "Taxi or rental car                                                       NaN   \n",
       "Availability                                                             NaN   \n",
       "Last timing belt change                                                  NaN   \n",
       "Electric Range (WLTP)                                                    NaN   \n",
       "Power consumption (WLTP)                                                 NaN   \n",
       "Battery Ownership                                                        NaN   \n",
       "\n",
       "                                                                       14011  \\\n",
       "make_model                                                     Skoda Felicia   \n",
       "short_description                                                   1.9D GLX   \n",
       "make                                                               \\nSkoda\\n   \n",
       "model                                                      [\\n, Felicia ,\\n]   \n",
       "location                   Carretera vieja de Santiago, N360,  27004 LUGO...   \n",
       "price                                                              € 2,500.-   \n",
       "Body type                                                  [\\n, Compact, \\n]   \n",
       "Type                                                          [\\n, Used, \\n]   \n",
       "Doors                                                            [\\n, 5, \\n]   \n",
       "Country version                                              [\\n, Spain, \\n]   \n",
       "Offer number                                               [\\n, 7467051, \\n]   \n",
       "Warranty                                                 [\\n, 12 months, \\n]   \n",
       "Mileage                                                           202,974 km   \n",
       "First registration                                                   06/1999   \n",
       "Gearbox                                                         [\\nManual\\n]   \n",
       "Fuel type                                                             Diesel   \n",
       "Colour                                                                  Blue   \n",
       "Paint                                                               Metallic   \n",
       "desc                       [SKODA FELICIA 1.9D SX. Pequeño utiliario muy ...   \n",
       "seller                                                                Dealer   \n",
       "Seats                                                            [\\n, 5, \\n]   \n",
       "Power                                                    [\\n47 kW (64 hp)\\n]   \n",
       "Engine size                                                   [\\n1,896 cc\\n]   \n",
       "Gears                                                                [\\n5\\n]   \n",
       "CO₂-emissions                                                            NaN   \n",
       "Manufacturer colour                                                      NaN   \n",
       "Drivetrain                                                   [\\n, Front, \\n]   \n",
       "Cylinders                                                            [\\n4\\n]   \n",
       "Fuel consumption           [[6.1 l/100 km (comb.)], [6.3 l/100 km (city)]...   \n",
       "\\nComfort & Convenience\\n                                   [Tinted windows]   \n",
       "\\nEntertainment & Media\\n                                                NaN   \n",
       "\\nSafety & Security\\n                           [Fog lights, Power steering]   \n",
       "\\nExtras\\n                                                               NaN   \n",
       "Empty weight                                                  [\\n1,035 kg\\n]   \n",
       "Model code                                                               NaN   \n",
       "General inspection                                                       NaN   \n",
       "Last service                                                             NaN   \n",
       "Full service history                                                     NaN   \n",
       "Non-smoker vehicle                                                       NaN   \n",
       "Emission class                                                           NaN   \n",
       "Emissions sticker                                                        NaN   \n",
       "Upholstery colour                                                        NaN   \n",
       "Upholstery                                                               NaN   \n",
       "Production date                                                          NaN   \n",
       "Previous owner                                                           NaN   \n",
       "Other fuel types                                                         NaN   \n",
       "Power consumption                                                        NaN   \n",
       "Energy efficiency class                                                  NaN   \n",
       "CO₂-efficiency                                                           NaN   \n",
       "Fuel consumption (WLTP)                                                  NaN   \n",
       "CO₂-emissions (WLTP)                                                     NaN   \n",
       "Available from                                                           NaN   \n",
       "Taxi or rental car                                                       NaN   \n",
       "Availability                                                             NaN   \n",
       "Last timing belt change                                                  NaN   \n",
       "Electric Range (WLTP)                                                    NaN   \n",
       "Power consumption (WLTP)                                                 NaN   \n",
       "Battery Ownership                                                        NaN   \n",
       "\n",
       "                                                                       16873  \n",
       "make_model                                                     Dacia Sandero  \n",
       "short_description                        SL Aniversario TCe 1.0 74kW (100CV)  \n",
       "make                                                               \\nDacia\\n  \n",
       "model                                                      [\\n, Sandero ,\\n]  \n",
       "location                             Gernika Kalea, 48,  48960 Galdakano, ES  \n",
       "price                                                             € 13,990.-  \n",
       "Body type                                                    [\\n, Sedan, \\n]  \n",
       "Type                                                          [\\n, Used, \\n]  \n",
       "Doors                                                            [\\n, 5, \\n]  \n",
       "Country version                                              [\\n, Spain, \\n]  \n",
       "Offer number                                               [\\n, 7474116, \\n]  \n",
       "Warranty                                                 [\\n, 12 months, \\n]  \n",
       "Mileage                                                             3,750 km  \n",
       "First registration                                                   12/2020  \n",
       "Gearbox                                                         [\\nManual\\n]  \n",
       "Fuel type                                                           Gasoline  \n",
       "Colour                                                                  Grey  \n",
       "Paint                                                                    NaN  \n",
       "desc                       [ , Precio al contado: 15990 euros,  , Para co...  \n",
       "seller                                                                Dealer  \n",
       "Seats                                                                    NaN  \n",
       "Power                                                   [\\n74 kW (101 hp)\\n]  \n",
       "Engine size                                                   [\\n1,000 cc\\n]  \n",
       "Gears                                                                    NaN  \n",
       "CO₂-emissions                                                            NaN  \n",
       "Manufacturer colour                                                     Gris  \n",
       "Drivetrain                                                               NaN  \n",
       "Cylinders                                                                NaN  \n",
       "Fuel consumption           [[6 l/100 km (comb.)], [6.5 l/100 km (city)], ...  \n",
       "\\nComfort & Convenience\\n                                                NaN  \n",
       "\\nEntertainment & Media\\n                                                NaN  \n",
       "\\nSafety & Security\\n                                                    NaN  \n",
       "\\nExtras\\n                                                               NaN  \n",
       "Empty weight                                                             NaN  \n",
       "Model code                                                               NaN  \n",
       "General inspection                                                       NaN  \n",
       "Last service                                                             NaN  \n",
       "Full service history                                                     NaN  \n",
       "Non-smoker vehicle                                                       NaN  \n",
       "Emission class                                                           NaN  \n",
       "Emissions sticker                                                        NaN  \n",
       "Upholstery colour                                                        NaN  \n",
       "Upholstery                                                               NaN  \n",
       "Production date                                                          NaN  \n",
       "Previous owner                                                           NaN  \n",
       "Other fuel types                                                         NaN  \n",
       "Power consumption                                                        NaN  \n",
       "Energy efficiency class                                                  NaN  \n",
       "CO₂-efficiency                                                           NaN  \n",
       "Fuel consumption (WLTP)                                                  NaN  \n",
       "CO₂-emissions (WLTP)                                                     NaN  \n",
       "Available from                                                           NaN  \n",
       "Taxi or rental car                                                       NaN  \n",
       "Availability                                                             NaN  \n",
       "Last timing belt change                                                  NaN  \n",
       "Electric Range (WLTP)                                                    NaN  \n",
       "Power consumption (WLTP)                                                 NaN  \n",
       "Battery Ownership                                                        NaN  "
      ]
     },
     "execution_count": 12,
     "metadata": {},
     "output_type": "execute_result"
    }
   ],
   "source": [
    "df.sample(5).T"
   ]
  },
  {
   "cell_type": "code",
   "execution_count": 13,
   "metadata": {
    "scrolled": true
   },
   "outputs": [
    {
     "name": "stdout",
     "output_type": "stream",
     "text": [
      "<class 'pandas.core.frame.DataFrame'>\n",
      "RangeIndex: 29480 entries, 0 to 29479\n",
      "Data columns (total 58 columns):\n",
      " #   Column                    Non-Null Count  Dtype  \n",
      "---  ------                    --------------  -----  \n",
      " 0   make_model                28630 non-null  object \n",
      " 1   short_description         28630 non-null  object \n",
      " 2   make                      28630 non-null  object \n",
      " 3   model                     28630 non-null  object \n",
      " 4   location                  28630 non-null  object \n",
      " 5   price                     28630 non-null  object \n",
      " 6   Body type                 28630 non-null  object \n",
      " 7   Type                      28630 non-null  object \n",
      " 8   Doors                     28271 non-null  object \n",
      " 9   Country version           16889 non-null  object \n",
      " 10  Offer number              23100 non-null  object \n",
      " 11  Warranty                  15784 non-null  object \n",
      " 12  Mileage                   28629 non-null  object \n",
      " 13  First registration        28628 non-null  object \n",
      " 14  Gearbox                   28382 non-null  object \n",
      " 15  Fuel type                 26843 non-null  object \n",
      " 16  Colour                    26906 non-null  object \n",
      " 17  Paint                     14495 non-null  object \n",
      " 18  desc                      28047 non-null  object \n",
      " 19  seller                    28630 non-null  object \n",
      " 20  Seats                     25505 non-null  object \n",
      " 21  Power                     28058 non-null  object \n",
      " 22  Engine size               27227 non-null  object \n",
      " 23  Gears                     18954 non-null  object \n",
      " 24  CO₂-emissions             18594 non-null  object \n",
      " 25  Manufacturer colour       21787 non-null  object \n",
      " 26  Drivetrain                16893 non-null  object \n",
      " 27  Cylinders                 18852 non-null  object \n",
      " 28  Fuel consumption          23385 non-null  object \n",
      " 29  \n",
      "Comfort & Convenience\n",
      "   25433 non-null  object \n",
      " 30  \n",
      "Entertainment & Media\n",
      "   23644 non-null  object \n",
      " 31  \n",
      "Safety & Security\n",
      "       25415 non-null  object \n",
      " 32  \n",
      "Extras\n",
      "                  23480 non-null  object \n",
      " 33  Empty weight              17758 non-null  object \n",
      " 34  Model code                8367 non-null   object \n",
      " 35  General inspection        12254 non-null  object \n",
      " 36  Last service              2003 non-null   object \n",
      " 37  Full service history      12565 non-null  object \n",
      " 38  Non-smoker vehicle        11594 non-null  object \n",
      " 39  Emission class            17859 non-null  object \n",
      " 40  Emissions sticker         9414 non-null   object \n",
      " 41  Upholstery colour         14569 non-null  object \n",
      " 42  Upholstery                18610 non-null  object \n",
      " 43  Production date           5908 non-null   float64\n",
      " 44  Previous owner            14015 non-null  object \n",
      " 45  Other fuel types          2313 non-null   object \n",
      " 46  Power consumption         515 non-null    object \n",
      " 47  Energy efficiency class   7804 non-null   object \n",
      " 48  CO₂-efficiency            7804 non-null   object \n",
      " 49  Fuel consumption (WLTP)   100 non-null    object \n",
      " 50  CO₂-emissions (WLTP)      116 non-null    object \n",
      " 51  Available from            393 non-null    object \n",
      " 52  Taxi or rental car        422 non-null    object \n",
      " 53  Availability              301 non-null    object \n",
      " 54  Last timing belt change   572 non-null    object \n",
      " 55  Electric Range (WLTP)     16 non-null     object \n",
      " 56  Power consumption (WLTP)  16 non-null     object \n",
      " 57  Battery Ownership         7 non-null      object \n",
      "dtypes: float64(1), object(57)\n",
      "memory usage: 13.0+ MB\n"
     ]
    }
   ],
   "source": [
    "df.info()"
   ]
  },
  {
   "cell_type": "markdown",
   "metadata": {},
   "source": [
    "## Checking the null values"
   ]
  },
  {
   "cell_type": "code",
   "execution_count": 14,
   "metadata": {},
   "outputs": [
    {
     "data": {
      "text/plain": [
       "make_model                     850\n",
       "short_description              850\n",
       "make                           850\n",
       "model                          850\n",
       "location                       850\n",
       "price                          850\n",
       "Body type                      850\n",
       "Type                           850\n",
       "seller                         850\n",
       "Mileage                        851\n",
       "First registration             852\n",
       "Gearbox                       1098\n",
       "Doors                         1209\n",
       "Power                         1422\n",
       "desc                          1433\n",
       "Engine size                   2253\n",
       "Colour                        2574\n",
       "Fuel type                     2637\n",
       "Seats                         3975\n",
       "\\nComfort & Convenience\\n     4047\n",
       "\\nSafety & Security\\n         4065\n",
       "\\nEntertainment & Media\\n     5836\n",
       "\\nExtras\\n                    6000\n",
       "Fuel consumption              6095\n",
       "Offer number                  6380\n",
       "Manufacturer colour           7693\n",
       "Gears                        10526\n",
       "Cylinders                    10628\n",
       "Upholstery                   10870\n",
       "CO₂-emissions                10886\n",
       "Emission class               11621\n",
       "Empty weight                 11722\n",
       "Drivetrain                   12587\n",
       "Country version              12591\n",
       "Warranty                     13696\n",
       "Upholstery colour            14911\n",
       "Paint                        14985\n",
       "Previous owner               15465\n",
       "Full service history         16915\n",
       "General inspection           17226\n",
       "Non-smoker vehicle           17886\n",
       "Emissions sticker            20066\n",
       "Model code                   21113\n",
       "Energy efficiency class      21676\n",
       "CO₂-efficiency               21676\n",
       "Production date              23572\n",
       "Other fuel types             27167\n",
       "Last service                 27477\n",
       "Last timing belt change      28908\n",
       "Power consumption            28965\n",
       "Taxi or rental car           29058\n",
       "Available from               29087\n",
       "Availability                 29179\n",
       "CO₂-emissions (WLTP)         29364\n",
       "Fuel consumption (WLTP)      29380\n",
       "Power consumption (WLTP)     29464\n",
       "Electric Range (WLTP)        29464\n",
       "Battery Ownership            29473\n",
       "dtype: int64"
      ]
     },
     "execution_count": 14,
     "metadata": {},
     "output_type": "execute_result"
    }
   ],
   "source": [
    "df.isnull().sum().sort_values(ascending=True)"
   ]
  },
  {
   "cell_type": "markdown",
   "metadata": {},
   "source": [
    "## Checking & Cleaning the column names"
   ]
  },
  {
   "cell_type": "code",
   "execution_count": 15,
   "metadata": {},
   "outputs": [
    {
     "data": {
      "text/plain": [
       "Index(['make_model', 'short_description', 'make', 'model', 'location', 'price',\n",
       "       'Body type', 'Type', 'Doors', 'Country version', 'Offer number',\n",
       "       'Warranty', 'Mileage', 'First registration', 'Gearbox', 'Fuel type',\n",
       "       'Colour', 'Paint', 'desc', 'seller', 'Seats', 'Power', 'Engine size',\n",
       "       'Gears', 'CO₂-emissions', 'Manufacturer colour', 'Drivetrain',\n",
       "       'Cylinders', 'Fuel consumption', '\\nComfort & Convenience\\n',\n",
       "       '\\nEntertainment & Media\\n', '\\nSafety & Security\\n', '\\nExtras\\n',\n",
       "       'Empty weight', 'Model code', 'General inspection', 'Last service',\n",
       "       'Full service history', 'Non-smoker vehicle', 'Emission class',\n",
       "       'Emissions sticker', 'Upholstery colour', 'Upholstery',\n",
       "       'Production date', 'Previous owner', 'Other fuel types',\n",
       "       'Power consumption', 'Energy efficiency class', 'CO₂-efficiency',\n",
       "       'Fuel consumption (WLTP)', 'CO₂-emissions (WLTP)', 'Available from',\n",
       "       'Taxi or rental car', 'Availability', 'Last timing belt change',\n",
       "       'Electric Range (WLTP)', 'Power consumption (WLTP)',\n",
       "       'Battery Ownership'],\n",
       "      dtype='object')"
      ]
     },
     "execution_count": 15,
     "metadata": {},
     "output_type": "execute_result"
    }
   ],
   "source": [
    "df.columns"
   ]
  },
  {
   "cell_type": "code",
   "execution_count": 16,
   "metadata": {},
   "outputs": [
    {
     "data": {
      "text/plain": [
       "Index(['make_model', 'short_description', 'make', 'model', 'location', 'price',\n",
       "       'body_type', 'type', 'doors', 'country_version', 'offer_number',\n",
       "       'warranty', 'mileage', 'first_registration', 'gearbox', 'fuel_type',\n",
       "       'colour', 'paint', 'desc', 'seller', 'seats', 'power', 'engine_size',\n",
       "       'gears', 'co_emissions', 'manufacturer_colour', 'drivetrain',\n",
       "       'cylinders', 'fuel_consumption', 'comfort_&_convenience',\n",
       "       'entertainment_&_media', 'safety_&_security', 'extras', 'empty_weight',\n",
       "       'model_code', 'general_inspection', 'last_service',\n",
       "       'full_service_history', 'non_smoker_vehicle', 'emission_class',\n",
       "       'emissions_sticker', 'upholstery_colour', 'upholstery',\n",
       "       'production_date', 'previous_owner', 'other_fuel_types',\n",
       "       'power_consumption', 'energy_efficiency_class', 'co_efficiency',\n",
       "       'fuel_consumption_wltp', 'co_emissions_wltp', 'available_from',\n",
       "       'taxi_or_rental_car', 'availability', 'last_timing_belt_change',\n",
       "       'electric_range_wltp', 'power_consumption_wltp', 'battery_ownership'],\n",
       "      dtype='object')"
      ]
     },
     "execution_count": 16,
     "metadata": {},
     "output_type": "execute_result"
    }
   ],
   "source": [
    "df = clean_columns(df)\n",
    "df.columns"
   ]
  },
  {
   "cell_type": "code",
   "execution_count": 17,
   "metadata": {},
   "outputs": [],
   "source": [
    "df.rename(columns={'comfort_&_convenience': 'comfort_convenience', 'entertainment_&_media':'entertainment_media','safety_&_security':'safety_security', }, inplace=True)"
   ]
  },
  {
   "cell_type": "code",
   "execution_count": 18,
   "metadata": {},
   "outputs": [
    {
     "data": {
      "text/plain": [
       "Index(['make_model', 'short_description', 'make', 'model', 'location', 'price',\n",
       "       'body_type', 'type', 'doors', 'country_version', 'offer_number',\n",
       "       'warranty', 'mileage', 'first_registration', 'gearbox', 'fuel_type',\n",
       "       'colour', 'paint', 'desc', 'seller', 'seats', 'power', 'engine_size',\n",
       "       'gears', 'co_emissions', 'manufacturer_colour', 'drivetrain',\n",
       "       'cylinders', 'fuel_consumption', 'comfort_convenience',\n",
       "       'entertainment_media', 'safety_security', 'extras', 'empty_weight',\n",
       "       'model_code', 'general_inspection', 'last_service',\n",
       "       'full_service_history', 'non_smoker_vehicle', 'emission_class',\n",
       "       'emissions_sticker', 'upholstery_colour', 'upholstery',\n",
       "       'production_date', 'previous_owner', 'other_fuel_types',\n",
       "       'power_consumption', 'energy_efficiency_class', 'co_efficiency',\n",
       "       'fuel_consumption_wltp', 'co_emissions_wltp', 'available_from',\n",
       "       'taxi_or_rental_car', 'availability', 'last_timing_belt_change',\n",
       "       'electric_range_wltp', 'power_consumption_wltp', 'battery_ownership'],\n",
       "      dtype='object')"
      ]
     },
     "execution_count": 18,
     "metadata": {},
     "output_type": "execute_result"
    }
   ],
   "source": [
    "df.columns"
   ]
  },
  {
   "cell_type": "markdown",
   "metadata": {},
   "source": [
    "## Dropping the rows with all missing values"
   ]
  },
  {
   "cell_type": "code",
   "execution_count": 19,
   "metadata": {},
   "outputs": [
    {
     "data": {
      "text/plain": [
       "(28630, 58)"
      ]
     },
     "execution_count": 19,
     "metadata": {},
     "output_type": "execute_result"
    }
   ],
   "source": [
    "df.dropna(axis=0, how=\"all\", inplace=True)\n",
    "df.shape"
   ]
  },
  {
   "cell_type": "markdown",
   "metadata": {},
   "source": [
    "# Univariate Analysis (=Checking the features one by one)"
   ]
  },
  {
   "cell_type": "markdown",
   "metadata": {},
   "source": [
    "## Make Model"
   ]
  },
  {
   "cell_type": "code",
   "execution_count": 20,
   "metadata": {},
   "outputs": [
    {
     "data": {
      "text/plain": [
       "make_model\n",
       "Renault Megane     863\n",
       "SEAT Leon          787\n",
       "Volvo V40          740\n",
       "Dacia Sandero      730\n",
       "Hyundai i30        706\n",
       "                  ... \n",
       "Toyota GR86          1\n",
       "Toyota Tacoma        1\n",
       "Toyota Tundra        1\n",
       "Toyota 4-Runner      1\n",
       "Volvo 244            1\n",
       "Name: count, Length: 611, dtype: int64"
      ]
     },
     "execution_count": 20,
     "metadata": {},
     "output_type": "execute_result"
    }
   ],
   "source": [
    "df['make_model'].value_counts(dropna=False)"
   ]
  },
  {
   "cell_type": "markdown",
   "metadata": {},
   "source": [
    "## Short Description"
   ]
  },
  {
   "cell_type": "code",
   "execution_count": 21,
   "metadata": {},
   "outputs": [
    {
     "data": {
      "text/plain": [
       "short_description\n",
       "                                                      213\n",
       "D2 Momentum 120                                        88\n",
       "D2 Kinetic 120                                         87\n",
       "Cabrio 1.4T S&S Excellence                             85\n",
       "Extreme+ 7-Sitzer TCe 110                              57\n",
       "                                                     ... \n",
       "PureTech  EAT8 Allure Pack...DISP. PER NOLEGGIO         1\n",
       "BlueHDi 130 S&S EAT8 Business                           1\n",
       "2.0 BlueHDi 180ch S\\u0026S GT Line EAT8                 1\n",
       "1.2 PureTech Première AUT. NAVI PANO                    1\n",
       "2.9 Executive G. NETTE AUTO! LEER! NAVI! CRUISE! L      1\n",
       "Name: count, Length: 20947, dtype: int64"
      ]
     },
     "execution_count": 21,
     "metadata": {},
     "output_type": "execute_result"
    }
   ],
   "source": [
    "df['short_description'].value_counts(dropna=False)"
   ]
  },
  {
   "cell_type": "markdown",
   "metadata": {},
   "source": [
    "## Make"
   ]
  },
  {
   "cell_type": "code",
   "execution_count": 22,
   "metadata": {},
   "outputs": [
    {
     "data": {
      "text/plain": [
       "make\n",
       "\\nVolvo\\n            3659\n",
       "\\nMercedes-Benz\\n    2398\n",
       "\\nOpel\\n             2385\n",
       "\\nPeugeot\\n          2360\n",
       "\\nRenault\\n          2351\n",
       "\\nFiat\\n             2338\n",
       "\\nFord\\n             2324\n",
       "\\nNissan\\n           2064\n",
       "\\nToyota\\n           2038\n",
       "\\nHyundai\\n          1867\n",
       "\\nSEAT\\n             1743\n",
       "\\nSkoda\\n            1566\n",
       "\\nDacia\\n            1537\n",
       "Name: count, dtype: int64"
      ]
     },
     "execution_count": 22,
     "metadata": {},
     "output_type": "execute_result"
    }
   ],
   "source": [
    "df.make.value_counts()"
   ]
  },
  {
   "cell_type": "code",
   "execution_count": 23,
   "metadata": {},
   "outputs": [
    {
     "data": {
      "text/plain": [
       "make\n",
       "Volvo            3659\n",
       "Mercedes-Benz    2398\n",
       "Opel             2385\n",
       "Peugeot          2360\n",
       "Renault          2351\n",
       "Fiat             2338\n",
       "Ford             2324\n",
       "Nissan           2064\n",
       "Toyota           2038\n",
       "Hyundai          1867\n",
       "SEAT             1743\n",
       "Skoda            1566\n",
       "Dacia            1537\n",
       "Name: count, dtype: int64"
      ]
     },
     "execution_count": 23,
     "metadata": {},
     "output_type": "execute_result"
    }
   ],
   "source": [
    "df[\"make\"] = df[\"make\"].str.strip(\"\\n\")\n",
    "df.make.value_counts(dropna=False)"
   ]
  },
  {
   "cell_type": "code",
   "execution_count": 24,
   "metadata": {},
   "outputs": [
    {
     "data": {
      "text/plain": [
       "0"
      ]
     },
     "execution_count": 24,
     "metadata": {},
     "output_type": "execute_result"
    }
   ],
   "source": [
    "df['make'].isna().sum()"
   ]
  },
  {
   "cell_type": "markdown",
   "metadata": {},
   "source": [
    "## Model"
   ]
  },
  {
   "cell_type": "code",
   "execution_count": 25,
   "metadata": {},
   "outputs": [
    {
     "data": {
      "text/plain": [
       "model\n",
       "[\\n, Megane ,\\n]        863\n",
       "[\\n, Leon ,\\n]          787\n",
       "[\\n, V40 ,\\n]           740\n",
       "[\\n, Sandero ,\\n]       730\n",
       "[\\n, i30 ,\\n]           706\n",
       "                       ... \n",
       "[\\n, GLA 35 AMG ,\\n]      1\n",
       "[\\n, G 55 AMG ,\\n]        1\n",
       "[\\n, Ariya ,\\n]           1\n",
       "[\\n, 105 ,\\n]             1\n",
       "[\\n, 244 ,\\n]             1\n",
       "Name: count, Length: 594, dtype: int64"
      ]
     },
     "execution_count": 25,
     "metadata": {},
     "output_type": "execute_result"
    }
   ],
   "source": [
    "df.model.value_counts(dropna=False)"
   ]
  },
  {
   "cell_type": "code",
   "execution_count": 26,
   "metadata": {},
   "outputs": [],
   "source": [
    "df['model']=df['model'].apply(lambda item : item[0] if type(item)==list else item)"
   ]
  },
  {
   "cell_type": "code",
   "execution_count": 27,
   "metadata": {},
   "outputs": [],
   "source": [
    "df['model']=df['model'].str.strip('\\n, ')"
   ]
  },
  {
   "cell_type": "code",
   "execution_count": 28,
   "metadata": {},
   "outputs": [
    {
     "data": {
      "text/plain": [
       "model\n",
       "Megane        863\n",
       "Leon          787\n",
       "V40           740\n",
       "Sandero       730\n",
       "i30           706\n",
       "             ... \n",
       "GLA 35 AMG      1\n",
       "G 55 AMG        1\n",
       "Ariya           1\n",
       "105             1\n",
       "244             1\n",
       "Name: count, Length: 594, dtype: int64"
      ]
     },
     "execution_count": 28,
     "metadata": {},
     "output_type": "execute_result"
    }
   ],
   "source": [
    "df.model.value_counts(dropna=False)"
   ]
  },
  {
   "cell_type": "code",
   "execution_count": 29,
   "metadata": {},
   "outputs": [
    {
     "data": {
      "text/plain": [
       "0"
      ]
     },
     "execution_count": 29,
     "metadata": {},
     "output_type": "execute_result"
    }
   ],
   "source": [
    "df['model'].isna().sum()"
   ]
  },
  {
   "cell_type": "markdown",
   "metadata": {},
   "source": [
    "## Bucketing the location column into country"
   ]
  },
  {
   "cell_type": "code",
   "execution_count": 30,
   "metadata": {},
   "outputs": [
    {
     "data": {
      "text/plain": [
       "location\n",
       "Av. Laboral, 10,  28021 MADRID, ES                          306\n",
       "Luckenwalder Berg 5,  14913 Jüterbog, DE                    170\n",
       "Ctra. del Mig, 96,,  08097 L'Hospitalet de Llobregat, ES    146\n",
       "9 boulevard Jules Ferry,  75011 Paris, FR                   142\n",
       "Neuenhofstr. 77,  52078 Aachen, DE                          135\n",
       "                                                           ... \n",
       "2727CT ZOETERMEER, NL                                         1\n",
       "Rosendaalsestraat 437-439,  6824 CK ARNHEM, NL                1\n",
       "5751VH DEURNE, NL                                             1\n",
       "00148 roma, IT                                                1\n",
       "Sur rendez-vous,  5060 Sambreville, BE                        1\n",
       "Name: count, Length: 8181, dtype: int64"
      ]
     },
     "execution_count": 30,
     "metadata": {},
     "output_type": "execute_result"
    }
   ],
   "source": [
    "df[\"location\"].value_counts(dropna=False)"
   ]
  },
  {
   "cell_type": "code",
   "execution_count": 31,
   "metadata": {},
   "outputs": [],
   "source": [
    "df['country'] = df['location'].str.split(',').str[-1]\n",
    "df['city'] = df['location'].str.split(',').str[-2]"
   ]
  },
  {
   "cell_type": "code",
   "execution_count": 32,
   "metadata": {},
   "outputs": [
    {
     "data": {
      "text/plain": [
       "country\n",
       " DE    12643\n",
       " ES     6517\n",
       " NL     2929\n",
       " IT     2497\n",
       " BE     1873\n",
       " FR     1473\n",
       " AT      660\n",
       " LU       35\n",
       " DK        1\n",
       " EE        1\n",
       " BG        1\n",
       "Name: count, dtype: int64"
      ]
     },
     "execution_count": 32,
     "metadata": {},
     "output_type": "execute_result"
    }
   ],
   "source": [
    "df['country'].value_counts(dropna=False)"
   ]
  },
  {
   "cell_type": "markdown",
   "metadata": {},
   "source": [
    "## City"
   ]
  },
  {
   "cell_type": "code",
   "execution_count": 33,
   "metadata": {},
   "outputs": [
    {
     "data": {
      "text/plain": [
       "city\n",
       "  28021 MADRID                       333\n",
       "  14913 Jüterbog                     170\n",
       "  08097 L'Hospitalet de Llobregat    147\n",
       "  75011 Paris                        142\n",
       "  52078 Aachen                       135\n",
       "                                    ... \n",
       "4663 Laakirchen                        1\n",
       "67250 aschbach                         1\n",
       "  3530 Houthalen-Helchteren            1\n",
       "47290 Cancon                           1\n",
       "1000 Brussel                           1\n",
       "Name: count, Length: 6807, dtype: int64"
      ]
     },
     "execution_count": 33,
     "metadata": {},
     "output_type": "execute_result"
    }
   ],
   "source": [
    "df['city'].value_counts(dropna=False)"
   ]
  },
  {
   "cell_type": "code",
   "execution_count": 34,
   "metadata": {},
   "outputs": [
    {
     "data": {
      "text/plain": [
       "city\n",
       "   MADRID         736\n",
       "   Berlin         424\n",
       "   SEVILLA        210\n",
       "   Dresden        209\n",
       "   München        200\n",
       "                 ... \n",
       " Strasswalchen      1\n",
       "   Spielfeld        1\n",
       "   NORMANVILLE      1\n",
       "   Wilthen          1\n",
       " Brussel            1\n",
       "Name: count, Length: 5733, dtype: int64"
      ]
     },
     "execution_count": 34,
     "metadata": {},
     "output_type": "execute_result"
    }
   ],
   "source": [
    "df['city']= df['city'].apply(lambda x: re.sub(r'\\d+', '', x))\n",
    "df['city'].value_counts(dropna=False)"
   ]
  },
  {
   "cell_type": "markdown",
   "metadata": {},
   "source": [
    "## Price"
   ]
  },
  {
   "cell_type": "code",
   "execution_count": 35,
   "metadata": {},
   "outputs": [
    {
     "data": {
      "text/plain": [
       "price\n",
       "€ 14,990.-    222\n",
       "€ 12,990.-    219\n",
       "€ 16,990.-    186\n",
       "€ 19,990.-    166\n",
       "€ 9,990.-     160\n",
       "             ... \n",
       "€ 19,112.-      1\n",
       "€ 30,465.-      1\n",
       "€ 18,461.-      1\n",
       "€ 22,649.-      1\n",
       "€ 4,440.-       1\n",
       "Name: count, Length: 5021, dtype: int64"
      ]
     },
     "execution_count": 35,
     "metadata": {},
     "output_type": "execute_result"
    }
   ],
   "source": [
    "df[\"price\"].value_counts(dropna=False)"
   ]
  },
  {
   "cell_type": "code",
   "execution_count": 36,
   "metadata": {},
   "outputs": [],
   "source": [
    "df[\"price\"]= df['price'].str.replace('\\D+', '', regex=True)\n",
    "df[\"price\"]=df['price'].str.strip(' ')"
   ]
  },
  {
   "cell_type": "code",
   "execution_count": 37,
   "metadata": {},
   "outputs": [
    {
     "data": {
      "text/plain": [
       "price\n",
       "14990    222\n",
       "12990    219\n",
       "16990    186\n",
       "19990    166\n",
       "9990     160\n",
       "        ... \n",
       "19112      1\n",
       "30465      1\n",
       "18461      1\n",
       "22649      1\n",
       "4440       1\n",
       "Name: count, Length: 5021, dtype: int64"
      ]
     },
     "execution_count": 37,
     "metadata": {},
     "output_type": "execute_result"
    }
   ],
   "source": [
    "df[\"price\"].value_counts(dropna=False)"
   ]
  },
  {
   "cell_type": "code",
   "execution_count": 38,
   "metadata": {},
   "outputs": [
    {
     "data": {
      "text/plain": [
       "0"
      ]
     },
     "execution_count": 38,
     "metadata": {},
     "output_type": "execute_result"
    }
   ],
   "source": [
    "df.price.isna().sum()"
   ]
  },
  {
   "cell_type": "code",
   "execution_count": 39,
   "metadata": {},
   "outputs": [
    {
     "data": {
      "text/plain": [
       "price\n",
       "<class 'str'>    28630\n",
       "Name: count, dtype: int64"
      ]
     },
     "execution_count": 39,
     "metadata": {},
     "output_type": "execute_result"
    }
   ],
   "source": [
    "df[\"price\"].apply(lambda x:type(x)).value_counts()"
   ]
  },
  {
   "cell_type": "code",
   "execution_count": 40,
   "metadata": {},
   "outputs": [
    {
     "data": {
      "text/plain": [
       "0        16950\n",
       "1        80900\n",
       "2        69900\n",
       "3        46990\n",
       "4        16800\n",
       "         ...  \n",
       "29474    37600\n",
       "29475     5499\n",
       "29476     7300\n",
       "29477    29900\n",
       "29478     4440\n",
       "Name: price, Length: 28630, dtype: int32"
      ]
     },
     "execution_count": 40,
     "metadata": {},
     "output_type": "execute_result"
    }
   ],
   "source": [
    "df[\"price\"].astype('int')"
   ]
  },
  {
   "cell_type": "code",
   "execution_count": 41,
   "metadata": {},
   "outputs": [
    {
     "name": "stdout",
     "output_type": "stream",
     "text": [
      "<class 'pandas.core.series.Series'>\n",
      "Index: 28630 entries, 0 to 29478\n",
      "Series name: price\n",
      "Non-Null Count  Dtype \n",
      "--------------  ----- \n",
      "28630 non-null  object\n",
      "dtypes: object(1)\n",
      "memory usage: 447.3+ KB\n"
     ]
    }
   ],
   "source": [
    "df[\"price\"].info()"
   ]
  },
  {
   "cell_type": "markdown",
   "metadata": {},
   "source": [
    "## Body Type"
   ]
  },
  {
   "cell_type": "code",
   "execution_count": 42,
   "metadata": {},
   "outputs": [
    {
     "data": {
      "text/plain": [
       "body_type\n",
       "[\\n, Station wagon, \\n]       5448\n",
       "[\\n, Off-Road/Pick-up, \\n]    5415\n",
       "[\\n, Compact, \\n]             5387\n",
       "[\\n, Sedan, \\n]               5043\n",
       "[\\n, Coupe, \\n]               4009\n",
       "[\\n, Convertible, \\n]         3328\n",
       "Name: count, dtype: int64"
      ]
     },
     "execution_count": 42,
     "metadata": {},
     "output_type": "execute_result"
    }
   ],
   "source": [
    "df.body_type.value_counts(dropna=False)"
   ]
  },
  {
   "cell_type": "code",
   "execution_count": 43,
   "metadata": {},
   "outputs": [
    {
     "data": {
      "text/plain": [
       "body_type\n",
       "\\n, Station wagon, \\n       5448\n",
       "\\n, Off-Road/Pick-up, \\n    5415\n",
       "\\n, Compact, \\n             5387\n",
       "\\n, Sedan, \\n               5043\n",
       "\\n, Coupe, \\n               4009\n",
       "\\n, Convertible, \\n         3328\n",
       "Name: count, dtype: int64"
      ]
     },
     "execution_count": 43,
     "metadata": {},
     "output_type": "execute_result"
    }
   ],
   "source": [
    "df[\"body_type\"] = df[\"body_type\"].apply(lambda item : item[0] if type(item)==list else item)\n",
    "df[\"body_type\"].value_counts(dropna=False)"
   ]
  },
  {
   "cell_type": "code",
   "execution_count": 44,
   "metadata": {},
   "outputs": [
    {
     "data": {
      "text/plain": [
       "body_type\n",
       "Station wagon       5448\n",
       "Off-Road/Pick-up    5415\n",
       "Compact             5387\n",
       "Sedan               5043\n",
       "Coupe               4009\n",
       "Convertible         3328\n",
       "Name: count, dtype: int64"
      ]
     },
     "execution_count": 44,
     "metadata": {},
     "output_type": "execute_result"
    }
   ],
   "source": [
    "df[\"body_type\"] = df[\"body_type\"].str.extract(\", ([^,]+),\")\n",
    "df[\"body_type\"].value_counts()"
   ]
  },
  {
   "cell_type": "markdown",
   "metadata": {},
   "source": [
    "## Type"
   ]
  },
  {
   "cell_type": "code",
   "execution_count": 45,
   "metadata": {},
   "outputs": [
    {
     "data": {
      "text/plain": [
       "type\n",
       "[\\n, Used, \\n]              25251\n",
       "[\\n, Demonstration, \\n]      1433\n",
       "[\\n, Pre-registered, \\n]     1377\n",
       "[\\n, Employee's car, \\n]      569\n",
       "Name: count, dtype: int64"
      ]
     },
     "execution_count": 45,
     "metadata": {},
     "output_type": "execute_result"
    }
   ],
   "source": [
    "df[\"type\"].value_counts(dropna=False)"
   ]
  },
  {
   "cell_type": "code",
   "execution_count": 46,
   "metadata": {},
   "outputs": [],
   "source": [
    "df[\"type\"] = df[\"type\"].apply(lambda item : item[0] if type(item)==list else item)\n"
   ]
  },
  {
   "cell_type": "code",
   "execution_count": 47,
   "metadata": {},
   "outputs": [],
   "source": [
    " df[\"type\"] = df[\"type\"].str.extract(r',\\s*([^,]+),')"
   ]
  },
  {
   "cell_type": "code",
   "execution_count": 48,
   "metadata": {},
   "outputs": [
    {
     "data": {
      "text/plain": [
       "type\n",
       "Used              25251\n",
       "Demonstration      1433\n",
       "Pre-registered     1377\n",
       "Employee's car      569\n",
       "Name: count, dtype: int64"
      ]
     },
     "execution_count": 48,
     "metadata": {},
     "output_type": "execute_result"
    }
   ],
   "source": [
    "df[\"type\"].value_counts(dropna=False)"
   ]
  },
  {
   "cell_type": "markdown",
   "metadata": {},
   "source": [
    "## Doors"
   ]
  },
  {
   "cell_type": "code",
   "execution_count": 49,
   "metadata": {},
   "outputs": [
    {
     "data": {
      "text/plain": [
       "doors\n",
       "[\\n, 5, \\n]    17481\n",
       "[\\n, 2, \\n]     5523\n",
       "[\\n, 4, \\n]     3001\n",
       "[\\n, 3, \\n]     2259\n",
       "NaN              359\n",
       "[\\n, 6, \\n]        5\n",
       "[\\n, 1, \\n]        2\n",
       "Name: count, dtype: int64"
      ]
     },
     "execution_count": 49,
     "metadata": {},
     "output_type": "execute_result"
    }
   ],
   "source": [
    "df.doors.value_counts(dropna=False)"
   ]
  },
  {
   "cell_type": "code",
   "execution_count": 50,
   "metadata": {},
   "outputs": [],
   "source": [
    "df[\"doors\"] = df[\"doors\"].apply(lambda item : item[0] if type(item)==list else item)"
   ]
  },
  {
   "cell_type": "code",
   "execution_count": 51,
   "metadata": {},
   "outputs": [],
   "source": [
    "df[\"doors\"] = df[\"doors\"].str.extract(\"(\\d)\")"
   ]
  },
  {
   "cell_type": "code",
   "execution_count": 52,
   "metadata": {},
   "outputs": [
    {
     "data": {
      "text/plain": [
       "doors\n",
       "5      17481\n",
       "2       5523\n",
       "4       3001\n",
       "3       2259\n",
       "NaN      359\n",
       "6          5\n",
       "1          2\n",
       "Name: count, dtype: int64"
      ]
     },
     "execution_count": 52,
     "metadata": {},
     "output_type": "execute_result"
    }
   ],
   "source": [
    "df[\"doors\"].value_counts(dropna=False) "
   ]
  },
  {
   "cell_type": "code",
   "execution_count": 53,
   "metadata": {},
   "outputs": [
    {
     "data": {
      "text/plain": [
       "doors\n",
       "<class 'str'>      28271\n",
       "<class 'float'>      359\n",
       "Name: count, dtype: int64"
      ]
     },
     "execution_count": 53,
     "metadata": {},
     "output_type": "execute_result"
    }
   ],
   "source": [
    "df[\"doors\"].apply(lambda x: type(x) ).value_counts()"
   ]
  },
  {
   "cell_type": "markdown",
   "metadata": {},
   "source": [
    "## Country Version"
   ]
  },
  {
   "cell_type": "code",
   "execution_count": 54,
   "metadata": {},
   "outputs": [
    {
     "data": {
      "text/plain": [
       "country_version\n",
       "NaN                         11741\n",
       "[\\n, Germany, \\n]            7939\n",
       "[\\n, Spain, \\n]              6376\n",
       "[\\n, Italy, \\n]               679\n",
       "[\\n, Belgium, \\n]             641\n",
       "[\\n, European Union, \\n]      340\n",
       "[\\n, Netherlands, \\n]         306\n",
       "[\\n, Austria, \\n]             266\n",
       "[\\n, France, \\n]              101\n",
       "[\\n, United States, \\n]        57\n",
       "[\\n, Czechia, \\n]              47\n",
       "[\\n, Poland, \\n]               31\n",
       "[\\n, Hungary, \\n]              21\n",
       "[\\n, Denmark, \\n]              21\n",
       "[\\n, Romania, \\n]              12\n",
       "[\\n, Japan, \\n]                12\n",
       "[\\n, Switzerland, \\n]           9\n",
       "[\\n, Luxembourg, \\n]            9\n",
       "[\\n, Sweden, \\n]                6\n",
       "[\\n, Slovenia, \\n]              5\n",
       "[\\n, Slovakia, \\n]              4\n",
       "[\\n, Croatia, \\n]               3\n",
       "[\\n, Bulgaria, \\n]              1\n",
       "[\\n, Malta, \\n]                 1\n",
       "[\\n, Canada, \\n]                1\n",
       "[\\n, Mexico, \\n]                1\n",
       "Name: count, dtype: int64"
      ]
     },
     "execution_count": 54,
     "metadata": {},
     "output_type": "execute_result"
    }
   ],
   "source": [
    "df[\"country_version\"].value_counts(dropna=False)"
   ]
  },
  {
   "cell_type": "code",
   "execution_count": 55,
   "metadata": {},
   "outputs": [],
   "source": [
    "df[\"country_version\"] = df[\"country_version\"].apply(lambda item : item[0] if type(item)==list else item)"
   ]
  },
  {
   "cell_type": "code",
   "execution_count": 56,
   "metadata": {},
   "outputs": [],
   "source": [
    "df[\"country_version\"] = df[\"country_version\"].str.extract(r',\\s*([^,]+),')"
   ]
  },
  {
   "cell_type": "code",
   "execution_count": 57,
   "metadata": {},
   "outputs": [
    {
     "data": {
      "text/plain": [
       "country_version\n",
       "NaN               11741\n",
       "Germany            7939\n",
       "Spain              6376\n",
       "Italy               679\n",
       "Belgium             641\n",
       "European Union      340\n",
       "Netherlands         306\n",
       "Austria             266\n",
       "France              101\n",
       "United States        57\n",
       "Czechia              47\n",
       "Poland               31\n",
       "Hungary              21\n",
       "Denmark              21\n",
       "Romania              12\n",
       "Japan                12\n",
       "Switzerland           9\n",
       "Luxembourg            9\n",
       "Sweden                6\n",
       "Slovenia              5\n",
       "Slovakia              4\n",
       "Croatia               3\n",
       "Bulgaria              1\n",
       "Malta                 1\n",
       "Canada                1\n",
       "Mexico                1\n",
       "Name: count, dtype: int64"
      ]
     },
     "execution_count": 57,
     "metadata": {},
     "output_type": "execute_result"
    }
   ],
   "source": [
    "df[\"country_version\"].value_counts(dropna=False)"
   ]
  },
  {
   "cell_type": "code",
   "execution_count": 58,
   "metadata": {},
   "outputs": [
    {
     "name": "stdout",
     "output_type": "stream",
     "text": [
      "<class 'pandas.core.series.Series'>\n",
      "Index: 28630 entries, 0 to 29478\n",
      "Series name: country_version\n",
      "Non-Null Count  Dtype \n",
      "--------------  ----- \n",
      "16889 non-null  object\n",
      "dtypes: object(1)\n",
      "memory usage: 447.3+ KB\n"
     ]
    }
   ],
   "source": [
    "df[\"country_version\"].info()"
   ]
  },
  {
   "cell_type": "markdown",
   "metadata": {},
   "source": [
    "## Offer Number"
   ]
  },
  {
   "cell_type": "code",
   "execution_count": 59,
   "metadata": {},
   "outputs": [
    {
     "data": {
      "text/plain": [
       "offer_number\n",
       "NaN                                5530\n",
       "[\\n, 1, \\n]                          28\n",
       "[\\n, L-Vorlauf 2023, \\n]             10\n",
       "[\\n, 30, \\n]                          9\n",
       "[\\n, 20, \\n]                          9\n",
       "                                   ... \n",
       "[\\n, ggp-EP-880-ZS, \\n]               1\n",
       "[\\n, 7475319, \\n]                     1\n",
       "[\\n, abci-EZ-260-PS_130291, \\n]       1\n",
       "[\\n, 7407611, \\n]                     1\n",
       "[\\n, 43-JR-LR, \\n]                    1\n",
       "Name: count, Length: 20946, dtype: int64"
      ]
     },
     "execution_count": 59,
     "metadata": {},
     "output_type": "execute_result"
    }
   ],
   "source": [
    "df[\"offer_number\"].value_counts(dropna=False)"
   ]
  },
  {
   "cell_type": "code",
   "execution_count": 60,
   "metadata": {},
   "outputs": [],
   "source": [
    "df[\"offer_number\"] = df[\"offer_number\"].apply(lambda item : item[0] if type(item)==list else item)"
   ]
  },
  {
   "cell_type": "code",
   "execution_count": 61,
   "metadata": {},
   "outputs": [
    {
     "data": {
      "text/plain": [
       "offer_number\n",
       "NaN                              5530\n",
       "\\n, 1, \\n                          28\n",
       "\\n, L-Vorlauf 2023, \\n             10\n",
       "\\n, 30, \\n                          9\n",
       "\\n, 20, \\n                          9\n",
       "                                 ... \n",
       "\\n, ggp-EP-880-ZS, \\n               1\n",
       "\\n, 7475319, \\n                     1\n",
       "\\n, abci-EZ-260-PS_130291, \\n       1\n",
       "\\n, 7407611, \\n                     1\n",
       "\\n, 43-JR-LR, \\n                    1\n",
       "Name: count, Length: 20946, dtype: int64"
      ]
     },
     "execution_count": 61,
     "metadata": {},
     "output_type": "execute_result"
    }
   ],
   "source": [
    "df[\"offer_number\"].value_counts(dropna=False)"
   ]
  },
  {
   "cell_type": "code",
   "execution_count": 62,
   "metadata": {},
   "outputs": [],
   "source": [
    "df[\"offer_number\"] = df[\"offer_number\"].str.strip(\"\\n, \")"
   ]
  },
  {
   "cell_type": "code",
   "execution_count": 63,
   "metadata": {},
   "outputs": [
    {
     "data": {
      "text/plain": [
       "offer_number\n",
       "NaN                      5530\n",
       "1                          28\n",
       "L-Vorlauf 2023             10\n",
       "30                          9\n",
       "20                          9\n",
       "                         ... \n",
       "ggp-EP-880-ZS               1\n",
       "7475319                     1\n",
       "abci-EZ-260-PS_130291       1\n",
       "7407611                     1\n",
       "43-JR-LR                    1\n",
       "Name: count, Length: 20946, dtype: int64"
      ]
     },
     "execution_count": 63,
     "metadata": {},
     "output_type": "execute_result"
    }
   ],
   "source": [
    "df[\"offer_number\"].value_counts(dropna=False)"
   ]
  },
  {
   "cell_type": "markdown",
   "metadata": {},
   "source": [
    "## Warranty"
   ]
  },
  {
   "cell_type": "code",
   "execution_count": 64,
   "metadata": {},
   "outputs": [
    {
     "data": {
      "text/plain": [
       "warranty\n",
       "NaN                     12846\n",
       "[\\n, 12 months, \\n]      9545\n",
       "[\\n, Yes, \\n]            2319\n",
       "[\\n, 24 months, \\n]      1515\n",
       "[\\n, 60 months, \\n]       968\n",
       "                        ...  \n",
       "[\\n, 55 months, \\n]         1\n",
       "[\\n, 99 months, \\n]         1\n",
       "[\\n, 122 months, \\n]        1\n",
       "[\\n, 44 months, \\n]         1\n",
       "[\\n, 4 months, \\n]          1\n",
       "Name: count, Length: 66, dtype: int64"
      ]
     },
     "execution_count": 64,
     "metadata": {},
     "output_type": "execute_result"
    }
   ],
   "source": [
    "df.warranty.value_counts(dropna=False)"
   ]
  },
  {
   "cell_type": "code",
   "execution_count": 65,
   "metadata": {},
   "outputs": [],
   "source": [
    "df[\"warranty\"] = df[\"warranty\"].apply(lambda item : item[0] if type(item)==list else item)"
   ]
  },
  {
   "cell_type": "code",
   "execution_count": 66,
   "metadata": {},
   "outputs": [],
   "source": [
    "df[\"warranty\"]=df[\"warranty\"].str.strip(\"\\n, \")"
   ]
  },
  {
   "cell_type": "code",
   "execution_count": 67,
   "metadata": {},
   "outputs": [
    {
     "data": {
      "text/plain": [
       "warranty\n",
       "NaN           12846\n",
       "12 months      9545\n",
       "Yes            2319\n",
       "24 months      1515\n",
       "60 months       968\n",
       "              ...  \n",
       "55 months         1\n",
       "99 months         1\n",
       "122 months        1\n",
       "44 months         1\n",
       "4 months          1\n",
       "Name: count, Length: 66, dtype: int64"
      ]
     },
     "execution_count": 67,
     "metadata": {},
     "output_type": "execute_result"
    }
   ],
   "source": [
    "df[\"warranty\"].value_counts(dropna=False)    "
   ]
  },
  {
   "cell_type": "markdown",
   "metadata": {},
   "source": [
    "## Milage"
   ]
  },
  {
   "cell_type": "code",
   "execution_count": 68,
   "metadata": {},
   "outputs": [
    {
     "data": {
      "text/plain": [
       "mileage\n",
       "10 km         586\n",
       "1 km          172\n",
       "50 km         133\n",
       "100 km        119\n",
       "5,000 km      118\n",
       "             ... \n",
       "141,589 km      1\n",
       "59,821 km       1\n",
       "123,500 km      1\n",
       "29,781 km       1\n",
       "230,047 km      1\n",
       "Name: count, Length: 14184, dtype: int64"
      ]
     },
     "execution_count": 68,
     "metadata": {},
     "output_type": "execute_result"
    }
   ],
   "source": [
    "df['mileage'].value_counts(dropna=False)"
   ]
  },
  {
   "cell_type": "code",
   "execution_count": 69,
   "metadata": {},
   "outputs": [
    {
     "data": {
      "text/plain": [
       "1"
      ]
     },
     "execution_count": 69,
     "metadata": {},
     "output_type": "execute_result"
    }
   ],
   "source": [
    "df['mileage'].isna().sum()"
   ]
  },
  {
   "cell_type": "code",
   "execution_count": 70,
   "metadata": {},
   "outputs": [],
   "source": [
    "df['mileage']=df['mileage'].str.replace(',' , '').str.findall('\\d+').str[0]"
   ]
  },
  {
   "cell_type": "code",
   "execution_count": 71,
   "metadata": {},
   "outputs": [
    {
     "data": {
      "text/plain": [
       "mileage\n",
       "10        586\n",
       "1         172\n",
       "50        133\n",
       "100       119\n",
       "5000      118\n",
       "         ... \n",
       "141589      1\n",
       "59821       1\n",
       "123500      1\n",
       "29781       1\n",
       "230047      1\n",
       "Name: count, Length: 14184, dtype: int64"
      ]
     },
     "execution_count": 71,
     "metadata": {},
     "output_type": "execute_result"
    }
   ],
   "source": [
    "df['mileage'].value_counts(dropna=False)"
   ]
  },
  {
   "cell_type": "markdown",
   "metadata": {},
   "source": [
    "## First Registration"
   ]
  },
  {
   "cell_type": "code",
   "execution_count": 72,
   "metadata": {},
   "outputs": [
    {
     "data": {
      "text/plain": [
       "first_registration\n",
       "08/2022    454\n",
       "06/2022    428\n",
       "05/2019    420\n",
       "06/2019    418\n",
       "07/2019    416\n",
       "          ... \n",
       "06/1967      1\n",
       "06/1980      1\n",
       "09/1970      1\n",
       "06/1963      1\n",
       "10/1979      1\n",
       "Name: count, Length: 656, dtype: int64"
      ]
     },
     "execution_count": 72,
     "metadata": {},
     "output_type": "execute_result"
    }
   ],
   "source": [
    "df['first_registration'].value_counts(dropna=False)"
   ]
  },
  {
   "cell_type": "code",
   "execution_count": 73,
   "metadata": {},
   "outputs": [],
   "source": [
    "df['first_registration'] = pd.to_datetime(df['first_registration'])"
   ]
  },
  {
   "cell_type": "code",
   "execution_count": 74,
   "metadata": {},
   "outputs": [
    {
     "data": {
      "text/plain": [
       "0       2016-06-01\n",
       "1       2022-06-01\n",
       "2       2020-07-01\n",
       "3       2020-01-01\n",
       "4       2015-09-01\n",
       "           ...    \n",
       "29474   2019-08-01\n",
       "29475   2004-06-01\n",
       "29476   2011-04-01\n",
       "29477   2017-11-01\n",
       "29478   2002-07-01\n",
       "Name: first_registration, Length: 28630, dtype: datetime64[ns]"
      ]
     },
     "execution_count": 74,
     "metadata": {},
     "output_type": "execute_result"
    }
   ],
   "source": [
    "df['first_registration']"
   ]
  },
  {
   "cell_type": "code",
   "execution_count": 75,
   "metadata": {},
   "outputs": [
    {
     "name": "stdout",
     "output_type": "stream",
     "text": [
      "<class 'pandas.core.series.Series'>\n",
      "Index: 28630 entries, 0 to 29478\n",
      "Series name: first_registration\n",
      "Non-Null Count  Dtype         \n",
      "--------------  -----         \n",
      "28628 non-null  datetime64[ns]\n",
      "dtypes: datetime64[ns](1)\n",
      "memory usage: 447.3 KB\n"
     ]
    }
   ],
   "source": [
    "df['first_registration'].info()"
   ]
  },
  {
   "cell_type": "code",
   "execution_count": 76,
   "metadata": {},
   "outputs": [
    {
     "data": {
      "text/plain": [
       "2"
      ]
     },
     "execution_count": 76,
     "metadata": {},
     "output_type": "execute_result"
    }
   ],
   "source": [
    "df['first_registration'].isna().sum()"
   ]
  },
  {
   "cell_type": "markdown",
   "metadata": {},
   "source": [
    "## Gearbox"
   ]
  },
  {
   "cell_type": "code",
   "execution_count": 77,
   "metadata": {},
   "outputs": [
    {
     "data": {
      "text/plain": [
       "gearbox\n",
       "[\\nManual\\n]            17023\n",
       "[\\nAutomatic\\n]         11287\n",
       "NaN                       248\n",
       "[\\nSemi-automatic\\n]       72\n",
       "Name: count, dtype: int64"
      ]
     },
     "execution_count": 77,
     "metadata": {},
     "output_type": "execute_result"
    }
   ],
   "source": [
    "df['gearbox'].value_counts(dropna=False)"
   ]
  },
  {
   "cell_type": "code",
   "execution_count": 78,
   "metadata": {},
   "outputs": [],
   "source": [
    "df['gearbox']=df['gearbox'].apply(lambda item : item[0] if type(item)==list else item)"
   ]
  },
  {
   "cell_type": "code",
   "execution_count": 79,
   "metadata": {},
   "outputs": [
    {
     "data": {
      "text/plain": [
       "gearbox\n",
       "Manual            17023\n",
       "Automatic         11287\n",
       "NaN                 248\n",
       "Semi-automatic       72\n",
       "Name: count, dtype: int64"
      ]
     },
     "execution_count": 79,
     "metadata": {},
     "output_type": "execute_result"
    }
   ],
   "source": [
    "df['gearbox']=df['gearbox'].str.strip('\\n')\n",
    "df['gearbox'].value_counts(dropna=False)"
   ]
  },
  {
   "cell_type": "code",
   "execution_count": 80,
   "metadata": {},
   "outputs": [
    {
     "name": "stdout",
     "output_type": "stream",
     "text": [
      "<class 'pandas.core.series.Series'>\n",
      "Index: 28630 entries, 0 to 29478\n",
      "Series name: gearbox\n",
      "Non-Null Count  Dtype \n",
      "--------------  ----- \n",
      "28382 non-null  object\n",
      "dtypes: object(1)\n",
      "memory usage: 447.3+ KB\n"
     ]
    }
   ],
   "source": [
    "df['gearbox'].info()"
   ]
  },
  {
   "cell_type": "code",
   "execution_count": 81,
   "metadata": {},
   "outputs": [
    {
     "name": "stdout",
     "output_type": "stream",
     "text": [
      "<class 'pandas.core.series.Series'>\n",
      "Index: 28630 entries, 0 to 29478\n",
      "Series name: gearbox\n",
      "Non-Null Count  Dtype \n",
      "--------------  ----- \n",
      "28382 non-null  object\n",
      "dtypes: object(1)\n",
      "memory usage: 447.3+ KB\n"
     ]
    }
   ],
   "source": [
    "df['gearbox'].info()"
   ]
  },
  {
   "cell_type": "markdown",
   "metadata": {},
   "source": [
    "## Bucketing the Fuel Type Feature"
   ]
  },
  {
   "cell_type": "code",
   "execution_count": 82,
   "metadata": {},
   "outputs": [
    {
     "data": {
      "text/plain": [
       "fuel_type\n",
       "Gasoline                                                                                              8532\n",
       "Diesel                                                                                                5911\n",
       "Super 95                                                                                              3557\n",
       "Diesel (Particle filter)                                                                              2816\n",
       "Regular/Benzine 91                                                                                    2065\n",
       "NaN                                                                                                   1787\n",
       "Super E10 95                                                                                          1016\n",
       "Regular/Benzine 91 (Particle filter)                                                                   555\n",
       "Super 95 (Particle filter)                                                                             537\n",
       "Super E10 95 (Particle filter)                                                                         324\n",
       "Regular/Benzine E10 91                                                                                 278\n",
       "Others                                                                                                 197\n",
       "Gasoline (Particle filter)                                                                             196\n",
       "Electric                                                                                               185\n",
       "Super Plus 98                                                                                          170\n",
       "Liquid petroleum gas (LPG)                                                                             148\n",
       "CNG                                                                                                     87\n",
       "LPG                                                                                                     73\n",
       "Super Plus E10 98                                                                                       42\n",
       "Super Plus E10 98 (Particle filter)                                                                     35\n",
       "Domestic gas H                                                                                          24\n",
       "Others (Particle filter)                                                                                16\n",
       "Super Plus 98 (Particle filter)                                                                         15\n",
       "Domestic gas L                                                                                          10\n",
       "CNG (Particle filter)                                                                                    8\n",
       "Regular/Benzine E10 91 (Particle filter)                                                                 8\n",
       "LPG (Particle filter)                                                                                    4\n",
       "Hydrogen                                                                                                 3\n",
       "Ethanol                                                                                                  3\n",
       "Electric (Particle filter)                                                                               3\n",
       "Liquid petroleum gas (LPG) (Particle filter) / Super 95 / Super E10 95                                   3\n",
       "Liquid petroleum gas (LPG) / Super 95 / Super Plus 98 / Super Plus E10 98 / Super E10 95                 2\n",
       "Liquid petroleum gas (LPG) / Super 95 / Super E10 95                                                     2\n",
       "Domestic gas L (Particle filter)                                                                         2\n",
       "Liquid petroleum gas (LPG) (Particle filter)                                                             2\n",
       "Liquid petroleum gas (LPG) / Super 95                                                                    2\n",
       "Liquid petroleum gas (LPG) / Super 95 / Super E10 95 / Super Plus 98                                     2\n",
       "Liquid petroleum gas (LPG) / Super 95 / Super Plus 98                                                    1\n",
       "Super 95 (Particle filter) / Super E10 95 / Ethanol                                                      1\n",
       "Liquid petroleum gas (LPG) / Super E10 95 / Super Plus E10 98 / Super Plus 98 / Super 95                 1\n",
       "Liquid petroleum gas (LPG) / Super E10 95                                                                1\n",
       "Biogas                                                                                                   1\n",
       "Super 95 / Super Plus 98 / Liquid petroleum gas (LPG)                                                    1\n",
       "Domestic gas L / Super 95 / Domestic gas H                                                               1\n",
       "Domestic gas H / Super E10 95 / Super Plus E10 98 / Super 95 / Super Plus 98 / Domestic gas L            1\n",
       "Liquid petroleum gas (LPG) / Super E10 95 / Regular/Benzine 91 / Super 95 / Super Plus 98 / Biogas       1\n",
       "Super 95 / Liquid petroleum gas (LPG)                                                                    1\n",
       "Name: count, dtype: int64"
      ]
     },
     "execution_count": 82,
     "metadata": {},
     "output_type": "execute_result"
    }
   ],
   "source": [
    "df['fuel_type'].value_counts(dropna=False)"
   ]
  },
  {
   "cell_type": "code",
   "execution_count": 83,
   "metadata": {},
   "outputs": [
    {
     "data": {
      "text/plain": [
       "fuel_type\n",
       "benzine     17334\n",
       "diesel       8727\n",
       "NaN          1787\n",
       "LPG           378\n",
       "others        216\n",
       "electric      188\n",
       "Name: count, dtype: int64"
      ]
     },
     "execution_count": 83,
     "metadata": {},
     "output_type": "execute_result"
    }
   ],
   "source": [
    "benzine = ['Gasoline','Regular/Benzine 91','Regular/Benzine 91 (Particle filter)', 'Super 95', 'Super E10 95', 'Gasoline (Particle filter)','Super 95 (Particle filter)','Super Plus 98',\\\n",
    "           'Super E10 95 (Particle filter)','Regular/Benzine E10 91','Super Plus E10 98', 'Super Plus E10 98 (Particle filter)', 'Super Plus 98 (Particle filter)', 'Ethanol', \\\n",
    "           'Regular/Benzine E10 91 (Particle filter)', 'Super 95 (Particle filter) / Super E10 95 / Ethanol']\n",
    "diesel  = ['Diesel','Diesel (Particle filter)']\n",
    "LPG =  ['LPG', 'Liquid petroleum gas (LPG)','Liquid petroleum gas (LPG) / Super E10 95 / Regular/Benzine 91 / Super 95 / Super Plus 98 / Biogas', 'CNG',\\\n",
    "        'Liquid petroleum gas (LPG) (Particle filter) / Super 95 / Super E10 95','Liquid petroleum gas (LPG) / Super 95 / Super E10 95',\\\n",
    "        'LPG (Particle filter)',  'Domestic gas L','Liquid petroleum gas (LPG) / Super 95 / Super Plus 98 / Super Plus E10 98 / Super E10 95',\\\n",
    "        'CNG (Particle filter)', 'Domestic gas H', 'Domestic gas L (Particle filter)', 'Biogas',\\\n",
    "        'Domestic gas H / Super E10 95 / Super Plus E10 98 / Super 95 / Super Plus 98 / Domestic gas L',\\\n",
    "        'Domestic gas L / Super 95 / Domestic gas H','Super 95 / Super Plus 98 / Liquid petroleum gas (LPG)',\\\n",
    "        'Liquid petroleum gas (LPG) (Particle filter)', 'Liquid petroleum gas (LPG) / Super 95',\\\n",
    "        'Liquid petroleum gas (LPG) / Super 95 / Super E10 95 / Super Plus 98', 'Liquid petroleum gas (LPG) / Super 95 / Super Plus 98',\\\n",
    "        'Liquid petroleum gas (LPG) / Super E10 95', 'Liquid petroleum gas (LPG) / Super E10 95 / Super Plus E10 98 / Super Plus 98 / Super 95', 'Super 95 / Liquid petroleum gas (LPG)']\n",
    "electric = ['Electric','Electric (Particle filter)']\n",
    "others =  ['Others', 'Others (Particle filter)',\"Hydrogen\"]\n",
    "\n",
    "def fuel_types(fuel_type):\n",
    "    if fuel_type in benzine:\n",
    "        return \"benzine\"\n",
    "    elif fuel_type in diesel:\n",
    "        return \"diesel\"\n",
    "    elif fuel_type in LPG:\n",
    "        return \"LPG\"\n",
    "    elif fuel_type in electric:\n",
    "        return \"electric\"\n",
    "    elif fuel_type in others:\n",
    "        return \"others\"\n",
    "    else:\n",
    "        return np.nan\n",
    "\n",
    "df['fuel_type'] = df['fuel_type'].map(fuel_types) \n",
    "df['fuel_type'].value_counts(dropna=False)\n"
   ]
  },
  {
   "cell_type": "code",
   "execution_count": 84,
   "metadata": {},
   "outputs": [
    {
     "data": {
      "text/plain": [
       "fuel_type\n",
       "benzine     17334\n",
       "diesel       8727\n",
       "NaN          1787\n",
       "LPG           378\n",
       "others        216\n",
       "electric      188\n",
       "Name: count, dtype: int64"
      ]
     },
     "execution_count": 84,
     "metadata": {},
     "output_type": "execute_result"
    }
   ],
   "source": [
    "df['fuel_type'].value_counts(dropna=False)"
   ]
  },
  {
   "cell_type": "markdown",
   "metadata": {},
   "source": [
    "## Colour"
   ]
  },
  {
   "cell_type": "code",
   "execution_count": 85,
   "metadata": {},
   "outputs": [
    {
     "data": {
      "text/plain": [
       "colour\n",
       "Black     6473\n",
       "Grey      5998\n",
       "White     5185\n",
       "Blue      3478\n",
       "Red       2242\n",
       "NaN       1724\n",
       "Silver    1622\n",
       "Green      450\n",
       "Brown      437\n",
       "Orange     288\n",
       "Beige      278\n",
       "Yellow     230\n",
       "Violet      98\n",
       "Bronze      65\n",
       "Gold        62\n",
       "Name: count, dtype: int64"
      ]
     },
     "execution_count": 85,
     "metadata": {},
     "output_type": "execute_result"
    }
   ],
   "source": [
    "df['colour'].value_counts(dropna=False)"
   ]
  },
  {
   "cell_type": "markdown",
   "metadata": {},
   "source": [
    "## Paint"
   ]
  },
  {
   "cell_type": "code",
   "execution_count": 86,
   "metadata": {},
   "outputs": [
    {
     "data": {
      "text/plain": [
       "paint\n",
       "Metallic     14494\n",
       "NaN          14135\n",
       "Uni/basic        1\n",
       "Name: count, dtype: int64"
      ]
     },
     "execution_count": 86,
     "metadata": {},
     "output_type": "execute_result"
    }
   ],
   "source": [
    "df['paint'].value_counts(dropna=False)"
   ]
  },
  {
   "cell_type": "code",
   "execution_count": 87,
   "metadata": {},
   "outputs": [],
   "source": [
    "df[\"paint\"] = df[\"paint\"].apply(lambda x: 1 if x == \"Metallic\" else 0)"
   ]
  },
  {
   "cell_type": "code",
   "execution_count": 88,
   "metadata": {},
   "outputs": [
    {
     "data": {
      "text/plain": [
       "paint\n",
       "1    14494\n",
       "0    14136\n",
       "Name: count, dtype: int64"
      ]
     },
     "execution_count": 88,
     "metadata": {},
     "output_type": "execute_result"
    }
   ],
   "source": [
    "df[\"paint\"].value_counts(dropna=False)"
   ]
  },
  {
   "cell_type": "markdown",
   "metadata": {},
   "source": [
    "## Desc"
   ]
  },
  {
   "cell_type": "code",
   "execution_count": 89,
   "metadata": {
    "scrolled": true
   },
   "outputs": [
    {
     "data": {
      "text/plain": [
       "desc\n",
       "[]                                                                                                                                                                                                                                                                                                                                                                                                                                                                                                                                                                                                                                                                                                                                                                                                                                                                                                                                                                                                                                                                                                                                                                                                                                                                                                                                                                                                                                                                                                                                                                                                                                                                                                                                                                                                                                                                                                                                                                                                                                                                                                                                                                                                                                                                                                                                                                                                                                                                                                                                                                                                                                                                                                                                                                                                                                                                                                                                                                                                                                                                                                                                                                                                                                                                                                                                                                                                                                                                                                                                                                                                                                                                                                                                                                                                                                                                                                                                                                                                                                                                                                                                                                   88\n",
       "[Genaue Angaben zu der Serienausstattung, finden Sie auf unsere Homepage., Gerne nehmen wir Ihr Aktuelles Fahrzeug zurück!, Der Verkäufer übernimmt keine Haftung für Tipp und Datenübermittlungsfehler., Angeführte Ausstattungen sind ggfs. gesondert vor Ort zu prüfen., Alle Angaben in den Inseraten sind unverbindlich und ohne Gewähr.,  , Dacia Jogger TCe 110 Extreme+ 7-Sitzer,  , Sonderausstattung,  , City-Paket,  , - elektrische Parkbremse, - erhöhte Mittelkonsole, - Einparkhilfe vorne und hinten, - Rückfahrkamera, - Toter-Winkel-Warner,  , Sitzheizung für Vordersitze,  , Klimaautomatik,  , Scheiben hinten abgedunkelt,  , 7-Sitzer,  , Serienausstattung,  ,  , Eco LED-Scheinwerfer,  , Reserverad,  , Notbremsassistent,  , ECO-Mode,  , 12V Steckdose,  , Klapptische für zweite Sitzreihe,  , El. Parkbremse,  , Sonnenblenden mit Make-up-Spiegel,  , Beifahrersonnenblende mit Make-up-Spiegel,  , Fahrersitz höhenverstellbar,  , Lenkrad höhen- und längsverstellbar,  , Rücksitzbank 60/40 umklappbar,  , Servolenkung,  , Zentralverriegelung,  , El. Fensterheber vorne und hinten,  , El. Seitenspiegel,  , Schlüssellose Zentralverriegelung,  , Armlehne,  , Lenkrad in Lederoptik mit Multifunktion,  , Dachreling modular,  , Leichtmetallfelgen in schwarz mit Sommerreifen,  , Reifendruck-Kontrolle,  , Dacia Media Nav Multimediasystem,  , DAB-Radio,  , MP3 fähig,  , Bluetooth,  , USB-Anschluss,  , Touchscreen,  , CarPlay,  , Android Auto,  , Sprachsteuerung,  , Navigationssystem,  , Tempomat,  , Freisprecheinrichtung,  , Bordcomputer Check-Control,  , Geschwindigkeitsbegrenzungsanlage, ...]                                                                                                                                                                                                                                                                                                                                                                                                                                                                                                                                                                                                                                                                                                                                                                                                                                                                                                                                                                                                                                                                                                                                                                                                                                                                                                                                                                                                                                                                                                                                                                                                                                                                                                                                                                                                                                                                                                                                                                                                                                                                                                                                                                                                                                                                                                                                                                                                                                                                                                          51\n",
       "[Ref.  4236LFG,            OCASIONPLUS, SÓLO ESTE MES MEJOR PRECIO GARANTIZADO, COMPRA CON TOTAL CONFIANZA - 15 DÍAS O 1000 KMs DE PRUEBA, OCASIONPLUS - Nº1 Calidad/Precio, 5000 COCHES - 50 centros en toda la península , Elige tu coche y te lo llevamos a tu provincia, Hasta 2350€ de descuento en este coche, ADEMÁS HACEMOS FINANCIACIONES A MEDIDA, PREGÚNTANOS!!, Equipamiento destacado: Techo panorámico, Tapicería de piel, Asistente de aparcamiento, Navegador, Encendido automático de faros, Arranque por botón, Start/Stop automático, Control de velocidad, Volante multifunción, Bluetooth, Aire Acondicionado (Climatizador), Control de tracción, Llantas de aleación (18\")., - Garantía total 1 año, con cobertura nacional, ampliable a 24 meses., - Certificado de Kilómetros y ausencia de golpes estructurales., - Sobrevaloramos tu coche en operaciones de cambio. Tásalo ahora en ocasionplus.com, - Entregamos cualquier coche en cualquier centro por 100€, - Abierto Domingo y Festivos.,  , Extras,  ,  , Equipamiento destacado seleccionado por el usuario,  ,  , - Llantas de aleación de 18\", - Techo panorámico, - Navegador, - Start/Stop automático, - Control de velocidad, - Volante multifunción, - Bluetooth, - Control de tracción, - Climatizador, - Llantas de aleación, - Aire Acondicionado, - Tapicería de piel, - Asistente de aparcamiento, - Encendido automático de faros, - Arranque por botón, See more]                                                                                                                                                                                                                                                                                                                                                                                                                                                                                                                                                                                                                                                                                                                                                                                                                                                                                                                                                                                                                                                                                                                                                                                                                                                                                                                                                                                                                                                                                                                                                                                                                                                                                                                                                                                                                                                                                                                                                                                                                                                                                                                                                                                                                                                                                                                                                                                                                                                                                                                                                                                                                                                                                                    34\n",
       "[ , Precio al contado: 15200 euros,  , Ref.  6710KJS,            \"OCASIONPLUS, SÓLO ESTE MES MEJOR PRECIO GARANTIZADO, COMPRA CON TOTAL CONFIANZA - 15 DÍAS O 1000 KMs DE PRUEBA, OCASIONPLUS - Nº1 Calidad/Precio, 5000 COCHES - 50 centros en toda la península , Elige tu coche y te lo llevamos a tu provincia, Hasta 1382€ de descuento en este coche, Precio oferta financiado: 13818€ (202€/mes) financiando la totalidad a un plazo mínimo de 60 meses, Precio al contado: 15200€ ADEMÁS HACEMOS FINANCIACIONES A MEDIDA, PREGÚNTANOS!!\", Equipamiento destacado: Faros traseros led, Bluetooth, Arranque por botón, Aire Acondicionado (Climatizador), Isofix, Llantas de aleación (16\")., - Coche Nacional., - Garantía total 1 año, con cobertura nacional, ampliable a 24 meses., - Certificado de Kilómetros y ausencia de golpes estructurales., - Sobrevaloramos tu coche en operaciones de cambio. Tásalo ahora en ocasionplus.com, - Entregamos cualquier coche en cualquier centro por 100€, - Abierto Domingo y Festivos.,  , Extras,  ,  , Equipamiento destacado seleccionado por el usuario,  ,  , - Bluetooth, - Climatizador, - Llantas de aleación, - Aire Acondicionado, - Llantas de aleación de 16\", - Faros traseros led, - Isofi, x- Arranque por botón,  , Condiciones de la financiación,  , \"OCASIONPLUS, SÓLO ESTE MES MEJOR PRECIO GARANTIZADO, COMPRA CON TOTAL CONFIANZA - 15 DÍAS O 1000 KMs DE PRUEBA, OCASIONPLUS - Nº1 Calidad/Precio, 5000 COCHES - 50 centros en toda la península , Elige tu coche y te lo llevamos a tu provincia, Hasta 1382€ de descuento en este coche, Precio oferta financiado: 13818€ (202€/mes) financiando la totalidad a un plazo mínimo de 60 meses, Precio al contado: 15200€ ADEMÁS HACEMOS FINANCIACIONES A MEDIDA, PREGÚNTANOS!!\", See more]                                                                                                                                                                                                                                                                                                                                                                                                                                                                                                                                                                                                                                                                                                                                                                                                                                                                                                                                                                                                                                                                                                                                                                                                                                                                                                                                                                                                                                                                                                                                                                                                                                                                                                                                                                                                                                                                                                                                                                                                                                                                                                                                                                                                                                                                                                                                              34\n",
       "[ , Precio al contado: 16650 euros,  , Ref.  3967KKW,            \"OCASIONPLUS, SÓLO ESTE MES MEJOR PRECIO GARANTIZADO, COMPRA CON TOTAL CONFIANZA - 15 DÍAS O 1000 KMs DE PRUEBA, OCASIONPLUS - Nº1 Calidad/Precio, 5000 COCHES - 50 centros en toda la península , Elige tu coche y te lo llevamos a tu provincia, Hasta 1514€ de descuento en este coche, Precio oferta financiado: 15136€ (221€/mes) financiando la totalidad a un plazo mínimo de 60 meses, Precio al contado: 16650€ ADEMÁS HACEMOS FINANCIACIONES A MEDIDA, PREGÚNTANOS!!\",             Equipamiento destacado: Asistente de aparcamiento, Faros delanteros led, Bluetooth, Control de velocidad, Encendido automático de faros, Llantas de aleación (16\").,                 - Coche Nacional, Historial Mantenimiento.,                 - Garantía total 1 año, con cobertura nacional, ampliable a 24 meses.,                 - Certificado de Kilómetros y ausencia de golpes estructurales.,             - Sobrevaloramos tu coche en operaciones de cambio. Tásalo ahora en ocasionplus.com,             - Entregamos cualquier coche en cualquier centro por 100€,             - Abierto Domingo y Festivos.,  , Extras,  ,  , Equipamiento destacado seleccionado por el usuario,  ,  , - Control de velocidad, - Bluetooth, - Llantas de aleación, - Llantas de aleación de 16\", - Asistente de aparcamiento, - Faros delanteros led, - Encendido automático de faros,  , Condiciones de la financiación,  , \"OCASIONPLUS, SÓLO ESTE MES MEJOR PRECIO GARANTIZADO, COMPRA CON TOTAL CONFIANZA - 15 DÍAS O 1000 KMs DE PRUEBA, OCASIONPLUS - Nº1 Calidad/Precio, 5000 COCHES - 50 centros en toda la península , Elige tu coche y te lo llevamos a tu provincia, Hasta 1514€ de descuento en este coche, Precio oferta financiado: 15136€ (221€/mes) financiando la totalidad a un plazo mínimo de 60 meses, Precio al contado: 16650€ ADEMÁS HACEMOS FINANCIACIONES A MEDIDA, PREGÚNTANOS!!\", See more]                                                                                                                                                                                                                                                                                                                                                                                                                                                                                                                                                                                                                                                                                                                                                                                                                                                                                                                                                                                                                                                                                                                                                                                                                                                                                                                                                                                                                                                                                                                                                                                                                                                                                                                                                                                                                                                                                                                                                                                                                                                                                                                                                                                30\n",
       "                                                                                                                                                                                                                                                                                                                                                                                                                                                                                                                                                                                                                                                                                                                                                                                                                                                                                                                                                                                                                                                                                                                                                                                                                                                                                                                                                                                                                                                                                                                                                                                                                                                                                                                                                                                                                                                                                                                                                                                                                                                                                                                                                                                                                                                                                                                                                                                                                                                                                                                                                                                                                                                                                                                                                                                                                                                                                                                                                                                                                                                                                                                                                                                                                                                                                                                                                                                                                                                                                                                                                                                                                                                                                                                                                                                                                                                                                                                                                                                                                                                                                                                                                                     ..\n",
       "[PEUGEOT 3008 BUSINESS 3008 1.6 BlueHDi 120ch S&S EAT6 Active Business]                                                                                                                                                                                                                                                                                                                                                                                                                                                                                                                                                                                                                                                                                                                                                                                                                                                                                                                                                                                                                                                                                                                                                                                                                                                                                                                                                                                                                                                                                                                                                                                                                                                                                                                                                                                                                                                                                                                                                                                                                                                                                                                                                                                                                                                                                                                                                                                                                                                                                                                                                                                                                                                                                                                                                                                                                                                                                                                                                                                                                                                                                                                                                                                                                                                                                                                                                                                                                                                                                                                                                                                                                                                                                                                                                                                                                                                                                                                                                                                                                                                                                               1\n",
       "[ , Precio al contado: 27900 euros,  , Concesionario oficial Peugeot en Valencia con más de 50 Años de experiencia. Vehículo revisado en más de 100 puntos con el programa Spoticar de Peugeot. Posibilidad de financiar hasta 120 meses sin entrada. Garantizado 12 meses ampliable hasta 36 meses. Gestionamos también su seguro de coche a los mejores precios. Vehículo publicado con 3.400-€ de descuento al financiar con nuestra entidad financiera colaboradora una cantidad mínima de 10.000.-€ a 60 meses y entregando coche de más de 10 años., Este anuncio no es contractual y está sujeto a las condiciones de la campaña mensual. Le animamos, a consultar condiciones., EQUIPAMIENTOS:, Asientos de tela (material principal) y de cuero sintético (material secundario), Navegador con datos vía memoria interna/disco duro y pantalla a color de 10,0 \" con información en 3D y con voz, control mediante pantalla táctil y información de tráfico 25,4 y 36, Volante multi-función revestido de cuero ajustable en altura y en profundidad,  , Condiciones de la financiación,  , Consultar condiciones de financiación en este anuncio o contactando con el anunciante, See more]                                                                                                                                                                                                                                                                                                                                                                                                                                                                                                                                                                                                                                                                                                                                                                                                                                                                                                                                                                                                                                                                                                                                                                                                                                                                                                                                                                                                                                                                                                                                                                                                                                                                                                                                                                                                                                                                                                                                                                                                                                                                                                                                                                                                                                                                                                                                                                                                                                                                                                                                                                                                                                                                                                                                                                                                                                                                                                                                                                 1\n",
       "[Concessionaria Burnout che fa parte della Community NON PRENDERMI PER IL CHILOMETRO e da più di 10 anni sul mercato E' LIETA DI PRESENTARVI . Stupenda Peugeot 5008 1.6 hdi 120 cv 7 posti , Vettura tagliandata, garantita ,sanificata e ricondizionamento interni., SCOPRITE I NOSTRI VANTAGGI USATO GARANTITO E RICONDIZIONATO , * POSSIBILITA' PERMUTA USATO CON USATO, * FINANZIAMENTI PERSONALIZZATI. , * POSSIBILITA' DI ESTENDERE LA GARANZIA A 24 / 36 / 48 MESI , Optional:, specchi elettrici , Apple Car play, Cruise control, Completa cronologia tagliandi, vetri elettrici, Sensore pioggia , sensore luci, Unico proprietario, Sensori di parcheggio, E tanto altro ancora, Ci scusiamo per l'inconveniente ma a causa della non uniformità dei dati pubblicati dai diversi portali,vi invitiamo a verificare le caratteristiche dello specifico veicolo , * I nostri Consulenti sono a Sua disposizione tutti i giorni, dal lunedì al sabato, dalle 9.00 alle19 , WhatsApp Messenger  3473007167, See more]                                                                                                                                                                                                                                                                                                                                                                                                                                                                                                                                                                                                                                                                                                                                                                                                                                                                                                                                                                                                                                                                                                                                                                                                                                                                                                                                                                                                                                                                                                                                                                                                                                                                                                                                                                                                                                                                                                                                                                                                                                                                                                                                                                                                                                                                                                                                                                                                                                                                                                                                                                                                                                                                                                                                                                                                                                                                                                                                                                                                                                                                                                                                         1\n",
       "[Equipements supplémentaires : 2 sieges escamotables et extractibles pour les passagers du 3eme rang, Acces et demarrage mains libres, Accoudoir central AV a ouverture papillon, avec compartiment de rangement eclaire et refrigerable, Aide graphique et sonore au stationnement AR, Aide graphique et sonore au stationnement AV, Air conditionne automatique bi-zone avec aerateurs aux places AR, Airbags frontaux conducteur et passager adaptatifs (passager neutralisable par cle), airbags lateraux conducteur et passager AV, airbags rideaux de tete aux places AV et AR, Appuis-tete a securite optimisee reglables en hauteur sur les sieges conducteur et passager AV ainsi que sur les places laterales AR, Avertisseur de temps de conduite, Barres de toit longitudinales profilee en Aluminium, Boite a gants floquee et eclairee, Boitiers de retroviseurs exterieurs dans la couleur de la carrosserie, Calandre avec jonc peripherique et ailettes chromes, Ceintures de securite 3 points a enrouleur (x2) au 3eme rang, Ceintures de securite 3 points a enrouleur (x3) au 2eme rang, avec pretensionneurs et limiteurs d'effort aux places laterales, Ceintures de securite AV 3 points a enrouleur, reglables en hauteur avec pretensionneurs et limiteurs d'effort, Commande de verrouillage a distance (2 plips), Console centrale AV avec 2 porte-gobelets, Controle dynamique de stabilite CDS avec antipatinage electronique ASR, Decors de planche de bord et panneaux de portes en maille 'Brumeo', Decors interieurs (baguettes de planche de bord et panneaux de portes, enjoliveur de console) chromes, Detection de sous-gonflage indirecte, Direction assistee electrique, colonne de direction reglable en hauteur et profondeur (mecanique), Ecran tactile capacitif 8' et 'Toggles Switches', Enjoliveur d'arc de pavillon en inox, Enjoliveur de seuil d'entree de coffre chrome, Enjoliveur en inox sur les protecteurs de bas de portes, Essuie-vitre AR avec enclenchement automatique en marche AR, Essuie-vitre AV avec systeme de lavage 'Magic Wash', Fixations pour 3 sieges enfants suivant norme ISOFIX aux places du 2eme rang, Fonction 'Mirror Screen', Frein de stationnement electrique avec aide au demarrage en pente, Indicateur de rapport conseille, Inserts d'ailes AV chromes, Jantes alliage 18' 'Detroit' bi-ton diamantees, Kit de depannage de pneumatique : compresseur 12 volts, flacon de produit de colmatage, anneau de remorquage, deux cales de roue, manivelle de frein de stationnement electrique, Leve-vitres AR electriques et sequentiels avec antipincement, Leve-vitres AV electriques et sequentiels avec antipincement, Lunette AR chauffante avec antennes serigraphiees, Miroirs de courtoisie eclaires, Nouveau Peugeot i-Cockpit : combine tete haute numerique reconfigurable et volant compact multi-fonctions, Pack City 1, Pack Eclairage d'ambiance, Pack Safety Plus, Pack Visibilite, Passages de roues rapportes noirs, Peugeot Connect, Plafonnier AV avec spots de lecture (x2) et plafonniers a extinction temporisee aux 2eme et 3eme rangs, Poches/filets aumonieres au dos des sieges AV, Poignees de maintien (x4) retractables avec frein (crochets pour cintres aux places AR), Poignees de portes couleur carrosserie, Prise 12V (x3 : zone connectique, AR de console et coffre), Prise USB (dans la zone connectique), Projecteurs antibrouillard halogenes, Projecteurs halogenes a l'AV avec feux diurnes a LED, Radio 6 HP, bi-tuner compatible MP3 et connectivite Bluetooth (audio streaming, kit mains libres), avec commandes au volant, ecran tactile capacitif 8', Reconnaissance des panneaux de vitesse et preconisation de vitesse, Regulateur / Limiteur de vitesse, Retroviseurs exterieurs electriques degivrants, Retroviseurs exterieurs rabattables electriquement avec eclairage d'accueil a LED, Retroviseurs indexes a la marche AR, Rideaux pare-soleil (x2) pour les passagers du 2eme rang, Sabots de pare-chocs AV gris metallise, Securite enfants electrique des vitres AR, Sellerie TEP & Tissu 'Evron', Sieg, See more]     1\n",
       "[YOUNGTIMER !, Bedrijfsinformatie, NEEM VOOR U WILT KOMEN KIJKEN NAAR EEN AUTO TELEFONISCH CONTACT MET ONS OP 0162-313775 (optie 2) U BENT VAN HARTE WELKOM VOOR PROEFRIT! DINSDAG ALLEEN OP AFSPRAAK! , Overige informatie: Inruil, financiering, garantie of nieuwe apk zijn bespreekbaar. Inruil van uw auto, bus, bestelwagen,vrachtwagen , camper, caravan, boot, graafmachines tractoren of andere industriële equipment is mogelijk! Overdekte showroom 2500 M2 met 100 occasions op voorraad! Ons adres is Lage Ham 106 in Dongen. Openingstijden: Maandag: 9:00-18.00 Dinsdag: ALLEEN OP AFSPRAAK  woensdag t/m vrijdag: 09.00 t/m 18.00 zaterdag 09.00 t/m 14.00. Wij zijn bereikbaar op 0162-313 775 Verdere informatie: WWW.FOCD.NL. Voor informatie over afwijkende openingstijden wat betreft feestdagen kunt u terecht op onze home pagina van WWW.FOCD.NL, Meer informatie, Algemene informatie, Modeljaar: , 2001, Prestaties, Acceleratie (0-100): , 8,9 s, Topsnelheid: , 225 km/u, Maten, Afmetingen (LxBxH): , 482 x 183 x 145 cm, Wielbasis: , 279 cm, Gewichten, Laadvermogen: , 517 kg, GVW: , 2.090 kg, Max. trekgewicht: , 1.800 kg,  (ongeremd 500 kg), Financiële informatie, BTW/marge: , BTW niet verrekenbaar voor ondernemers (margeregeling), Motorrijtuigenbelasting: , € 230 - € 261,  per kwartaal, Aanvullende opties en accessoires, Exterieur, Metaalkleur vernis of parelmoerlak, Buitenspiegels elektrisch verstel- en verwarmbaar, Buitenspiegels in carrosseriekleur, Elektronische remkrachtverdeling, koplampreiniging, Trekhaak afneembaar, Infotainment, Navigatiesysteem en autotelefoon, Interieur, Achterbank verwarmd, Armsteun achter, Armsteun voor, Elektrische ramen voor en achter, Elektrisch rolgordijn voor achterruit, Elektrisch verstelbare bestuurdersstoel, Hoofdsteunen voor en achter, Houtafwerking interieur, Lendesteunen (verstelbaar), Stuur verstelbaar, Voorstoelen in hoogte verstelbaar, Voorstoelen verwarmd, Veiligheid, Airbag(s) hoofd voor, Alarm klasse 1(startblokkering), Alarm klasse 3, Side Impact Protection System, See more]                                                                                                                                                                                                                                                                                                                                                                                                                                                                                                                                                                                                                                                                                                                                                                                                                                                                                                                                                                                                                                                                                                                                                                                                                                                                                                                                                                                                                                                                                                                                                                                                                                                                                                                                                                                                                                                                                                                                                                                                                                                 1\n",
       "Name: count, Length: 23241, dtype: int64"
      ]
     },
     "execution_count": 89,
     "metadata": {},
     "output_type": "execute_result"
    }
   ],
   "source": [
    "df['desc'].value_counts()"
   ]
  },
  {
   "cell_type": "markdown",
   "metadata": {},
   "source": [
    "## Seller"
   ]
  },
  {
   "cell_type": "code",
   "execution_count": 90,
   "metadata": {},
   "outputs": [
    {
     "data": {
      "text/plain": [
       "seller\n",
       "Dealer            26318\n",
       "Private seller     2312\n",
       "Name: count, dtype: int64"
      ]
     },
     "execution_count": 90,
     "metadata": {},
     "output_type": "execute_result"
    }
   ],
   "source": [
    "df['seller'].value_counts(dropna=False)"
   ]
  },
  {
   "cell_type": "code",
   "execution_count": 91,
   "metadata": {},
   "outputs": [
    {
     "name": "stdout",
     "output_type": "stream",
     "text": [
      "<class 'pandas.core.series.Series'>\n",
      "Index: 28630 entries, 0 to 29478\n",
      "Series name: seller\n",
      "Non-Null Count  Dtype \n",
      "--------------  ----- \n",
      "28630 non-null  object\n",
      "dtypes: object(1)\n",
      "memory usage: 447.3+ KB\n"
     ]
    }
   ],
   "source": [
    "df['seller'].info()"
   ]
  },
  {
   "cell_type": "code",
   "execution_count": 92,
   "metadata": {},
   "outputs": [],
   "source": [
    "df['seller']=df['seller'].astype('string')"
   ]
  },
  {
   "cell_type": "code",
   "execution_count": 93,
   "metadata": {},
   "outputs": [
    {
     "name": "stdout",
     "output_type": "stream",
     "text": [
      "<class 'pandas.core.series.Series'>\n",
      "Index: 28630 entries, 0 to 29478\n",
      "Series name: seller\n",
      "Non-Null Count  Dtype \n",
      "--------------  ----- \n",
      "28630 non-null  string\n",
      "dtypes: string(1)\n",
      "memory usage: 447.3 KB\n"
     ]
    }
   ],
   "source": [
    "df['seller'].info()"
   ]
  },
  {
   "cell_type": "markdown",
   "metadata": {},
   "source": [
    "## Seats"
   ]
  },
  {
   "cell_type": "code",
   "execution_count": 94,
   "metadata": {},
   "outputs": [
    {
     "data": {
      "text/plain": [
       "seats\n",
       "[\\n, 5, \\n]     18308\n",
       "[\\n, 4, \\n]      5390\n",
       "NaN              3125\n",
       "[\\n, 2, \\n]      1186\n",
       "[\\n, 7, \\n]       488\n",
       "[\\n, 8, \\n]        43\n",
       "[\\n, 9, \\n]        35\n",
       "[\\n, 3, \\n]        25\n",
       "[\\n, 6, \\n]        12\n",
       "[\\n, 0, \\n]         9\n",
       "[\\n, 1, \\n]         7\n",
       "[\\n, 17, \\n]        2\n",
       "Name: count, dtype: int64"
      ]
     },
     "execution_count": 94,
     "metadata": {},
     "output_type": "execute_result"
    }
   ],
   "source": [
    "df['seats'].value_counts(dropna=False)"
   ]
  },
  {
   "cell_type": "code",
   "execution_count": 95,
   "metadata": {},
   "outputs": [],
   "source": [
    "df['seats']=df['seats'].apply(lambda item : item[0] if type(item)==list else item)"
   ]
  },
  {
   "cell_type": "code",
   "execution_count": 96,
   "metadata": {},
   "outputs": [],
   "source": [
    "df['seats']=df['seats'].str.strip('\\n, ')"
   ]
  },
  {
   "cell_type": "code",
   "execution_count": 97,
   "metadata": {},
   "outputs": [
    {
     "data": {
      "text/plain": [
       "seats\n",
       "5      18308\n",
       "4       5390\n",
       "NaN     3125\n",
       "2       1186\n",
       "7        488\n",
       "8         43\n",
       "9         35\n",
       "3         25\n",
       "6         12\n",
       "0          9\n",
       "1          7\n",
       "17         2\n",
       "Name: count, dtype: int64"
      ]
     },
     "execution_count": 97,
     "metadata": {},
     "output_type": "execute_result"
    }
   ],
   "source": [
    "df['seats'].value_counts(dropna=False)"
   ]
  },
  {
   "cell_type": "markdown",
   "metadata": {},
   "source": [
    "## Power"
   ]
  },
  {
   "cell_type": "code",
   "execution_count": 98,
   "metadata": {},
   "outputs": [
    {
     "data": {
      "text/plain": [
       "power\n",
       "[\\n110 kW (150 hp)\\n]      1992\n",
       "[\\n96 kW (131 hp)\\n]       1356\n",
       "[\\n88 kW (120 hp)\\n]       1182\n",
       "[\\n81 kW (110 hp)\\n]       1166\n",
       "[\\n66 kW (90 hp)\\n]        1110\n",
       "                           ... \n",
       "[\\n746 kW (1,014 hp)\\n]       1\n",
       "[\\n570 kW (775 hp)\\n]         1\n",
       "[\\n471 kW (640 hp)\\n]         1\n",
       "[\\n179 kW (243 hp)\\n]         1\n",
       "[\\n26 kW (35 hp)\\n]           1\n",
       "Name: count, Length: 352, dtype: int64"
      ]
     },
     "execution_count": 98,
     "metadata": {},
     "output_type": "execute_result"
    }
   ],
   "source": [
    "df['power'].value_counts(dropna=False)"
   ]
  },
  {
   "cell_type": "code",
   "execution_count": 99,
   "metadata": {},
   "outputs": [
    {
     "data": {
      "text/plain": [
       "572"
      ]
     },
     "execution_count": 99,
     "metadata": {},
     "output_type": "execute_result"
    }
   ],
   "source": [
    "df.power.isna().sum() "
   ]
  },
  {
   "cell_type": "code",
   "execution_count": 100,
   "metadata": {},
   "outputs": [],
   "source": [
    "df['power']=df['power'].apply(lambda item : item[0] if type(item)==list else item)"
   ]
  },
  {
   "cell_type": "code",
   "execution_count": 101,
   "metadata": {},
   "outputs": [],
   "source": [
    "df[\"power\"] = df[\"power\"].str.extract(r\"\\n(\\d+) \")"
   ]
  },
  {
   "cell_type": "code",
   "execution_count": 102,
   "metadata": {},
   "outputs": [
    {
     "data": {
      "text/plain": [
       "572"
      ]
     },
     "execution_count": 102,
     "metadata": {},
     "output_type": "execute_result"
    }
   ],
   "source": [
    "df.power.isna().sum() "
   ]
  },
  {
   "cell_type": "code",
   "execution_count": 103,
   "metadata": {},
   "outputs": [
    {
     "data": {
      "text/plain": [
       "0        NaN\n",
       "1        215\n",
       "2        310\n",
       "3        225\n",
       "4        100\n",
       "        ... \n",
       "29474    288\n",
       "29475    125\n",
       "29476     84\n",
       "29477    187\n",
       "29478    147\n",
       "Name: power, Length: 28630, dtype: object"
      ]
     },
     "execution_count": 103,
     "metadata": {},
     "output_type": "execute_result"
    }
   ],
   "source": [
    "df['power']"
   ]
  },
  {
   "cell_type": "markdown",
   "metadata": {},
   "source": [
    "## Engine Size"
   ]
  },
  {
   "cell_type": "code",
   "execution_count": 104,
   "metadata": {},
   "outputs": [
    {
     "data": {
      "text/plain": [
       "engine_size\n",
       "[\\n1,598 cc\\n]    2099\n",
       "[\\n999 cc\\n]      2068\n",
       "[\\n1,969 cc\\n]    1929\n",
       "NaN               1403\n",
       "[\\n1,461 cc\\n]    1110\n",
       "                  ... \n",
       "[\\n2,753 cc\\n]       1\n",
       "[\\n2,495 cc\\n]       1\n",
       "[\\n200 cc\\n]         1\n",
       "[\\n3,224 cc\\n]       1\n",
       "[\\n2,473 cc\\n]       1\n",
       "Name: count, Length: 468, dtype: int64"
      ]
     },
     "execution_count": 104,
     "metadata": {},
     "output_type": "execute_result"
    }
   ],
   "source": [
    "df['engine_size'].value_counts(dropna=False)"
   ]
  },
  {
   "cell_type": "code",
   "execution_count": 105,
   "metadata": {},
   "outputs": [],
   "source": [
    "df['engine_size']=df['engine_size'].apply(lambda item : item[0] if type(item)==list else item)"
   ]
  },
  {
   "cell_type": "code",
   "execution_count": 106,
   "metadata": {},
   "outputs": [],
   "source": [
    "df['engine_size']=df['engine_size'].str.replace(',', '').str.extract('(\\d+)')"
   ]
  },
  {
   "cell_type": "code",
   "execution_count": 107,
   "metadata": {},
   "outputs": [
    {
     "data": {
      "text/plain": [
       "engine_size\n",
       "1598    2099\n",
       "999     2068\n",
       "1969    1929\n",
       "NaN     1403\n",
       "1461    1110\n",
       "        ... \n",
       "2753       1\n",
       "2495       1\n",
       "200        1\n",
       "3224       1\n",
       "2473       1\n",
       "Name: count, Length: 468, dtype: int64"
      ]
     },
     "execution_count": 107,
     "metadata": {},
     "output_type": "execute_result"
    }
   ],
   "source": [
    "df['engine_size'].value_counts(dropna=False) "
   ]
  },
  {
   "cell_type": "markdown",
   "metadata": {},
   "source": [
    "## Gears"
   ]
  },
  {
   "cell_type": "code",
   "execution_count": 108,
   "metadata": {},
   "outputs": [
    {
     "data": {
      "text/plain": [
       "gears\n",
       "NaN         9676\n",
       "[\\n6\\n]     8412\n",
       "[\\n5\\n]     5335\n",
       "[\\n7\\n]     1738\n",
       "[\\n8\\n]     1690\n",
       "[\\n1\\n]      712\n",
       "[\\n9\\n]      642\n",
       "[\\n4\\n]      256\n",
       "[\\n10\\n]     112\n",
       "[\\n0\\n]       31\n",
       "[\\n3\\n]       24\n",
       "[\\n2\\n]        2\n",
       "Name: count, dtype: int64"
      ]
     },
     "execution_count": 108,
     "metadata": {},
     "output_type": "execute_result"
    }
   ],
   "source": [
    "df['gears'].value_counts(dropna=False)"
   ]
  },
  {
   "cell_type": "code",
   "execution_count": 109,
   "metadata": {},
   "outputs": [],
   "source": [
    "df['gears']=df['gears'].apply(lambda item : item[0] if type(item)==list else item)"
   ]
  },
  {
   "cell_type": "code",
   "execution_count": 110,
   "metadata": {},
   "outputs": [],
   "source": [
    "df['gears']=df['gears'].str.strip('\\n')"
   ]
  },
  {
   "cell_type": "code",
   "execution_count": 111,
   "metadata": {},
   "outputs": [
    {
     "data": {
      "text/plain": [
       "gears\n",
       "NaN    9676\n",
       "6      8412\n",
       "5      5335\n",
       "7      1738\n",
       "8      1690\n",
       "1       712\n",
       "9       642\n",
       "4       256\n",
       "10      112\n",
       "0        31\n",
       "3        24\n",
       "2         2\n",
       "Name: count, dtype: int64"
      ]
     },
     "execution_count": 111,
     "metadata": {},
     "output_type": "execute_result"
    }
   ],
   "source": [
    "df['gears'].value_counts(dropna=False)  "
   ]
  },
  {
   "cell_type": "markdown",
   "metadata": {},
   "source": [
    "## Co Emissions"
   ]
  },
  {
   "cell_type": "code",
   "execution_count": 112,
   "metadata": {},
   "outputs": [
    {
     "data": {
      "text/plain": [
       "co_emissions\n",
       "NaN                  10036\n",
       "0 g/km (comb.)        1038\n",
       "119 g/km (comb.)       393\n",
       "124 g/km (comb.)       340\n",
       "129 g/km (comb.)       319\n",
       "                     ...  \n",
       "7 g/km (comb.)           1\n",
       "80 g/km (comb.)          1\n",
       "196  g/km (comb.)        1\n",
       "100  g/km (comb.)        1\n",
       "53 g/km (comb.)          1\n",
       "Name: count, Length: 348, dtype: int64"
      ]
     },
     "execution_count": 112,
     "metadata": {},
     "output_type": "execute_result"
    }
   ],
   "source": [
    "df['co_emissions'].value_counts(dropna=False)"
   ]
  },
  {
   "cell_type": "code",
   "execution_count": 113,
   "metadata": {},
   "outputs": [],
   "source": [
    "df['co_emissions']=df['co_emissions'].str.extract('(\\d+)')"
   ]
  },
  {
   "cell_type": "code",
   "execution_count": 114,
   "metadata": {},
   "outputs": [
    {
     "data": {
      "text/plain": [
       "co_emissions\n",
       "NaN    10036\n",
       "0       1040\n",
       "119      393\n",
       "124      340\n",
       "129      319\n",
       "       ...  \n",
       "332        1\n",
       "70         1\n",
       "338        1\n",
       "342        1\n",
       "53         1\n",
       "Name: count, Length: 327, dtype: int64"
      ]
     },
     "execution_count": 114,
     "metadata": {},
     "output_type": "execute_result"
    }
   ],
   "source": [
    "df['co_emissions'].value_counts(dropna=False) "
   ]
  },
  {
   "cell_type": "markdown",
   "metadata": {},
   "source": [
    "## Manufacturer Colour"
   ]
  },
  {
   "cell_type": "code",
   "execution_count": 115,
   "metadata": {},
   "outputs": [
    {
     "data": {
      "text/plain": [
       "manufacturer_colour\n",
       "NaN                               6843\n",
       "Blanco                            1235\n",
       "Gris                               671\n",
       "Azul                               552\n",
       "Negro                              546\n",
       "                                  ... \n",
       "Colore esterno (snowflake whit       1\n",
       "Pompeigraumetallic                   1\n",
       "Cararragrau                          1\n",
       "ICE WHITE (wit metallic)             1\n",
       "Denim Blue metallic (blauw met       1\n",
       "Name: count, Length: 4964, dtype: int64"
      ]
     },
     "execution_count": 115,
     "metadata": {},
     "output_type": "execute_result"
    }
   ],
   "source": [
    "df['manufacturer_colour'].value_counts(dropna=False)"
   ]
  },
  {
   "cell_type": "markdown",
   "metadata": {},
   "source": [
    "## Drive Train"
   ]
  },
  {
   "cell_type": "code",
   "execution_count": 116,
   "metadata": {},
   "outputs": [
    {
     "data": {
      "text/plain": [
       "drivetrain\n",
       "[\\n, Front, \\n]    12066\n",
       "NaN                11737\n",
       "[\\n, 4WD, \\n]       3252\n",
       "[\\n, Rear, \\n]      1575\n",
       "Name: count, dtype: int64"
      ]
     },
     "execution_count": 116,
     "metadata": {},
     "output_type": "execute_result"
    }
   ],
   "source": [
    "df['drivetrain'].value_counts(dropna=False)"
   ]
  },
  {
   "cell_type": "code",
   "execution_count": 117,
   "metadata": {},
   "outputs": [],
   "source": [
    "df['drivetrain']=df['drivetrain'].apply(lambda item : item[0] if type(item)==list else item)"
   ]
  },
  {
   "cell_type": "code",
   "execution_count": 118,
   "metadata": {},
   "outputs": [],
   "source": [
    "df['drivetrain']=df['drivetrain'].str.strip('\\n, ')"
   ]
  },
  {
   "cell_type": "code",
   "execution_count": 119,
   "metadata": {},
   "outputs": [
    {
     "data": {
      "text/plain": [
       "drivetrain\n",
       "Front    12066\n",
       "NaN      11737\n",
       "4WD       3252\n",
       "Rear      1575\n",
       "Name: count, dtype: int64"
      ]
     },
     "execution_count": 119,
     "metadata": {},
     "output_type": "execute_result"
    }
   ],
   "source": [
    "df['drivetrain'].value_counts(dropna=False)"
   ]
  },
  {
   "cell_type": "markdown",
   "metadata": {},
   "source": [
    "## Cylinders"
   ]
  },
  {
   "cell_type": "code",
   "execution_count": 120,
   "metadata": {},
   "outputs": [
    {
     "data": {
      "text/plain": [
       "cylinders\n",
       "[\\n4\\n]     13068\n",
       "NaN          9778\n",
       "[\\n3\\n]      3258\n",
       "[\\n6\\n]      1013\n",
       "[\\n5\\n]       799\n",
       "[\\n8\\n]       539\n",
       "[\\n2\\n]       103\n",
       "[\\n0\\n]        35\n",
       "[\\n1\\n]        21\n",
       "[\\n12\\n]        8\n",
       "[\\n7\\n]         6\n",
       "[\\n26\\n]        1\n",
       "[\\n16\\n]        1\n",
       "Name: count, dtype: int64"
      ]
     },
     "execution_count": 120,
     "metadata": {},
     "output_type": "execute_result"
    }
   ],
   "source": [
    "df['cylinders'].value_counts(dropna=False)"
   ]
  },
  {
   "cell_type": "code",
   "execution_count": 121,
   "metadata": {},
   "outputs": [],
   "source": [
    "df['cylinders']=df['cylinders'].apply(lambda item : item[0] if type(item)==list else item)"
   ]
  },
  {
   "cell_type": "code",
   "execution_count": 122,
   "metadata": {},
   "outputs": [],
   "source": [
    "df['cylinders']=df['cylinders'].str.strip('\\n')"
   ]
  },
  {
   "cell_type": "code",
   "execution_count": 123,
   "metadata": {},
   "outputs": [
    {
     "data": {
      "text/plain": [
       "cylinders\n",
       "4      13068\n",
       "NaN     9778\n",
       "3       3258\n",
       "6       1013\n",
       "5        799\n",
       "8        539\n",
       "2        103\n",
       "0         35\n",
       "1         21\n",
       "12         8\n",
       "7          6\n",
       "26         1\n",
       "16         1\n",
       "Name: count, dtype: int64"
      ]
     },
     "execution_count": 123,
     "metadata": {},
     "output_type": "execute_result"
    }
   ],
   "source": [
    "df['cylinders'].value_counts(dropna=False) "
   ]
  },
  {
   "cell_type": "markdown",
   "metadata": {},
   "source": [
    "## Fuel Consumption"
   ]
  },
  {
   "cell_type": "code",
   "execution_count": 124,
   "metadata": {},
   "outputs": [
    {
     "data": {
      "text/plain": [
       "fuel_consumption\n",
       "NaN                                                                            5245\n",
       "[[0 l/100 km (comb.)]]                                                          330\n",
       "[[0 l/100 km (comb.)], [0 l/100 km (city)], [0 l/100 km (country)]]             306\n",
       "[[3.4 l/100 km (comb.)], [3.7 l/100 km (city)], [3.2 l/100 km (country)]]       170\n",
       "[[4 l/100 km (comb.)]]                                                          149\n",
       "                                                                               ... \n",
       "[[14.2 l/100 km (comb.)], [21.3 l/100 km (city)], [10 l/100 km (country)]]        1\n",
       "[[3.5 l/100 km (comb.)], [4.4 l/100 km (city)], [2.9 l/100 km (country)]]         1\n",
       "[[4.5 l/100 km (comb.)], [6.2 l/100 km (city)], [3.5 l/100 km (country)]]         1\n",
       "[[4.9 l/100 km (comb.)], [99.9 l/100 km (city)], [98 l/100 km (country)]]         1\n",
       "[[10.4 l/100 km (comb.)], [15.3 l/100 km (city)], [7.6 l/100 km (country)]]       1\n",
       "Name: count, Length: 3453, dtype: int64"
      ]
     },
     "execution_count": 124,
     "metadata": {},
     "output_type": "execute_result"
    }
   ],
   "source": [
    "df['fuel_consumption'].value_counts(dropna=False)"
   ]
  },
  {
   "cell_type": "code",
   "execution_count": 125,
   "metadata": {},
   "outputs": [
    {
     "data": {
      "text/plain": [
       "0                            NaN\n",
       "1                            NaN\n",
       "2         [8.4 l/100 km (comb.)]\n",
       "3         [7.3 l/100 km (comb.)]\n",
       "4         [4.9 l/100 km (comb.)]\n",
       "                  ...           \n",
       "29474       [2 l/100 km (comb.)]\n",
       "29475     [9.1 l/100 km (comb.)]\n",
       "29476     [3.8 l/100 km (comb.)]\n",
       "29477     [6.5 l/100 km (comb.)]\n",
       "29478    [10.4 l/100 km (comb.)]\n",
       "Name: fuel_consumption, Length: 28630, dtype: object"
      ]
     },
     "execution_count": 125,
     "metadata": {},
     "output_type": "execute_result"
    }
   ],
   "source": [
    "df['fuel_consumption']= [item[0] if type(item)== list else item for item in df['fuel_consumption']]\n",
    "df['fuel_consumption']"
   ]
  },
  {
   "cell_type": "code",
   "execution_count": 126,
   "metadata": {},
   "outputs": [
    {
     "data": {
      "text/plain": [
       "0                          NaN\n",
       "1                          NaN\n",
       "2         8.4 l/100 km (comb.)\n",
       "3         7.3 l/100 km (comb.)\n",
       "4         4.9 l/100 km (comb.)\n",
       "                 ...          \n",
       "29474       2 l/100 km (comb.)\n",
       "29475     9.1 l/100 km (comb.)\n",
       "29476     3.8 l/100 km (comb.)\n",
       "29477     6.5 l/100 km (comb.)\n",
       "29478    10.4 l/100 km (comb.)\n",
       "Name: fuel_consumption, Length: 28630, dtype: object"
      ]
     },
     "execution_count": 126,
     "metadata": {},
     "output_type": "execute_result"
    }
   ],
   "source": [
    "df['fuel_consumption']= df['fuel_consumption'].apply(lambda item : item[0] if type(item)==list else item)\n",
    "df['fuel_consumption']"
   ]
  },
  {
   "cell_type": "markdown",
   "metadata": {},
   "source": [
    "## Comfort Convenience"
   ]
  },
  {
   "cell_type": "code",
   "execution_count": 127,
   "metadata": {},
   "outputs": [
    {
     "data": {
      "text/plain": [
       "comfort_convenience\n",
       "NaN                                                                                                                                                                                                                                                                                                                                                                                                              3197\n",
       "[Air conditioning, Automatic climate control, Electrical side mirrors, Multi-function steering wheel, Power windows]                                                                                                                                                                                                                                                                                              244\n",
       "[Air conditioning, Automatic climate control, Cruise control]                                                                                                                                                                                                                                                                                                                                                     171\n",
       "[Air conditioning, Automatic climate control, Cruise control, Electrical side mirrors, Multi-function steering wheel, Power windows]                                                                                                                                                                                                                                                                              168\n",
       "[Air conditioning]                                                                                                                                                                                                                                                                                                                                                                                                157\n",
       "                                                                                                                                                                                                                                                                                                                                                                                                                 ... \n",
       "[Armrest, Automatic climate control, 2 zones, Cruise control, Fold flat passenger seat, Hill Holder, Leather steering wheel, Light sensor, Lumbar support, Multi-function steering wheel, Navigation system, Parking assist system sensors rear, Power windows, Rain sensor, Seat heating, Split rear seats, Start-stop system]                                                                                     1\n",
       "[Air conditioning, Armrest, Automatic climate control, Cruise control, Electric tailgate, Electrical side mirrors, Hill Holder, Keyless central door lock, Leather steering wheel, Light sensor, Multi-function steering wheel, Navigation system, Parking assist system sensors front, Parking assist system sensors rear, Power windows, Rain sensor, Seat heating]                                               1\n",
       "[Armrest, Automatic climate control, 2 zones, Cruise control, Electrical side mirrors, Fold flat passenger seat, Hill Holder, Leather steering wheel, Light sensor, Lumbar support, Multi-function steering wheel, Navigation system, Parking assist system sensors front, Parking assist system sensors rear, Power windows, Rain sensor, Seat heating, Split rear seats, Start-stop system, Tinted windows]       1\n",
       "[Armrest, Automatic climate control, 2 zones, Cruise control, Electrical side mirrors, Hill Holder, Keyless central door lock, Leather steering wheel, Light sensor, Multi-function steering wheel, Parking assist system camera, Parking assist system sensors front, Parking assist system sensors rear, Power windows, Rain sensor, Seat heating, Split rear seats, Start-stop system, Tinted windows]           1\n",
       "[Air conditioning, Armrest, Cruise control, Electrical side mirrors, Leather steering wheel, Lumbar support, Multi-function steering wheel, Navigation system, Power windows, Seat heating, Tinted windows]                                                                                                                                                                                                         1\n",
       "Name: count, Length: 14439, dtype: int64"
      ]
     },
     "execution_count": 127,
     "metadata": {},
     "output_type": "execute_result"
    }
   ],
   "source": [
    "df['comfort_convenience'].value_counts(dropna=False)"
   ]
  },
  {
   "cell_type": "code",
   "execution_count": 128,
   "metadata": {},
   "outputs": [],
   "source": [
    "df[\"comfort_convenience\"] = [\",\".join(item) if type (item) ==list else item for item in df[\"comfort_convenience\"]]"
   ]
  },
  {
   "cell_type": "code",
   "execution_count": 129,
   "metadata": {},
   "outputs": [],
   "source": [
    "df[\"comfort_convenience\"] = df[\"comfort_convenience\"].astype(\"str\")"
   ]
  },
  {
   "cell_type": "code",
   "execution_count": 130,
   "metadata": {},
   "outputs": [],
   "source": [
    "df[\"comfort_convenience\"] = df[\"comfort_convenience\"].str.lower()"
   ]
  },
  {
   "cell_type": "code",
   "execution_count": 131,
   "metadata": {},
   "outputs": [
    {
     "data": {
      "text/plain": [
       "comfort_convenience\n",
       "nan                                                                                                                                                                                                                                                                                                                                                                                                            3197\n",
       "air conditioning, automatic climate control, electrical side mirrors, multi-function steering wheel, power windows                                                                                                                                                                                                                                                                                              244\n",
       "air conditioning, automatic climate control, cruise control                                                                                                                                                                                                                                                                                                                                                     171\n",
       "air conditioning, automatic climate control, cruise control, electrical side mirrors, multi-function steering wheel, power windows                                                                                                                                                                                                                                                                              168\n",
       "air conditioning                                                                                                                                                                                                                                                                                                                                                                                                157\n",
       "                                                                                                                                                                                                                                                                                                                                                                                                               ... \n",
       "armrest, automatic climate control, 2 zones, cruise control, fold flat passenger seat, hill holder, leather steering wheel, light sensor, lumbar support, multi-function steering wheel, navigation system, parking assist system sensors rear, power windows, rain sensor, seat heating, split rear seats, start-stop system                                                                                     1\n",
       "air conditioning, armrest, automatic climate control, cruise control, electric tailgate, electrical side mirrors, hill holder, keyless central door lock, leather steering wheel, light sensor, multi-function steering wheel, navigation system, parking assist system sensors front, parking assist system sensors rear, power windows, rain sensor, seat heating                                               1\n",
       "armrest, automatic climate control, 2 zones, cruise control, electrical side mirrors, fold flat passenger seat, hill holder, leather steering wheel, light sensor, lumbar support, multi-function steering wheel, navigation system, parking assist system sensors front, parking assist system sensors rear, power windows, rain sensor, seat heating, split rear seats, start-stop system, tinted windows       1\n",
       "armrest, automatic climate control, 2 zones, cruise control, electrical side mirrors, hill holder, keyless central door lock, leather steering wheel, light sensor, multi-function steering wheel, parking assist system camera, parking assist system sensors front, parking assist system sensors rear, power windows, rain sensor, seat heating, split rear seats, start-stop system, tinted windows           1\n",
       "air conditioning, armrest, cruise control, electrical side mirrors, leather steering wheel, lumbar support, multi-function steering wheel, navigation system, power windows, seat heating, tinted windows                                                                                                                                                                                                         1\n",
       "Name: count, Length: 14439, dtype: int64"
      ]
     },
     "execution_count": 131,
     "metadata": {},
     "output_type": "execute_result"
    }
   ],
   "source": [
    "df['comfort_convenience'].value_counts(dropna=False)"
   ]
  },
  {
   "cell_type": "markdown",
   "metadata": {},
   "source": [
    "## Entertainment Media"
   ]
  },
  {
   "cell_type": "code",
   "execution_count": 132,
   "metadata": {},
   "outputs": [],
   "source": [
    "df[\"entertainment_media\"] = [\",\".join(item) if type (item) ==list else item for item in df[\"entertainment_media\"]]"
   ]
  },
  {
   "cell_type": "code",
   "execution_count": 133,
   "metadata": {},
   "outputs": [],
   "source": [
    "df[\"entertainment_media\"] = df[\"entertainment_media\"].astype(\"str\")\n",
    "df[\"entertainment_media\"] = df[\"entertainment_media\"].str.lower()"
   ]
  },
  {
   "cell_type": "code",
   "execution_count": 134,
   "metadata": {},
   "outputs": [
    {
     "data": {
      "text/plain": [
       "entertainment_media\n",
       "nan                                                                                                                                                                        4986\n",
       "bluetooth, usb                                                                                                                                                              753\n",
       "bluetooth                                                                                                                                                                   665\n",
       "on-board computer                                                                                                                                                           662\n",
       "cd player, on-board computer, radio                                                                                                                                         644\n",
       "                                                                                                                                                                           ... \n",
       "android auto, apple carplay, bluetooth, digital cockpit, digital radio, induction charging for smartphones, on-board computer, radio, sound system, wlan / wifi hotspot       1\n",
       "bluetooth, cd player, digital cockpit, digital radio, hands-free equipment, integrated music streaming, on-board computer, sound system, usb, wlan / wifi hotspot             1\n",
       "digital cockpit, digital radio, on-board computer, radio                                                                                                                      1\n",
       "android auto, apple carplay, digital radio, on-board computer, radio, sound system, usb, wlan / wifi hotspot                                                                  1\n",
       "hands-free equipment, integrated music streaming, on-board computer, radio, usb                                                                                               1\n",
       "Name: count, Length: 1945, dtype: int64"
      ]
     },
     "execution_count": 134,
     "metadata": {},
     "output_type": "execute_result"
    }
   ],
   "source": [
    "df[\"entertainment_media\"].value_counts(dropna=False)"
   ]
  },
  {
   "cell_type": "markdown",
   "metadata": {},
   "source": [
    "## Safety&Security"
   ]
  },
  {
   "cell_type": "code",
   "execution_count": 135,
   "metadata": {},
   "outputs": [
    {
     "data": {
      "text/plain": [
       "safety_security\n",
       "NaN                                                                                                                                                                                                                                                                                                                                                                                                                                                                                                                            3215\n",
       "[Isofix]                                                                                                                                                                                                                                                                                                                                                                                                                                                                                                                        380\n",
       "[ABS, Central door lock, Driver-side airbag, Electronic stability control, Immobilizer, Isofix, Passenger-side airbag, Power steering, Side airbag]                                                                                                                                                                                                                                                                                                                                                                             328\n",
       "[ABS, Central door lock, Driver-side airbag, Immobilizer, Isofix, Passenger-side airbag, Power steering, Side airbag, Traction control]                                                                                                                                                                                                                                                                                                                                                                                         125\n",
       "[ABS, Central door lock, Driver-side airbag, Electronic stability control, Fog lights, Isofix, Power steering, Side airbag]                                                                                                                                                                                                                                                                                                                                                                                                     121\n",
       "                                                                                                                                                                                                                                                                                                                                                                                                                                                                                                                               ... \n",
       "[Daytime running lights, Emergency brake assistant, Fog lights, Isofix, LED Daytime Running Lights, Lane departure warning system, Power steering, Tire pressure monitoring system]                                                                                                                                                                                                                                                                                                                                               1\n",
       "[ABS, Adaptive Cruise Control, Central door lock, Daytime running lights, Driver drowsiness detection, Driver-side airbag, Electronic stability control, Emergency brake assistant, Emergency system, Fog lights, Full-LED headlights, Glare-free high beam headlights, Immobilizer, Isofix, LED Headlights, Lane departure warning system, Passenger-side airbag, Power steering, Side airbag, Tire pressure monitoring system, Traction control]                                                                                1\n",
       "[ABS, Driver-side airbag, Electronic stability control, Emergency brake assistant, Immobilizer, LED Daytime Running Lights, Passenger-side airbag, Side airbag, Tire pressure monitoring system, Traction control]                                                                                                                                                                                                                                                                                                                1\n",
       "[ABS, Blind spot monitor, Central door lock, Daytime running lights, Distance warning system, Driver drowsiness detection, Driver-side airbag, Electronic stability control, Emergency system, Fog lights, Full-LED headlights, Head airbag, High beam assist, Immobilizer, Isofix, LED Daytime Running Lights, LED Headlights, Lane departure warning system, Passenger-side airbag, Power steering, Side airbag, Speed limit control system, Tire pressure monitoring system, Traction control, Traffic sign recognition]       1\n",
       "[ABS, Alarm system, Central door lock, Central door lock with remote control, Driver-side airbag, Electronic stability control, Fog lights, Head airbag, Immobilizer, Power steering, Side airbag, Traction control]                                                                                                                                                                                                                                                                                                              1\n",
       "Name: count, Length: 12550, dtype: int64"
      ]
     },
     "execution_count": 135,
     "metadata": {},
     "output_type": "execute_result"
    }
   ],
   "source": [
    "df[\"safety_security\"].value_counts(dropna=False)"
   ]
  },
  {
   "cell_type": "code",
   "execution_count": 136,
   "metadata": {},
   "outputs": [],
   "source": [
    "df[\"safety_security\"] = [\",\".join(item) if type (item) ==list else item for item in df[\"safety_security\"]]"
   ]
  },
  {
   "cell_type": "code",
   "execution_count": 137,
   "metadata": {},
   "outputs": [],
   "source": [
    "df[\"safety_security\"] = df[\"safety_security\"].astype(\"str\")\n",
    "df[\"safety_security\"] = df[\"safety_security\"].str.lower()"
   ]
  },
  {
   "cell_type": "code",
   "execution_count": 138,
   "metadata": {},
   "outputs": [
    {
     "data": {
      "text/plain": [
       "safety_security\n",
       "nan                                                                                                                                                                                                                                                                                                                                                                                                                                                                                                                          3215\n",
       "isofix                                                                                                                                                                                                                                                                                                                                                                                                                                                                                                                        380\n",
       "abs, central door lock, driver-side airbag, electronic stability control, immobilizer, isofix, passenger-side airbag, power steering, side airbag                                                                                                                                                                                                                                                                                                                                                                             328\n",
       "abs, central door lock, driver-side airbag, immobilizer, isofix, passenger-side airbag, power steering, side airbag, traction control                                                                                                                                                                                                                                                                                                                                                                                         125\n",
       "abs, central door lock, driver-side airbag, electronic stability control, fog lights, isofix, power steering, side airbag                                                                                                                                                                                                                                                                                                                                                                                                     121\n",
       "                                                                                                                                                                                                                                                                                                                                                                                                                                                                                                                             ... \n",
       "daytime running lights, emergency brake assistant, fog lights, isofix, led daytime running lights, lane departure warning system, power steering, tire pressure monitoring system                                                                                                                                                                                                                                                                                                                                               1\n",
       "abs, adaptive cruise control, central door lock, daytime running lights, driver drowsiness detection, driver-side airbag, electronic stability control, emergency brake assistant, emergency system, fog lights, full-led headlights, glare-free high beam headlights, immobilizer, isofix, led headlights, lane departure warning system, passenger-side airbag, power steering, side airbag, tire pressure monitoring system, traction control                                                                                1\n",
       "abs, driver-side airbag, electronic stability control, emergency brake assistant, immobilizer, led daytime running lights, passenger-side airbag, side airbag, tire pressure monitoring system, traction control                                                                                                                                                                                                                                                                                                                1\n",
       "abs, blind spot monitor, central door lock, daytime running lights, distance warning system, driver drowsiness detection, driver-side airbag, electronic stability control, emergency system, fog lights, full-led headlights, head airbag, high beam assist, immobilizer, isofix, led daytime running lights, led headlights, lane departure warning system, passenger-side airbag, power steering, side airbag, speed limit control system, tire pressure monitoring system, traction control, traffic sign recognition       1\n",
       "abs, alarm system, central door lock, central door lock with remote control, driver-side airbag, electronic stability control, fog lights, head airbag, immobilizer, power steering, side airbag, traction control                                                                                                                                                                                                                                                                                                              1\n",
       "Name: count, Length: 12550, dtype: int64"
      ]
     },
     "execution_count": 138,
     "metadata": {},
     "output_type": "execute_result"
    }
   ],
   "source": [
    "df[\"safety_security\"].value_counts(dropna=False)"
   ]
  },
  {
   "cell_type": "markdown",
   "metadata": {},
   "source": [
    "## Extras"
   ]
  },
  {
   "cell_type": "code",
   "execution_count": 139,
   "metadata": {},
   "outputs": [
    {
     "data": {
      "text/plain": [
       "extras\n",
       "NaN                                                                                                                                                                                                                                                                   5150\n",
       "[Alloy wheels]                                                                                                                                                                                                                                                        3408\n",
       "[Alloy wheels, Roof rack]                                                                                                                                                                                                                                              380\n",
       "[Alloy wheels, Sport seats]                                                                                                                                                                                                                                            372\n",
       "[Alloy wheels, Touch screen]                                                                                                                                                                                                                                           231\n",
       "                                                                                                                                                                                                                                                                      ... \n",
       "[Alloy wheels (18\"), Spoiler, Summer tyres, Trailer hitch]                                                                                                                                                                                                               1\n",
       "[All season tyres, Alloy wheels, Automatically dimming interior mirror, Catalytic Converter, Headlight washer system, Ski bag, Sport seats, Trailer hitch, Winter tyres]                                                                                                 1\n",
       "[Alloy wheels, Automatically dimming interior mirror, Headlight washer system, Sport package, Sport seats, Summer tyres]                                                                                                                                                 1\n",
       "[Alloy wheels (19\"), Ambient lighting, Automatically dimming interior mirror, Catalytic Converter, E10-enabled, Emergency tyre repair kit, Headlight washer system, Spoiler, Sport package, Sport seats, Sport suspension, Summer tyres, Tuned car, Voice Control]       1\n",
       "[Alloy wheels, Automatically dimming interior mirror, Ski bag, Trailer hitch]                                                                                                                                                                                            1\n",
       "Name: count, Length: 9361, dtype: int64"
      ]
     },
     "execution_count": 139,
     "metadata": {},
     "output_type": "execute_result"
    }
   ],
   "source": [
    "df[\"extras\"].value_counts(dropna=False)"
   ]
  },
  {
   "cell_type": "code",
   "execution_count": 140,
   "metadata": {},
   "outputs": [],
   "source": [
    "df[\"extras\"] = [\",\".join(item) if type (item) ==list else item for item in df[\"extras\"]]\n",
    "df[\"extras\"] = df[\"extras\"].astype(\"str\")\n",
    "df[\"extras\"] = df[\"extras\"].str.lower()"
   ]
  },
  {
   "cell_type": "code",
   "execution_count": 141,
   "metadata": {},
   "outputs": [
    {
     "data": {
      "text/plain": [
       "extras\n",
       "nan                                                                                                                                                                                                                                                                 5150\n",
       "alloy wheels                                                                                                                                                                                                                                                        3408\n",
       "alloy wheels, roof rack                                                                                                                                                                                                                                              380\n",
       "alloy wheels, sport seats                                                                                                                                                                                                                                            372\n",
       "alloy wheels, touch screen                                                                                                                                                                                                                                           231\n",
       "                                                                                                                                                                                                                                                                    ... \n",
       "alloy wheels (18\"), spoiler, summer tyres, trailer hitch                                                                                                                                                                                                               1\n",
       "all season tyres, alloy wheels, automatically dimming interior mirror, catalytic converter, headlight washer system, ski bag, sport seats, trailer hitch, winter tyres                                                                                                 1\n",
       "alloy wheels, automatically dimming interior mirror, headlight washer system, sport package, sport seats, summer tyres                                                                                                                                                 1\n",
       "alloy wheels (19\"), ambient lighting, automatically dimming interior mirror, catalytic converter, e10-enabled, emergency tyre repair kit, headlight washer system, spoiler, sport package, sport seats, sport suspension, summer tyres, tuned car, voice control       1\n",
       "alloy wheels, automatically dimming interior mirror, ski bag, trailer hitch                                                                                                                                                                                            1\n",
       "Name: count, Length: 9361, dtype: int64"
      ]
     },
     "execution_count": 141,
     "metadata": {},
     "output_type": "execute_result"
    }
   ],
   "source": [
    "df[\"extras\"].value_counts(dropna=False)"
   ]
  },
  {
   "cell_type": "markdown",
   "metadata": {},
   "source": [
    "## Empty Weight"
   ]
  },
  {
   "cell_type": "code",
   "execution_count": 142,
   "metadata": {},
   "outputs": [
    {
     "data": {
      "text/plain": [
       "empty_weight\n",
       "NaN               10872\n",
       "[\\n1,395 kg\\n]      233\n",
       "[\\n1,055 kg\\n]      224\n",
       "[\\n1,423 kg\\n]      216\n",
       "[\\n1,165 kg\\n]      200\n",
       "                  ...  \n",
       "[\\n1,877 kg\\n]        1\n",
       "[\\n1,011 kg\\n]        1\n",
       "[\\n1,069 kg\\n]        1\n",
       "[\\n983 kg\\n]          1\n",
       "[\\n1,391 kg\\n]        1\n",
       "Name: count, Length: 1219, dtype: int64"
      ]
     },
     "execution_count": 142,
     "metadata": {},
     "output_type": "execute_result"
    }
   ],
   "source": [
    "df['empty_weight'].value_counts(dropna=False)"
   ]
  },
  {
   "cell_type": "code",
   "execution_count": 143,
   "metadata": {},
   "outputs": [],
   "source": [
    "df['empty_weight']=df['empty_weight'].apply(lambda item : item[0] if type(item)==list else item)"
   ]
  },
  {
   "cell_type": "code",
   "execution_count": 144,
   "metadata": {},
   "outputs": [],
   "source": [
    "df['empty_weight']=df['empty_weight'].str.replace(',', '').str.extract('(\\d+)')"
   ]
  },
  {
   "cell_type": "code",
   "execution_count": 145,
   "metadata": {},
   "outputs": [
    {
     "data": {
      "text/plain": [
       "empty_weight\n",
       "NaN     10872\n",
       "1395      233\n",
       "1055      224\n",
       "1423      216\n",
       "1165      200\n",
       "        ...  \n",
       "1877        1\n",
       "1011        1\n",
       "1069        1\n",
       "983         1\n",
       "1391        1\n",
       "Name: count, Length: 1219, dtype: int64"
      ]
     },
     "execution_count": 145,
     "metadata": {},
     "output_type": "execute_result"
    }
   ],
   "source": [
    "df['empty_weight'].value_counts(dropna=False)"
   ]
  },
  {
   "cell_type": "markdown",
   "metadata": {},
   "source": [
    "## Model Code"
   ]
  },
  {
   "cell_type": "code",
   "execution_count": 146,
   "metadata": {},
   "outputs": [
    {
     "data": {
      "text/plain": [
       "model_code\n",
       "NaN                   20263\n",
       "[\\n, 8212/AFJ, \\n]       75\n",
       "[\\n, 1727/AAM, \\n]       64\n",
       "[\\n, 1349/AGI, \\n]       61\n",
       "[\\n, 1889/ABU, \\n]       55\n",
       "                      ...  \n",
       "[\\n, 7593/ANL, \\n]        1\n",
       "[\\n, 1727/ABC, \\n]        1\n",
       "[\\n, 4136/AEC, \\n]        1\n",
       "[\\n, 4136/668, \\n]        1\n",
       "[\\n, 9101/449, \\n]        1\n",
       "Name: count, Length: 2187, dtype: int64"
      ]
     },
     "execution_count": 146,
     "metadata": {},
     "output_type": "execute_result"
    }
   ],
   "source": [
    "df[\"model_code\"].value_counts(dropna= False)"
   ]
  },
  {
   "cell_type": "code",
   "execution_count": 147,
   "metadata": {},
   "outputs": [],
   "source": [
    "df[\"model_code\"]=df[\"model_code\"].apply(lambda item : item[0] if type(item)==list else item)"
   ]
  },
  {
   "cell_type": "code",
   "execution_count": 148,
   "metadata": {},
   "outputs": [
    {
     "data": {
      "text/plain": [
       "model_code\n",
       "NaN         20263\n",
       "8212/AFJ       75\n",
       "1727/AAM       64\n",
       "1349/AGI       61\n",
       "1889/ABU       55\n",
       "            ...  \n",
       "7593/ANL        1\n",
       "1727/ABC        1\n",
       "4136/AEC        1\n",
       "4136/668        1\n",
       "9101/449        1\n",
       "Name: count, Length: 2187, dtype: int64"
      ]
     },
     "execution_count": 148,
     "metadata": {},
     "output_type": "execute_result"
    }
   ],
   "source": [
    "df[\"model_code\"]=df[\"model_code\"].str.strip('\\n, ')\n",
    "df[\"model_code\"].value_counts(dropna= False)"
   ]
  },
  {
   "cell_type": "markdown",
   "metadata": {},
   "source": [
    "## General Inspection"
   ]
  },
  {
   "cell_type": "code",
   "execution_count": 149,
   "metadata": {},
   "outputs": [
    {
     "data": {
      "text/plain": [
       "general_inspection\n",
       "NaN        16376\n",
       "New         5883\n",
       "05/2023      286\n",
       "08/2023      280\n",
       "03/2023      268\n",
       "           ...  \n",
       "09/2017        1\n",
       "08/2013        1\n",
       "08/2020        1\n",
       "08/2018        1\n",
       "03/2021        1\n",
       "Name: count, Length: 92, dtype: int64"
      ]
     },
     "execution_count": 149,
     "metadata": {},
     "output_type": "execute_result"
    }
   ],
   "source": [
    "df['general_inspection'].value_counts(dropna =False)"
   ]
  },
  {
   "cell_type": "markdown",
   "metadata": {},
   "source": [
    "## Last Service"
   ]
  },
  {
   "cell_type": "code",
   "execution_count": 150,
   "metadata": {},
   "outputs": [
    {
     "data": {
      "text/plain": [
       "last_service\n",
       "NaN        26627\n",
       "09/2022      220\n",
       "08/2022      196\n",
       "06/2022      164\n",
       "07/2022      155\n",
       "           ...  \n",
       "02/2018        1\n",
       "02/2011        1\n",
       "10/2013        1\n",
       "08/2017        1\n",
       "08/2019        1\n",
       "Name: count, Length: 62, dtype: int64"
      ]
     },
     "execution_count": 150,
     "metadata": {},
     "output_type": "execute_result"
    }
   ],
   "source": [
    "df['last_service'].value_counts(dropna =False)"
   ]
  },
  {
   "cell_type": "markdown",
   "metadata": {},
   "source": [
    "## Full Service History"
   ]
  },
  {
   "cell_type": "code",
   "execution_count": 151,
   "metadata": {},
   "outputs": [
    {
     "data": {
      "text/plain": [
       "full_service_history\n",
       "NaN    16065\n",
       "Yes    12565\n",
       "Name: count, dtype: int64"
      ]
     },
     "execution_count": 151,
     "metadata": {},
     "output_type": "execute_result"
    }
   ],
   "source": [
    "df['full_service_history'].value_counts(dropna =False)"
   ]
  },
  {
   "cell_type": "markdown",
   "metadata": {},
   "source": [
    "## Non Smoker Vehicle"
   ]
  },
  {
   "cell_type": "code",
   "execution_count": 152,
   "metadata": {},
   "outputs": [
    {
     "data": {
      "text/plain": [
       "non_smoker_vehicle\n",
       "NaN    17036\n",
       "Yes    11594\n",
       "Name: count, dtype: int64"
      ]
     },
     "execution_count": 152,
     "metadata": {},
     "output_type": "execute_result"
    }
   ],
   "source": [
    "df[\"non_smoker_vehicle\"].value_counts(dropna=False)"
   ]
  },
  {
   "cell_type": "markdown",
   "metadata": {},
   "source": [
    "## Emission Class"
   ]
  },
  {
   "cell_type": "code",
   "execution_count": 153,
   "metadata": {},
   "outputs": [
    {
     "data": {
      "text/plain": [
       "emission_class\n",
       "NaN             10771\n",
       "Euro 6           6418\n",
       "Euro 6d-TEMP     3399\n",
       "Euro 6d          2858\n",
       "Euro 5           2389\n",
       "Euro 4           1743\n",
       "Euro 3            523\n",
       "Euro 2            217\n",
       "Euro 1            172\n",
       "Euro 6c           140\n",
       "Name: count, dtype: int64"
      ]
     },
     "execution_count": 153,
     "metadata": {},
     "output_type": "execute_result"
    }
   ],
   "source": [
    "df[\"emission_class\"].value_counts(dropna = False)"
   ]
  },
  {
   "cell_type": "code",
   "execution_count": 154,
   "metadata": {},
   "outputs": [],
   "source": [
    "df[\"emission_class\"] = [\"Euro 6\" if pd.notna(x) and \"Euro 6\" in x else x for x in df[\"emission_class\"]]"
   ]
  },
  {
   "cell_type": "code",
   "execution_count": 155,
   "metadata": {},
   "outputs": [
    {
     "data": {
      "text/plain": [
       "emission_class\n",
       "Euro 6    12815\n",
       "NaN       10771\n",
       "Euro 5     2389\n",
       "Euro 4     1743\n",
       "Euro 3      523\n",
       "Euro 2      217\n",
       "Euro 1      172\n",
       "Name: count, dtype: int64"
      ]
     },
     "execution_count": 155,
     "metadata": {},
     "output_type": "execute_result"
    }
   ],
   "source": [
    "df[\"emission_class\"].value_counts(dropna = False)"
   ]
  },
  {
   "cell_type": "markdown",
   "metadata": {},
   "source": [
    "## Emission Sticker"
   ]
  },
  {
   "cell_type": "code",
   "execution_count": 156,
   "metadata": {},
   "outputs": [
    {
     "data": {
      "text/plain": [
       "emissions_sticker\n",
       "NaN               19216\n",
       "4 (Green)          9230\n",
       "1 (No sticker)      176\n",
       "3 (Yellow)            6\n",
       "2 (Red)               2\n",
       "Name: count, dtype: int64"
      ]
     },
     "execution_count": 156,
     "metadata": {},
     "output_type": "execute_result"
    }
   ],
   "source": [
    "df[\"emissions_sticker\"].value_counts(dropna = False)"
   ]
  },
  {
   "cell_type": "markdown",
   "metadata": {},
   "source": [
    "## Upholstery Colour"
   ]
  },
  {
   "cell_type": "code",
   "execution_count": 157,
   "metadata": {},
   "outputs": [
    {
     "data": {
      "text/plain": [
       "upholstery_colour\n",
       "NaN       14061\n",
       "Black     10416\n",
       "Grey       2038\n",
       "Other      1003\n",
       "Beige       466\n",
       "Brown       275\n",
       "Red         159\n",
       "White        93\n",
       "Blue         82\n",
       "Orange       23\n",
       "Green         8\n",
       "Yellow        6\n",
       "Name: count, dtype: int64"
      ]
     },
     "execution_count": 157,
     "metadata": {},
     "output_type": "execute_result"
    }
   ],
   "source": [
    "df[\"upholstery_colour\"].value_counts(dropna = False)"
   ]
  },
  {
   "cell_type": "markdown",
   "metadata": {},
   "source": [
    "## Upholstery"
   ]
  },
  {
   "cell_type": "code",
   "execution_count": 158,
   "metadata": {},
   "outputs": [
    {
     "data": {
      "text/plain": [
       "upholstery\n",
       "NaN             10020\n",
       "Cloth            8736\n",
       "Full leather     5439\n",
       "Part leather     2835\n",
       "alcantara         764\n",
       "Other             628\n",
       "Velour            208\n",
       "Name: count, dtype: int64"
      ]
     },
     "execution_count": 158,
     "metadata": {},
     "output_type": "execute_result"
    }
   ],
   "source": [
    "df[\"upholstery\"].value_counts(dropna = False) "
   ]
  },
  {
   "cell_type": "markdown",
   "metadata": {},
   "source": [
    "## Production Date"
   ]
  },
  {
   "cell_type": "code",
   "execution_count": 159,
   "metadata": {},
   "outputs": [
    {
     "data": {
      "text/plain": [
       "production_date\n",
       "NaN        22722\n",
       "2019.00     1179\n",
       "2021.00      980\n",
       "2022.00      894\n",
       "2020.00      763\n",
       "2018.00      762\n",
       "2017.00      391\n",
       "2016.00      239\n",
       "2015.00      118\n",
       "2014.00       90\n",
       "2013.00       76\n",
       "2010.00       53\n",
       "2012.00       43\n",
       "2011.00       43\n",
       "2008.00       34\n",
       "2009.00       26\n",
       "2007.00       20\n",
       "2006.00       17\n",
       "2002.00       15\n",
       "2004.00       13\n",
       "2003.00       13\n",
       "1967.00       12\n",
       "2001.00       12\n",
       "1966.00       11\n",
       "1999.00        9\n",
       "2005.00        9\n",
       "1965.00        9\n",
       "1970.00        9\n",
       "1997.00        8\n",
       "1994.00        8\n",
       "1968.00        7\n",
       "2000.00        7\n",
       "1998.00        5\n",
       "1990.00        3\n",
       "1973.00        3\n",
       "1987.00        3\n",
       "1993.00        3\n",
       "1991.00        3\n",
       "1996.00        3\n",
       "1995.00        2\n",
       "1969.00        2\n",
       "1978.00        2\n",
       "1982.00        2\n",
       "1961.00        1\n",
       "1954.00        1\n",
       "1988.00        1\n",
       "1962.00        1\n",
       "1981.00        1\n",
       "1985.00        1\n",
       "1976.00        1\n",
       "Name: count, dtype: int64"
      ]
     },
     "execution_count": 159,
     "metadata": {},
     "output_type": "execute_result"
    }
   ],
   "source": [
    "df[\"production_date\"].value_counts(dropna=False)"
   ]
  },
  {
   "cell_type": "code",
   "execution_count": 160,
   "metadata": {},
   "outputs": [],
   "source": [
    "df[\"production_date\"] = pd.to_datetime(df[\"production_date\"], format = \"%Y\") # errors = \"coerce\")\n"
   ]
  },
  {
   "cell_type": "code",
   "execution_count": 161,
   "metadata": {},
   "outputs": [
    {
     "data": {
      "text/plain": [
       "production_date\n",
       "NaT           22722\n",
       "2019-01-01     1179\n",
       "2021-01-01      980\n",
       "2022-01-01      894\n",
       "2020-01-01      763\n",
       "2018-01-01      762\n",
       "2017-01-01      391\n",
       "2016-01-01      239\n",
       "2015-01-01      118\n",
       "2014-01-01       90\n",
       "2013-01-01       76\n",
       "2010-01-01       53\n",
       "2012-01-01       43\n",
       "2011-01-01       43\n",
       "2008-01-01       34\n",
       "2009-01-01       26\n",
       "2007-01-01       20\n",
       "2006-01-01       17\n",
       "2002-01-01       15\n",
       "2004-01-01       13\n",
       "2003-01-01       13\n",
       "1967-01-01       12\n",
       "2001-01-01       12\n",
       "1966-01-01       11\n",
       "1999-01-01        9\n",
       "2005-01-01        9\n",
       "1965-01-01        9\n",
       "1970-01-01        9\n",
       "1997-01-01        8\n",
       "1994-01-01        8\n",
       "1968-01-01        7\n",
       "2000-01-01        7\n",
       "1998-01-01        5\n",
       "1990-01-01        3\n",
       "1973-01-01        3\n",
       "1987-01-01        3\n",
       "1993-01-01        3\n",
       "1991-01-01        3\n",
       "1996-01-01        3\n",
       "1995-01-01        2\n",
       "1969-01-01        2\n",
       "1978-01-01        2\n",
       "1982-01-01        2\n",
       "1961-01-01        1\n",
       "1954-01-01        1\n",
       "1988-01-01        1\n",
       "1962-01-01        1\n",
       "1981-01-01        1\n",
       "1985-01-01        1\n",
       "1976-01-01        1\n",
       "Name: count, dtype: int64"
      ]
     },
     "execution_count": 161,
     "metadata": {},
     "output_type": "execute_result"
    }
   ],
   "source": [
    "df[\"production_date\"].value_counts(dropna=False)"
   ]
  },
  {
   "cell_type": "markdown",
   "metadata": {},
   "source": [
    "## Previous Owner"
   ]
  },
  {
   "cell_type": "code",
   "execution_count": 162,
   "metadata": {},
   "outputs": [
    {
     "data": {
      "text/plain": [
       "previous_owner\n",
       "NaN                           14615\n",
       "[[50 km, 06/2022], 1]            64\n",
       "[[10 km, 08/2022], 1]            59\n",
       "[[10 km, 07/2022], 1]            45\n",
       "[[10 km, 09/2022], 1]            38\n",
       "                              ...  \n",
       "[[358,000 km, 10/2010], 2]        1\n",
       "[[165,400 km, 09/2010], 1]        1\n",
       "[[65,000 km, 10/2006], 1]         1\n",
       "[[71,000 km, 04/2013], 1]         1\n",
       "[[230,047 km, 07/2002], 5]        1\n",
       "Name: count, Length: 11734, dtype: int64"
      ]
     },
     "execution_count": 162,
     "metadata": {},
     "output_type": "execute_result"
    }
   ],
   "source": [
    "df[\"previous_owner\"].value_counts(dropna=False) "
   ]
  },
  {
   "cell_type": "code",
   "execution_count": 163,
   "metadata": {},
   "outputs": [
    {
     "data": {
      "text/plain": [
       "previous_owner\n",
       "NaN    14615\n",
       "1       9746\n",
       "2       3221\n",
       "3        699\n",
       "4        184\n",
       "5         69\n",
       "6         37\n",
       "7         22\n",
       "8         16\n",
       "9         14\n",
       "12         3\n",
       "10         2\n",
       "14         1\n",
       "13         1\n",
       "Name: count, dtype: int64"
      ]
     },
     "execution_count": 163,
     "metadata": {},
     "output_type": "execute_result"
    }
   ],
   "source": [
    "df[\"previous_owner\"] = [item[-1] if isinstance(item, list) else item for item in df[\"previous_owner\"]]\n",
    "df[\"previous_owner\"].value_counts(dropna=False)"
   ]
  },
  {
   "cell_type": "markdown",
   "metadata": {},
   "source": [
    "## Other Fuel Types"
   ]
  },
  {
   "cell_type": "code",
   "execution_count": 164,
   "metadata": {},
   "outputs": [
    {
     "data": {
      "text/plain": [
       "other_fuel_types\n",
       "NaN             26317\n",
       "Electricity      2301\n",
       "Hydogen            11\n",
       "Super E10 95        1\n",
       "Name: count, dtype: int64"
      ]
     },
     "execution_count": 164,
     "metadata": {},
     "output_type": "execute_result"
    }
   ],
   "source": [
    "df[\"other_fuel_types\"].value_counts(dropna=False)"
   ]
  },
  {
   "cell_type": "markdown",
   "metadata": {},
   "source": [
    "## Power Consumption"
   ]
  },
  {
   "cell_type": "code",
   "execution_count": 165,
   "metadata": {},
   "outputs": [
    {
     "data": {
      "text/plain": [
       "power_consumption\n",
       "NaN                        28115\n",
       "0 kWh/100 km (comb.)         101\n",
       "15.2 kWh/100 km (comb.)       30\n",
       "15.7 kWh/100 km (comb.)       19\n",
       "17.7 kWh/100 km (comb.)       17\n",
       "                           ...  \n",
       "18 kWh/100 km (comb.)          1\n",
       "25.3 kWh/100 km (comb.)        1\n",
       "12.7 kWh/100 km (comb.)        1\n",
       "22.7 kWh/100 km (comb.)        1\n",
       "20.4 kWh/100 km (comb.)        1\n",
       "Name: count, Length: 105, dtype: int64"
      ]
     },
     "execution_count": 165,
     "metadata": {},
     "output_type": "execute_result"
    }
   ],
   "source": [
    "df['power_consumption'].value_counts(dropna=False)"
   ]
  },
  {
   "cell_type": "code",
   "execution_count": 166,
   "metadata": {},
   "outputs": [],
   "source": [
    "df[\"power_consumption\"] = df[\"power_consumption\"].str.extract(r\"(\\d+\\.?\\d*)\")"
   ]
  },
  {
   "cell_type": "code",
   "execution_count": 167,
   "metadata": {},
   "outputs": [
    {
     "data": {
      "text/plain": [
       "power_consumption\n",
       "NaN     28115\n",
       "0         101\n",
       "15.2       30\n",
       "15.7       19\n",
       "17.7       17\n",
       "        ...  \n",
       "18          1\n",
       "25.3        1\n",
       "12.7        1\n",
       "22.7        1\n",
       "20.4        1\n",
       "Name: count, Length: 105, dtype: int64"
      ]
     },
     "execution_count": 167,
     "metadata": {},
     "output_type": "execute_result"
    }
   ],
   "source": [
    "df[\"power_consumption\"].value_counts(dropna=False)"
   ]
  },
  {
   "cell_type": "markdown",
   "metadata": {},
   "source": [
    "## Energy Efficiency Class"
   ]
  },
  {
   "cell_type": "code",
   "execution_count": 168,
   "metadata": {},
   "outputs": [
    {
     "data": {
      "text/plain": [
       "energy_efficiency_class\n",
       "NaN     20826\n",
       "B        2090\n",
       "A        1687\n",
       "C        1133\n",
       "A+       1089\n",
       "D         636\n",
       "A+++      375\n",
       "G         309\n",
       "E         271\n",
       "F         147\n",
       "A++        67\n",
       "Name: count, dtype: int64"
      ]
     },
     "execution_count": 168,
     "metadata": {},
     "output_type": "execute_result"
    }
   ],
   "source": [
    "df[\"energy_efficiency_class\"].value_counts(dropna=False)"
   ]
  },
  {
   "cell_type": "markdown",
   "metadata": {},
   "source": [
    "## Co Efficiency"
   ]
  },
  {
   "cell_type": "code",
   "execution_count": 169,
   "metadata": {},
   "outputs": [
    {
     "data": {
      "text/plain": [
       "co_efficiency\n",
       "NaN                                                                                           20826\n",
       "Calculated on basis of measured CO₂-emissions taking into account the mass of the vehicle.     7804\n",
       "Name: count, dtype: int64"
      ]
     },
     "execution_count": 169,
     "metadata": {},
     "output_type": "execute_result"
    }
   ],
   "source": [
    "df[\"co_efficiency\"].value_counts(dropna=False) #drop edilebilir."
   ]
  },
  {
   "cell_type": "markdown",
   "metadata": {},
   "source": [
    "## Fuel Consumption wltp"
   ]
  },
  {
   "cell_type": "code",
   "execution_count": 170,
   "metadata": {},
   "outputs": [
    {
     "data": {
      "text/plain": [
       "fuel_consumption_wltp\n",
       "NaN              28530\n",
       "5.5 l/100 km         9\n",
       "5 l/100 km           8\n",
       "5.4 l/100 km         5\n",
       "6.8 l/100 km         5\n",
       "6.5 l/100 km         4\n",
       "5.7 l/100 km         4\n",
       "7.3 l/100 km         4\n",
       "5.2 l/100 km         3\n",
       "4.9 l/100 km         3\n",
       "6.6 l/100 km         3\n",
       "6.7 l/100 km         3\n",
       "5.9 l/100 km         2\n",
       "6.1 l/100 km         2\n",
       "5.6 l/100 km         2\n",
       "4.7 l/100 km         2\n",
       "4.4 l/100 km         2\n",
       "5.8 l/100 km         2\n",
       "6.3 l/100 km         2\n",
       "6.2 l/100 km         2\n",
       "8.4 l/100 km         2\n",
       "16 l/100 km          2\n",
       "7.6 l/100 km         2\n",
       "12.6 l/100 km        2\n",
       "9.3 l/100 km         2\n",
       "1.5 l/100 km         1\n",
       "12 l/100 km          1\n",
       "5.3 l/100 km         1\n",
       "8 l/100 km           1\n",
       "8.2 l/100 km         1\n",
       "4.8 l/100 km         1\n",
       "4.1 l/100 km         1\n",
       "4.2 l/100 km         1\n",
       "4.3 l/100 km         1\n",
       "1.1 l/100 km         1\n",
       "3.9 l/100 km         1\n",
       "6.4 l/100 km         1\n",
       "8.6 l/100 km         1\n",
       "10.3 l/100 km        1\n",
       "12.2 l/100 km        1\n",
       "12.3 l/100 km        1\n",
       "8.3 l/100 km         1\n",
       "7.2 l/100 km         1\n",
       "9.6 l/100 km         1\n",
       "9.1 l/100 km         1\n",
       "12.9 l/100 km        1\n",
       "10.4 l/100 km        1\n",
       "7.8 l/100 km         1\n",
       "Name: count, dtype: int64"
      ]
     },
     "execution_count": 170,
     "metadata": {},
     "output_type": "execute_result"
    }
   ],
   "source": [
    "df[\"fuel_consumption_wltp\"].value_counts(dropna=False) #drop edilebilir."
   ]
  },
  {
   "cell_type": "code",
   "execution_count": 171,
   "metadata": {},
   "outputs": [],
   "source": [
    "df[\"fuel_consumption_wltp\"] = df[\"fuel_consumption_wltp\"].str.extract(r\"(\\d+\\.?\\d*)\")"
   ]
  },
  {
   "cell_type": "code",
   "execution_count": 172,
   "metadata": {},
   "outputs": [
    {
     "data": {
      "text/plain": [
       "fuel_consumption_wltp\n",
       "NaN     28530\n",
       "5.5         9\n",
       "5           8\n",
       "5.4         5\n",
       "6.8         5\n",
       "6.5         4\n",
       "5.7         4\n",
       "7.3         4\n",
       "5.2         3\n",
       "4.9         3\n",
       "6.6         3\n",
       "6.7         3\n",
       "5.9         2\n",
       "6.1         2\n",
       "5.6         2\n",
       "4.7         2\n",
       "4.4         2\n",
       "5.8         2\n",
       "6.3         2\n",
       "6.2         2\n",
       "8.4         2\n",
       "16          2\n",
       "7.6         2\n",
       "12.6        2\n",
       "9.3         2\n",
       "1.5         1\n",
       "12          1\n",
       "5.3         1\n",
       "8           1\n",
       "8.2         1\n",
       "4.8         1\n",
       "4.1         1\n",
       "4.2         1\n",
       "4.3         1\n",
       "1.1         1\n",
       "3.9         1\n",
       "6.4         1\n",
       "8.6         1\n",
       "10.3        1\n",
       "12.2        1\n",
       "12.3        1\n",
       "8.3         1\n",
       "7.2         1\n",
       "9.6         1\n",
       "9.1         1\n",
       "12.9        1\n",
       "10.4        1\n",
       "7.8         1\n",
       "Name: count, dtype: int64"
      ]
     },
     "execution_count": 172,
     "metadata": {},
     "output_type": "execute_result"
    }
   ],
   "source": [
    "df[\"fuel_consumption_wltp\"].value_counts(dropna=False)"
   ]
  },
  {
   "cell_type": "markdown",
   "metadata": {},
   "source": [
    "## Co Emissions wltp"
   ]
  },
  {
   "cell_type": "code",
   "execution_count": 173,
   "metadata": {},
   "outputs": [
    {
     "data": {
      "text/plain": [
       "co_emissions_wltp\n",
       "NaN                 28514\n",
       "0 g/km (comb.)         14\n",
       "125 g/km (comb.)        8\n",
       "130 g/km (comb.)        4\n",
       "129 g/km (comb.)        4\n",
       "                    ...  \n",
       "211 g/km (comb.)        1\n",
       "218 g/km (comb.)        1\n",
       "159 g/km (comb.)        1\n",
       "115 g/km (comb.)        1\n",
       "97 g/km (comb.)         1\n",
       "Name: count, Length: 69, dtype: int64"
      ]
     },
     "execution_count": 173,
     "metadata": {},
     "output_type": "execute_result"
    }
   ],
   "source": [
    "df[\"co_emissions_wltp\"].value_counts(dropna=False) #drop edilebilir"
   ]
  },
  {
   "cell_type": "markdown",
   "metadata": {},
   "source": [
    "## Available From"
   ]
  },
  {
   "cell_type": "code",
   "execution_count": 174,
   "metadata": {},
   "outputs": [
    {
     "data": {
      "text/plain": [
       "available_from\n",
       "NaN                     28237\n",
       "[\\n, 01/03/2023, \\n]       34\n",
       "[\\n, 01/10/2026, \\n]       23\n",
       "[\\n, 31/03/2023, \\n]       17\n",
       "[\\n, 08/10/2022, \\n]       15\n",
       "                        ...  \n",
       "[\\n, 18/11/2022, \\n]        1\n",
       "[\\n, 24/10/2022, \\n]        1\n",
       "[\\n, 03/02/2023, \\n]        1\n",
       "[\\n, 27/10/2022, \\n]        1\n",
       "[\\n, 12/10/2022, \\n]        1\n",
       "Name: count, Length: 126, dtype: int64"
      ]
     },
     "execution_count": 174,
     "metadata": {},
     "output_type": "execute_result"
    }
   ],
   "source": [
    "df['available_from'].value_counts(dropna=False) #drop edilebilir. Tekrar bak, olmadi."
   ]
  },
  {
   "cell_type": "code",
   "execution_count": 175,
   "metadata": {},
   "outputs": [],
   "source": [
    "df['available_from']=df['available_from'].apply(lambda item : item[0] if type(item)==list else item)"
   ]
  },
  {
   "cell_type": "code",
   "execution_count": 176,
   "metadata": {},
   "outputs": [],
   "source": [
    "df['available_from']=df['available_from'].str.strip('\\n, ')"
   ]
  },
  {
   "cell_type": "code",
   "execution_count": 177,
   "metadata": {},
   "outputs": [
    {
     "data": {
      "text/plain": [
       "available_from\n",
       "NaN           28237\n",
       "01/03/2023       34\n",
       "01/10/2026       23\n",
       "31/03/2023       17\n",
       "08/10/2022       15\n",
       "              ...  \n",
       "18/11/2022        1\n",
       "24/10/2022        1\n",
       "03/02/2023        1\n",
       "27/10/2022        1\n",
       "12/10/2022        1\n",
       "Name: count, Length: 126, dtype: int64"
      ]
     },
     "execution_count": 177,
     "metadata": {},
     "output_type": "execute_result"
    }
   ],
   "source": [
    "df['available_from'].value_counts(dropna=False)"
   ]
  },
  {
   "cell_type": "code",
   "execution_count": 178,
   "metadata": {},
   "outputs": [],
   "source": [
    "df['available_from']= pd.to_datetime(df['available_from'],format='%d/%M/%Y', errors='coerce')"
   ]
  },
  {
   "cell_type": "code",
   "execution_count": 179,
   "metadata": {},
   "outputs": [
    {
     "data": {
      "text/plain": [
       "available_from\n",
       "NaT                    28237\n",
       "2023-01-01 00:03:00       34\n",
       "2026-01-01 00:10:00       23\n",
       "2023-01-31 00:03:00       17\n",
       "2022-01-08 00:10:00       15\n",
       "                       ...  \n",
       "2022-01-18 00:11:00        1\n",
       "2022-01-24 00:10:00        1\n",
       "2023-01-03 00:02:00        1\n",
       "2022-01-27 00:10:00        1\n",
       "2022-01-12 00:10:00        1\n",
       "Name: count, Length: 126, dtype: int64"
      ]
     },
     "execution_count": 179,
     "metadata": {},
     "output_type": "execute_result"
    }
   ],
   "source": [
    "df['available_from'].value_counts(dropna=False)"
   ]
  },
  {
   "cell_type": "markdown",
   "metadata": {},
   "source": [
    "## Taxi or Rental Car"
   ]
  },
  {
   "cell_type": "code",
   "execution_count": 180,
   "metadata": {},
   "outputs": [
    {
     "data": {
      "text/plain": [
       "taxi_or_rental_car\n",
       "NaN    28208\n",
       "Yes      422\n",
       "Name: count, dtype: int64"
      ]
     },
     "execution_count": 180,
     "metadata": {},
     "output_type": "execute_result"
    }
   ],
   "source": [
    "df[\"taxi_or_rental_car\"].value_counts(dropna=False)"
   ]
  },
  {
   "cell_type": "markdown",
   "metadata": {},
   "source": [
    "## Availability "
   ]
  },
  {
   "cell_type": "code",
   "execution_count": 181,
   "metadata": {},
   "outputs": [
    {
     "data": {
      "text/plain": [
       "availability\n",
       "NaN                                  28329\n",
       "[\\n, in 1 day after order, \\n]          64\n",
       "[\\n, in 5 days after order, \\n]         56\n",
       "[\\n, in 7 days after order, \\n]         31\n",
       "[\\n, in 3 days after order, \\n]         25\n",
       "[\\n, in 14 days after order, \\n]        22\n",
       "[\\n, in 60 days after order, \\n]        21\n",
       "[\\n, in 42 days after order, \\n]        15\n",
       "[\\n, in 180 days after order, \\n]       12\n",
       "[\\n, in 90 days after order, \\n]        10\n",
       "[\\n, in 120 days after order, \\n]       10\n",
       "[\\n, in 6 days after order, \\n]          9\n",
       "[\\n, in 270 days after order, \\n]        8\n",
       "[\\n, in 28 days after order, \\n]         5\n",
       "[\\n, in 2 days after order, \\n]          5\n",
       "[\\n, in 4 days after order, \\n]          4\n",
       "[\\n, in 21 days after order, \\n]         2\n",
       "[\\n, in 360 days after order, \\n]        1\n",
       "[\\n, in 150 days after order, \\n]        1\n",
       "Name: count, dtype: int64"
      ]
     },
     "execution_count": 181,
     "metadata": {},
     "output_type": "execute_result"
    }
   ],
   "source": [
    "df[\"availability\"].value_counts(dropna=False)"
   ]
  },
  {
   "cell_type": "code",
   "execution_count": 182,
   "metadata": {},
   "outputs": [],
   "source": [
    "df[\"availability\"] = df[\"availability\"].apply(lambda item : item[0] if type(item)==list else item)\n",
    "df[\"availability\"] = df[\"availability\"].str.extract(r\"(\\d+)\")"
   ]
  },
  {
   "cell_type": "code",
   "execution_count": 183,
   "metadata": {},
   "outputs": [
    {
     "data": {
      "text/plain": [
       "availability\n",
       "NaN    28329\n",
       "1         64\n",
       "5         56\n",
       "7         31\n",
       "3         25\n",
       "14        22\n",
       "60        21\n",
       "42        15\n",
       "180       12\n",
       "90        10\n",
       "120       10\n",
       "6          9\n",
       "270        8\n",
       "28         5\n",
       "2          5\n",
       "4          4\n",
       "21         2\n",
       "360        1\n",
       "150        1\n",
       "Name: count, dtype: int64"
      ]
     },
     "execution_count": 183,
     "metadata": {},
     "output_type": "execute_result"
    }
   ],
   "source": [
    "df[\"availability\"].value_counts(dropna=False)"
   ]
  },
  {
   "cell_type": "markdown",
   "metadata": {},
   "source": [
    "## Last Timing Belt Change"
   ]
  },
  {
   "cell_type": "code",
   "execution_count": 184,
   "metadata": {},
   "outputs": [
    {
     "data": {
      "text/plain": [
       "last_timing_belt_change\n",
       "NaN        28058\n",
       "04/2022       27\n",
       "05/2021       26\n",
       "08/2022       25\n",
       "07/2022       24\n",
       "           ...  \n",
       "07/2018        1\n",
       "10/2015        1\n",
       "12/2019        1\n",
       "11/2018        1\n",
       "07/2016        1\n",
       "Name: count, Length: 87, dtype: int64"
      ]
     },
     "execution_count": 184,
     "metadata": {},
     "output_type": "execute_result"
    }
   ],
   "source": [
    "df[\"last_timing_belt_change\"].value_counts(dropna=False)"
   ]
  },
  {
   "cell_type": "code",
   "execution_count": 185,
   "metadata": {},
   "outputs": [
    {
     "data": {
      "text/plain": [
       "last_timing_belt_change\n",
       "NaT           28058\n",
       "2022-04-01       27\n",
       "2021-05-01       26\n",
       "2022-08-01       25\n",
       "2022-07-01       24\n",
       "              ...  \n",
       "2018-07-01        1\n",
       "2015-10-01        1\n",
       "2019-12-01        1\n",
       "2018-11-01        1\n",
       "2016-07-01        1\n",
       "Name: count, Length: 87, dtype: int64"
      ]
     },
     "execution_count": 185,
     "metadata": {},
     "output_type": "execute_result"
    }
   ],
   "source": [
    "df[\"last_timing_belt_change\"] = pd.to_datetime(df[\"last_timing_belt_change\"], format = \"%m/%Y\", errors = \"coerce\")\n",
    "df[\"last_timing_belt_change\"].value_counts(dropna=False)"
   ]
  },
  {
   "cell_type": "markdown",
   "metadata": {},
   "source": [
    "## Electric Range wltp"
   ]
  },
  {
   "cell_type": "code",
   "execution_count": 186,
   "metadata": {},
   "outputs": [
    {
     "data": {
      "text/plain": [
       "electric_range_wltp\n",
       "NaN                           28614\n",
       "426 km492 km (within city)        2\n",
       "389 km                            2\n",
       "402 km484 km (within city)        1\n",
       "50 km50 km (within city)          1\n",
       "614 km681 km (within city)        1\n",
       "573 km573 km (within city)        1\n",
       "691 km691 km (within city)        1\n",
       "351 km351 km (within city)        1\n",
       "48 km48 km (within city)          1\n",
       "450 km450 km (within city)        1\n",
       "402 km402 km (within city)        1\n",
       "540 km540 km (within city)        1\n",
       "360 km                            1\n",
       "384 km                            1\n",
       "Name: count, dtype: int64"
      ]
     },
     "execution_count": 186,
     "metadata": {},
     "output_type": "execute_result"
    }
   ],
   "source": [
    "df[\"electric_range_wltp\"].value_counts(dropna = False) # drop edilebilir"
   ]
  },
  {
   "cell_type": "markdown",
   "metadata": {},
   "source": [
    "## Power Consumption wltp"
   ]
  },
  {
   "cell_type": "code",
   "execution_count": 187,
   "metadata": {},
   "outputs": [
    {
     "data": {
      "text/plain": [
       "power_consumption_wltp\n",
       "NaN                28614\n",
       "21.9 kWh/100 km        2\n",
       "17.2 kWh/100 km        2\n",
       "20.6 kWh/100 km        2\n",
       "18.9 kWh/100 km        1\n",
       "19.2 kWh/100 km        1\n",
       "18.4 kWh/100 km        1\n",
       "19.3 kWh/100 km        1\n",
       "15.9 kWh/100 km        1\n",
       "148 kWh/100 km         1\n",
       "16.9 kWh/100 km        1\n",
       "18.7 kWh/100 km        1\n",
       "18.1 kWh/100 km        1\n",
       "18.6 kWh/100 km        1\n",
       "Name: count, dtype: int64"
      ]
     },
     "execution_count": 187,
     "metadata": {},
     "output_type": "execute_result"
    }
   ],
   "source": [
    "df[\"power_consumption_wltp\"].value_counts(dropna=False) # drop edilebilir."
   ]
  },
  {
   "cell_type": "markdown",
   "metadata": {},
   "source": [
    "## Battery Ownership"
   ]
  },
  {
   "cell_type": "code",
   "execution_count": 188,
   "metadata": {},
   "outputs": [
    {
     "data": {
      "text/plain": [
       "battery_ownership\n",
       "NaN         28623\n",
       "Included        7\n",
       "Name: count, dtype: int64"
      ]
     },
     "execution_count": 188,
     "metadata": {},
     "output_type": "execute_result"
    }
   ],
   "source": [
    "df[\"battery_ownership\"].value_counts(dropna=False)"
   ]
  },
  {
   "cell_type": "markdown",
   "metadata": {},
   "source": [
    "## Checking the null Values"
   ]
  },
  {
   "cell_type": "code",
   "execution_count": 189,
   "metadata": {},
   "outputs": [
    {
     "name": "stdout",
     "output_type": "stream",
     "text": [
      "                         Null_count  Percentage\n",
      "battery_ownership             28623       99.98\n",
      "power_consumption_wltp        28614       99.94\n",
      "electric_range_wltp           28614       99.94\n",
      "fuel_consumption_wltp         28530       99.65\n",
      "co_emissions_wltp             28514       99.59\n",
      "availability                  28329       98.95\n",
      "available_from                28237       98.63\n",
      "taxi_or_rental_car            28208       98.53\n",
      "power_consumption             28115       98.20\n",
      "last_timing_belt_change       28058       98.00\n",
      "last_service                  26627       93.00\n",
      "other_fuel_types              26317       91.92\n",
      "production_date               22722       79.36\n",
      "co_efficiency                 20826       72.74\n",
      "energy_efficiency_class       20826       72.74\n",
      "model_code                    20263       70.78\n",
      "emissions_sticker             19216       67.12\n",
      "non_smoker_vehicle            17036       59.50\n",
      "general_inspection            16376       57.20\n",
      "full_service_history          16065       56.11\n",
      "previous_owner                14615       51.05\n",
      "upholstery_colour             14061       49.11\n",
      "warranty                      12846       44.87\n",
      "country_version               11741       41.01\n",
      "drivetrain                    11737       41.00\n",
      "empty_weight                  10872       37.97\n",
      "emission_class                10771       37.62\n",
      "co_emissions                  10036       35.05\n",
      "upholstery                    10020       35.00\n",
      "cylinders                      9778       34.15\n",
      "gears                          9676       33.80\n",
      "manufacturer_colour            6843       23.90\n",
      "offer_number                   5530       19.32\n",
      "fuel_consumption               5245       18.32\n",
      "seats                          3125       10.92\n",
      "fuel_type                      1787        6.24\n",
      "colour                         1724        6.02\n",
      "engine_size                    1403        4.90\n",
      "desc                            583        2.04\n",
      "power                           572        2.00\n",
      "doors                           359        1.25\n",
      "gearbox                         248        0.87\n",
      "first_registration                2        0.01\n",
      "mileage                           1        0.00\n",
      "country                           0        0.00\n",
      "make_model                        0        0.00\n",
      "entertainment_media               0        0.00\n",
      "extras                            0        0.00\n",
      "safety_security                   0        0.00\n",
      "short_description                 0        0.00\n",
      "comfort_convenience               0        0.00\n",
      "seller                            0        0.00\n",
      "paint                             0        0.00\n",
      "type                              0        0.00\n",
      "body_type                         0        0.00\n",
      "price                             0        0.00\n",
      "location                          0        0.00\n",
      "model                             0        0.00\n",
      "make                              0        0.00\n",
      "city                              0        0.00\n"
     ]
    }
   ],
   "source": [
    "null_counts = df.isnull().sum()\n",
    "total_rows = len(df)\n",
    "\n",
    "null_info = pd.DataFrame({\n",
    "    'Null_count': null_counts,\n",
    "    'Percentage': (null_counts / total_rows) * 100\n",
    "}).sort_values(by='Null_count', ascending=False)\n",
    "\n",
    "print(null_info)"
   ]
  },
  {
   "cell_type": "code",
   "execution_count": 190,
   "metadata": {},
   "outputs": [
    {
     "data": {
      "text/html": [
       "<div>\n",
       "<style scoped>\n",
       "    .dataframe tbody tr th:only-of-type {\n",
       "        vertical-align: middle;\n",
       "    }\n",
       "\n",
       "    .dataframe tbody tr th {\n",
       "        vertical-align: top;\n",
       "    }\n",
       "\n",
       "    .dataframe thead th {\n",
       "        text-align: right;\n",
       "    }\n",
       "</style>\n",
       "<table border=\"1\" class=\"dataframe\">\n",
       "  <thead>\n",
       "    <tr style=\"text-align: right;\">\n",
       "      <th></th>\n",
       "      <th>Null_count</th>\n",
       "      <th>Percentage</th>\n",
       "    </tr>\n",
       "  </thead>\n",
       "  <tbody>\n",
       "    <tr>\n",
       "      <th>battery_ownership</th>\n",
       "      <td>28623</td>\n",
       "      <td>99.98</td>\n",
       "    </tr>\n",
       "    <tr>\n",
       "      <th>power_consumption_wltp</th>\n",
       "      <td>28614</td>\n",
       "      <td>99.94</td>\n",
       "    </tr>\n",
       "    <tr>\n",
       "      <th>electric_range_wltp</th>\n",
       "      <td>28614</td>\n",
       "      <td>99.94</td>\n",
       "    </tr>\n",
       "    <tr>\n",
       "      <th>fuel_consumption_wltp</th>\n",
       "      <td>28530</td>\n",
       "      <td>99.65</td>\n",
       "    </tr>\n",
       "    <tr>\n",
       "      <th>co_emissions_wltp</th>\n",
       "      <td>28514</td>\n",
       "      <td>99.59</td>\n",
       "    </tr>\n",
       "    <tr>\n",
       "      <th>availability</th>\n",
       "      <td>28329</td>\n",
       "      <td>98.95</td>\n",
       "    </tr>\n",
       "    <tr>\n",
       "      <th>available_from</th>\n",
       "      <td>28237</td>\n",
       "      <td>98.63</td>\n",
       "    </tr>\n",
       "    <tr>\n",
       "      <th>taxi_or_rental_car</th>\n",
       "      <td>28208</td>\n",
       "      <td>98.53</td>\n",
       "    </tr>\n",
       "    <tr>\n",
       "      <th>power_consumption</th>\n",
       "      <td>28115</td>\n",
       "      <td>98.20</td>\n",
       "    </tr>\n",
       "    <tr>\n",
       "      <th>last_timing_belt_change</th>\n",
       "      <td>28058</td>\n",
       "      <td>98.00</td>\n",
       "    </tr>\n",
       "  </tbody>\n",
       "</table>\n",
       "</div>"
      ],
      "text/plain": [
       "                         Null_count  Percentage\n",
       "battery_ownership             28623       99.98\n",
       "power_consumption_wltp        28614       99.94\n",
       "electric_range_wltp           28614       99.94\n",
       "fuel_consumption_wltp         28530       99.65\n",
       "co_emissions_wltp             28514       99.59\n",
       "availability                  28329       98.95\n",
       "available_from                28237       98.63\n",
       "taxi_or_rental_car            28208       98.53\n",
       "power_consumption             28115       98.20\n",
       "last_timing_belt_change       28058       98.00"
      ]
     },
     "execution_count": 190,
     "metadata": {},
     "output_type": "execute_result"
    }
   ],
   "source": [
    "null_info.head(10)"
   ]
  },
  {
   "cell_type": "markdown",
   "metadata": {},
   "source": [
    "## Removing the columns with a high number of missing values"
   ]
  },
  {
   "cell_type": "code",
   "execution_count": 191,
   "metadata": {},
   "outputs": [],
   "source": [
    "df.drop('battery_ownership', axis=1, inplace=True)\n",
    "df.drop('power_consumption_wltp', axis=1, inplace=True)\n",
    "df.drop('electric_range_wltp', axis=1, inplace=True)\n",
    "df.drop('last_timing_belt_change', axis=1, inplace=True)\n",
    "df.drop('availability', axis=1, inplace=True)\n",
    "df.drop('available_from', axis=1, inplace=True)\n",
    "df.drop('fuel_consumption_wltp', axis=1, inplace=True)\n",
    "df.drop('co_emissions_wltp', axis=1, inplace=True)"
   ]
  },
  {
   "cell_type": "markdown",
   "metadata": {},
   "source": [
    "## Checking the Columns again"
   ]
  },
  {
   "cell_type": "code",
   "execution_count": 192,
   "metadata": {},
   "outputs": [
    {
     "data": {
      "text/plain": [
       "Index(['make_model', 'short_description', 'make', 'model', 'location', 'price',\n",
       "       'body_type', 'type', 'doors', 'country_version', 'offer_number',\n",
       "       'warranty', 'mileage', 'first_registration', 'gearbox', 'fuel_type',\n",
       "       'colour', 'paint', 'desc', 'seller', 'seats', 'power', 'engine_size',\n",
       "       'gears', 'co_emissions', 'manufacturer_colour', 'drivetrain',\n",
       "       'cylinders', 'fuel_consumption', 'comfort_convenience',\n",
       "       'entertainment_media', 'safety_security', 'extras', 'empty_weight',\n",
       "       'model_code', 'general_inspection', 'last_service',\n",
       "       'full_service_history', 'non_smoker_vehicle', 'emission_class',\n",
       "       'emissions_sticker', 'upholstery_colour', 'upholstery',\n",
       "       'production_date', 'previous_owner', 'other_fuel_types',\n",
       "       'power_consumption', 'energy_efficiency_class', 'co_efficiency',\n",
       "       'taxi_or_rental_car', 'country', 'city'],\n",
       "      dtype='object')"
      ]
     },
     "execution_count": 192,
     "metadata": {},
     "output_type": "execute_result"
    }
   ],
   "source": [
    "df.columns"
   ]
  },
  {
   "cell_type": "code",
   "execution_count": 193,
   "metadata": {},
   "outputs": [
    {
     "data": {
      "text/plain": [
       "(28630, 52)"
      ]
     },
     "execution_count": 193,
     "metadata": {},
     "output_type": "execute_result"
    }
   ],
   "source": [
    "df.shape"
   ]
  },
  {
   "cell_type": "markdown",
   "metadata": {
    "id": "2PgUVPoes1MH"
   },
   "source": [
    "## Exporting the dataframe into a csv file"
   ]
  },
  {
   "cell_type": "code",
   "execution_count": 194,
   "metadata": {},
   "outputs": [],
   "source": [
    "df.to_csv(\"df_cleaned.csv\")"
   ]
  }
 ],
 "metadata": {
  "colab": {
   "name": "DAwPy-Capstone_Project_(AutoScout)_Student.ipynb",
   "provenance": []
  },
  "kernelspec": {
   "display_name": "Python 3 (ipykernel)",
   "language": "python",
   "name": "python3"
  },
  "language_info": {
   "codemirror_mode": {
    "name": "ipython",
    "version": 3
   },
   "file_extension": ".py",
   "mimetype": "text/x-python",
   "name": "python",
   "nbconvert_exporter": "python",
   "pygments_lexer": "ipython3",
   "version": "3.11.5"
  },
  "toc": {
   "base_numbering": 1,
   "nav_menu": {},
   "number_sections": false,
   "sideBar": true,
   "skip_h1_title": false,
   "title_cell": "Table of Contents",
   "title_sidebar": "Contents",
   "toc_cell": false,
   "toc_position": {},
   "toc_section_display": true,
   "toc_window_display": false
  }
 },
 "nbformat": 4,
 "nbformat_minor": 4
}
